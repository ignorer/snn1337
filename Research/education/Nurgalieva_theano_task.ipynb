{
 "cells": [
  {
   "cell_type": "markdown",
   "metadata": {},
   "source": [
    "### разминка\n",
    "напиши на numpy функцию, которая считает сумму квадратов чисел от 0 до N, где N - аргумент\n",
    "массив чисел от 0 до N - numpy.arange(N)"
   ]
  },
  {
   "cell_type": "code",
   "execution_count": 1,
   "metadata": {
    "collapsed": true
   },
   "outputs": [],
   "source": [
    "import numpy as np\n",
    "def sum_squares(N):\n",
    "    return np.sum(np.arange(N)**2)"
   ]
  },
  {
   "cell_type": "code",
   "execution_count": 3,
   "metadata": {
    "collapsed": false
   },
   "outputs": [
    {
     "name": "stdout",
     "output_type": "stream",
     "text": [
      "Wall time: 514 ms\n"
     ]
    },
    {
     "data": {
      "text/plain": [
       "-1452071552"
      ]
     },
     "execution_count": 3,
     "metadata": {},
     "output_type": "execute_result"
    }
   ],
   "source": [
    "%%time\n",
    "sum_squares(10**8)"
   ]
  },
  {
   "cell_type": "markdown",
   "metadata": {},
   "source": [
    "### theano teaser\n",
    "\n",
    "Как сделать то же самое"
   ]
  },
  {
   "cell_type": "code",
   "execution_count": 2,
   "metadata": {
    "collapsed": false
   },
   "outputs": [
    {
     "name": "stderr",
     "output_type": "stream",
     "text": [
      "WARNING (theano.configdefaults): g++ not detected ! Theano will be unable to execute optimized C-implementations (for both CPU and GPU) and will default to Python implementations. Performance will be severely degraded. To remove this warning, set Theano flags cxx to an empty string.\n"
     ]
    }
   ],
   "source": [
    "import theano\n",
    "import theano.tensor as T"
   ]
  },
  {
   "cell_type": "code",
   "execution_count": 5,
   "metadata": {
    "collapsed": true
   },
   "outputs": [],
   "source": [
    "#будущий параметр функции\n",
    "N = T.scalar(\"a dimension\",dtype='int32')\n",
    "\n",
    "#рецепт получения суммы квадратов\n",
    "result = (T.arange(N)**2).sum()\n",
    "\n",
    "#компиляция функции \"сумма квадратов\" чисел от 0 до N\n",
    "sum_function = theano.function(inputs = [N],outputs=result)"
   ]
  },
  {
   "cell_type": "code",
   "execution_count": 6,
   "metadata": {
    "collapsed": false
   },
   "outputs": [
    {
     "name": "stdout",
     "output_type": "stream",
     "text": [
      "Wall time: 986 ms\n"
     ]
    },
    {
     "data": {
      "text/plain": [
       "array(662921401752298880L, dtype=int64)"
      ]
     },
     "execution_count": 6,
     "metadata": {},
     "output_type": "execute_result"
    }
   ],
   "source": [
    "%%time\n",
    "sum_function(10**8)"
   ]
  },
  {
   "cell_type": "markdown",
   "metadata": {},
   "source": [
    "#### Как оно работает?\n",
    "Нужно написать \"рецепт\" получения выходов по входам\n",
    "\n",
    "То же самое на заумном: нужно описать символический граф вычислений\n",
    "\n",
    "2 вида зверей - \"входы\" и \"преобразования\"\n",
    "\n",
    "Оба могут быть числами, массивами, матрицами, тензорами и т.п.\n",
    "\n",
    "Вход - это то аргумент функции. То место, на которое подставится аргумент вызове.\n",
    "\n",
    "N - вход в примере выше\n",
    "\n",
    "Преобразования - рецепты вычисления чего-то на основе входов и констант\n",
    "\n",
    "(T.arange(N)^2).sum() - 3 последовательных преобразования N\n",
    "\n",
    "Работают почти 1 в 1 как векторные операции в numpy\n",
    "\n",
    "\n",
    "почти всё, что есть в numpy есть в theano tensor и называется так же\n",
    "\n",
    "np.mean -> T.mean\n",
    "\n",
    "np.arange -> T.arange\n",
    "\n",
    "np.cumsum -> T.cumsum\n",
    "\n",
    "и так далее...\n",
    "\n",
    "Совсем редко - бывает, что меняется название или синтаксис - нужно спросить у семинаристов или гугла\n",
    "\n",
    "Ничего не понятно? Сейчас исправим."
   ]
  },
  {
   "cell_type": "code",
   "execution_count": 7,
   "metadata": {
    "collapsed": true
   },
   "outputs": [],
   "source": [
    "#входы\n",
    "example_input_integer = T.scalar(\"вход - одно число(пример)\",dtype='float32')\n",
    "\n",
    "example_input_tensor = T.tensor4(\"вход - четырёхмерный тензор(пример)\")\n",
    "#не бойся, тензор нам не пригодится\n",
    "\n",
    "input_vector = T.vector(\"вход - вектор целых чисел\", dtype='int32')"
   ]
  },
  {
   "cell_type": "code",
   "execution_count": 8,
   "metadata": {
    "collapsed": true
   },
   "outputs": [],
   "source": [
    "#преобразования\n",
    "\n",
    "#поэлементное умножение\n",
    "double_the_vector = input_vector*2\n",
    "\n",
    "#поэлементный косинус\n",
    "elementwise_cosine = T.cos(input_vector)\n",
    "\n",
    "#разность квадрата каждого элемента и самого элемента\n",
    "vector_squares = input_vector**2 - input_vector"
   ]
  },
  {
   "cell_type": "code",
   "execution_count": 9,
   "metadata": {
    "collapsed": false
   },
   "outputs": [
    {
     "data": {
      "text/plain": [
       "Elemwise{mul,no_inplace}.0"
      ]
     },
     "execution_count": 9,
     "metadata": {},
     "output_type": "execute_result"
    }
   ],
   "source": [
    "double_the_vector"
   ]
  },
  {
   "cell_type": "code",
   "execution_count": 10,
   "metadata": {
    "collapsed": true
   },
   "outputs": [],
   "source": [
    "# теперь сам:\n",
    "#создай 2 вектора из чисел float32\n",
    "my_vector = T.vector(\"вход - вектор чисел\", dtype='float32')\n",
    "my_vector2 = T.vector(\"вход - вектор чисел\", dtype='float32')"
   ]
  },
  {
   "cell_type": "code",
   "execution_count": 11,
   "metadata": {
    "collapsed": true
   },
   "outputs": [],
   "source": [
    "#напиши преобразование, которое считает\n",
    "#(вектор 1)*(вектор 2) / (sin(вектор 1) +1)\n",
    "my_transformation = my_vector*my_vector2/(T.sin(my_vector) + 1)"
   ]
  },
  {
   "cell_type": "code",
   "execution_count": 12,
   "metadata": {
    "collapsed": false
   },
   "outputs": [
    {
     "name": "stdout",
     "output_type": "stream",
     "text": [
      "Elemwise{true_div,no_inplace}.0\n"
     ]
    }
   ],
   "source": [
    "print (my_transformation)\n",
    "#то, что получилась не чиселка - это нормально"
   ]
  },
  {
   "cell_type": "markdown",
   "metadata": {},
   "source": [
    "#### Компиляция\n",
    "До этого момента, мы использовали \"символические\" переменные\n",
    "писали рецепт вычислений, но ничего не вычисляли\n",
    "чтобы рецепт можно было использовать, его нужно скомпилироват"
   ]
  },
  {
   "cell_type": "code",
   "execution_count": 13,
   "metadata": {
    "collapsed": false
   },
   "outputs": [],
   "source": [
    "inputs = [my_vector, my_vector2]\n",
    "outputs = my_transformation\n",
    "\n",
    "# можно скомпилировать написанные нами преобразования как функцию\n",
    "my_function = theano.function(\n",
    "    inputs, outputs,\n",
    "    allow_input_downcast=True #автоматически прводить типы (необязательно)\n",
    " )"
   ]
  },
  {
   "cell_type": "code",
   "execution_count": 14,
   "metadata": {
    "collapsed": false
   },
   "outputs": [
    {
     "name": "stdout",
     "output_type": "stream",
     "text": [
      "using python lists:\n",
      "[  2.1721766    5.2375288   15.77397633]\n",
      "()\n",
      "using numpy arrays:\n",
      "[   0.            2.77555895    5.47030783   14.02131271   89.5477066\n",
      "  676.25775146   47.183918     24.40843201   23.68156242   38.24041748]\n"
     ]
    }
   ],
   "source": [
    "#можно вызвать вот-так:\n",
    "print (\"using python lists:\")\n",
    "print (my_function([1,2,3],[4,5,6]))\n",
    "print()\n",
    "\n",
    "#а можно так. \n",
    "#К слову, ту тип float приводится к типу второго вектора\n",
    "print (\"using numpy arrays:\")\n",
    "print (my_function(np.arange(10),\n",
    "                  np.linspace(5,6,10,dtype='float')))"
   ]
  },
  {
   "cell_type": "markdown",
   "metadata": {},
   "source": [
    "#### хинт для отладки\n",
    "Если ваша функция большая, компиляция может отнять какое-то время.\n",
    "Чтобы не ждать, можно посчитать выражение без компиляции\n",
    "Вы экономите время 1 раз на компиляции, но сам код выполняется медленнее"
   ]
  },
  {
   "cell_type": "code",
   "execution_count": 15,
   "metadata": {
    "collapsed": false
   },
   "outputs": [
    {
     "name": "stdout",
     "output_type": "stream",
     "text": [
      "[  2.1721766    5.2375288   15.77397633]\n",
      "('\\xd1\\x81\\xd1\\x83\\xd0\\xbc\\xd0\\xbc\\xd0\\xb0 2 \\xd0\\xb2\\xd0\\xb5\\xd0\\xba\\xd1\\x82\\xd0\\xbe\\xd1\\x80\\xd0\\xbe\\xd0\\xb2', array([ 5.,  7.,  9.], dtype=float32))\n",
      "('\\xd1\\x84\\xd0\\xbe\\xd1\\x80\\xd0\\xbc\\xd0\\xb0 \\xd0\\xbf\\xd0\\xb5\\xd1\\x80\\xd0\\xb2\\xd0\\xbe\\xd0\\xb3\\xd0\\xbe \\xd0\\xb2\\xd0\\xb5\\xd0\\xba\\xd1\\x82\\xd0\\xbe\\xd1\\x80\\xd0\\xb0', array([3], dtype=int64))\n"
     ]
    }
   ],
   "source": [
    "#словарик значений для входов\n",
    "my_function_inputs = {\n",
    "    my_vector:[1,2,3],\n",
    "    my_vector2:[4,5,6]\n",
    "}\n",
    "\n",
    "#вычислить без компиляции\n",
    "#если мы ничего не перепутали, \n",
    "#должно получиться точно то же, что и раньше\n",
    "print my_transformation.eval(my_function_inputs)\n",
    "\n",
    "\n",
    "#можно вычислять преобразования на ходу\n",
    "print (\"сумма 2 векторов\", (my_vector + my_vector2).eval(my_function_inputs))\n",
    "\n",
    "#!ВАЖНО! если преобразование зависит только от части переменных,\n",
    "#остальные давать не надо\n",
    "print (\"форма первого вектора\", my_vector.shape.eval({\n",
    "        my_vector:[1,2,3]\n",
    "    }))"
   ]
  },
  {
   "cell_type": "markdown",
   "metadata": {},
   "source": [
    "### Теперь сам: MSE (2 pts)"
   ]
  },
  {
   "cell_type": "code",
   "execution_count": 16,
   "metadata": {
    "collapsed": false
   },
   "outputs": [],
   "source": [
    "# Задание 1 - напиши и скомпилируй theano-функцию, которая считает среднеквадратичную ошибку двух векторов-входов\n",
    "# Вернуть нужно одно число - собственно, ошибку. Обновлять ничего не нужно\n",
    "\n",
    "input_vector = T.vector(\"вход - вектор чисел\", dtype='float32')\n",
    "input_vector2 = T.vector(\"вход - вектор чисел\", dtype='float32')\n",
    "\n",
    "my_transformation = T.sum((input_vector - input_vector2)**2)/input_vector.size\n",
    "\n",
    "compute_mse = theano.function(\n",
    "    [input_vector, input_vector2], my_transformation,\n",
    "    allow_input_downcast=True #автоматически прводить типы (необязательно)\n",
    " )"
   ]
  },
  {
   "cell_type": "code",
   "execution_count": 17,
   "metadata": {
    "collapsed": false
   },
   "outputs": [
    {
     "name": "stdout",
     "output_type": "stream",
     "text": [
      "All tests passed\n"
     ]
    }
   ],
   "source": [
    "#тесты\n",
    "from sklearn.metrics import mean_squared_error\n",
    "\n",
    "for n in [1,5,10,10**3]:\n",
    "    \n",
    "    elems = [np.arange(n),np.arange(n,0,-1), np.zeros(n),\n",
    "             np.ones(n),np.random.random(n),np.random.randint(100,size=n)]\n",
    "    \n",
    "    for el in elems:\n",
    "        for el_2 in elems:\n",
    "            true_mse = np.array(mean_squared_error(el,el_2))\n",
    "            my_mse = compute_mse(el,el_2)\n",
    "            if not np.allclose(true_mse,my_mse):\n",
    "                print ('Wrong result:')\n",
    "                print ('mse(%s,%s)'%(el,el_2))\n",
    "                print (\"should be: %f, but your function returned %f\"%(true_mse,my_mse))\n",
    "                raise ValueError(\"Что-то не так\")\n",
    "\n",
    "print (\"All tests passed\")"
   ]
  },
  {
   "cell_type": "markdown",
   "metadata": {},
   "source": [
    "#### Shared variables\n",
    "Входы и преобразования - части рецепта.\n",
    "Они существуют только во время вызова функции.\n",
    "Shared переменные - всегда остаются в памяти\n",
    "им можно поменять значение\n",
    "(но не внутри символического графа. Об этом позже)\n",
    "их можно включить в граф вычислений\n",
    "хинт - в таких переменных удобно хранить параметры и гиперпараметры\n",
    "например, веса нейронки или learning rate, если вы его меняете"
   ]
  },
  {
   "cell_type": "code",
   "execution_count": 18,
   "metadata": {
    "collapsed": true
   },
   "outputs": [],
   "source": [
    "#cоздадим расшаренную перменную\n",
    "shared_vector_1 = theano.shared(np.ones(10,dtype='float64'))"
   ]
  },
  {
   "cell_type": "code",
   "execution_count": 19,
   "metadata": {
    "collapsed": false
   },
   "outputs": [
    {
     "name": "stdout",
     "output_type": "stream",
     "text": [
      "('initial value', array([ 1.,  1.,  1.,  1.,  1.,  1.,  1.,  1.,  1.,  1.]))\n"
     ]
    }
   ],
   "source": [
    "#получить (численное) значение переменной\n",
    "print (\"initial value\",shared_vector_1.get_value())"
   ]
  },
  {
   "cell_type": "code",
   "execution_count": 20,
   "metadata": {
    "collapsed": false
   },
   "outputs": [
    {
     "name": "stdout",
     "output_type": "stream",
     "text": [
      "('new value', array([ 0.,  1.,  2.,  3.,  4.]))\n"
     ]
    }
   ],
   "source": [
    "#задать новое значение\n",
    "shared_vector_1.set_value( np.arange(5) )\n",
    "\n",
    "#проверим значение\n",
    "print (\"new value\", shared_vector_1.get_value())\n",
    "\n",
    "#Заметь, что раньше это был вектор из 10 элементов, а сейчас - из 5. \n",
    "#Если граф при этом остался выполним, это сработает."
   ]
  },
  {
   "cell_type": "markdown",
   "metadata": {},
   "source": [
    "#### Теперь сам"
   ]
  },
  {
   "cell_type": "code",
   "execution_count": 21,
   "metadata": {
    "collapsed": true
   },
   "outputs": [],
   "source": [
    "#напиши рецепт (преобразование), которое считает произведение(поэллементное) shared_vector на input_scalar\n",
    "#скомпилируй это в функцию от input_scalar\n",
    "\n",
    "input_scalar = T.scalar('coefficient',dtype='float32')\n",
    "\n",
    "scalar_times_shared = shared_vector_1*input_scalar\n",
    "\n",
    "shared_times_n = theano.function(\n",
    "    [input_scalar], scalar_times_shared,\n",
    "    allow_input_downcast=True #автоматически прводить типы (необязательно)\n",
    " )"
   ]
  },
  {
   "cell_type": "code",
   "execution_count": 22,
   "metadata": {
    "collapsed": false
   },
   "outputs": [
    {
     "name": "stdout",
     "output_type": "stream",
     "text": [
      "('shared:', array([ 0.,  1.,  2.,  3.,  4.]))\n",
      "('shared_times_n(5)', array([  0.,   5.,  10.,  15.,  20.]))\n",
      "('shared_times_n(-0.5)', array([-0. , -0.5, -1. , -1.5, -2. ]))\n"
     ]
    }
   ],
   "source": [
    "print (\"shared:\", shared_vector_1.get_value())\n",
    "\n",
    "print (\"shared_times_n(5)\",shared_times_n(5))\n",
    "\n",
    "print (\"shared_times_n(-0.5)\",shared_times_n(-0.5))"
   ]
  },
  {
   "cell_type": "code",
   "execution_count": 23,
   "metadata": {
    "collapsed": false
   },
   "outputs": [
    {
     "name": "stdout",
     "output_type": "stream",
     "text": [
      "('shared:', array([-1.,  0.,  1.]))\n",
      "('shared_times_n(5)', array([-5.,  0.,  5.]))\n",
      "('shared_times_n(-0.5)', array([ 0.5, -0. , -0.5]))\n"
     ]
    }
   ],
   "source": [
    "#поменяем значение shared_vector_1\n",
    "shared_vector_1.set_value([-1,0,1])\n",
    "print (\"shared:\", shared_vector_1.get_value())\n",
    "\n",
    "print (\"shared_times_n(5)\",shared_times_n(5))\n",
    "\n",
    "print (\"shared_times_n(-0.5)\",shared_times_n(-0.5))"
   ]
  },
  {
   "cell_type": "markdown",
   "metadata": {},
   "source": [
    "### T.grad, самое вкусное\n",
    "theano умеет само считать производные. Все, которые существуют.\n",
    "Производные считаются в символическом, а не численном виде\n",
    "Ограничения\n",
    "За раз можно считать производную скалярной функции по одной или нескольким скалярным или векторным аргументам\n",
    "Функция должна на всех этапах своего вычисления иметь тип float32 или float64 (т.к. на множестве целых чисел производная не имеет смысл)"
   ]
  },
  {
   "cell_type": "code",
   "execution_count": 24,
   "metadata": {
    "collapsed": true
   },
   "outputs": [],
   "source": [
    "my_scalar = T.scalar(name='input',dtype='float64')\n",
    "\n",
    "scalar_squared = T.sum(my_scalar**2)\n",
    "\n",
    "#производная v_squared по my_vector\n",
    "derivative = T.grad(scalar_squared,my_scalar)\n",
    "\n",
    "fun = theano.function([my_scalar],scalar_squared)\n",
    "grad = theano.function([my_scalar],derivative)"
   ]
  },
  {
   "cell_type": "code",
   "execution_count": 3,
   "metadata": {
    "collapsed": false
   },
   "outputs": [
    {
     "ename": "NameError",
     "evalue": "name 'fun' is not defined",
     "output_type": "error",
     "traceback": [
      "\u001b[0;31m---------------------------------------------------------------------------\u001b[0m",
      "\u001b[0;31mNameError\u001b[0m                                 Traceback (most recent call last)",
      "\u001b[0;32m<ipython-input-3-1999f03d7f61>\u001b[0m in \u001b[0;36m<module>\u001b[0;34m()\u001b[0m\n\u001b[1;32m      4\u001b[0m \u001b[1;33m\u001b[0m\u001b[0m\n\u001b[1;32m      5\u001b[0m \u001b[0mx\u001b[0m \u001b[1;33m=\u001b[0m \u001b[0mnp\u001b[0m\u001b[1;33m.\u001b[0m\u001b[0mlinspace\u001b[0m\u001b[1;33m(\u001b[0m\u001b[1;33m-\u001b[0m\u001b[1;36m3\u001b[0m\u001b[1;33m,\u001b[0m\u001b[1;36m3\u001b[0m\u001b[1;33m)\u001b[0m\u001b[1;33m\u001b[0m\u001b[0m\n\u001b[0;32m----> 6\u001b[0;31m \u001b[0mx_squared\u001b[0m \u001b[1;33m=\u001b[0m \u001b[0mlist\u001b[0m\u001b[1;33m(\u001b[0m\u001b[0mmap\u001b[0m\u001b[1;33m(\u001b[0m\u001b[0mfun\u001b[0m\u001b[1;33m,\u001b[0m\u001b[0mx\u001b[0m\u001b[1;33m)\u001b[0m\u001b[1;33m)\u001b[0m\u001b[1;33m\u001b[0m\u001b[0m\n\u001b[0m\u001b[1;32m      7\u001b[0m \u001b[0mx_squared_der\u001b[0m \u001b[1;33m=\u001b[0m \u001b[0mlist\u001b[0m\u001b[1;33m(\u001b[0m\u001b[0mmap\u001b[0m\u001b[1;33m(\u001b[0m\u001b[0mgrad\u001b[0m\u001b[1;33m,\u001b[0m\u001b[0mx\u001b[0m\u001b[1;33m)\u001b[0m\u001b[1;33m)\u001b[0m\u001b[1;33m\u001b[0m\u001b[0m\n\u001b[1;32m      8\u001b[0m \u001b[1;33m\u001b[0m\u001b[0m\n",
      "\u001b[0;31mNameError\u001b[0m: name 'fun' is not defined"
     ]
    }
   ],
   "source": [
    "import matplotlib.pyplot as plt\n",
    "%matplotlib inline\n",
    "\n",
    "\n",
    "x = np.linspace(-3,3)\n",
    "x_squared = list(map(fun,x))\n",
    "x_squared_der = list(map(grad,x))\n",
    "\n",
    "plt.plot(x, x_squared,label=\"x^2\")\n",
    "plt.plot(x, x_squared_der, label=\"derivative\")\n",
    "plt.legend()"
   ]
  },
  {
   "cell_type": "markdown",
   "metadata": {},
   "source": [
    "### теперь сам"
   ]
  },
  {
   "cell_type": "code",
   "execution_count": 26,
   "metadata": {
    "collapsed": true
   },
   "outputs": [],
   "source": [
    "my_vector = T.vector('float64')\n",
    "\n",
    "#посчитай производные этой функции по my_scalar и my_vector\n",
    "#warning! Не пытайся понять физический смысл этой функции\n",
    "weird_psychotic_function = ((my_vector+my_scalar)**(1+T.var(my_vector)) +1./T.arcsinh(my_scalar)).mean()/(my_scalar**2 +1) + 0.01*T.sin(2*my_scalar**1.5)*(T.sum(my_vector)* my_scalar**2)*T.exp((my_scalar-4)**2)/(1+T.exp((my_scalar-4)**2))*(1.-(T.exp(-(my_scalar-4)**2))/(1+T.exp(-(my_scalar-4)**2)))**2\n",
    "\n",
    "\n",
    "der_by_scalar,der_by_vector = T.grad(weird_psychotic_function, my_scalar), T.grad(weird_psychotic_function, my_vector) \n",
    "\n",
    "\n",
    "compute_weird_function = theano.function([my_scalar,my_vector],weird_psychotic_function)\n",
    "compute_der_by_scalar = theano.function([my_scalar,my_vector],der_by_scalar)"
   ]
  },
  {
   "cell_type": "code",
   "execution_count": 27,
   "metadata": {
    "collapsed": false
   },
   "outputs": [
    {
     "data": {
      "text/plain": [
       "<matplotlib.legend.Legend at 0xbc9c400>"
      ]
     },
     "execution_count": 27,
     "metadata": {},
     "output_type": "execute_result"
    },
    {
     "data": {
      "image/png": "[encoded data removed]",
      "text/plain": [
       "<matplotlib.figure.Figure at 0xbb9a898>"
      ]
     },
     "metadata": {},
     "output_type": "display_data"
    }
   ],
   "source": [
    "#график функции и твоей производной\n",
    "vector_0 = [1,2,3]\n",
    "\n",
    "scalar_space = np.linspace(0,7)\n",
    "\n",
    "y = [compute_weird_function(x,vector_0) for x in scalar_space]\n",
    "plt.plot(scalar_space,y,label='function')\n",
    "y_der_by_scalar = [compute_der_by_scalar(x,vector_0) for x in scalar_space]\n",
    "plt.plot(scalar_space,y_der_by_scalar,label='derivative')\n",
    "plt.grid();plt.legend()"
   ]
  },
  {
   "cell_type": "markdown",
   "metadata": {},
   "source": [
    "### Последний штрих - Updates\n",
    "updates - это способ изменять значения shared переменных каждый раз В КОНЦЕ вызова функции\n",
    "фактически, это словарь {shared_переменная: рецепт нового значения}, который добавляется в функцию при компиляции\n",
    "Например,"
   ]
  },
  {
   "cell_type": "code",
   "execution_count": 28,
   "metadata": {
    "collapsed": true
   },
   "outputs": [],
   "source": [
    "#умножим shared вектор на число и сохраним новое значение обратно в этот shared вектор\n",
    "\n",
    "inputs = [input_scalar]\n",
    "outputs = [scalar_times_shared] #вернём вектор, умноженный на число\n",
    "\n",
    "my_updates = {\n",
    "    shared_vector_1:scalar_times_shared #и этот же результат запишем в shared_vector_1\n",
    "}\n",
    "\n",
    "compute_and_save = theano.function(inputs, outputs, updates=my_updates)"
   ]
  },
  {
   "cell_type": "code",
   "execution_count": 29,
   "metadata": {
    "collapsed": false
   },
   "outputs": [
    {
     "name": "stdout",
     "output_type": "stream",
     "text": [
      "('initial shared value:', array([ 0.,  1.,  2.,  3.,  4.]))\n",
      "('compute_and_save(2) returns', [array([ 0.,  2.,  4.,  6.,  8.])])\n",
      "('new shared value:', array([ 0.,  2.,  4.,  6.,  8.]))\n"
     ]
    }
   ],
   "source": [
    "shared_vector_1.set_value(np.arange(5))\n",
    "\n",
    "#изначальное значение shared_vector_1\n",
    "print (\"initial shared value:\" ,shared_vector_1.get_value())\n",
    "\n",
    "# теперь вычислим функцию (значение shared_vector_1 при этом поменяется)\n",
    "print (\"compute_and_save(2) returns\",compute_and_save(2))\n",
    "\n",
    "#проверим, что в shared_vector_1\n",
    "print (\"new shared value:\" ,shared_vector_1.get_value())"
   ]
  },
  {
   "cell_type": "markdown",
   "metadata": {},
   "source": [
    "#### Логистическая регрессия\n",
    "Что нам потребуется:\n",
    "Веса лучше хранить в shared-переменной\n",
    "Данные можно передавать как input\n",
    "Нужно 2 функции:\n",
    "train_function(X,y) - возвращает ошибку и изменяет веса на 1 шаг по граиденту (через updates)\n",
    "predict_fun(X) - возвращает предсказанные ответы (\"y\") по данным"
   ]
  },
  {
   "cell_type": "code",
   "execution_count": 4,
   "metadata": {
    "collapsed": false
   },
   "outputs": [
    {
     "name": "stdout",
     "output_type": "stream",
     "text": [
      "('y [\\xd1\\x84\\xd0\\xbe\\xd1\\x80\\xd0\\xbc\\xd0\\xb0 - (360L,)]:', array([0, 1, 0, 1, 0, 1, 0, 0, 1, 1]))\n",
      "X [форма - (360L, 64L)]:\n",
      "[[  0.   0.   5.  13.   9.   1.   0.   0.   0.   0.  13.  15.  10.  15.\n",
      "    5.   0.   0.   3.  15.   2.   0.  11.   8.   0.   0.   4.  12.   0.\n",
      "    0.   8.   8.   0.   0.   5.   8.   0.   0.   9.   8.   0.   0.   4.\n",
      "   11.   0.   1.  12.   7.   0.   0.   2.  14.   5.  10.  12.   0.   0.\n",
      "    0.   0.   6.  13.  10.   0.   0.   0.]\n",
      " [  0.   0.   0.  12.  13.   5.   0.   0.   0.   0.   0.  11.  16.   9.\n",
      "    0.   0.   0.   0.   3.  15.  16.   6.   0.   0.   0.   7.  15.  16.\n",
      "   16.   2.   0.   0.   0.   0.   1.  16.  16.   3.   0.   0.   0.   0.\n",
      "    1.  16.  16.   6.   0.   0.   0.   0.   1.  16.  16.   6.   0.   0.\n",
      "    0.   0.   0.  11.  16.  10.   0.   0.]\n",
      " [  0.   0.   1.   9.  15.  11.   0.   0.   0.   0.  11.  16.   8.  14.\n",
      "    6.   0.   0.   2.  16.  10.   0.   9.   9.   0.   0.   1.  16.   4.\n",
      "    0.   8.   8.   0.   0.   4.  16.   4.   0.   8.   8.   0.   0.   1.\n",
      "   16.   5.   1.  11.   3.   0.   0.   0.  12.  12.  10.  10.   0.   0.\n",
      "    0.   0.   1.  10.  13.   3.   0.   0.]]\n"
     ]
    }
   ],
   "source": [
    "from sklearn.datasets import load_digits\n",
    "mnist = load_digits(2)\n",
    "\n",
    "X,y = mnist.data, mnist.target\n",
    "\n",
    "\n",
    "print (\"y [форма - %s]:\"%(str(y.shape)),y[:10])\n",
    "\n",
    "print (\"X [форма - %s]:\"%(str(X.shape)))\n",
    "print (X[:3])"
   ]
  },
  {
   "cell_type": "code",
   "execution_count": 31,
   "metadata": {
    "collapsed": false
   },
   "outputs": [
    {
     "ename": "SyntaxError",
     "evalue": "invalid syntax (<ipython-input-31-26276af2c160>, line 3)",
     "output_type": "error",
     "traceback": [
      "\u001b[0;36m  File \u001b[0;32m\"<ipython-input-31-26276af2c160>\"\u001b[0;36m, line \u001b[0;32m3\u001b[0m\n\u001b[0;31m    input_X = theano.\u001b[0m\n\u001b[0m                     ^\u001b[0m\n\u001b[0;31mSyntaxError\u001b[0m\u001b[0;31m:\u001b[0m invalid syntax\n"
     ]
    }
   ],
   "source": [
    "# переменные и входы\n",
    "shared_weights = theano.shared(np.zeros(len(y),dtype='float64'))\n",
    "input_X = theano.\n",
    "#input_y = <твой код>"
   ]
  },
  {
   "cell_type": "markdown",
   "metadata": {},
   "source": [
    "#### lasagne\n",
    "lasagne - это библиотека для написания нейронок произвольной формы на theano\n",
    "библиотека низкоуровневая, границы между theano и lasagne практически нет\n",
    "В качестве демо-задачи выберем то же распознавание чисел, но на большем масштабе задачи\n",
    "картинки 28x28\n",
    "10 цифр"
   ]
  },
  {
   "cell_type": "markdown",
   "metadata": {},
   "source": [
    "### Тут пришлось скопипастить код функции, потому что по-другому не запускается((("
   ]
  },
  {
   "cell_type": "code",
   "execution_count": 13,
   "metadata": {
    "collapsed": true
   },
   "outputs": [],
   "source": [
    "\n",
    "import sys\n",
    "import os\n",
    "\n",
    "def load_dataset():\n",
    "    # We first define a download function, supporting both Python 2 and 3.\n",
    "    #if sys.version_info[0] == 2:\n",
    "    from urllib import urlretrieve\n",
    "    #else:\n",
    "        #from urllib.request import urlretrieve\n",
    "\n",
    "    def download(filename, source='http://yann.lecun.com/exdb/mnist/'):\n",
    "        print(\"Downloading %s\" % filename)\n",
    "        urlretrieve(source + filename, filename)\n",
    "\n",
    "    # We then define functions for loading MNIST images and labels.\n",
    "    # For convenience, they also download the requested files if needed.\n",
    "    import gzip\n",
    "\n",
    "    def load_mnist_images(filename):\n",
    "        if not os.path.exists(filename):\n",
    "            download(filename)\n",
    "        # Read the inputs in Yann LeCun's binary format.\n",
    "        with gzip.open(filename, 'rb') as f:\n",
    "            data = np.frombuffer(f.read(), np.uint8, offset=16)\n",
    "        # The inputs are vectors now, we reshape them to monochrome 2D images,\n",
    "        # following the shape convention: (examples, channels, rows, columns)\n",
    "        data = data.reshape(-1, 1, 28, 28)\n",
    "        # The inputs come as bytes, we convert them to float32 in range [0,1].\n",
    "        # (Actually to range [0, 255/256], for compatibility to the version\n",
    "        # provided at http://deeplearning.net/data/mnist/mnist.pkl.gz.)\n",
    "        return data / np.float32(256)\n",
    "\n",
    "    def load_mnist_labels(filename):\n",
    "        if not os.path.exists(filename):\n",
    "            download(filename)\n",
    "        # Read the labels in Yann LeCun's binary format.\n",
    "        with gzip.open(filename, 'rb') as f:\n",
    "            data = np.frombuffer(f.read(), np.uint8, offset=8)\n",
    "        # The labels are vectors of integers now, that's exactly what we want.\n",
    "        return data\n",
    "\n",
    "    # We can now download and read the training and test set images and labels.\n",
    "    X_train = load_mnist_images('train-images-idx3-ubyte.gz')\n",
    "    y_train = load_mnist_labels('train-labels-idx1-ubyte.gz')\n",
    "    X_test = load_mnist_images('t10k-images-idx3-ubyte.gz')\n",
    "    y_test = load_mnist_labels('t10k-labels-idx1-ubyte.gz')\n",
    "\n",
    "    # We reserve the last 10000 training examples for validation.\n",
    "    X_train, X_val = X_train[:-1000], X_train[-1000:]\n",
    "    y_train, y_val = y_train[:-1000], y_train[-1000:]\n",
    "\n",
    "    # We just return all the arrays in order, as expected in main().\n",
    "    # (It doesn't matter how we do this as long as we can read them again.)\n",
    "    return X_train, y_train, X_val, y_val, X_test, y_test"
   ]
  },
  {
   "cell_type": "code",
   "execution_count": 15,
   "metadata": {
    "collapsed": false
   },
   "outputs": [
    {
     "name": "stdout",
     "output_type": "stream",
     "text": [
      "((59000L, 1L, 28L, 28L), (59000L,))\n"
     ]
    }
   ],
   "source": [
    "X_train,y_train,X_val,y_val,X_test,y_test = load_dataset()\n",
    "\n",
    "print (X_train.shape,y_train.shape)"
   ]
  },
  {
   "cell_type": "code",
   "execution_count": 34,
   "metadata": {
    "collapsed": false
   },
   "outputs": [
    {
     "data": {
      "text/plain": [
       "<matplotlib.image.AxesImage at 0xc88da90>"
      ]
     },
     "execution_count": 34,
     "metadata": {},
     "output_type": "execute_result"
    },
    {
     "data": {
      "image/png": "[encoded data removed]",
      "text/plain": [
       "<matplotlib.figure.Figure at 0xc5e9dd8>"
      ]
     },
     "metadata": {},
     "output_type": "display_data"
    }
   ],
   "source": [
    "plt.imshow(X_train[0,0])"
   ]
  },
  {
   "cell_type": "code",
   "execution_count": 6,
   "metadata": {
    "collapsed": true
   },
   "outputs": [],
   "source": [
    "import lasagne\n",
    "\n",
    "input_X = T.tensor4(\"X\")\n",
    "\n",
    "#размерность входа (None означает \"может изменяться\")\n",
    "input_shape = [None,1,28,28]\n",
    "\n",
    "target_y = T.vector(\"target Y integer\",dtype='int32')"
   ]
  },
  {
   "cell_type": "markdown",
   "metadata": {},
   "source": [
    "Так задаётся архитектура нейронки"
   ]
  },
  {
   "cell_type": "code",
   "execution_count": 7,
   "metadata": {
    "collapsed": true
   },
   "outputs": [],
   "source": [
    "#входной слой (вспомогательный)\n",
    "input_layer = lasagne.layers.InputLayer(shape = input_shape,input_var=input_X)\n",
    "\n",
    "#полносвязный слой, который принимает на вход input layer и имеет 100 нейронов.\n",
    "# нелинейная функция - сигмоида как в логистической регрессии\n",
    "# слоям тоже можно давать имена, но это необязательно\n",
    "dense_1 = lasagne.layers.DenseLayer(input_layer,num_units=50,\n",
    "                                   nonlinearity = lasagne.nonlinearities.sigmoid,\n",
    "                                   name = \"hidden_dense_layer\")\n",
    "\n",
    "#ВЫХОДНОЙ полносвязный слой, который принимает на вход dense_1 и имеет 10 нейронов -по нейрону на цифру\n",
    "#нелинейность - softmax - чтобы вероятности всех цифр давали в сумме 1\n",
    "dense_output = lasagne.layers.DenseLayer(dense_1,num_units = 10,\n",
    "                                        nonlinearity = lasagne.nonlinearities.softmax,\n",
    "                                        name='output')"
   ]
  },
  {
   "cell_type": "code",
   "execution_count": 8,
   "metadata": {
    "collapsed": true
   },
   "outputs": [],
   "source": [
    "#предсказание нейронки (theano-преобразование)\n",
    "y_predicted = lasagne.layers.get_output(dense_output)"
   ]
  },
  {
   "cell_type": "code",
   "execution_count": 9,
   "metadata": {
    "collapsed": false
   },
   "outputs": [
    {
     "name": "stdout",
     "output_type": "stream",
     "text": [
      "[hidden_dense_layer.W, hidden_dense_layer.b, output.W, output.b]\n"
     ]
    }
   ],
   "source": [
    "#все веса нейронки (shared-переменные)\n",
    "all_weights = lasagne.layers.get_all_params(dense_output)\n",
    "print (all_weights)"
   ]
  },
  {
   "cell_type": "markdown",
   "metadata": {},
   "source": [
    "#### дальше вы могли бы просто\n",
    "задать функцию ошибки вручную\n",
    "\n",
    "посчитать градиент ошибки по all_weights\n",
    "\n",
    "написать updates\n",
    "\n",
    "но это долго, а простой шаг по градиенту - не самый лучший смособ оптимизировать веса\n",
    "\n",
    "Вместо этого, опять используем lasagne"
   ]
  },
  {
   "cell_type": "code",
   "execution_count": 10,
   "metadata": {
    "collapsed": true
   },
   "outputs": [],
   "source": [
    "#функция ошибки - средняя кроссэнтропия\n",
    "loss = lasagne.objectives.categorical_crossentropy(y_predicted,target_y).mean()\n",
    "\n",
    "\n",
    "accuracy = lasagne.objectives.categorical_accuracy(y_predicted,target_y).mean()\n",
    "\n",
    "#сразу посчитать словарь обновлённых значений с шагом по градиенту, как раньше\n",
    "updates_sgd = lasagne.updates.rmsprop(loss, all_weights,learning_rate=0.01)"
   ]
  },
  {
   "cell_type": "code",
   "execution_count": 11,
   "metadata": {
    "collapsed": true
   },
   "outputs": [],
   "source": [
    "#функция, которая обучает сеть на 1 шаг и возвращащет значение функции потерь и точности\n",
    "train_fun = theano.function([input_X,target_y],[loss,accuracy],updates= updates_sgd)\n",
    "\n",
    "#функция, которая считает точность\n",
    "accuracy_fun = theano.function([input_X,target_y],accuracy)"
   ]
  },
  {
   "cell_type": "markdown",
   "metadata": {},
   "source": [
    "#### Вот и всё, пошли её учить\n",
    "данных теперь много, поэтому лучше учиться стохастическим градиентным спуском\n",
    "для этого напишем функцию, которая бьёт выпорку на мини-батчи (в обычном питоне, не в theano)"
   ]
  },
  {
   "cell_type": "code",
   "execution_count": 12,
   "metadata": {
    "collapsed": true
   },
   "outputs": [],
   "source": [
    "from random import shuffle\n",
    "import math\n",
    "\n",
    "# вспомогательная функция, которая возвращает список мини-батчей для обучения нейронки\n",
    "\n",
    "#на вход\n",
    "# X - тензор из картинок размером (много, 1, 28, 28), например - X_train\n",
    "# y - вектор из чиселок - ответов для каждой картинки из X; например - Y_train\n",
    "#batch_size - одно число - желаемый размер группы\n",
    "\n",
    "#что нужно сделать\n",
    "# 1) перемешать данные\n",
    "# - важно перемешать X и y одним и тем же образом, чтобы сохранить соответствие картинки ответу на неё\n",
    "# 3) побить данные на подгруппы так, чтобы в каждой подгруппе было batch_size картинок и ответов\n",
    "# - если число картинок не делится на batch_size, одну подгруппу можно вернуть другого размера\n",
    "# 4) вернуть список (или итератор) пар:\n",
    "# - (подгруппа картинок, ответы из y на эту подгруппу)\n",
    "def iterate_minibatches(X, y, batchsize):\n",
    "    \n",
    "    indices = np.arange(len(X))\n",
    "    np.random.shuffle(indices)\n",
    "    for start_idx in range(0, len(X) - batchsize + 1, batchsize):\n",
    "        if shuffle:\n",
    "            excerpt = indices[start_idx:start_idx + batchsize]\n",
    "        else:\n",
    "            excerpt = slice(start_idx, start_idx + batchsize)\n",
    "        yield X[excerpt], y[excerpt]\n",
    "    \n",
    "    #return X_minibatches, Y_minibatches # можно сделать списки, а ещё лучше - генератором через yield \n",
    "    \n",
    "# Всё плохо и ты не понимаешь, что от тебя хотят?\n",
    "# можешь поискать похожую функцию в примере\n",
    "# https://github.com/Lasagne/Lasagne/blob/master/examples/mnist.py"
   ]
  },
  {
   "cell_type": "code",
   "execution_count": 45,
   "metadata": {
    "collapsed": false
   },
   "outputs": [],
   "source": [
    "#iterate_minibatches(X_train, y_train, 5000)"
   ]
  },
  {
   "cell_type": "markdown",
   "metadata": {},
   "source": [
    "### Процесс обучения (здесь он очень долго учится :((((( )"
   ]
  },
  {
   "cell_type": "code",
   "execution_count": null,
   "metadata": {
    "collapsed": false
   },
   "outputs": [
    {
     "name": "stderr",
     "output_type": "stream",
     "text": [
      "\r",
      "  0%|                                                                                          | 0/100 [00:00<?, ?it/s]"
     ]
    },
    {
     "name": "stdout",
     "output_type": "stream",
     "text": [
      "Epoch 1 of 100 took 1368.880s\n",
      "  training loss (in-iteration):\t\t0.271998\n",
      "  train accuracy:\t\t91.93 %\n",
      "  validation accuracy:\t\t96.70 %\n"
     ]
    },
    {
     "name": "stderr",
     "output_type": "stream",
     "text": [
      "\r",
      "  1%|▊                                                                            | 1/100 [22:48<37:38:41, 1368.90s/it]"
     ]
    },
    {
     "name": "stdout",
     "output_type": "stream",
     "text": [
      "Epoch 2 of 100 took 1405.760s\n",
      "  training loss (in-iteration):\t\t0.134729\n",
      "  train accuracy:\t\t95.88 %\n",
      "  validation accuracy:\t\t96.80 %\n"
     ]
    },
    {
     "name": "stderr",
     "output_type": "stream",
     "text": [
      "\r",
      "  2%|█▌                                                                           | 2/100 [46:14<37:33:56, 1379.97s/it]"
     ]
    },
    {
     "name": "stdout",
     "output_type": "stream",
     "text": [
      "Epoch 3 of 100 took 1392.134s\n",
      "  training loss (in-iteration):\t\t0.107152\n",
      "  train accuracy:\t\t96.74 %\n",
      "  validation accuracy:\t\t97.00 %\n"
     ]
    },
    {
     "name": "stderr",
     "output_type": "stream",
     "text": [
      "\r",
      "  3%|██▎                                                                        | 3/100 [1:09:26<37:16:51, 1383.62s/it]"
     ]
    },
    {
     "name": "stdout",
     "output_type": "stream",
     "text": [
      "Epoch 4 of 100 took 1550.333s\n",
      "  training loss (in-iteration):\t\t0.091747\n",
      "  train accuracy:\t\t97.20 %\n",
      "  validation accuracy:\t\t97.60 %\n"
     ]
    },
    {
     "name": "stderr",
     "output_type": "stream",
     "text": [
      "\r",
      "  4%|███                                                                        | 4/100 [1:35:17<38:13:49, 1433.64s/it]"
     ]
    },
    {
     "name": "stdout",
     "output_type": "stream",
     "text": [
      "Epoch 5 of 100 took 1630.753s\n",
      "  training loss (in-iteration):\t\t0.081800\n",
      "  train accuracy:\t\t97.51 %\n",
      "  validation accuracy:\t\t97.60 %\n"
     ]
    },
    {
     "name": "stderr",
     "output_type": "stream",
     "text": [
      "\r",
      "  5%|███▊                                                                       | 5/100 [2:02:27<39:23:34, 1492.78s/it]"
     ]
    },
    {
     "name": "stdout",
     "output_type": "stream",
     "text": [
      "Epoch 6 of 100 took 1519.201s\n",
      "  training loss (in-iteration):\t\t0.070938\n",
      "  train accuracy:\t\t97.83 %\n",
      "  validation accuracy:\t\t96.70 %\n"
     ]
    },
    {
     "name": "stderr",
     "output_type": "stream",
     "text": [
      "\r",
      "  6%|████▌                                                                      | 6/100 [2:27:47<39:11:07, 1500.72s/it]"
     ]
    },
    {
     "name": "stdout",
     "output_type": "stream",
     "text": [
      "Epoch 7 of 100 took 1588.681s\n",
      "  training loss (in-iteration):\t\t0.064966\n",
      "  train accuracy:\t\t98.00 %\n",
      "  validation accuracy:\t\t96.90 %\n"
     ]
    },
    {
     "name": "stderr",
     "output_type": "stream",
     "text": [
      "\r",
      "  7%|█████▎                                                                     | 7/100 [2:54:15<39:27:01, 1527.11s/it]"
     ]
    },
    {
     "name": "stdout",
     "output_type": "stream",
     "text": [
      "Epoch 8 of 100 took 1500.472s\n",
      "  training loss (in-iteration):\t\t0.060223\n",
      "  train accuracy:\t\t98.14 %\n",
      "  validation accuracy:\t\t97.90 %\n"
     ]
    },
    {
     "name": "stderr",
     "output_type": "stream",
     "text": [
      "\r",
      "  8%|██████                                                                     | 8/100 [3:19:16<38:49:20, 1519.13s/it]"
     ]
    },
    {
     "name": "stdout",
     "output_type": "stream",
     "text": [
      "Epoch 9 of 100 took 1525.296s\n",
      "  training loss (in-iteration):\t\t0.054467\n",
      "  train accuracy:\t\t98.34 %\n",
      "  validation accuracy:\t\t96.40 %\n"
     ]
    },
    {
     "name": "stderr",
     "output_type": "stream",
     "text": [
      "\r",
      "  9%|██████▊                                                                    | 9/100 [3:44:41<38:26:49, 1520.99s/it]"
     ]
    },
    {
     "name": "stdout",
     "output_type": "stream",
     "text": [
      "Epoch 10 of 100 took 1391.730s\n",
      "  training loss (in-iteration):\t\t0.049477\n",
      "  train accuracy:\t\t98.48 %\n",
      "  validation accuracy:\t\t97.00 %\n"
     ]
    },
    {
     "name": "stderr",
     "output_type": "stream",
     "text": [
      "\r",
      " 10%|███████▍                                                                  | 10/100 [4:07:53<37:03:19, 1482.22s/it]"
     ]
    }
   ],
   "source": [
    "import time\n",
    "from tqdm import tqdm\n",
    "\n",
    "num_epochs = 100 #количество проходов по данным\n",
    "\n",
    "batch_size = 50 #размер мини-батча\n",
    "\n",
    "for epoch in tqdm(range(num_epochs)):\n",
    "    # In each epoch, we do a full pass over the training data:\n",
    "    train_err = 0\n",
    "    train_acc = 0\n",
    "    train_batches = 0\n",
    "    start_time = time.time()\n",
    "    for batch in iterate_minibatches(X_train, y_train, batch_size):\n",
    "        inputs, targets = batch\n",
    "        train_err_batch, train_acc_batch= train_fun(inputs, targets)\n",
    "        train_err += train_err_batch\n",
    "        train_acc += train_acc_batch\n",
    "        train_batches += 1\n",
    "\n",
    "    # And a full pass over the validation data:\n",
    "    val_acc = 0\n",
    "    val_batches = 0\n",
    "    for batch in iterate_minibatches(X_val, y_val, batch_size):\n",
    "        inputs, targets = batch\n",
    "        val_acc += accuracy_fun(inputs, targets)\n",
    "        val_batches += 1\n",
    "\n",
    "    \n",
    "    # Then we print the results for this epoch:\n",
    "    print(\"Epoch {} of {} took {:.3f}s\".format(\n",
    "        epoch + 1, num_epochs, time.time() - start_time))\n",
    "\n",
    "    print(\"  training loss (in-iteration):\\t\\t{:.6f}\".format(train_err / train_batches))\n",
    "    print(\"  train accuracy:\\t\\t{:.2f} %\".format(\n",
    "        train_acc / train_batches * 100))\n",
    "    print(\"  validation accuracy:\\t\\t{:.2f} %\".format(\n",
    "        val_acc / val_batches * 100))"
   ]
  },
  {
   "cell_type": "code",
   "execution_count": 185,
   "metadata": {
    "collapsed": false
   },
   "outputs": [
    {
     "name": "stdout",
     "output_type": "stream",
     "text": [
      "4\n",
      "10\n",
      "18\n"
     ]
    }
   ],
   "source": [
    "test_acc = 0\n",
    "test_batches = 0\n",
    "for batch in iterate_minibatches(X_test, y_test, 500):\n",
    "    inputs, targets = batch\n",
    "    acc = accuracy_fun(inputs, targets)\n",
    "    test_acc += acc\n",
    "    test_batches += 1\n",
    "print(\"Final results:\")\n",
    "print(\"  test accuracy:\\t\\t{:.2f} %\".format(\n",
    "    test_acc / test_batches * 100))\n",
    "\n",
    "if test_acc / test_batches * 100 > 99:\n",
    "    print (\"Achievement unlocked: колдун 80 уровня\")\n",
    "else:\n",
    "    print (\"Нужно больше магии!\")"
   ]
  },
  {
   "cell_type": "code",
   "execution_count": 1,
   "metadata": {
    "collapsed": false
   },
   "outputs": [
    {
     "name": "stderr",
     "output_type": "stream",
     "text": [
      "WARNING (theano.configdefaults): g++ not detected ! Theano will be unable to execute optimized C-implementations (for both CPU and GPU) and will default to Python implementations. Performance will be severely degraded. To remove this warning, set Theano flags cxx to an empty string.\n"
     ]
    }
   ],
   "source": []
  },
  {
   "cell_type": "code",
   "execution_count": 190,
   "metadata": {
    "collapsed": false
   },
   "outputs": [
    {
     "data": {
      "text/plain": [
       "<module 'mnist' from 'C:\\Program Files\\Anaconda3\\envs\\py27\\lib\\site-packages\\mnist\\__init__.pyc'>"
      ]
     },
     "execution_count": 190,
     "metadata": {},
     "output_type": "execute_result"
    }
   ],
   "source": [
    "mnist"
   ]
  },
  {
   "cell_type": "code",
   "execution_count": null,
   "metadata": {
    "collapsed": true
   },
   "outputs": [],
   "source": []
  }
 ],
 "metadata": {
  "kernelspec": {
   "display_name": "Python 2",
   "language": "python",
   "name": "python2"
  },
  "language_info": {
   "codemirror_mode": {
    "name": "ipython",
    "version": 2
   },
   "file_extension": ".py",
   "mimetype": "text/x-python",
   "name": "python",
   "nbconvert_exporter": "python",
   "pygments_lexer": "ipython2",
   "version": "2.7.13"
  }
 },
 "nbformat": 4,
 "nbformat_minor": 2
}
