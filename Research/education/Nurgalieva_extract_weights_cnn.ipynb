{
 "cells": [
  {
   "cell_type": "code",
   "execution_count": null,
   "metadata": {
    "collapsed": true
   },
   "outputs": [],
   "source": [
    "import numpy as np\n",
    "import theano\n",
    "import theano.tensor as T\n",
    "import lasagne"
   ]
  },
  {
   "cell_type": "code",
   "execution_count": 3,
   "metadata": {
    "collapsed": false
   },
   "outputs": [],
   "source": [
    "import matplotlib.pyplot as plt\n",
    "%matplotlib inline"
   ]
  },
  {
   "cell_type": "markdown",
   "metadata": {},
   "source": [
    "##### Попробуем подобрать возможную конфигурацию свёрточной сети для задачи классификации рукописных цифр\n",
    "Для начала загрузим данные"
   ]
  },
  {
   "cell_type": "code",
   "execution_count": 1,
   "metadata": {
    "collapsed": false
   },
   "outputs": [
    {
     "name": "stderr",
     "output_type": "stream",
     "text": [
      "WARNING (theano.configdefaults): g++ not detected ! Theano will be unable to execute optimized C-implementations (for both CPU and GPU) and will default to Python implementations. Performance will be severely degraded. To remove this warning, set Theano flags cxx to an empty string.\n"
     ]
    },
    {
     "name": "stdout",
     "output_type": "stream",
     "text": [
      "((50000L, 1L, 28L, 28L), (50000L,))\n"
     ]
    }
   ],
   "source": [
    "from mnist import load_dataset\n",
    "X_train,y_train,X_val,y_val,X_test,y_test = load_dataset()\n",
    "\n",
    "print (X_train.shape,y_train.shape)"
   ]
  },
  {
   "cell_type": "markdown",
   "metadata": {},
   "source": [
    "#### Посмотрим, как выглядят входные данные"
   ]
  },
  {
   "cell_type": "code",
   "execution_count": 4,
   "metadata": {
    "collapsed": false
   },
   "outputs": [
    {
     "data": {
      "text/plain": [
       "<matplotlib.image.AxesImage at 0xa3f06d8>"
      ]
     },
     "execution_count": 4,
     "metadata": {},
     "output_type": "execute_result"
    },
    {
     "data": {
      "image/png": "[encoded data removed]",
      "text/plain": [
       "<matplotlib.figure.Figure at 0xa3fe7b8>"
      ]
     },
     "metadata": {},
     "output_type": "display_data"
    }
   ],
   "source": [
    "plt.imshow(X_train[0,0])"
   ]
  },
  {
   "cell_type": "code",
   "execution_count": 28,
   "metadata": {
    "collapsed": false
   },
   "outputs": [],
   "source": [
    "#вход у нас четырёхмерный, первый параметр задает количество примеров, второй глубину каналов, третий и четвертый - размеры входа\n",
    "#у нас картинка 28 на 28\n",
    "input_X = T.tensor4(\"X\")\n",
    "\n",
    "#размерность входа (None означает \"может изменяться\"), потом идёт что-то типа глубины канала, у нас картинка чёрно-белая, поэтому\n",
    "# 1, если бы была цветная, то было бы 3, как в RGB\n",
    "input_shape = [None,1,28,28]\n",
    "\n",
    "target_y = T.vector(\"target Y integer\",dtype='int32')"
   ]
  },
  {
   "cell_type": "markdown",
   "metadata": {},
   "source": [
    "#### Зададим архитектуру сети"
   ]
  },
  {
   "cell_type": "code",
   "execution_count": 40,
   "metadata": {
    "collapsed": true
   },
   "outputs": [],
   "source": [
    "# построим для начала свёрточную нейронную сеть\n",
    "# архитектура нейронной сети стандартная, два свёрточных слоя, после каждого свёрточного идет пулинговый и в конце \n",
    "# полносвязный\n",
    "\n",
    "#входной слой (вспомогательный)\n",
    "input_layer = lasagne.layers.InputLayer(shape = input_shape,input_var=input_X)\n",
    "\n",
    "conv_1 = lasagne.layers.Conv2DLayer(input_layer, num_filters=8, filter_size=3, name='conv_1', \n",
    "                                    nonlinearity=lasagne.nonlinearities.rectify)\n",
    "\n",
    "max_pool_1 = lasagne.layers.MaxPool2DLayer(conv_1, pool_size=(2,2), name='max_pool_1')\n",
    "\n",
    "conv_2 = lasagne.layers.Conv2DLayer(conv_1, num_filters=8, filter_size=3, nonlinearity=lasagne.nonlinearities.rectify, \n",
    "                                    name='conv_2')\n",
    "max_pool_2 = lasagne.layers.MaxPool2DLayer(conv_2, pool_size=(2,2), name='max_pool_2')\n",
    "\n",
    "#ВЫХОДНОЙ полносвязный слой, который имеет 10 нейронов -по нейрону на цифру\n",
    "#нелинейность - softmax - чтобы вероятности всех цифр давали в сумме 1\n",
    "dense_output = lasagne.layers.DenseLayer(max_pool_2, num_units = 10,\n",
    "                                        nonlinearity = lasagne.nonlinearities.softmax,\n",
    "                                        name='output')"
   ]
  },
  {
   "cell_type": "code",
   "execution_count": 41,
   "metadata": {
    "collapsed": true
   },
   "outputs": [],
   "source": [
    "#предсказание нейронки (theano-преобразование), это результат применения softmax к выходу предпоследнего слоя\n",
    "y_predicted = lasagne.layers.get_output(dense_output)"
   ]
  },
  {
   "cell_type": "code",
   "execution_count": 42,
   "metadata": {
    "collapsed": false
   },
   "outputs": [
    {
     "name": "stdout",
     "output_type": "stream",
     "text": [
      "[conv_1.W, conv_1.b, conv_2.W, conv_2.b, output.W, output.b]\n"
     ]
    }
   ],
   "source": [
    "#все веса нейронки (shared-переменные), как раз все параметры, которые будут меняться при обучении\n",
    "all_weights = lasagne.layers.get_all_params(dense_output)\n",
    "print (all_weights)"
   ]
  },
  {
   "cell_type": "code",
   "execution_count": 43,
   "metadata": {
    "collapsed": false
   },
   "outputs": [],
   "source": [
    "#функция ошибки - средняя кроссэнтропия\n",
    "loss = lasagne.objectives.categorical_crossentropy(y_predicted,target_y).mean()\n",
    "\n",
    "accuracy = lasagne.objectives.categorical_accuracy(y_predicted,target_y).mean()\n",
    "\n",
    "#сразу посчитать словарь обновлённых значений с шагом по градиенту, как раньше\n",
    "# первый параметр - что мы дифференцируем, потом по чему мы дифференцируем, ну и скорость обучения\n",
    "updates_sgd = lasagne.updates.rmsprop(loss, all_weights,learning_rate=0.01)"
   ]
  },
  {
   "cell_type": "code",
   "execution_count": 44,
   "metadata": {
    "collapsed": false
   },
   "outputs": [],
   "source": [
    "#функция, которая обучает сеть на 1 шаг и возвращащет значение функции потерь и точности\n",
    "train_fun = theano.function([input_X,target_y],[loss,accuracy],updates= updates_sgd)\n",
    "\n",
    "#функция, которая считает точность\n",
    "accuracy_fun = theano.function([input_X,target_y],accuracy)"
   ]
  },
  {
   "cell_type": "code",
   "execution_count": 45,
   "metadata": {
    "collapsed": true
   },
   "outputs": [],
   "source": [
    "from random import shuffle\n",
    "import math\n",
    "\n",
    "# вспомогательная функция, которая возвращает список мини-батчей для обучения нейронки\n",
    "\n",
    "#на вход\n",
    "# X - тензор из картинок размером (много, 1, 28, 28), например - X_train\n",
    "# y - вектор из чиселок - ответов для каждой картинки из X; например - Y_train\n",
    "#batch_size - одно число - желаемый размер группы\n",
    "\n",
    "def iterate_minibatches(X, y, batchsize):\n",
    "    \n",
    "    indices = np.arange(len(X))\n",
    "    np.random.shuffle(indices)\n",
    "    for start_idx in range(0, len(X) - batchsize + 1, batchsize):\n",
    "        if shuffle:\n",
    "            excerpt = indices[start_idx:start_idx + batchsize]\n",
    "        else:\n",
    "            excerpt = slice(start_idx, start_idx + batchsize)\n",
    "        yield X[excerpt], y[excerpt]"
   ]
  },
  {
   "cell_type": "markdown",
   "metadata": {},
   "source": [
    "#### Начинаем учить нашу сеть"
   ]
  },
  {
   "cell_type": "code",
   "execution_count": null,
   "metadata": {
    "collapsed": false
   },
   "outputs": [
    {
     "name": "stderr",
     "output_type": "stream",
     "text": [
      "  3%|▎         | 1/30 [01:46<51:25, 106.41s/it]"
     ]
    },
    {
     "name": "stdout",
     "output_type": "stream",
     "text": [
      "\n",
      "  training loss (in-iteration):\t\t0.053385\n",
      "  train accuracy:\t\t98.51 %\n",
      "  validation accuracy:\t\t98.03 %\n",
      "Epoch 8 of 30 took 108.970s"
     ]
    },
    {
     "name": "stderr",
     "output_type": "stream",
     "text": [
      "\r",
      " 27%|██▋       | 8/30 [14:22<39:45, 108.42s/it]"
     ]
    },
    {
     "name": "stdout",
     "output_type": "stream",
     "text": [
      "\n",
      "  training loss (in-iteration):\t\t0.054981\n",
      "  train accuracy:\t\t98.54 %\n",
      "  validation accuracy:\t\t97.62 %\n",
      "Epoch 9 of 30 took 107.457s"
     ]
    },
    {
     "name": "stderr",
     "output_type": "stream",
     "text": [
      "\r",
      " 30%|███       | 9/30 [16:10<37:50, 108.13s/it]"
     ]
    },
    {
     "name": "stdout",
     "output_type": "stream",
     "text": [
      "\n",
      "  training loss (in-iteration):\t\t0.050249\n",
      "  train accuracy:\t\t98.67 %\n",
      "  validation accuracy:\t\t98.20 %\n",
      "Epoch 10 of 30 took 110.739s"
     ]
    },
    {
     "name": "stderr",
     "output_type": "stream",
     "text": [
      "\r",
      " 33%|███▎      | 10/30 [18:01<36:18, 108.91s/it]"
     ]
    },
    {
     "name": "stdout",
     "output_type": "stream",
     "text": [
      "\n",
      "  training loss (in-iteration):\t\t0.050648\n",
      "  train accuracy:\t\t98.71 %\n",
      "  validation accuracy:\t\t98.14 %\n",
      "Epoch 11 of 30 took 108.921s"
     ]
    },
    {
     "name": "stderr",
     "output_type": "stream",
     "text": [
      "\r",
      " 37%|███▋      | 11/30 [19:49<34:29, 108.92s/it]"
     ]
    },
    {
     "name": "stdout",
     "output_type": "stream",
     "text": [
      "\n",
      "  training loss (in-iteration):\t\t0.049668\n",
      "  train accuracy:\t\t98.70 %\n",
      "  validation accuracy:\t\t98.02 %\n",
      "Epoch 12 of 30 took 109.077s"
     ]
    },
    {
     "name": "stderr",
     "output_type": "stream",
     "text": [
      "\r",
      " 40%|████      | 12/30 [21:39<32:41, 108.96s/it]"
     ]
    },
    {
     "name": "stdout",
     "output_type": "stream",
     "text": [
      "\n",
      "  training loss (in-iteration):\t\t0.046452\n",
      "  train accuracy:\t\t98.79 %\n",
      "  validation accuracy:\t\t98.03 %\n",
      "Epoch 13 of 30 took 108.714s"
     ]
    },
    {
     "name": "stderr",
     "output_type": "stream",
     "text": [
      "\r",
      " 43%|████▎     | 13/30 [23:27<30:51, 108.89s/it]"
     ]
    },
    {
     "name": "stdout",
     "output_type": "stream",
     "text": [
      "\n",
      "  training loss (in-iteration):\t\t0.050668\n",
      "  train accuracy:\t\t98.76 %\n",
      "  validation accuracy:\t\t98.02 %\n",
      "Epoch 14 of 30 took 107.277s"
     ]
    },
    {
     "name": "stderr",
     "output_type": "stream",
     "text": [
      "\r",
      " 47%|████▋     | 14/30 [25:15<28:54, 108.41s/it]"
     ]
    },
    {
     "name": "stdout",
     "output_type": "stream",
     "text": [
      "\n",
      "  training loss (in-iteration):\t\t0.050538\n",
      "  train accuracy:\t\t98.77 %\n",
      "  validation accuracy:\t\t98.08 %\n",
      "Epoch 15 of 30 took 108.573s"
     ]
    },
    {
     "name": "stderr",
     "output_type": "stream",
     "text": [
      "\r",
      " 50%|█████     | 15/30 [27:03<27:06, 108.46s/it]"
     ]
    },
    {
     "name": "stdout",
     "output_type": "stream",
     "text": [
      "\n",
      "  training loss (in-iteration):\t\t0.049247\n",
      "  train accuracy:\t\t98.86 %\n",
      "  validation accuracy:\t\t97.95 %\n",
      "Epoch 16 of 30 took 109.949s"
     ]
    },
    {
     "name": "stderr",
     "output_type": "stream",
     "text": [
      "\r",
      " 53%|█████▎    | 16/30 [28:53<25:24, 108.90s/it]"
     ]
    },
    {
     "name": "stdout",
     "output_type": "stream",
     "text": [
      "\n",
      "  training loss (in-iteration):\t\t0.049208\n",
      "  train accuracy:\t\t98.85 %\n",
      "  validation accuracy:\t\t97.68 %\n",
      "Epoch 17 of 30 took 108.255s"
     ]
    },
    {
     "name": "stderr",
     "output_type": "stream",
     "text": [
      "\r",
      " 57%|█████▋    | 17/30 [30:41<23:33, 108.71s/it]"
     ]
    },
    {
     "name": "stdout",
     "output_type": "stream",
     "text": [
      "\n",
      "  training loss (in-iteration):\t\t0.049342\n",
      "  train accuracy:\t\t98.86 %\n",
      "  validation accuracy:\t\t98.17 %\n",
      "Epoch 18 of 30 took 108.199s"
     ]
    },
    {
     "name": "stderr",
     "output_type": "stream",
     "text": [
      "\r",
      " 60%|██████    | 18/30 [32:30<21:42, 108.56s/it]"
     ]
    },
    {
     "name": "stdout",
     "output_type": "stream",
     "text": [
      "\n",
      "  training loss (in-iteration):\t\t0.048367\n",
      "  train accuracy:\t\t98.91 %\n",
      "  validation accuracy:\t\t97.60 %\n",
      "Epoch 19 of 30 took 106.959s"
     ]
    },
    {
     "name": "stderr",
     "output_type": "stream",
     "text": [
      "\r",
      " 63%|██████▎   | 19/30 [34:16<19:48, 108.08s/it]"
     ]
    },
    {
     "name": "stdout",
     "output_type": "stream",
     "text": [
      "\n",
      "  training loss (in-iteration):\t\t0.048268\n",
      "  train accuracy:\t\t98.96 %\n",
      "  validation accuracy:\t\t98.18 %\n",
      "Epoch 20 of 30 took 107.278s"
     ]
    },
    {
     "name": "stderr",
     "output_type": "stream",
     "text": [
      "\r",
      " 67%|██████▋   | 20/30 [36:04<17:58, 107.84s/it]"
     ]
    },
    {
     "name": "stdout",
     "output_type": "stream",
     "text": [
      "\n",
      "  training loss (in-iteration):\t\t0.047123\n",
      "  train accuracy:\t\t98.97 %\n",
      "  validation accuracy:\t\t98.20 %\n",
      "Epoch 21 of 30 took 109.053s"
     ]
    },
    {
     "name": "stderr",
     "output_type": "stream",
     "text": [
      "\r",
      " 70%|███████   | 21/30 [37:53<16:13, 108.20s/it]"
     ]
    },
    {
     "name": "stdout",
     "output_type": "stream",
     "text": [
      "\n",
      "  training loss (in-iteration):\t\t0.047477\n",
      "  train accuracy:\t\t98.99 %\n",
      "  validation accuracy:\t\t98.14 %\n",
      "Epoch 22 of 30 took 107.461s"
     ]
    },
    {
     "name": "stderr",
     "output_type": "stream",
     "text": [
      "\r",
      " 73%|███████▎  | 22/30 [39:40<14:23, 107.98s/it]"
     ]
    },
    {
     "name": "stdout",
     "output_type": "stream",
     "text": [
      "\n",
      "  training loss (in-iteration):\t\t0.045996\n",
      "  train accuracy:\t\t99.04 %\n",
      "  validation accuracy:\t\t98.07 %\n",
      "Epoch 23 of 30 took 109.114s"
     ]
    },
    {
     "name": "stderr",
     "output_type": "stream",
     "text": [
      "\r",
      " 77%|███████▋  | 23/30 [41:29<12:38, 108.32s/it]"
     ]
    },
    {
     "name": "stdout",
     "output_type": "stream",
     "text": [
      "\n",
      "  training loss (in-iteration):\t\t0.047371\n",
      "  train accuracy:\t\t98.91 %\n",
      "  validation accuracy:\t\t97.89 %\n",
      "Epoch 24 of 30 took 107.426s"
     ]
    },
    {
     "name": "stderr",
     "output_type": "stream",
     "text": [
      "\r",
      " 80%|████████  | 24/30 [43:17<10:48, 108.05s/it]"
     ]
    },
    {
     "name": "stdout",
     "output_type": "stream",
     "text": [
      "\n",
      "  training loss (in-iteration):\t\t0.046023\n",
      "  train accuracy:\t\t99.12 %\n",
      "  validation accuracy:\t\t98.36 %\n",
      "Epoch 25 of 30 took 109.221s"
     ]
    },
    {
     "name": "stderr",
     "output_type": "stream",
     "text": [
      "\r",
      " 83%|████████▎ | 25/30 [45:06<09:02, 108.40s/it]"
     ]
    },
    {
     "name": "stdout",
     "output_type": "stream",
     "text": [
      "\n",
      "  training loss (in-iteration):\t\t0.046862\n",
      "  train accuracy:\t\t99.08 %\n",
      "  validation accuracy:\t\t97.84 %\n",
      "Epoch 26 of 30 took 107.814s"
     ]
    },
    {
     "name": "stderr",
     "output_type": "stream",
     "text": [
      "\r",
      " 87%|████████▋ | 26/30 [46:54<07:12, 108.23s/it]"
     ]
    },
    {
     "name": "stdout",
     "output_type": "stream",
     "text": [
      "\n",
      "  training loss (in-iteration):\t\t0.050558\n",
      "  train accuracy:\t\t99.04 %\n",
      "  validation accuracy:\t\t97.85 %\n",
      "Epoch 27 of 30 took 108.025s"
     ]
    },
    {
     "name": "stderr",
     "output_type": "stream",
     "text": [
      "\r",
      " 90%|█████████ | 27/30 [48:42<05:24, 108.17s/it]"
     ]
    },
    {
     "name": "stdout",
     "output_type": "stream",
     "text": [
      "\n",
      "  training loss (in-iteration):\t\t0.047304\n",
      "  train accuracy:\t\t99.09 %\n",
      "  validation accuracy:\t\t97.30 %\n",
      "Epoch 28 of 30 took 118.368s"
     ]
    },
    {
     "name": "stderr",
     "output_type": "stream",
     "text": [
      "\r",
      " 93%|█████████▎| 28/30 [50:40<03:42, 111.23s/it]"
     ]
    },
    {
     "name": "stdout",
     "output_type": "stream",
     "text": [
      "\n",
      "  training loss (in-iteration):\t\t0.049988\n",
      "  train accuracy:\t\t99.17 %\n",
      "  validation accuracy:\t\t97.97 %\n",
      "Epoch 29 of 30 took 111.659s"
     ]
    },
    {
     "name": "stderr",
     "output_type": "stream",
     "text": [
      "\r",
      " 97%|█████████▋| 29/30 [52:32<01:51, 111.36s/it]"
     ]
    },
    {
     "name": "stdout",
     "output_type": "stream",
     "text": [
      "\n",
      "  training loss (in-iteration):\t\t0.050968\n",
      "  train accuracy:\t\t99.23 %\n",
      "  validation accuracy:\t\t98.22 %\n",
      "Epoch 30 of 30 took 110.715s"
     ]
    },
    {
     "name": "stderr",
     "output_type": "stream",
     "text": [
      "\r",
      "100%|██████████| 30/30 [54:23<00:00, 111.17s/it]"
     ]
    },
    {
     "name": "stdout",
     "output_type": "stream",
     "text": [
      "\n",
      "  training loss (in-iteration):\t\t0.045756\n",
      "  train accuracy:\t\t99.24 %\n",
      "  validation accuracy:\t\t98.20 %\n"
     ]
    },
    {
     "name": "stderr",
     "output_type": "stream",
     "text": [
      "\n"
     ]
    }
   ],
   "source": [
    "import time\n",
    "from tqdm import tqdm\n",
    "\n",
    "num_epochs = 50 #количество проходов по данным\n",
    "\n",
    "batch_size = 30 #размер мини-батча\n",
    "\n",
    "for epoch in tqdm(range(num_epochs)):\n",
    "    # In each epoch, we do a full pass over the training data:\n",
    "    train_err = 0\n",
    "    train_acc = 0\n",
    "    train_batches = 0\n",
    "    start_time = time.time()\n",
    "    for batch in iterate_minibatches(X_train, y_train, batch_size):\n",
    "        \n",
    "        \n",
    "        inputs, targets = batch\n",
    "        train_err_batch, train_acc_batch= train_fun(inputs, targets)\n",
    "        train_err += train_err_batch\n",
    "        train_acc += train_acc_batch\n",
    "        train_batches += 1\n",
    "\n",
    "    # And a full pass over the validation data:\n",
    "    val_acc = 0\n",
    "    val_batches = 0\n",
    "    for batch in iterate_minibatches(X_val, y_val, batch_size):\n",
    "        inputs, targets = batch\n",
    "        val_acc += accuracy_fun(inputs, targets)\n",
    "        val_batches += 1\n",
    "\n",
    "    \n",
    "    # Then we print the results for this epoch:\n",
    "    print(\"Epoch {} of {} took {:.3f}s\".format(\n",
    "        epoch + 1, num_epochs, time.time() - start_time))\n",
    "\n",
    "    print(\"  training loss (in-iteration):\\t\\t{:.6f}\".format(train_err / train_batches))\n",
    "    print(\"  train accuracy:\\t\\t{:.2f} %\".format(\n",
    "        train_acc / train_batches * 100))\n",
    "    print(\"  validation accuracy:\\t\\t{:.2f} %\".format(\n",
    "        val_acc / val_batches * 100))"
   ]
  },
  {
   "cell_type": "markdown",
   "metadata": {},
   "source": [
    "#### Смотрим на результат обучения"
   ]
  },
  {
   "cell_type": "code",
   "execution_count": 47,
   "metadata": {
    "collapsed": false
   },
   "outputs": [
    {
     "name": "stdout",
     "output_type": "stream",
     "text": [
      "Final results:\n",
      "  test accuracy:\t\t98.19 %\n",
      "Нужно больше магии!\n"
     ]
    }
   ],
   "source": [
    "test_acc = 0\n",
    "test_batches = 0\n",
    "for batch in iterate_minibatches(X_test, y_test, 500):\n",
    "    inputs, targets = batch\n",
    "    acc = accuracy_fun(inputs, targets)\n",
    "    test_acc += acc\n",
    "    test_batches += 1\n",
    "print(\"Final results:\")\n",
    "print(\"  test accuracy:\\t\\t{:.2f} %\".format(\n",
    "    test_acc / test_batches * 100))\n",
    "\n",
    "if test_acc / test_batches * 100 > 99:\n",
    "    print (\"Achievement unlocked: колдун 80 уровня\")\n",
    "else:\n",
    "    print (\"Нужно больше магии!\")"
   ]
  },
  {
   "cell_type": "code",
   "execution_count": 48,
   "metadata": {
    "collapsed": false
   },
   "outputs": [
    {
     "name": "stdout",
     "output_type": "stream",
     "text": [
      "('params: ', [array([[[[ 0.37239787,  0.09370939, -0.33846628],\n",
      "         [ 0.02193911, -0.24531619, -0.41820787],\n",
      "         [-0.44916324,  0.17954343,  0.06180171]]],\n",
      "\n",
      "\n",
      "       [[[-0.79964815,  0.07673521,  0.00286958],\n",
      "         [-0.11488024,  0.05247315,  0.10708176],\n",
      "         [-0.67937882, -0.61700275, -0.33949104]]],\n",
      "\n",
      "\n",
      "       [[[-0.09508422, -0.11845101,  0.06108333],\n",
      "         [ 0.20175539, -0.19327865, -0.27675889],\n",
      "         [-0.18521476, -0.04663817, -0.39625493]]],\n",
      "\n",
      "\n",
      "       [[[-0.35462724, -1.24221189, -1.05920773],\n",
      "         [-0.32598346, -0.24331355, -0.06238262],\n",
      "         [ 0.95888756,  0.35534652, -0.05838728]]],\n",
      "\n",
      "\n",
      "       [[[ 0.72326612,  0.48439249,  0.15746433],\n",
      "         [-0.48090431,  0.26462507, -0.60353025],\n",
      "         [-0.15241259, -0.21409605,  0.08005862]]],\n",
      "\n",
      "\n",
      "       [[[-0.10852301,  0.09750711,  0.3558787 ],\n",
      "         [-0.6426522 ,  0.03597565,  0.6668734 ],\n",
      "         [-0.24464194, -0.14265984, -0.01233112]]],\n",
      "\n",
      "\n",
      "       [[[ 0.2971125 ,  0.23509713,  0.23915601],\n",
      "         [-0.04727541, -0.80086926,  0.64345337],\n",
      "         [-0.11038952, -1.00429547, -0.41051501]]],\n",
      "\n",
      "\n",
      "       [[[-0.17788346, -0.00228872, -0.30274312],\n",
      "         [ 0.64423458,  0.0295802 ,  0.07003366],\n",
      "         [ 0.23545673, -0.48005177, -0.40347839]]]]), array([-0.62084288, -0.27116562, -0.2135216 , -0.07313108, -0.22336966,\n",
      "       -0.10696307,  0.11663501, -0.07280548]), array([[[[  7.90476920e-01,   1.23966561e-01,  -7.97367793e-01],\n",
      "         [  2.64842475e-01,  -8.90217322e-02,  -3.50099243e-02],\n",
      "         [  1.23401285e-03,  -2.02914307e-01,  -2.27130044e-01]],\n",
      "\n",
      "        [[ -5.08928269e-01,  -2.97196805e-01,   4.56564086e-01],\n",
      "         [ -2.64813114e-01,  -5.36614883e-01,  -1.47004030e+00],\n",
      "         [  3.58192510e-01,   3.97036837e-01,   2.00759451e-02]],\n",
      "\n",
      "        [[  1.97628552e-02,  -1.44068318e-01,  -3.01183051e-01],\n",
      "         [  1.34262662e-01,  -3.70471171e-02,  -2.67371738e-01],\n",
      "         [ -1.65870914e-01,   2.30895406e-01,   1.26203432e-01]],\n",
      "\n",
      "        [[  5.42656262e-03,   7.68456795e-01,   3.41171793e-01],\n",
      "         [  6.72237738e-01,   6.50690190e-01,  -3.11852042e-01],\n",
      "         [  5.65930994e-01,   7.40638182e-01,   4.26691396e-01]],\n",
      "\n",
      "        [[  6.45746532e-01,  -2.36645747e+00,  -2.23251144e+00],\n",
      "         [ -2.48828012e-03,   1.64598807e-01,   6.44838618e-01],\n",
      "         [ -6.65741100e-01,   1.12881264e-01,   1.27716516e-01]],\n",
      "\n",
      "        [[ -2.23830706e+00,  -7.68859410e-01,   1.95834736e+00],\n",
      "         [  1.22774225e+00,  -1.32317357e+00,   3.18694722e-01],\n",
      "         [  1.74542652e-01,  -1.02858205e+00,   1.55982377e-01]],\n",
      "\n",
      "        [[ -9.73820030e-02,   1.65523352e+00,   2.21694705e-01],\n",
      "         [ -3.36412638e+00,  -3.53539716e+00,  -3.46884977e+00],\n",
      "         [  1.61975306e-01,   5.97515434e-01,  -4.12390794e-01]],\n",
      "\n",
      "        [[  2.24879104e+00,  -2.42637302e-01,  -3.00132968e+00],\n",
      "         [ -2.04009451e+00,   4.27322216e-01,  -1.19498990e+00],\n",
      "         [  4.53975017e-01,   8.64280682e-01,  -5.88633495e-01]]],\n",
      "\n",
      "\n",
      "       [[[ -3.94336695e-01,  -4.85539838e-01,   1.15232373e-01],\n",
      "         [ -4.25381054e-01,  -3.12783311e-02,   1.82559300e-02],\n",
      "         [  1.54883823e-01,   1.26177603e-01,  -4.41582625e-01]],\n",
      "\n",
      "        [[ -2.65460153e-01,   1.10571942e-01,   1.04618545e-01],\n",
      "         [ -8.65276268e-02,   2.56548200e-01,  -5.50496782e-01],\n",
      "         [ -2.91069856e-01,  -4.13335149e-01,  -4.29449949e-01]],\n",
      "\n",
      "        [[ -2.95153700e-02,  -1.65642220e-01,  -8.12113389e-02],\n",
      "         [ -7.32462188e-03,   2.28526097e-01,   1.53571036e-01],\n",
      "         [ -2.21985839e-01,  -5.46256842e-02,   1.00651095e-02]],\n",
      "\n",
      "        [[  1.25092813e+00,  -1.29955038e+00,  -4.45009070e+00],\n",
      "         [ -1.16926631e+00,  -2.47885287e+00,  -2.55760780e+00],\n",
      "         [ -2.02020744e+00,   7.55463870e-01,  -4.13726494e-01]],\n",
      "\n",
      "        [[ -3.04886904e-01,   3.32264443e-01,  -2.15207056e-01],\n",
      "         [ -1.20264351e+00,   6.05488111e-01,   9.30558389e-01],\n",
      "         [  3.10779497e-01,   9.18105028e-02,  -8.73647099e-01]],\n",
      "\n",
      "        [[  4.03104512e-02,   1.33795980e+00,  -3.42077955e-01],\n",
      "         [ -4.66854357e-01,   1.17845634e+00,  -7.90075486e-01],\n",
      "         [ -4.79117049e-01,  -9.88212166e-01,  -2.31352068e+00]],\n",
      "\n",
      "        [[ -2.10363041e+00,  -2.53483114e+00,   8.29887867e-01],\n",
      "         [ -1.49040829e+00,   4.64545217e-01,   1.25862860e+00],\n",
      "         [ -9.45795878e-01,  -1.97811722e-01,   1.20377690e+00]],\n",
      "\n",
      "        [[ -1.81912687e+00,   4.09014337e-01,   3.17509441e-01],\n",
      "         [ -2.59301792e-01,   7.58419285e-01,  -4.98690427e-01],\n",
      "         [  1.60867143e-01,   3.67994664e-02,   5.51662182e-01]]],\n",
      "\n",
      "\n",
      "       [[[  4.22577948e-01,   4.28442236e-01,   2.74375787e-01],\n",
      "         [  1.72503290e-01,  -7.42804324e-02,  -6.27923331e-01],\n",
      "         [ -9.42551006e-01,  -1.38767194e+00,  -1.00252883e+00]],\n",
      "\n",
      "        [[ -1.75462827e-01,  -5.16946457e-01,  -5.54000011e-01],\n",
      "         [ -3.00021003e-01,  -1.26562909e-01,  -2.76085481e-01],\n",
      "         [ -3.13589296e-01,   6.65033116e-01,   1.09274990e+00]],\n",
      "\n",
      "        [[  1.75425962e-01,   2.73251696e-01,  -1.74094397e-02],\n",
      "         [ -1.73691801e-01,  -1.05645493e-01,  -3.05179292e-01],\n",
      "         [ -2.98090264e-01,  -4.46972598e-01,  -3.33055587e-01]],\n",
      "\n",
      "        [[ -5.19319634e-01,  -2.64601637e+00,  -3.53948660e-01],\n",
      "         [ -1.39123202e+00,  -5.52142669e-01,   1.67435561e+00],\n",
      "         [ -1.44777735e+00,  -1.78542269e-02,   1.06010019e+00]],\n",
      "\n",
      "        [[  1.59675033e+00,   4.56921915e-01,  -4.34030963e-01],\n",
      "         [  7.15244262e-01,   7.38835326e-01,  -2.54744706e+00],\n",
      "         [ -1.34923321e+00,  -1.99520219e+00,  -3.49391279e+00]],\n",
      "\n",
      "        [[  1.38538413e+00,  -6.63972803e-01,  -1.56163637e+00],\n",
      "         [ -3.08473195e+00,  -1.75747571e+00,  -4.40640738e+00],\n",
      "         [  5.87971307e-01,   1.89181162e+00,  -5.28809035e-01]],\n",
      "\n",
      "        [[  4.04085378e-01,  -5.69989806e-01,  -7.74470124e-01],\n",
      "         [ -3.07097161e-01,   7.52743772e-01,   1.07739943e+00],\n",
      "         [ -1.19227894e+00,   3.28006062e-01,   1.09576936e-01]],\n",
      "\n",
      "        [[  1.27059461e+00,   6.20726785e-01,  -2.25989460e-01],\n",
      "         [ -7.73672805e-01,   3.19012380e-02,  -2.84783221e+00],\n",
      "         [ -8.73138001e-01,  -1.56673345e+00,   1.27096596e+00]]],\n",
      "\n",
      "\n",
      "       [[[  2.43009742e-01,  -1.71294605e-01,   2.00624025e-01],\n",
      "         [ -1.01575689e+00,  -8.89557356e-01,  -3.10174318e-01],\n",
      "         [ -1.02521858e+00,  -1.32307457e+00,  -1.31833355e+00]],\n",
      "\n",
      "        [[  1.31543543e-01,   2.84727209e-01,   2.16585799e-01],\n",
      "         [  4.41378878e-01,   6.80955002e-01,   1.74050845e-01],\n",
      "         [ -4.28873204e-01,   1.52374972e-01,  -9.78291912e-01]],\n",
      "\n",
      "        [[ -1.61453842e-01,  -1.02077868e-02,   1.83249170e-01],\n",
      "         [ -1.26700321e-01,   1.17800191e-02,  -1.70075332e-01],\n",
      "         [ -3.40197162e-01,  -3.95668932e-01,  -3.64995659e-01]],\n",
      "\n",
      "        [[ -3.60638808e+00,  -6.81264455e-02,  -1.80247193e+00],\n",
      "         [  3.23746384e-01,   7.75722477e-01,  -1.96559996e+00],\n",
      "         [  7.82167877e-01,   1.44662579e-01,   1.17674623e+00]],\n",
      "\n",
      "        [[  4.14420002e-01,   1.66551835e+00,   6.48449985e-01],\n",
      "         [ -2.22922428e+00,  -1.15563346e-01,   1.34460246e+00],\n",
      "         [ -5.38544176e+00,  -5.12145948e+00,  -3.48758102e+00]],\n",
      "\n",
      "        [[  1.12231402e-01,   1.58927361e+00,   6.19773062e-01],\n",
      "         [ -7.43495340e-01,  -1.12176845e+00,  -1.25605597e+00],\n",
      "         [ -1.39186510e+00,  -1.50276143e+00,  -9.85964613e-01]],\n",
      "\n",
      "        [[ -2.19676439e-01,  -7.11333189e-01,  -1.55205953e-01],\n",
      "         [  4.19181636e-01,   5.67537726e-01,  -3.22536883e-01],\n",
      "         [ -3.93223563e-01,  -1.56092777e-01,  -4.03248603e-01]],\n",
      "\n",
      "        [[ -9.55787982e-01,  -1.12158873e+00,   3.84507894e-01],\n",
      "         [ -1.55056508e+00,  -1.16826442e+00,   6.81950799e-01],\n",
      "         [  1.78745367e+00,  -1.74524233e-01,   2.14567208e-01]]],\n",
      "\n",
      "\n",
      "       [[[ -3.86910906e-01,   5.05046113e-01,   4.73074151e-01],\n",
      "         [ -3.10128906e-01,   2.44899280e-01,   1.81446109e-01],\n",
      "         [ -2.57086541e-01,  -1.25448802e-01,   4.17834190e-02]],\n",
      "\n",
      "        [[  5.63721055e-01,  -2.21498435e-01,  -1.12721249e-01],\n",
      "         [  6.04069750e-01,   4.33637780e-02,  -1.09975360e-01],\n",
      "         [ -8.00277461e-01,  -4.21901917e-01,  -1.83373861e-01]],\n",
      "\n",
      "        [[ -6.60154640e-02,   2.63592170e-01,   4.69539314e-02],\n",
      "         [ -3.20045911e-02,   1.32077423e-01,  -4.00910724e-02],\n",
      "         [ -1.18066162e-01,  -6.66260720e-02,   1.04266422e-01]],\n",
      "\n",
      "        [[ -2.96235014e+00,  -7.38830046e-01,   5.50751080e-01],\n",
      "         [ -3.79837278e+00,  -3.88947654e-01,   1.24394762e-01],\n",
      "         [ -2.99051373e+00,  -2.86626081e-01,   1.30097842e+00]],\n",
      "\n",
      "        [[ -3.65212829e-01,   6.87968347e-01,   2.94441148e-01],\n",
      "         [ -4.32693437e-01,   1.06149759e+00,  -9.88523398e-02],\n",
      "         [ -1.85358467e-02,   4.69635819e-01,  -1.70862607e+00]],\n",
      "\n",
      "        [[  1.02035003e-01,  -1.84904034e+00,  -1.10266324e+00],\n",
      "         [ -4.42488821e-02,  -2.85588989e+00,  -1.60646719e+00],\n",
      "         [  1.44979000e-01,  -3.20450062e+00,  -1.90286470e+00]],\n",
      "\n",
      "        [[  9.85230650e-01,  -2.78396888e+00,   4.61113173e-01],\n",
      "         [ -9.43144506e-01,  -3.96884572e+00,   5.41818434e-01],\n",
      "         [ -7.80443910e-01,  -1.31361094e+00,  -4.70449936e-03]],\n",
      "\n",
      "        [[ -1.24207761e+00,   7.83720394e-01,   1.07533656e+00],\n",
      "         [ -1.29911500e+00,  -9.81000819e-01,   1.32073393e+00],\n",
      "         [ -1.89032653e+00,   1.44477493e-01,   9.63780945e-01]]],\n",
      "\n",
      "\n",
      "       [[[  2.01797413e-01,   3.24139187e-01,  -1.06097166e-01],\n",
      "         [ -3.00482275e-01,   5.21813702e-02,   8.54700553e-02],\n",
      "         [ -8.51887865e-01,  -3.89888427e-01,  -1.35107022e-01]],\n",
      "\n",
      "        [[ -1.90641065e-01,  -1.59535292e-01,  -4.47940015e-01],\n",
      "         [  1.10827803e-01,  -8.07000523e-01,  -2.93106961e-01],\n",
      "         [  3.97404705e-01,   4.59326822e-01,  -6.66010114e-01]],\n",
      "\n",
      "        [[ -2.19295780e-01,  -6.36480975e-02,   1.61698006e-01],\n",
      "         [ -6.96399788e-02,  -1.71337734e-01,  -5.86561756e-02],\n",
      "         [  1.31366549e-02,   1.00975108e-01,  -2.04541267e-01]],\n",
      "\n",
      "        [[ -2.86910737e-01,  -1.88087164e-01,   6.77769162e-01],\n",
      "         [ -3.78146368e+00,  -2.31645033e-01,   6.76670019e-01],\n",
      "         [ -7.30692856e-01,  -2.45988288e+00,  -3.78116992e-01]],\n",
      "\n",
      "        [[  1.61410338e-01,  -1.10853554e+00,   1.27899083e+00],\n",
      "         [  3.15061984e-01,  -3.63944977e-01,  -2.77055454e-01],\n",
      "         [  9.54149721e-01,   1.69291135e-01,  -6.67863760e-01]],\n",
      "\n",
      "        [[  8.04363566e-02,   4.12879916e-01,  -1.79953362e+00],\n",
      "         [ -5.82672388e-01,   9.44799745e-02,  -1.05446998e+00],\n",
      "         [  1.48025878e+00,   1.29322543e-01,   6.62744718e-01]],\n",
      "\n",
      "        [[ -1.05720110e+00,  -2.47003041e+00,   1.92336813e+00],\n",
      "         [  5.49976504e-01,  -4.19349809e+00,  -3.50738827e+00],\n",
      "         [  1.68322614e+00,  -1.16396446e+00,  -1.71124437e+00]],\n",
      "\n",
      "        [[ -9.86655776e-01,   1.32860189e+00,   1.15541993e+00],\n",
      "         [  7.01641609e-01,  -8.73949051e-01,   1.12409127e+00],\n",
      "         [ -4.30978830e-01,  -6.18432190e-01,  -1.31801903e+00]]],\n",
      "\n",
      "\n",
      "       [[[ -1.12042754e-01,  -2.95769929e-02,   5.44929416e-01],\n",
      "         [  3.28296700e-01,  -1.12237392e-01,   1.66339165e-01],\n",
      "         [  3.24183887e-01,  -9.38958932e-01,   1.08752104e-01]],\n",
      "\n",
      "        [[  6.18153642e-01,   4.71566346e-01,   3.72177834e-01],\n",
      "         [ -3.96277504e-01,   4.59473190e-01,  -2.86410883e-01],\n",
      "         [ -1.19041204e+00,  -9.20386946e-01,  -6.91610185e-01]],\n",
      "\n",
      "        [[  1.86053651e-02,  -2.33009698e-01,  -1.62876386e-01],\n",
      "         [  9.46402456e-02,  -1.74416939e-01,  -1.26357884e-01],\n",
      "         [  4.47520747e-02,  -3.12313291e-01,   7.18189016e-02]],\n",
      "\n",
      "        [[  2.36848405e-01,  -2.78264003e+00,  -5.36549970e+00],\n",
      "         [ -1.16020620e+00,   1.77986771e+00,  -2.10328913e+00],\n",
      "         [  3.73551626e-01,  -7.08202513e-01,  -3.31670305e+00]],\n",
      "\n",
      "        [[ -3.46278031e-01,   1.48202097e+00,   3.20219907e-01],\n",
      "         [  1.94680839e-01,   1.22512548e+00,  -3.62411880e-01],\n",
      "         [ -9.52033795e-01,  -2.89324815e+00,  -1.77076121e-01]],\n",
      "\n",
      "        [[  2.30086826e-01,   1.47303655e+00,  -3.10328237e-02],\n",
      "         [ -2.16454700e+00,   1.78287349e+00,  -5.73172096e-02],\n",
      "         [  1.65970297e-01,   3.57165353e-02,  -6.26605777e-01]],\n",
      "\n",
      "        [[  1.73838685e+00,   3.77647368e-01,  -2.53530422e+00],\n",
      "         [ -7.69365590e-01,   7.39668979e-02,  -6.96018092e+00],\n",
      "         [ -3.58067347e+00,  -1.07545927e+00,  -2.06841911e+00]],\n",
      "\n",
      "        [[  1.29870970e+00,  -8.78370721e-01,  -9.18784491e-01],\n",
      "         [  5.51616018e-01,  -1.65183799e+00,  -2.02760266e+00],\n",
      "         [  8.44496411e-01,  -1.95439308e+00,   2.72267635e+00]]],\n",
      "\n",
      "\n",
      "       [[[  1.85817175e-01,  -1.15952725e+00,  -6.77802530e-01],\n",
      "         [ -1.51354587e-01,  -1.03164860e+00,  -7.32144225e-01],\n",
      "         [ -7.27994941e-01,  -1.21740355e+00,  -2.52587325e-01]],\n",
      "\n",
      "        [[ -4.37288647e-01,   3.21498270e-01,  -7.58912924e-01],\n",
      "         [ -2.39160088e-01,   1.67855282e-01,   4.41580645e-01],\n",
      "         [  4.97625004e-01,   2.31385555e-01,   3.44041229e-01]],\n",
      "\n",
      "        [[ -9.19452670e-02,  -1.39680779e-01,  -1.32248439e-02],\n",
      "         [  4.65033700e-03,  -2.76188677e-01,  -8.82768101e-03],\n",
      "         [ -2.27229511e-01,  -3.27579456e-01,  -3.28679578e-01]],\n",
      "\n",
      "        [[ -1.11329830e-01,  -8.05480706e-01,   3.84890934e-01],\n",
      "         [ -9.71848627e-01,  -2.00014941e+00,   6.97867304e-01],\n",
      "         [ -1.72374197e+00,  -5.32092975e-01,  -1.08134645e+00]],\n",
      "\n",
      "        [[  4.20040708e-01,  -2.57855681e+00,  -1.57215789e-01],\n",
      "         [ -3.57859112e+00,  -4.23224974e+00,   1.08437692e+00],\n",
      "         [ -2.52431566e+00,  -1.48521392e+00,   1.25500496e-01]],\n",
      "\n",
      "        [[ -2.53869748e+00,  -6.23880417e-01,   7.10240062e-01],\n",
      "         [ -1.25202739e+00,   1.29258997e-01,   6.51433629e-01],\n",
      "         [ -1.16209533e+00,   1.05543835e+00,   6.20228460e-01]],\n",
      "\n",
      "        [[ -2.24014191e-01,  -7.67327254e-01,  -2.42027044e+00],\n",
      "         [  1.01322734e+00,   3.05742423e-01,   6.98984894e-01],\n",
      "         [  1.08034583e+00,  -8.31395117e-01,   4.57213147e-01]],\n",
      "\n",
      "        [[ -1.52850920e-01,  -1.48514841e+00,  -2.26315055e+00],\n",
      "         [ -1.91490247e-01,  -1.35724032e-01,  -8.78563867e-01],\n",
      "         [ -1.72344454e-01,  -8.30584032e-01,  -1.30256500e+00]]]]), array([-0.35488685, -0.35602862, -0.00258321, -0.01320649,  0.1468829 ,\n",
      "       -0.17693685, -0.08999431, -0.05267206]), array([[-0.0325409 , -0.03186566, -0.27836919, ...,  0.07936274,\n",
      "        -0.11631968,  0.02544691],\n",
      "       [ 0.00308496, -0.03761291, -0.15208939, ..., -0.06413779,\n",
      "        -0.02295907,  0.05243379],\n",
      "       [ 0.10201918, -0.18945548, -0.04075181, ...,  0.08078414,\n",
      "        -0.04463043,  0.20032636],\n",
      "       ..., \n",
      "       [-1.79719099, -0.71678267, -1.39322835, ..., -0.91657435,\n",
      "        -2.4948059 , -0.88643675],\n",
      "       [-1.58064869,  0.19677517, -0.31487276, ..., -0.57212497,\n",
      "        -0.56871671,  1.66972487],\n",
      "       [-0.20676862, -0.63282329,  0.32456757, ..., -1.21828384,\n",
      "        -0.00413717,  0.14917358]]), array([-4.17778963,  0.55511684,  1.57137451,  0.43898055, -2.46167126,\n",
      "        0.20465045, -4.05107101, -1.21727769, -2.56396689, -1.24415671])])\n"
     ]
    }
   ],
   "source": [
    "# теперь попробуем вывести все веса нашей сети\n",
    "print(\"params: \", lasagne.layers.get_all_param_values(dense_output))"
   ]
  },
  {
   "cell_type": "code",
   "execution_count": null,
   "metadata": {
    "collapsed": true
   },
   "outputs": [],
   "source": []
  }
 ],
 "metadata": {
  "kernelspec": {
   "display_name": "Python 2",
   "language": "python",
   "name": "python2"
  },
  "language_info": {
   "codemirror_mode": {
    "name": "ipython",
    "version": 2
   },
   "file_extension": ".py",
   "mimetype": "text/x-python",
   "name": "python",
   "nbconvert_exporter": "python",
   "pygments_lexer": "ipython2",
   "version": "2.7.13"
  }
 },
 "nbformat": 4,
 "nbformat_minor": 2
}
