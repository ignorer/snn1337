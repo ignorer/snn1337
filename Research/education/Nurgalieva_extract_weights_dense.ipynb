{
 "cells": [
  {
   "cell_type": "code",
   "execution_count": 1,
   "metadata": {
    "collapsed": false
   },
   "outputs": [],
   "source": [
    "import numpy as np\n",
    "import theano\n",
    "import theano.tensor as T\n",
    "import lasagne\n",
    "import matplotlib.pyplot as plt\n",
    "%matplotlib inline"
   ]
  },
  {
   "cell_type": "code",
   "execution_count": 2,
   "metadata": {
    "collapsed": false
   },
   "outputs": [
    {
     "name": "stdout",
     "output_type": "stream",
     "text": [
      "((50000, 1, 28, 28), (50000,))\n"
     ]
    }
   ],
   "source": [
    "from mnist import load_dataset\n",
    "X_train,y_train,X_val,y_val,X_test,y_test = load_dataset()\n",
    "\n",
    "print (X_train.shape,y_train.shape)"
   ]
  },
  {
   "cell_type": "code",
   "execution_count": 3,
   "metadata": {
    "collapsed": false
   },
   "outputs": [],
   "source": [
    "input_X = T.tensor4(\"X\")\n",
    "input_shape = [None,1,28,28]\n",
    "target_y = T.vector(\"target Y integer\",dtype='int32')"
   ]
  },
  {
   "cell_type": "markdown",
   "metadata": {},
   "source": [
    "#### То же самое сделаем для полносвязной сети"
   ]
  },
  {
   "cell_type": "code",
   "execution_count": 4,
   "metadata": {
    "collapsed": false
   },
   "outputs": [],
   "source": [
    "input_layer = lasagne.layers.InputLayer(shape = input_shape,input_var=input_X)\n",
    "\n",
    "dense_1 = lasagne.layers.DenseLayer(input_layer, num_units=128, \n",
    "                                    nonlinearity=lasagne.nonlinearities.rectify,\n",
    "                                   name='dense_1', b=None)\n",
    "\n",
    "dense_2 = lasagne.layers.DenseLayer(dense_1, num_units=256, \n",
    "                                    nonlinearity=lasagne.nonlinearities.rectify,\n",
    "                                   name='dense_2', b=None)\n",
    "\n",
    "dense_3 = lasagne.layers.DenseLayer(dense_2, num_units=64, \n",
    "                                    nonlinearity=lasagne.nonlinearities.rectify,\n",
    "                                   name='dense_2', b=None)\n",
    "\n",
    "dense_output = lasagne.layers.DenseLayer(dense_3, num_units = 10,\n",
    "                                        nonlinearity = lasagne.nonlinearities.softmax,\n",
    "                                        name='output', b=None)"
   ]
  },
  {
   "cell_type": "code",
   "execution_count": 5,
   "metadata": {
    "collapsed": true
   },
   "outputs": [],
   "source": [
    "y_predicted = lasagne.layers.get_output(dense_output)"
   ]
  },
  {
   "cell_type": "code",
   "execution_count": 6,
   "metadata": {
    "collapsed": false
   },
   "outputs": [
    {
     "name": "stdout",
     "output_type": "stream",
     "text": [
      "[dense_1.W, dense_2.W, dense_2.W, output.W]\n"
     ]
    }
   ],
   "source": [
    "all_weights = lasagne.layers.get_all_params(dense_output)\n",
    "print (all_weights)"
   ]
  },
  {
   "cell_type": "code",
   "execution_count": 7,
   "metadata": {
    "collapsed": false
   },
   "outputs": [],
   "source": [
    "# добавим регуляризацию\n",
    "reg_1 = lasagne.regularization.regularize_network_params(dense_1, lasagne.regularization.l2)\n",
    "\n",
    "loss = lasagne.objectives.categorical_crossentropy(y_predicted,target_y).mean() + reg_1\n",
    "accuracy = lasagne.objectives.categorical_accuracy(y_predicted,target_y).mean()\n",
    "updates = lasagne.updates.adadelta(loss, all_weights,learning_rate=0.01)"
   ]
  },
  {
   "cell_type": "code",
   "execution_count": 8,
   "metadata": {
    "collapsed": false
   },
   "outputs": [
    {
     "name": "stderr",
     "output_type": "stream",
     "text": [
      "WARNING:theano.tensor.blas:We did not found a dynamic library into the library_dir of the library we use for blas. If you use ATLAS, make sure to compile it with dynamics library.\n"
     ]
    }
   ],
   "source": [
    "train_fun = theano.function([input_X,target_y],[loss,accuracy],updates= updates)\n",
    "accuracy_fun = theano.function([input_X,target_y],accuracy)"
   ]
  },
  {
   "cell_type": "code",
   "execution_count": 9,
   "metadata": {
    "collapsed": true
   },
   "outputs": [],
   "source": [
    "from random import shuffle\n",
    "import math\n",
    "\n",
    "def iterate_minibatches(X, y, batchsize):\n",
    "    \n",
    "    indices = np.arange(len(X))\n",
    "    np.random.shuffle(indices)\n",
    "    for start_idx in range(0, len(X) - batchsize + 1, batchsize):\n",
    "        excerpt = indices[start_idx:start_idx + batchsize]\n",
    "        yield X[excerpt], y[excerpt]"
   ]
  },
  {
   "cell_type": "code",
   "execution_count": 10,
   "metadata": {
    "collapsed": false
   },
   "outputs": [
    {
     "name": "stderr",
     "output_type": "stream",
     "text": [
      "  1%|          | 1/150 [00:08<20:41,  8.33s/it]"
     ]
    },
    {
     "name": "stdout",
     "output_type": "stream",
     "text": [
      "Epoch 1 of 150 took 8.332s\n",
      "  training loss (in-iteration):\t\t91.882278\n",
      "  train accuracy:\t\t48.01 %\n",
      "  validation accuracy:\t\t68.92 %\n",
      "Epoch 2 of 150 took 7.957s"
     ]
    },
    {
     "name": "stderr",
     "output_type": "stream",
     "text": [
      "\r",
      "  1%|▏         | 2/150 [00:16<20:16,  8.22s/it]"
     ]
    },
    {
     "name": "stdout",
     "output_type": "stream",
     "text": [
      "\n",
      "  training loss (in-iteration):\t\t4.489486\n",
      "  train accuracy:\t\t72.38 %\n",
      "  validation accuracy:\t\t80.77 %\n",
      "Epoch 3 of 150 took 8.024s"
     ]
    },
    {
     "name": "stderr",
     "output_type": "stream",
     "text": [
      "\r",
      "  2%|▏         | 3/150 [00:24<19:59,  8.16s/it]"
     ]
    },
    {
     "name": "stdout",
     "output_type": "stream",
     "text": [
      "\n",
      "  training loss (in-iteration):\t\t1.157662\n",
      "  train accuracy:\t\t80.84 %\n",
      "  validation accuracy:\t\t84.90 %\n",
      "Epoch 4 of 150 took 8.701s"
     ]
    },
    {
     "name": "stderr",
     "output_type": "stream",
     "text": [
      "\r",
      "  3%|▎         | 4/150 [00:33<20:15,  8.32s/it]"
     ]
    },
    {
     "name": "stdout",
     "output_type": "stream",
     "text": [
      "\n",
      "  training loss (in-iteration):\t\t0.952203\n",
      "  train accuracy:\t\t84.15 %\n",
      "  validation accuracy:\t\t86.56 %\n",
      "Epoch 5 of 150 took 8.186s"
     ]
    },
    {
     "name": "stderr",
     "output_type": "stream",
     "text": [
      "\r",
      "  3%|▎         | 5/150 [00:41<20:00,  8.28s/it]"
     ]
    },
    {
     "name": "stdout",
     "output_type": "stream",
     "text": [
      "\n",
      "  training loss (in-iteration):\t\t0.827484\n",
      "  train accuracy:\t\t85.94 %\n",
      "  validation accuracy:\t\t88.04 %\n",
      "Epoch 6 of 150 took 9.013s"
     ]
    },
    {
     "name": "stderr",
     "output_type": "stream",
     "text": [
      "\r",
      "  4%|▍         | 6/150 [00:50<20:24,  8.50s/it]"
     ]
    },
    {
     "name": "stdout",
     "output_type": "stream",
     "text": [
      "\n",
      "  training loss (in-iteration):\t\t0.744775\n",
      "  train accuracy:\t\t87.10 %\n",
      "  validation accuracy:\t\t89.00 %\n",
      "Epoch 7 of 150 took 8.071s"
     ]
    },
    {
     "name": "stderr",
     "output_type": "stream",
     "text": [
      "\r",
      "  5%|▍         | 7/150 [00:58<19:57,  8.37s/it]"
     ]
    },
    {
     "name": "stdout",
     "output_type": "stream",
     "text": [
      "\n",
      "  training loss (in-iteration):\t\t0.685765\n",
      "  train accuracy:\t\t87.74 %\n",
      "  validation accuracy:\t\t88.96 %\n",
      "Epoch 8 of 150 took 8.450s"
     ]
    },
    {
     "name": "stderr",
     "output_type": "stream",
     "text": [
      "\r",
      "  5%|▌         | 8/150 [01:06<19:52,  8.40s/it]"
     ]
    },
    {
     "name": "stdout",
     "output_type": "stream",
     "text": [
      "\n",
      "  training loss (in-iteration):\t\t0.640772\n",
      "  train accuracy:\t\t88.39 %\n",
      "  validation accuracy:\t\t89.57 %\n",
      "Epoch 9 of 150 took 8.171s"
     ]
    },
    {
     "name": "stderr",
     "output_type": "stream",
     "text": [
      "\r",
      "  6%|▌         | 9/150 [01:14<19:34,  8.33s/it]"
     ]
    },
    {
     "name": "stdout",
     "output_type": "stream",
     "text": [
      "\n",
      "  training loss (in-iteration):\t\t0.605709\n",
      "  train accuracy:\t\t88.82 %\n",
      "  validation accuracy:\t\t90.00 %\n",
      "Epoch 10 of 150 took 8.689s"
     ]
    },
    {
     "name": "stderr",
     "output_type": "stream",
     "text": [
      "\r",
      "  7%|▋         | 10/150 [01:23<19:41,  8.44s/it]"
     ]
    },
    {
     "name": "stdout",
     "output_type": "stream",
     "text": [
      "\n",
      "  training loss (in-iteration):\t\t0.577652\n",
      "  train accuracy:\t\t89.15 %\n",
      "  validation accuracy:\t\t90.28 %\n",
      "Epoch 11 of 150 took 8.051s"
     ]
    },
    {
     "name": "stderr",
     "output_type": "stream",
     "text": [
      "\r",
      "  7%|▋         | 11/150 [01:31<19:16,  8.32s/it]"
     ]
    },
    {
     "name": "stdout",
     "output_type": "stream",
     "text": [
      "\n",
      "  training loss (in-iteration):\t\t0.554073\n",
      "  train accuracy:\t\t89.39 %\n",
      "  validation accuracy:\t\t90.78 %\n",
      "Epoch 12 of 150 took 8.059s"
     ]
    },
    {
     "name": "stderr",
     "output_type": "stream",
     "text": [
      "\r",
      "  8%|▊         | 12/150 [01:39<18:57,  8.24s/it]"
     ]
    },
    {
     "name": "stdout",
     "output_type": "stream",
     "text": [
      "\n",
      "  training loss (in-iteration):\t\t0.533018\n",
      "  train accuracy:\t\t89.69 %\n",
      "  validation accuracy:\t\t91.06 %\n",
      "Epoch 13 of 150 took 8.903s"
     ]
    },
    {
     "name": "stderr",
     "output_type": "stream",
     "text": [
      "\r",
      "  9%|▊         | 13/150 [01:48<19:16,  8.44s/it]"
     ]
    },
    {
     "name": "stdout",
     "output_type": "stream",
     "text": [
      "\n",
      "  training loss (in-iteration):\t\t0.514837\n",
      "  train accuracy:\t\t90.06 %\n",
      "  validation accuracy:\t\t91.27 %\n",
      "Epoch 14 of 150 took 7.919s"
     ]
    },
    {
     "name": "stderr",
     "output_type": "stream",
     "text": [
      "\r",
      "  9%|▉         | 14/150 [01:56<18:46,  8.29s/it]"
     ]
    },
    {
     "name": "stdout",
     "output_type": "stream",
     "text": [
      "\n",
      "  training loss (in-iteration):\t\t0.498433\n",
      "  train accuracy:\t\t90.35 %\n",
      "  validation accuracy:\t\t91.54 %\n",
      "Epoch 15 of 150 took 8.463s"
     ]
    },
    {
     "name": "stderr",
     "output_type": "stream",
     "text": [
      "\r",
      " 10%|█         | 15/150 [02:05<18:45,  8.34s/it]"
     ]
    },
    {
     "name": "stdout",
     "output_type": "stream",
     "text": [
      "\n",
      "  training loss (in-iteration):\t\t0.484200\n",
      "  train accuracy:\t\t90.51 %\n",
      "  validation accuracy:\t\t91.97 %\n",
      "Epoch 16 of 150 took 8.510s"
     ]
    },
    {
     "name": "stderr",
     "output_type": "stream",
     "text": [
      "\r",
      " 11%|█         | 16/150 [02:13<18:44,  8.39s/it]"
     ]
    },
    {
     "name": "stdout",
     "output_type": "stream",
     "text": [
      "\n",
      "  training loss (in-iteration):\t\t0.470222\n",
      "  train accuracy:\t\t90.85 %\n",
      "  validation accuracy:\t\t91.51 %\n",
      "Epoch 17 of 150 took 8.902s"
     ]
    },
    {
     "name": "stderr",
     "output_type": "stream",
     "text": [
      "\r",
      " 11%|█▏        | 17/150 [02:22<18:56,  8.54s/it]"
     ]
    },
    {
     "name": "stdout",
     "output_type": "stream",
     "text": [
      "\n",
      "  training loss (in-iteration):\t\t0.457710\n",
      "  train accuracy:\t\t91.05 %\n",
      "  validation accuracy:\t\t92.03 %\n",
      "Epoch 18 of 150 took 9.491s"
     ]
    },
    {
     "name": "stderr",
     "output_type": "stream",
     "text": [
      "\r",
      " 12%|█▏        | 18/150 [02:31<19:25,  8.83s/it]"
     ]
    },
    {
     "name": "stdout",
     "output_type": "stream",
     "text": [
      "\n",
      "  training loss (in-iteration):\t\t0.446540\n",
      "  train accuracy:\t\t91.27 %\n",
      "  validation accuracy:\t\t92.45 %\n",
      "Epoch 19 of 150 took 10.619s"
     ]
    },
    {
     "name": "stderr",
     "output_type": "stream",
     "text": [
      "\r",
      " 13%|█▎        | 19/150 [02:42<20:26,  9.37s/it]"
     ]
    },
    {
     "name": "stdout",
     "output_type": "stream",
     "text": [
      "\n",
      "  training loss (in-iteration):\t\t0.435866\n",
      "  train accuracy:\t\t91.50 %\n",
      "  validation accuracy:\t\t92.68 %\n",
      "Epoch 20 of 150 took 11.093s"
     ]
    },
    {
     "name": "stderr",
     "output_type": "stream",
     "text": [
      "\r",
      " 13%|█▎        | 20/150 [02:53<21:25,  9.88s/it]"
     ]
    },
    {
     "name": "stdout",
     "output_type": "stream",
     "text": [
      "\n",
      "  training loss (in-iteration):\t\t0.425234\n",
      "  train accuracy:\t\t91.66 %\n",
      "  validation accuracy:\t\t92.80 %\n",
      "Epoch 21 of 150 took 9.661s"
     ]
    },
    {
     "name": "stderr",
     "output_type": "stream",
     "text": [
      "\r",
      " 14%|█▍        | 21/150 [03:03<21:06,  9.82s/it]"
     ]
    },
    {
     "name": "stdout",
     "output_type": "stream",
     "text": [
      "\n",
      "  training loss (in-iteration):\t\t0.415195\n",
      "  train accuracy:\t\t91.96 %\n",
      "  validation accuracy:\t\t92.73 %\n",
      "Epoch 22 of 150 took 9.763s"
     ]
    },
    {
     "name": "stderr",
     "output_type": "stream",
     "text": [
      "\r",
      " 15%|█▍        | 22/150 [03:13<20:54,  9.80s/it]"
     ]
    },
    {
     "name": "stdout",
     "output_type": "stream",
     "text": [
      "\n",
      "  training loss (in-iteration):\t\t0.405914\n",
      "  train accuracy:\t\t92.09 %\n",
      "  validation accuracy:\t\t93.38 %\n",
      "Epoch 23 of 150 took 9.592s"
     ]
    },
    {
     "name": "stderr",
     "output_type": "stream",
     "text": [
      "\r",
      " 15%|█▌        | 23/150 [03:22<20:36,  9.74s/it]"
     ]
    },
    {
     "name": "stdout",
     "output_type": "stream",
     "text": [
      "\n",
      "  training loss (in-iteration):\t\t0.396585\n",
      "  train accuracy:\t\t92.29 %\n",
      "  validation accuracy:\t\t93.27 %\n",
      "Epoch 24 of 150 took 9.787s"
     ]
    },
    {
     "name": "stderr",
     "output_type": "stream",
     "text": [
      "\r",
      " 16%|█▌        | 24/150 [03:32<20:28,  9.75s/it]"
     ]
    },
    {
     "name": "stdout",
     "output_type": "stream",
     "text": [
      "\n",
      "  training loss (in-iteration):\t\t0.388915\n",
      "  train accuracy:\t\t92.57 %\n",
      "  validation accuracy:\t\t92.71 %\n",
      "Epoch 25 of 150 took 9.254s"
     ]
    },
    {
     "name": "stderr",
     "output_type": "stream",
     "text": [
      "\r",
      " 17%|█▋        | 25/150 [03:41<20:00,  9.60s/it]"
     ]
    },
    {
     "name": "stdout",
     "output_type": "stream",
     "text": [
      "\n",
      "  training loss (in-iteration):\t\t0.379799\n",
      "  train accuracy:\t\t92.72 %\n",
      "  validation accuracy:\t\t93.87 %\n",
      "Epoch 26 of 150 took 10.268s"
     ]
    },
    {
     "name": "stderr",
     "output_type": "stream",
     "text": [
      "\r",
      " 17%|█▋        | 26/150 [03:51<20:15,  9.80s/it]"
     ]
    },
    {
     "name": "stdout",
     "output_type": "stream",
     "text": [
      "\n",
      "  training loss (in-iteration):\t\t0.371767\n",
      "  train accuracy:\t\t92.86 %\n",
      "  validation accuracy:\t\t93.97 %\n",
      "Epoch 27 of 150 took 8.988s"
     ]
    },
    {
     "name": "stderr",
     "output_type": "stream",
     "text": [
      "\r",
      " 18%|█▊        | 27/150 [04:00<19:35,  9.56s/it]"
     ]
    },
    {
     "name": "stdout",
     "output_type": "stream",
     "text": [
      "\n",
      "  training loss (in-iteration):\t\t0.365126\n",
      "  train accuracy:\t\t93.03 %\n",
      "  validation accuracy:\t\t93.61 %\n",
      "Epoch 28 of 150 took 9.600s"
     ]
    },
    {
     "name": "stderr",
     "output_type": "stream",
     "text": [
      "\r",
      " 19%|█▊        | 28/150 [04:10<19:27,  9.57s/it]"
     ]
    },
    {
     "name": "stdout",
     "output_type": "stream",
     "text": [
      "\n",
      "  training loss (in-iteration):\t\t0.357571\n",
      "  train accuracy:\t\t93.27 %\n",
      "  validation accuracy:\t\t93.90 %\n",
      "Epoch 29 of 150 took 9.460s"
     ]
    },
    {
     "name": "stderr",
     "output_type": "stream",
     "text": [
      "\r",
      " 19%|█▉        | 29/150 [04:20<19:14,  9.54s/it]"
     ]
    },
    {
     "name": "stdout",
     "output_type": "stream",
     "text": [
      "\n",
      "  training loss (in-iteration):\t\t0.350345\n",
      "  train accuracy:\t\t93.28 %\n",
      "  validation accuracy:\t\t94.46 %\n",
      "Epoch 30 of 150 took 10.471s"
     ]
    },
    {
     "name": "stderr",
     "output_type": "stream",
     "text": [
      "\r",
      " 20%|██        | 30/150 [04:30<19:38,  9.82s/it]"
     ]
    },
    {
     "name": "stdout",
     "output_type": "stream",
     "text": [
      "\n",
      "  training loss (in-iteration):\t\t0.344063\n",
      "  train accuracy:\t\t93.55 %\n",
      "  validation accuracy:\t\t94.16 %\n",
      "Epoch 31 of 150 took 9.383s"
     ]
    },
    {
     "name": "stderr",
     "output_type": "stream",
     "text": [
      "\r",
      " 21%|██        | 31/150 [04:39<19:12,  9.69s/it]"
     ]
    },
    {
     "name": "stdout",
     "output_type": "stream",
     "text": [
      "\n",
      "  training loss (in-iteration):\t\t0.337507\n",
      "  train accuracy:\t\t93.67 %\n",
      "  validation accuracy:\t\t94.73 %\n",
      "Epoch 32 of 150 took 9.681s"
     ]
    },
    {
     "name": "stderr",
     "output_type": "stream",
     "text": [
      "\r",
      " 21%|██▏       | 32/150 [04:49<19:03,  9.69s/it]"
     ]
    },
    {
     "name": "stdout",
     "output_type": "stream",
     "text": [
      "\n",
      "  training loss (in-iteration):\t\t0.331334\n",
      "  train accuracy:\t\t93.77 %\n",
      "  validation accuracy:\t\t94.68 %\n",
      "Epoch 33 of 150 took 10.227s"
     ]
    },
    {
     "name": "stderr",
     "output_type": "stream",
     "text": [
      "\r",
      " 22%|██▏       | 33/150 [04:59<19:12,  9.85s/it]"
     ]
    },
    {
     "name": "stdout",
     "output_type": "stream",
     "text": [
      "\n",
      "  training loss (in-iteration):\t\t0.326157\n",
      "  train accuracy:\t\t93.91 %\n",
      "  validation accuracy:\t\t94.54 %\n",
      "Epoch 34 of 150 took 9.960s"
     ]
    },
    {
     "name": "stderr",
     "output_type": "stream",
     "text": [
      "\r",
      " 23%|██▎       | 34/150 [05:09<19:06,  9.88s/it]"
     ]
    },
    {
     "name": "stdout",
     "output_type": "stream",
     "text": [
      "\n",
      "  training loss (in-iteration):\t\t0.320654\n",
      "  train accuracy:\t\t93.99 %\n",
      "  validation accuracy:\t\t94.82 %\n",
      "Epoch 35 of 150 took 9.240s"
     ]
    },
    {
     "name": "stderr",
     "output_type": "stream",
     "text": [
      "\r",
      " 23%|██▎       | 35/150 [05:18<18:34,  9.69s/it]"
     ]
    },
    {
     "name": "stdout",
     "output_type": "stream",
     "text": [
      "\n",
      "  training loss (in-iteration):\t\t0.315593\n",
      "  train accuracy:\t\t94.06 %\n",
      "  validation accuracy:\t\t94.50 %\n",
      "Epoch 36 of 150 took 10.788s"
     ]
    },
    {
     "name": "stderr",
     "output_type": "stream",
     "text": [
      "\r",
      " 24%|██▍       | 36/150 [05:29<19:02, 10.02s/it]"
     ]
    },
    {
     "name": "stdout",
     "output_type": "stream",
     "text": [
      "\n",
      "  training loss (in-iteration):\t\t0.310746\n",
      "  train accuracy:\t\t94.17 %\n",
      "  validation accuracy:\t\t94.96 %\n",
      "Epoch 37 of 150 took 10.916s"
     ]
    },
    {
     "name": "stderr",
     "output_type": "stream",
     "text": [
      "\r",
      " 25%|██▍       | 37/150 [05:40<19:22, 10.29s/it]"
     ]
    },
    {
     "name": "stdout",
     "output_type": "stream",
     "text": [
      "\n",
      "  training loss (in-iteration):\t\t0.305060\n",
      "  train accuracy:\t\t94.35 %\n",
      "  validation accuracy:\t\t94.97 %\n",
      "Epoch 38 of 150 took 10.947s"
     ]
    },
    {
     "name": "stderr",
     "output_type": "stream",
     "text": [
      "\r",
      " 25%|██▌       | 38/150 [05:51<19:34, 10.49s/it]"
     ]
    },
    {
     "name": "stdout",
     "output_type": "stream",
     "text": [
      "\n",
      "  training loss (in-iteration):\t\t0.301096\n",
      "  train accuracy:\t\t94.43 %\n",
      "  validation accuracy:\t\t95.17 %\n",
      "Epoch 39 of 150 took 9.657s"
     ]
    },
    {
     "name": "stderr",
     "output_type": "stream",
     "text": [
      "\r",
      " 26%|██▌       | 39/150 [06:01<18:56, 10.24s/it]"
     ]
    },
    {
     "name": "stdout",
     "output_type": "stream",
     "text": [
      "\n",
      "  training loss (in-iteration):\t\t0.297421\n",
      "  train accuracy:\t\t94.51 %\n",
      "  validation accuracy:\t\t95.37 %\n",
      "Epoch 40 of 150 took 10.716s"
     ]
    },
    {
     "name": "stderr",
     "output_type": "stream",
     "text": [
      "\r",
      " 27%|██▋       | 40/150 [06:12<19:02, 10.38s/it]"
     ]
    },
    {
     "name": "stdout",
     "output_type": "stream",
     "text": [
      "\n",
      "  training loss (in-iteration):\t\t0.292928\n",
      "  train accuracy:\t\t94.53 %\n",
      "  validation accuracy:\t\t95.38 %\n",
      "Epoch 41 of 150 took 10.690s"
     ]
    },
    {
     "name": "stderr",
     "output_type": "stream",
     "text": [
      "\r",
      " 27%|██▋       | 41/150 [06:22<19:01, 10.47s/it]"
     ]
    },
    {
     "name": "stdout",
     "output_type": "stream",
     "text": [
      "\n",
      "  training loss (in-iteration):\t\t0.289008\n",
      "  train accuracy:\t\t94.66 %\n",
      "  validation accuracy:\t\t94.94 %\n",
      "Epoch 42 of 150 took 10.024s"
     ]
    },
    {
     "name": "stderr",
     "output_type": "stream",
     "text": [
      "\r",
      " 28%|██▊       | 42/150 [06:32<18:36, 10.34s/it]"
     ]
    },
    {
     "name": "stdout",
     "output_type": "stream",
     "text": [
      "\n",
      "  training loss (in-iteration):\t\t0.285512\n",
      "  train accuracy:\t\t94.70 %\n",
      "  validation accuracy:\t\t95.23 %\n",
      "Epoch 43 of 150 took 10.048s"
     ]
    },
    {
     "name": "stderr",
     "output_type": "stream",
     "text": [
      "\r",
      " 29%|██▊       | 43/150 [06:42<18:17, 10.25s/it]"
     ]
    },
    {
     "name": "stdout",
     "output_type": "stream",
     "text": [
      "\n",
      "  training loss (in-iteration):\t\t0.281691\n",
      "  train accuracy:\t\t94.84 %\n",
      "  validation accuracy:\t\t95.55 %\n",
      "Epoch 44 of 150 took 10.377s"
     ]
    },
    {
     "name": "stderr",
     "output_type": "stream",
     "text": [
      "\r",
      " 29%|██▉       | 44/150 [06:53<18:10, 10.29s/it]"
     ]
    },
    {
     "name": "stdout",
     "output_type": "stream",
     "text": [
      "\n",
      "  training loss (in-iteration):\t\t0.277856\n",
      "  train accuracy:\t\t94.89 %\n",
      "  validation accuracy:\t\t95.53 %\n",
      "Epoch 45 of 150 took 10.244s"
     ]
    },
    {
     "name": "stderr",
     "output_type": "stream",
     "text": [
      "\r",
      " 30%|███       | 45/150 [07:03<17:59, 10.28s/it]"
     ]
    },
    {
     "name": "stdout",
     "output_type": "stream",
     "text": [
      "\n",
      "  training loss (in-iteration):\t\t0.273973\n",
      "  train accuracy:\t\t94.98 %\n",
      "  validation accuracy:\t\t94.32 %\n",
      "Epoch 46 of 150 took 10.573s"
     ]
    },
    {
     "name": "stderr",
     "output_type": "stream",
     "text": [
      "\r",
      " 31%|███       | 46/150 [07:13<17:58, 10.37s/it]"
     ]
    },
    {
     "name": "stdout",
     "output_type": "stream",
     "text": [
      "\n",
      "  training loss (in-iteration):\t\t0.271641\n",
      "  train accuracy:\t\t94.93 %\n",
      "  validation accuracy:\t\t95.53 %\n",
      "Epoch 47 of 150 took 10.144s"
     ]
    },
    {
     "name": "stderr",
     "output_type": "stream",
     "text": [
      "\r",
      " 31%|███▏      | 47/150 [07:24<17:40, 10.30s/it]"
     ]
    },
    {
     "name": "stdout",
     "output_type": "stream",
     "text": [
      "\n",
      "  training loss (in-iteration):\t\t0.268006\n",
      "  train accuracy:\t\t95.02 %\n",
      "  validation accuracy:\t\t95.65 %\n",
      "Epoch 48 of 150 took 10.247s"
     ]
    },
    {
     "name": "stderr",
     "output_type": "stream",
     "text": [
      "\r",
      " 32%|███▏      | 48/150 [07:34<17:29, 10.28s/it]"
     ]
    },
    {
     "name": "stdout",
     "output_type": "stream",
     "text": [
      "\n",
      "  training loss (in-iteration):\t\t0.263743\n",
      "  train accuracy:\t\t95.17 %\n",
      "  validation accuracy:\t\t95.73 %\n",
      "Epoch 49 of 150 took 10.867s"
     ]
    },
    {
     "name": "stderr",
     "output_type": "stream",
     "text": [
      "\r",
      " 33%|███▎      | 49/150 [07:45<17:36, 10.46s/it]"
     ]
    },
    {
     "name": "stdout",
     "output_type": "stream",
     "text": [
      "\n",
      "  training loss (in-iteration):\t\t0.261824\n",
      "  train accuracy:\t\t95.29 %\n",
      "  validation accuracy:\t\t95.59 %\n",
      "Epoch 50 of 150 took 11.133s"
     ]
    },
    {
     "name": "stderr",
     "output_type": "stream",
     "text": [
      "\r",
      " 33%|███▎      | 50/150 [07:56<17:46, 10.66s/it]"
     ]
    },
    {
     "name": "stdout",
     "output_type": "stream",
     "text": [
      "\n",
      "  training loss (in-iteration):\t\t0.258464\n",
      "  train accuracy:\t\t95.26 %\n",
      "  validation accuracy:\t\t95.56 %\n",
      "Epoch 51 of 150 took 10.451s"
     ]
    },
    {
     "name": "stderr",
     "output_type": "stream",
     "text": [
      "\r",
      " 34%|███▍      | 51/150 [08:06<17:29, 10.60s/it]"
     ]
    },
    {
     "name": "stdout",
     "output_type": "stream",
     "text": [
      "\n",
      "  training loss (in-iteration):\t\t0.256160\n",
      "  train accuracy:\t\t95.39 %\n",
      "  validation accuracy:\t\t95.88 %\n",
      "Epoch 52 of 150 took 10.171s"
     ]
    },
    {
     "name": "stderr",
     "output_type": "stream",
     "text": [
      "\r",
      " 35%|███▍      | 52/150 [08:17<17:06, 10.47s/it]"
     ]
    },
    {
     "name": "stdout",
     "output_type": "stream",
     "text": [
      "\n",
      "  training loss (in-iteration):\t\t0.252862\n",
      "  train accuracy:\t\t95.39 %\n",
      "  validation accuracy:\t\t95.59 %\n",
      "Epoch 53 of 150 took 10.433s"
     ]
    },
    {
     "name": "stderr",
     "output_type": "stream",
     "text": [
      "\r",
      " 35%|███▌      | 53/150 [08:27<16:54, 10.46s/it]"
     ]
    },
    {
     "name": "stdout",
     "output_type": "stream",
     "text": [
      "\n",
      "  training loss (in-iteration):\t\t0.249813\n",
      "  train accuracy:\t\t95.44 %\n",
      "  validation accuracy:\t\t95.75 %\n",
      "Epoch 54 of 150 took 10.706s"
     ]
    },
    {
     "name": "stderr",
     "output_type": "stream",
     "text": [
      "\r",
      " 36%|███▌      | 54/150 [08:38<16:51, 10.53s/it]"
     ]
    },
    {
     "name": "stdout",
     "output_type": "stream",
     "text": [
      "\n",
      "  training loss (in-iteration):\t\t0.247994\n",
      "  train accuracy:\t\t95.48 %\n",
      "  validation accuracy:\t\t96.14 %\n",
      "Epoch 55 of 150 took 10.297s"
     ]
    },
    {
     "name": "stderr",
     "output_type": "stream",
     "text": [
      "\r",
      " 37%|███▋      | 55/150 [08:48<16:34, 10.46s/it]"
     ]
    },
    {
     "name": "stdout",
     "output_type": "stream",
     "text": [
      "\n",
      "  training loss (in-iteration):\t\t0.245022\n",
      "  train accuracy:\t\t95.57 %\n",
      "  validation accuracy:\t\t96.12 %\n",
      "Epoch 56 of 150 took 10.736s"
     ]
    },
    {
     "name": "stderr",
     "output_type": "stream",
     "text": [
      "\r",
      " 37%|███▋      | 56/150 [08:59<16:31, 10.55s/it]"
     ]
    },
    {
     "name": "stdout",
     "output_type": "stream",
     "text": [
      "\n",
      "  training loss (in-iteration):\t\t0.242403\n",
      "  train accuracy:\t\t95.60 %\n",
      "  validation accuracy:\t\t96.12 %\n",
      "Epoch 57 of 150 took 9.960s"
     ]
    },
    {
     "name": "stderr",
     "output_type": "stream",
     "text": [
      "\r",
      " 38%|███▊      | 57/150 [09:09<16:04, 10.37s/it]"
     ]
    },
    {
     "name": "stdout",
     "output_type": "stream",
     "text": [
      "\n",
      "  training loss (in-iteration):\t\t0.239800\n",
      "  train accuracy:\t\t95.69 %\n",
      "  validation accuracy:\t\t96.04 %\n",
      "Epoch 58 of 150 took 10.182s"
     ]
    },
    {
     "name": "stderr",
     "output_type": "stream",
     "text": [
      "\r",
      " 39%|███▊      | 58/150 [09:19<15:48, 10.31s/it]"
     ]
    },
    {
     "name": "stdout",
     "output_type": "stream",
     "text": [
      "\n",
      "  training loss (in-iteration):\t\t0.237372\n",
      "  train accuracy:\t\t95.65 %\n",
      "  validation accuracy:\t\t95.89 %\n",
      "Epoch 59 of 150 took 10.502s"
     ]
    },
    {
     "name": "stderr",
     "output_type": "stream",
     "text": [
      "\r",
      " 39%|███▉      | 59/150 [09:29<15:43, 10.37s/it]"
     ]
    },
    {
     "name": "stdout",
     "output_type": "stream",
     "text": [
      "\n",
      "  training loss (in-iteration):\t\t0.235286\n",
      "  train accuracy:\t\t95.77 %\n",
      "  validation accuracy:\t\t95.27 %\n",
      "Epoch 60 of 150 took 10.501s"
     ]
    },
    {
     "name": "stderr",
     "output_type": "stream",
     "text": [
      "\r",
      " 40%|████      | 60/150 [09:40<15:36, 10.41s/it]"
     ]
    },
    {
     "name": "stdout",
     "output_type": "stream",
     "text": [
      "\n",
      "  training loss (in-iteration):\t\t0.232747\n",
      "  train accuracy:\t\t95.77 %\n",
      "  validation accuracy:\t\t96.05 %\n",
      "Epoch 61 of 150 took 10.598s"
     ]
    },
    {
     "name": "stderr",
     "output_type": "stream",
     "text": [
      "\r",
      " 41%|████      | 61/150 [09:50<15:31, 10.47s/it]"
     ]
    },
    {
     "name": "stdout",
     "output_type": "stream",
     "text": [
      "\n",
      "  training loss (in-iteration):\t\t0.231304\n",
      "  train accuracy:\t\t95.82 %\n",
      "  validation accuracy:\t\t96.25 %\n",
      "Epoch 62 of 150 took 10.480s"
     ]
    },
    {
     "name": "stderr",
     "output_type": "stream",
     "text": [
      "\r",
      " 41%|████▏     | 62/150 [10:01<15:21, 10.47s/it]"
     ]
    },
    {
     "name": "stdout",
     "output_type": "stream",
     "text": [
      "\n",
      "  training loss (in-iteration):\t\t0.228655\n",
      "  train accuracy:\t\t95.89 %\n",
      "  validation accuracy:\t\t95.74 %\n",
      "Epoch 63 of 150 took 9.930s"
     ]
    },
    {
     "name": "stderr",
     "output_type": "stream",
     "text": [
      "\r",
      " 42%|████▏     | 63/150 [10:11<14:56, 10.31s/it]"
     ]
    },
    {
     "name": "stdout",
     "output_type": "stream",
     "text": [
      "\n",
      "  training loss (in-iteration):\t\t0.226573\n",
      "  train accuracy:\t\t95.92 %\n",
      "  validation accuracy:\t\t96.16 %\n",
      "Epoch 64 of 150 took 10.094s"
     ]
    },
    {
     "name": "stderr",
     "output_type": "stream",
     "text": [
      "\r",
      " 43%|████▎     | 64/150 [10:21<14:41, 10.25s/it]"
     ]
    },
    {
     "name": "stdout",
     "output_type": "stream",
     "text": [
      "\n",
      "  training loss (in-iteration):\t\t0.225317\n",
      "  train accuracy:\t\t95.91 %\n",
      "  validation accuracy:\t\t96.37 %\n",
      "Epoch 65 of 150 took 9.957s"
     ]
    },
    {
     "name": "stderr",
     "output_type": "stream",
     "text": [
      "\r",
      " 43%|████▎     | 65/150 [10:31<14:23, 10.16s/it]"
     ]
    },
    {
     "name": "stdout",
     "output_type": "stream",
     "text": [
      "\n",
      "  training loss (in-iteration):\t\t0.222645\n",
      "  train accuracy:\t\t95.93 %\n",
      "  validation accuracy:\t\t96.36 %\n",
      "Epoch 66 of 150 took 10.398s"
     ]
    },
    {
     "name": "stderr",
     "output_type": "stream",
     "text": [
      "\r",
      " 44%|████▍     | 66/150 [10:41<14:19, 10.23s/it]"
     ]
    },
    {
     "name": "stdout",
     "output_type": "stream",
     "text": [
      "\n",
      "  training loss (in-iteration):\t\t0.220026\n",
      "  train accuracy:\t\t96.08 %\n",
      "  validation accuracy:\t\t96.19 %\n",
      "Epoch 67 of 150 took 10.420s"
     ]
    },
    {
     "name": "stderr",
     "output_type": "stream",
     "text": [
      "\r",
      " 45%|████▍     | 67/150 [10:52<14:13, 10.29s/it]"
     ]
    },
    {
     "name": "stdout",
     "output_type": "stream",
     "text": [
      "\n",
      "  training loss (in-iteration):\t\t0.218260\n",
      "  train accuracy:\t\t96.09 %\n",
      "  validation accuracy:\t\t96.42 %\n",
      "Epoch 68 of 150 took 10.310s"
     ]
    },
    {
     "name": "stderr",
     "output_type": "stream",
     "text": [
      "\r",
      " 45%|████▌     | 68/150 [11:02<14:04, 10.30s/it]"
     ]
    },
    {
     "name": "stdout",
     "output_type": "stream",
     "text": [
      "\n",
      "  training loss (in-iteration):\t\t0.217419\n",
      "  train accuracy:\t\t96.14 %\n",
      "  validation accuracy:\t\t96.52 %\n",
      "Epoch 69 of 150 took 10.121s"
     ]
    },
    {
     "name": "stderr",
     "output_type": "stream",
     "text": [
      "\r",
      " 46%|████▌     | 69/150 [11:12<13:49, 10.24s/it]"
     ]
    },
    {
     "name": "stdout",
     "output_type": "stream",
     "text": [
      "\n",
      "  training loss (in-iteration):\t\t0.214991\n",
      "  train accuracy:\t\t96.15 %\n",
      "  validation accuracy:\t\t96.31 %\n",
      "Epoch 70 of 150 took 10.291s"
     ]
    },
    {
     "name": "stderr",
     "output_type": "stream",
     "text": [
      "\r",
      " 47%|████▋     | 70/150 [11:22<13:40, 10.26s/it]"
     ]
    },
    {
     "name": "stdout",
     "output_type": "stream",
     "text": [
      "\n",
      "  training loss (in-iteration):\t\t0.213533\n",
      "  train accuracy:\t\t96.20 %\n",
      "  validation accuracy:\t\t96.16 %\n",
      "Epoch 71 of 150 took 10.143s"
     ]
    },
    {
     "name": "stderr",
     "output_type": "stream",
     "text": [
      "\r",
      " 47%|████▋     | 71/150 [11:33<13:27, 10.22s/it]"
     ]
    },
    {
     "name": "stdout",
     "output_type": "stream",
     "text": [
      "\n",
      "  training loss (in-iteration):\t\t0.212311\n",
      "  train accuracy:\t\t96.15 %\n",
      "  validation accuracy:\t\t96.50 %\n",
      "Epoch 72 of 150 took 10.161s"
     ]
    },
    {
     "name": "stderr",
     "output_type": "stream",
     "text": [
      "\r",
      " 48%|████▊     | 72/150 [11:43<13:16, 10.21s/it]"
     ]
    },
    {
     "name": "stdout",
     "output_type": "stream",
     "text": [
      "\n",
      "  training loss (in-iteration):\t\t0.210571\n",
      "  train accuracy:\t\t96.17 %\n",
      "  validation accuracy:\t\t96.33 %\n",
      "Epoch 73 of 150 took 10.140s"
     ]
    },
    {
     "name": "stderr",
     "output_type": "stream",
     "text": [
      "\r",
      " 49%|████▊     | 73/150 [11:53<13:04, 10.19s/it]"
     ]
    },
    {
     "name": "stdout",
     "output_type": "stream",
     "text": [
      "\n",
      "  training loss (in-iteration):\t\t0.208740\n",
      "  train accuracy:\t\t96.21 %\n",
      "  validation accuracy:\t\t96.43 %\n",
      "Epoch 74 of 150 took 9.954s"
     ]
    },
    {
     "name": "stderr",
     "output_type": "stream",
     "text": [
      "\r",
      " 49%|████▉     | 74/150 [12:03<12:48, 10.12s/it]"
     ]
    },
    {
     "name": "stdout",
     "output_type": "stream",
     "text": [
      "\n",
      "  training loss (in-iteration):\t\t0.208009\n",
      "  train accuracy:\t\t96.30 %\n",
      "  validation accuracy:\t\t96.36 %\n",
      "Epoch 75 of 150 took 10.692s"
     ]
    },
    {
     "name": "stderr",
     "output_type": "stream",
     "text": [
      "\r",
      " 50%|█████     | 75/150 [12:14<12:51, 10.29s/it]"
     ]
    },
    {
     "name": "stdout",
     "output_type": "stream",
     "text": [
      "\n",
      "  training loss (in-iteration):\t\t0.205401\n",
      "  train accuracy:\t\t96.36 %\n",
      "  validation accuracy:\t\t96.60 %\n",
      "Epoch 76 of 150 took 9.810s"
     ]
    },
    {
     "name": "stderr",
     "output_type": "stream",
     "text": [
      "\r",
      " 51%|█████     | 76/150 [12:23<12:30, 10.15s/it]"
     ]
    },
    {
     "name": "stdout",
     "output_type": "stream",
     "text": [
      "\n",
      "  training loss (in-iteration):\t\t0.203865\n",
      "  train accuracy:\t\t96.37 %\n",
      "  validation accuracy:\t\t96.57 %\n",
      "Epoch 77 of 150 took 10.315s"
     ]
    },
    {
     "name": "stderr",
     "output_type": "stream",
     "text": [
      "\r",
      " 51%|█████▏    | 77/150 [12:34<12:24, 10.20s/it]"
     ]
    },
    {
     "name": "stdout",
     "output_type": "stream",
     "text": [
      "\n",
      "  training loss (in-iteration):\t\t0.202315\n",
      "  train accuracy:\t\t96.42 %\n",
      "  validation accuracy:\t\t96.23 %\n",
      "Epoch 78 of 150 took 10.151s"
     ]
    },
    {
     "name": "stderr",
     "output_type": "stream",
     "text": [
      "\r",
      " 52%|█████▏    | 78/150 [12:44<12:13, 10.18s/it]"
     ]
    },
    {
     "name": "stdout",
     "output_type": "stream",
     "text": [
      "\n",
      "  training loss (in-iteration):\t\t0.202103\n",
      "  train accuracy:\t\t96.32 %\n",
      "  validation accuracy:\t\t96.74 %\n",
      "Epoch 79 of 150 took 11.258s"
     ]
    },
    {
     "name": "stderr",
     "output_type": "stream",
     "text": [
      "\r",
      " 53%|█████▎    | 79/150 [12:55<12:25, 10.51s/it]"
     ]
    },
    {
     "name": "stdout",
     "output_type": "stream",
     "text": [
      "\n",
      "  training loss (in-iteration):\t\t0.199443\n",
      "  train accuracy:\t\t96.45 %\n",
      "  validation accuracy:\t\t96.33 %\n",
      "Epoch 80 of 150 took 10.286s"
     ]
    },
    {
     "name": "stderr",
     "output_type": "stream",
     "text": [
      "\r",
      " 53%|█████▎    | 80/150 [13:05<12:10, 10.44s/it]"
     ]
    },
    {
     "name": "stdout",
     "output_type": "stream",
     "text": [
      "\n",
      "  training loss (in-iteration):\t\t0.198224\n",
      "  train accuracy:\t\t96.45 %\n",
      "  validation accuracy:\t\t96.68 %\n",
      "Epoch 81 of 150 took 10.390s"
     ]
    },
    {
     "name": "stderr",
     "output_type": "stream",
     "text": [
      "\r",
      " 54%|█████▍    | 81/150 [13:16<11:59, 10.43s/it]"
     ]
    },
    {
     "name": "stdout",
     "output_type": "stream",
     "text": [
      "\n",
      "  training loss (in-iteration):\t\t0.196824\n",
      "  train accuracy:\t\t96.52 %\n",
      "  validation accuracy:\t\t96.77 %\n",
      "Epoch 82 of 150 took 10.908s"
     ]
    },
    {
     "name": "stderr",
     "output_type": "stream",
     "text": [
      "\r",
      " 55%|█████▍    | 82/150 [13:27<11:58, 10.57s/it]"
     ]
    },
    {
     "name": "stdout",
     "output_type": "stream",
     "text": [
      "\n",
      "  training loss (in-iteration):\t\t0.196172\n",
      "  train accuracy:\t\t96.50 %\n",
      "  validation accuracy:\t\t96.85 %\n",
      "Epoch 83 of 150 took 10.538s"
     ]
    },
    {
     "name": "stderr",
     "output_type": "stream",
     "text": [
      "\r",
      " 55%|█████▌    | 83/150 [13:37<11:47, 10.56s/it]"
     ]
    },
    {
     "name": "stdout",
     "output_type": "stream",
     "text": [
      "\n",
      "  training loss (in-iteration):\t\t0.194613\n",
      "  train accuracy:\t\t96.53 %\n",
      "  validation accuracy:\t\t96.52 %\n",
      "Epoch 84 of 150 took 10.085s"
     ]
    },
    {
     "name": "stderr",
     "output_type": "stream",
     "text": [
      "\r",
      " 56%|█████▌    | 84/150 [13:47<11:27, 10.42s/it]"
     ]
    },
    {
     "name": "stdout",
     "output_type": "stream",
     "text": [
      "\n",
      "  training loss (in-iteration):\t\t0.192805\n",
      "  train accuracy:\t\t96.60 %\n",
      "  validation accuracy:\t\t96.67 %\n",
      "Epoch 85 of 150 took 10.901s"
     ]
    },
    {
     "name": "stderr",
     "output_type": "stream",
     "text": [
      "\r",
      " 57%|█████▋    | 85/150 [13:58<11:26, 10.56s/it]"
     ]
    },
    {
     "name": "stdout",
     "output_type": "stream",
     "text": [
      "\n",
      "  training loss (in-iteration):\t\t0.192022\n",
      "  train accuracy:\t\t96.50 %\n",
      "  validation accuracy:\t\t96.67 %\n",
      "Epoch 86 of 150 took 9.964s"
     ]
    },
    {
     "name": "stderr",
     "output_type": "stream",
     "text": [
      "\r",
      " 57%|█████▋    | 86/150 [14:08<11:04, 10.38s/it]"
     ]
    },
    {
     "name": "stdout",
     "output_type": "stream",
     "text": [
      "\n",
      "  training loss (in-iteration):\t\t0.191136\n",
      "  train accuracy:\t\t96.61 %\n",
      "  validation accuracy:\t\t96.64 %\n",
      "Epoch 87 of 150 took 10.265s"
     ]
    },
    {
     "name": "stderr",
     "output_type": "stream",
     "text": [
      "\r",
      " 58%|█████▊    | 87/150 [14:18<10:52, 10.35s/it]"
     ]
    },
    {
     "name": "stdout",
     "output_type": "stream",
     "text": [
      "\n",
      "  training loss (in-iteration):\t\t0.189737\n",
      "  train accuracy:\t\t96.59 %\n",
      "  validation accuracy:\t\t96.75 %\n",
      "Epoch 88 of 150 took 9.916s"
     ]
    },
    {
     "name": "stderr",
     "output_type": "stream",
     "text": [
      "\r",
      " 59%|█████▊    | 88/150 [14:28<10:33, 10.22s/it]"
     ]
    },
    {
     "name": "stdout",
     "output_type": "stream",
     "text": [
      "\n",
      "  training loss (in-iteration):\t\t0.188714\n",
      "  train accuracy:\t\t96.57 %\n",
      "  validation accuracy:\t\t96.65 %\n",
      "Epoch 89 of 150 took 10.115s"
     ]
    },
    {
     "name": "stderr",
     "output_type": "stream",
     "text": [
      "\r",
      " 59%|█████▉    | 89/150 [14:38<10:21, 10.19s/it]"
     ]
    },
    {
     "name": "stdout",
     "output_type": "stream",
     "text": [
      "\n",
      "  training loss (in-iteration):\t\t0.188206\n",
      "  train accuracy:\t\t96.73 %\n",
      "  validation accuracy:\t\t96.75 %\n",
      "Epoch 90 of 150 took 9.790s"
     ]
    },
    {
     "name": "stderr",
     "output_type": "stream",
     "text": [
      "\r",
      " 60%|██████    | 90/150 [14:48<10:04, 10.07s/it]"
     ]
    },
    {
     "name": "stdout",
     "output_type": "stream",
     "text": [
      "\n",
      "  training loss (in-iteration):\t\t0.186531\n",
      "  train accuracy:\t\t96.64 %\n",
      "  validation accuracy:\t\t96.65 %\n",
      "Epoch 91 of 150 took 10.626s"
     ]
    },
    {
     "name": "stderr",
     "output_type": "stream",
     "text": [
      "\r",
      " 61%|██████    | 91/150 [14:59<10:03, 10.24s/it]"
     ]
    },
    {
     "name": "stdout",
     "output_type": "stream",
     "text": [
      "\n",
      "  training loss (in-iteration):\t\t0.185585\n",
      "  train accuracy:\t\t96.75 %\n",
      "  validation accuracy:\t\t96.85 %\n",
      "Epoch 92 of 150 took 10.139s"
     ]
    },
    {
     "name": "stderr",
     "output_type": "stream",
     "text": [
      "\r",
      " 61%|██████▏   | 92/150 [15:09<09:52, 10.21s/it]"
     ]
    },
    {
     "name": "stdout",
     "output_type": "stream",
     "text": [
      "\n",
      "  training loss (in-iteration):\t\t0.184132\n",
      "  train accuracy:\t\t96.74 %\n",
      "  validation accuracy:\t\t96.72 %\n",
      "Epoch 93 of 150 took 9.961s"
     ]
    },
    {
     "name": "stderr",
     "output_type": "stream",
     "text": [
      "\r",
      " 62%|██████▏   | 93/150 [15:19<09:37, 10.13s/it]"
     ]
    },
    {
     "name": "stdout",
     "output_type": "stream",
     "text": [
      "\n",
      "  training loss (in-iteration):\t\t0.183048\n",
      "  train accuracy:\t\t96.72 %\n",
      "  validation accuracy:\t\t95.47 %\n",
      "Epoch 94 of 150 took 10.093s"
     ]
    },
    {
     "name": "stderr",
     "output_type": "stream",
     "text": [
      "\r",
      " 63%|██████▎   | 94/150 [15:29<09:26, 10.12s/it]"
     ]
    },
    {
     "name": "stdout",
     "output_type": "stream",
     "text": [
      "\n",
      "  training loss (in-iteration):\t\t0.181933\n",
      "  train accuracy:\t\t96.81 %\n",
      "  validation accuracy:\t\t96.41 %\n",
      "Epoch 95 of 150 took 10.323s"
     ]
    },
    {
     "name": "stderr",
     "output_type": "stream",
     "text": [
      "\r",
      " 63%|██████▎   | 95/150 [15:39<09:20, 10.18s/it]"
     ]
    },
    {
     "name": "stdout",
     "output_type": "stream",
     "text": [
      "\n",
      "  training loss (in-iteration):\t\t0.181880\n",
      "  train accuracy:\t\t96.73 %\n",
      "  validation accuracy:\t\t96.72 %\n",
      "Epoch 96 of 150 took 10.200s"
     ]
    },
    {
     "name": "stderr",
     "output_type": "stream",
     "text": [
      "\r",
      " 64%|██████▍   | 96/150 [15:50<09:10, 10.19s/it]"
     ]
    },
    {
     "name": "stdout",
     "output_type": "stream",
     "text": [
      "\n",
      "  training loss (in-iteration):\t\t0.178560\n",
      "  train accuracy:\t\t96.83 %\n",
      "  validation accuracy:\t\t96.75 %\n",
      "Epoch 97 of 150 took 10.497s"
     ]
    },
    {
     "name": "stderr",
     "output_type": "stream",
     "text": [
      "\r",
      " 65%|██████▍   | 97/150 [16:00<09:04, 10.28s/it]"
     ]
    },
    {
     "name": "stdout",
     "output_type": "stream",
     "text": [
      "\n",
      "  training loss (in-iteration):\t\t0.178573\n",
      "  train accuracy:\t\t96.79 %\n",
      "  validation accuracy:\t\t96.78 %\n",
      "Epoch 98 of 150 took 9.397s"
     ]
    },
    {
     "name": "stderr",
     "output_type": "stream",
     "text": [
      "\r",
      " 65%|██████▌   | 98/150 [16:09<08:40, 10.02s/it]"
     ]
    },
    {
     "name": "stdout",
     "output_type": "stream",
     "text": [
      "\n",
      "  training loss (in-iteration):\t\t0.178705\n",
      "  train accuracy:\t\t96.81 %\n",
      "  validation accuracy:\t\t97.02 %\n",
      "Epoch 99 of 150 took 9.283s"
     ]
    },
    {
     "name": "stderr",
     "output_type": "stream",
     "text": [
      "\r",
      " 66%|██████▌   | 99/150 [16:19<08:19,  9.80s/it]"
     ]
    },
    {
     "name": "stdout",
     "output_type": "stream",
     "text": [
      "\n",
      "  training loss (in-iteration):\t\t0.176910\n",
      "  train accuracy:\t\t96.87 %\n",
      "  validation accuracy:\t\t96.37 %\n",
      "Epoch 100 of 150 took 9.769s"
     ]
    },
    {
     "name": "stderr",
     "output_type": "stream",
     "text": [
      "\r",
      " 67%|██████▋   | 100/150 [16:29<08:09,  9.79s/it]"
     ]
    },
    {
     "name": "stdout",
     "output_type": "stream",
     "text": [
      "\n",
      "  training loss (in-iteration):\t\t0.176707\n",
      "  train accuracy:\t\t96.77 %\n",
      "  validation accuracy:\t\t96.85 %\n",
      "Epoch 101 of 150 took 9.472s"
     ]
    },
    {
     "name": "stderr",
     "output_type": "stream",
     "text": [
      "\r",
      " 67%|██████▋   | 101/150 [16:38<07:55,  9.69s/it]"
     ]
    },
    {
     "name": "stdout",
     "output_type": "stream",
     "text": [
      "\n",
      "  training loss (in-iteration):\t\t0.175284\n",
      "  train accuracy:\t\t96.88 %\n",
      "  validation accuracy:\t\t96.60 %\n",
      "Epoch 102 of 150 took 9.965s"
     ]
    },
    {
     "name": "stderr",
     "output_type": "stream",
     "text": [
      "\r",
      " 68%|██████▊   | 102/150 [16:48<07:49,  9.78s/it]"
     ]
    },
    {
     "name": "stdout",
     "output_type": "stream",
     "text": [
      "\n",
      "  training loss (in-iteration):\t\t0.174913\n",
      "  train accuracy:\t\t96.92 %\n",
      "  validation accuracy:\t\t96.38 %\n",
      "Epoch 103 of 150 took 10.176s"
     ]
    },
    {
     "name": "stderr",
     "output_type": "stream",
     "text": [
      "\r",
      " 69%|██████▊   | 103/150 [16:58<07:45,  9.90s/it]"
     ]
    },
    {
     "name": "stdout",
     "output_type": "stream",
     "text": [
      "\n",
      "  training loss (in-iteration):\t\t0.173784\n",
      "  train accuracy:\t\t96.87 %\n",
      "  validation accuracy:\t\t96.82 %\n",
      "Epoch 104 of 150 took 9.829s"
     ]
    },
    {
     "name": "stderr",
     "output_type": "stream",
     "text": [
      "\r",
      " 69%|██████▉   | 104/150 [17:08<07:34,  9.88s/it]"
     ]
    },
    {
     "name": "stdout",
     "output_type": "stream",
     "text": [
      "\n",
      "  training loss (in-iteration):\t\t0.172642\n",
      "  train accuracy:\t\t96.96 %\n",
      "  validation accuracy:\t\t96.48 %\n",
      "Epoch 105 of 150 took 9.460s"
     ]
    },
    {
     "name": "stderr",
     "output_type": "stream",
     "text": [
      "\r",
      " 70%|███████   | 105/150 [17:17<07:18,  9.75s/it]"
     ]
    },
    {
     "name": "stdout",
     "output_type": "stream",
     "text": [
      "\n",
      "  training loss (in-iteration):\t\t0.171655\n",
      "  train accuracy:\t\t96.96 %\n",
      "  validation accuracy:\t\t97.08 %\n",
      "Epoch 106 of 150 took 10.169s"
     ]
    },
    {
     "name": "stderr",
     "output_type": "stream",
     "text": [
      "\r",
      " 71%|███████   | 106/150 [17:28<07:14,  9.88s/it]"
     ]
    },
    {
     "name": "stdout",
     "output_type": "stream",
     "text": [
      "\n",
      "  training loss (in-iteration):\t\t0.170419\n",
      "  train accuracy:\t\t97.08 %\n",
      "  validation accuracy:\t\t96.85 %\n",
      "Epoch 107 of 150 took 9.741s"
     ]
    },
    {
     "name": "stderr",
     "output_type": "stream",
     "text": [
      "\r",
      " 71%|███████▏  | 107/150 [17:37<07:02,  9.84s/it]"
     ]
    },
    {
     "name": "stdout",
     "output_type": "stream",
     "text": [
      "\n",
      "  training loss (in-iteration):\t\t0.169084\n",
      "  train accuracy:\t\t97.03 %\n",
      "  validation accuracy:\t\t96.80 %\n",
      "Epoch 108 of 150 took 9.637s"
     ]
    },
    {
     "name": "stderr",
     "output_type": "stream",
     "text": [
      "\r",
      " 72%|███████▏  | 108/150 [17:47<06:50,  9.78s/it]"
     ]
    },
    {
     "name": "stdout",
     "output_type": "stream",
     "text": [
      "\n",
      "  training loss (in-iteration):\t\t0.169123\n",
      "  train accuracy:\t\t96.92 %\n",
      "  validation accuracy:\t\t96.99 %\n",
      "Epoch 109 of 150 took 10.665s"
     ]
    },
    {
     "name": "stderr",
     "output_type": "stream",
     "text": [
      "\r",
      " 73%|███████▎  | 109/150 [17:58<06:51, 10.04s/it]"
     ]
    },
    {
     "name": "stdout",
     "output_type": "stream",
     "text": [
      "\n",
      "  training loss (in-iteration):\t\t0.168115\n",
      "  train accuracy:\t\t97.05 %\n",
      "  validation accuracy:\t\t96.88 %\n",
      "Epoch 110 of 150 took 10.760s"
     ]
    },
    {
     "name": "stderr",
     "output_type": "stream",
     "text": [
      "\r",
      " 73%|███████▎  | 110/150 [18:08<06:50, 10.26s/it]"
     ]
    },
    {
     "name": "stdout",
     "output_type": "stream",
     "text": [
      "\n",
      "  training loss (in-iteration):\t\t0.167515\n",
      "  train accuracy:\t\t97.04 %\n",
      "  validation accuracy:\t\t97.19 %\n",
      "Epoch 111 of 150 took 10.855s"
     ]
    },
    {
     "name": "stderr",
     "output_type": "stream",
     "text": [
      "\r",
      " 74%|███████▍  | 111/150 [18:19<06:47, 10.44s/it]"
     ]
    },
    {
     "name": "stdout",
     "output_type": "stream",
     "text": [
      "\n",
      "  training loss (in-iteration):\t\t0.166605\n",
      "  train accuracy:\t\t97.05 %\n",
      "  validation accuracy:\t\t96.93 %\n",
      "Epoch 112 of 150 took 10.467s"
     ]
    },
    {
     "name": "stderr",
     "output_type": "stream",
     "text": [
      "\r",
      " 75%|███████▍  | 112/150 [18:30<06:37, 10.45s/it]"
     ]
    },
    {
     "name": "stdout",
     "output_type": "stream",
     "text": [
      "\n",
      "  training loss (in-iteration):\t\t0.164901\n",
      "  train accuracy:\t\t97.12 %\n",
      "  validation accuracy:\t\t96.83 %\n",
      "Epoch 113 of 150 took 9.891s"
     ]
    },
    {
     "name": "stderr",
     "output_type": "stream",
     "text": [
      "\r",
      " 75%|███████▌  | 113/150 [18:40<06:20, 10.28s/it]"
     ]
    },
    {
     "name": "stdout",
     "output_type": "stream",
     "text": [
      "\n",
      "  training loss (in-iteration):\t\t0.164504\n",
      "  train accuracy:\t\t97.10 %\n",
      "  validation accuracy:\t\t96.71 %\n",
      "Epoch 114 of 150 took 10.931s"
     ]
    },
    {
     "name": "stderr",
     "output_type": "stream",
     "text": [
      "\r",
      " 76%|███████▌  | 114/150 [18:51<06:17, 10.48s/it]"
     ]
    },
    {
     "name": "stdout",
     "output_type": "stream",
     "text": [
      "\n",
      "  training loss (in-iteration):\t\t0.163407\n",
      "  train accuracy:\t\t97.12 %\n",
      "  validation accuracy:\t\t96.98 %\n",
      "Epoch 115 of 150 took 10.495s"
     ]
    },
    {
     "name": "stderr",
     "output_type": "stream",
     "text": [
      "\r",
      " 77%|███████▋  | 115/150 [19:01<06:06, 10.48s/it]"
     ]
    },
    {
     "name": "stdout",
     "output_type": "stream",
     "text": [
      "\n",
      "  training loss (in-iteration):\t\t0.163034\n",
      "  train accuracy:\t\t97.14 %\n",
      "  validation accuracy:\t\t97.05 %\n",
      "Epoch 116 of 150 took 10.341s"
     ]
    },
    {
     "name": "stderr",
     "output_type": "stream",
     "text": [
      "\r",
      " 77%|███████▋  | 116/150 [19:11<05:54, 10.44s/it]"
     ]
    },
    {
     "name": "stdout",
     "output_type": "stream",
     "text": [
      "\n",
      "  training loss (in-iteration):\t\t0.162303\n",
      "  train accuracy:\t\t97.14 %\n",
      "  validation accuracy:\t\t96.98 %\n",
      "Epoch 117 of 150 took 10.085s"
     ]
    },
    {
     "name": "stderr",
     "output_type": "stream",
     "text": [
      "\r",
      " 78%|███████▊  | 117/150 [19:22<05:41, 10.33s/it]"
     ]
    },
    {
     "name": "stdout",
     "output_type": "stream",
     "text": [
      "\n",
      "  training loss (in-iteration):\t\t0.161926\n",
      "  train accuracy:\t\t97.15 %\n",
      "  validation accuracy:\t\t96.58 %\n",
      "Epoch 118 of 150 took 10.485s"
     ]
    },
    {
     "name": "stderr",
     "output_type": "stream",
     "text": [
      "\r",
      " 79%|███████▊  | 118/150 [19:32<05:32, 10.38s/it]"
     ]
    },
    {
     "name": "stdout",
     "output_type": "stream",
     "text": [
      "\n",
      "  training loss (in-iteration):\t\t0.161144\n",
      "  train accuracy:\t\t97.07 %\n",
      "  validation accuracy:\t\t96.81 %\n",
      "Epoch 119 of 150 took 10.369s"
     ]
    },
    {
     "name": "stderr",
     "output_type": "stream",
     "text": [
      "\r",
      " 79%|███████▉  | 119/150 [19:42<05:21, 10.38s/it]"
     ]
    },
    {
     "name": "stdout",
     "output_type": "stream",
     "text": [
      "\n",
      "  training loss (in-iteration):\t\t0.160084\n",
      "  train accuracy:\t\t97.17 %\n",
      "  validation accuracy:\t\t96.66 %\n",
      "Epoch 120 of 150 took 10.648s"
     ]
    },
    {
     "name": "stderr",
     "output_type": "stream",
     "text": [
      "\r",
      " 80%|████████  | 120/150 [19:53<05:13, 10.46s/it]"
     ]
    },
    {
     "name": "stdout",
     "output_type": "stream",
     "text": [
      "\n",
      "  training loss (in-iteration):\t\t0.159960\n",
      "  train accuracy:\t\t97.20 %\n",
      "  validation accuracy:\t\t97.32 %\n",
      "Epoch 121 of 150 took 10.781s"
     ]
    },
    {
     "name": "stderr",
     "output_type": "stream",
     "text": [
      "\r",
      " 81%|████████  | 121/150 [20:04<05:06, 10.56s/it]"
     ]
    },
    {
     "name": "stdout",
     "output_type": "stream",
     "text": [
      "\n",
      "  training loss (in-iteration):\t\t0.159040\n",
      "  train accuracy:\t\t97.23 %\n",
      "  validation accuracy:\t\t96.88 %\n",
      "Epoch 122 of 150 took 10.694s"
     ]
    },
    {
     "name": "stderr",
     "output_type": "stream",
     "text": [
      "\r",
      " 81%|████████▏ | 122/150 [20:14<04:56, 10.60s/it]"
     ]
    },
    {
     "name": "stdout",
     "output_type": "stream",
     "text": [
      "\n",
      "  training loss (in-iteration):\t\t0.158508\n",
      "  train accuracy:\t\t97.31 %\n",
      "  validation accuracy:\t\t96.56 %\n",
      "Epoch 123 of 150 took 10.406s"
     ]
    },
    {
     "name": "stderr",
     "output_type": "stream",
     "text": [
      "\r",
      " 82%|████████▏ | 123/150 [20:25<04:44, 10.54s/it]"
     ]
    },
    {
     "name": "stdout",
     "output_type": "stream",
     "text": [
      "\n",
      "  training loss (in-iteration):\t\t0.158001\n",
      "  train accuracy:\t\t97.15 %\n",
      "  validation accuracy:\t\t96.83 %\n",
      "Epoch 124 of 150 took 10.877s"
     ]
    },
    {
     "name": "stderr",
     "output_type": "stream",
     "text": [
      "\r",
      " 83%|████████▎ | 124/150 [20:36<04:36, 10.64s/it]"
     ]
    },
    {
     "name": "stdout",
     "output_type": "stream",
     "text": [
      "\n",
      "  training loss (in-iteration):\t\t0.157289\n",
      "  train accuracy:\t\t97.25 %\n",
      "  validation accuracy:\t\t96.85 %\n",
      "Epoch 125 of 150 took 10.678s"
     ]
    },
    {
     "name": "stderr",
     "output_type": "stream",
     "text": [
      "\r",
      " 83%|████████▎ | 125/150 [20:46<04:26, 10.65s/it]"
     ]
    },
    {
     "name": "stdout",
     "output_type": "stream",
     "text": [
      "\n",
      "  training loss (in-iteration):\t\t0.155918\n",
      "  train accuracy:\t\t97.27 %\n",
      "  validation accuracy:\t\t97.14 %\n",
      "Epoch 126 of 150 took 10.028s"
     ]
    },
    {
     "name": "stderr",
     "output_type": "stream",
     "text": [
      "\r",
      " 84%|████████▍ | 126/150 [20:56<04:11, 10.47s/it]"
     ]
    },
    {
     "name": "stdout",
     "output_type": "stream",
     "text": [
      "\n",
      "  training loss (in-iteration):\t\t0.155365\n",
      "  train accuracy:\t\t97.29 %\n",
      "  validation accuracy:\t\t97.25 %\n",
      "Epoch 127 of 150 took 10.690s"
     ]
    },
    {
     "name": "stderr",
     "output_type": "stream",
     "text": [
      "\r",
      " 85%|████████▍ | 127/150 [21:07<04:02, 10.53s/it]"
     ]
    },
    {
     "name": "stdout",
     "output_type": "stream",
     "text": [
      "\n",
      "  training loss (in-iteration):\t\t0.154933\n",
      "  train accuracy:\t\t97.24 %\n",
      "  validation accuracy:\t\t97.04 %\n",
      "Epoch 128 of 150 took 10.347s"
     ]
    },
    {
     "name": "stderr",
     "output_type": "stream",
     "text": [
      "\r",
      " 85%|████████▌ | 128/150 [21:18<03:50, 10.48s/it]"
     ]
    },
    {
     "name": "stdout",
     "output_type": "stream",
     "text": [
      "\n",
      "  training loss (in-iteration):\t\t0.153970\n",
      "  train accuracy:\t\t97.34 %\n",
      "  validation accuracy:\t\t96.98 %\n",
      "Epoch 129 of 150 took 10.033s"
     ]
    },
    {
     "name": "stderr",
     "output_type": "stream",
     "text": [
      "\r",
      " 86%|████████▌ | 129/150 [21:28<03:37, 10.34s/it]"
     ]
    },
    {
     "name": "stdout",
     "output_type": "stream",
     "text": [
      "\n",
      "  training loss (in-iteration):\t\t0.153944\n",
      "  train accuracy:\t\t97.26 %\n",
      "  validation accuracy:\t\t97.21 %\n",
      "Epoch 130 of 150 took 10.355s"
     ]
    },
    {
     "name": "stderr",
     "output_type": "stream",
     "text": [
      "\r",
      " 87%|████████▋ | 130/150 [21:38<03:26, 10.35s/it]"
     ]
    },
    {
     "name": "stdout",
     "output_type": "stream",
     "text": [
      "\n",
      "  training loss (in-iteration):\t\t0.152279\n",
      "  train accuracy:\t\t97.33 %\n",
      "  validation accuracy:\t\t96.97 %\n",
      "Epoch 131 of 150 took 10.968s"
     ]
    },
    {
     "name": "stderr",
     "output_type": "stream",
     "text": [
      "\r",
      " 87%|████████▋ | 131/150 [21:49<03:20, 10.53s/it]"
     ]
    },
    {
     "name": "stdout",
     "output_type": "stream",
     "text": [
      "\n",
      "  training loss (in-iteration):\t\t0.153413\n",
      "  train accuracy:\t\t97.29 %\n",
      "  validation accuracy:\t\t96.84 %\n",
      "Epoch 132 of 150 took 11.117s"
     ]
    },
    {
     "name": "stderr",
     "output_type": "stream",
     "text": [
      "\r",
      " 88%|████████▊ | 132/150 [22:00<03:12, 10.71s/it]"
     ]
    },
    {
     "name": "stdout",
     "output_type": "stream",
     "text": [
      "\n",
      "  training loss (in-iteration):\t\t0.152304\n",
      "  train accuracy:\t\t97.31 %\n",
      "  validation accuracy:\t\t96.81 %\n",
      "Epoch 133 of 150 took 10.532s"
     ]
    },
    {
     "name": "stderr",
     "output_type": "stream",
     "text": [
      "\r",
      " 89%|████████▊ | 133/150 [22:11<03:01, 10.66s/it]"
     ]
    },
    {
     "name": "stdout",
     "output_type": "stream",
     "text": [
      "\n",
      "  training loss (in-iteration):\t\t0.151608\n",
      "  train accuracy:\t\t97.35 %\n",
      "  validation accuracy:\t\t97.07 %\n",
      "Epoch 134 of 150 took 10.384s"
     ]
    },
    {
     "name": "stderr",
     "output_type": "stream",
     "text": [
      "\r",
      " 89%|████████▉ | 134/150 [22:21<02:49, 10.58s/it]"
     ]
    },
    {
     "name": "stdout",
     "output_type": "stream",
     "text": [
      "\n",
      "  training loss (in-iteration):\t\t0.150945\n",
      "  train accuracy:\t\t97.38 %\n",
      "  validation accuracy:\t\t97.21 %\n",
      "Epoch 135 of 150 took 10.489s"
     ]
    },
    {
     "name": "stderr",
     "output_type": "stream",
     "text": [
      "\r",
      " 90%|█████████ | 135/150 [22:31<02:38, 10.55s/it]"
     ]
    },
    {
     "name": "stdout",
     "output_type": "stream",
     "text": [
      "\n",
      "  training loss (in-iteration):\t\t0.150500\n",
      "  train accuracy:\t\t97.44 %\n",
      "  validation accuracy:\t\t97.02 %\n",
      "Epoch 136 of 150 took 10.207s"
     ]
    },
    {
     "name": "stderr",
     "output_type": "stream",
     "text": [
      "\r",
      " 91%|█████████ | 136/150 [22:42<02:26, 10.45s/it]"
     ]
    },
    {
     "name": "stdout",
     "output_type": "stream",
     "text": [
      "\n",
      "  training loss (in-iteration):\t\t0.150597\n",
      "  train accuracy:\t\t97.35 %\n",
      "  validation accuracy:\t\t97.05 %\n",
      "Epoch 137 of 150 took 10.490s"
     ]
    },
    {
     "name": "stderr",
     "output_type": "stream",
     "text": [
      "\r",
      " 91%|█████████▏| 137/150 [22:52<02:15, 10.46s/it]"
     ]
    },
    {
     "name": "stdout",
     "output_type": "stream",
     "text": [
      "\n",
      "  training loss (in-iteration):\t\t0.148934\n",
      "  train accuracy:\t\t97.38 %\n",
      "  validation accuracy:\t\t97.08 %\n",
      "Epoch 138 of 150 took 9.800s"
     ]
    },
    {
     "name": "stderr",
     "output_type": "stream",
     "text": [
      "\r",
      " 92%|█████████▏| 138/150 [23:02<02:03, 10.26s/it]"
     ]
    },
    {
     "name": "stdout",
     "output_type": "stream",
     "text": [
      "\n",
      "  training loss (in-iteration):\t\t0.148950\n",
      "  train accuracy:\t\t97.40 %\n",
      "  validation accuracy:\t\t97.15 %\n",
      "Epoch 139 of 150 took 10.104s"
     ]
    },
    {
     "name": "stderr",
     "output_type": "stream",
     "text": [
      "\r",
      " 93%|█████████▎| 139/150 [23:12<01:52, 10.22s/it]"
     ]
    },
    {
     "name": "stdout",
     "output_type": "stream",
     "text": [
      "\n",
      "  training loss (in-iteration):\t\t0.147396\n",
      "  train accuracy:\t\t97.46 %\n",
      "  validation accuracy:\t\t97.04 %\n",
      "Epoch 140 of 150 took 10.127s"
     ]
    },
    {
     "name": "stderr",
     "output_type": "stream",
     "text": [
      "\r",
      " 93%|█████████▎| 140/150 [23:22<01:41, 10.19s/it]"
     ]
    },
    {
     "name": "stdout",
     "output_type": "stream",
     "text": [
      "\n",
      "  training loss (in-iteration):\t\t0.147512\n",
      "  train accuracy:\t\t97.42 %\n",
      "  validation accuracy:\t\t96.88 %\n",
      "Epoch 141 of 150 took 10.727s"
     ]
    },
    {
     "name": "stderr",
     "output_type": "stream",
     "text": [
      "\r",
      " 94%|█████████▍| 141/150 [23:33<01:33, 10.35s/it]"
     ]
    },
    {
     "name": "stdout",
     "output_type": "stream",
     "text": [
      "\n",
      "  training loss (in-iteration):\t\t0.147431\n",
      "  train accuracy:\t\t97.36 %\n",
      "  validation accuracy:\t\t97.08 %\n",
      "Epoch 142 of 150 took 11.080s"
     ]
    },
    {
     "name": "stderr",
     "output_type": "stream",
     "text": [
      "\r",
      " 95%|█████████▍| 142/150 [23:44<01:24, 10.57s/it]"
     ]
    },
    {
     "name": "stdout",
     "output_type": "stream",
     "text": [
      "\n",
      "  training loss (in-iteration):\t\t0.146088\n",
      "  train accuracy:\t\t97.37 %\n",
      "  validation accuracy:\t\t97.08 %\n",
      "Epoch 143 of 150 took 10.982s"
     ]
    },
    {
     "name": "stderr",
     "output_type": "stream",
     "text": [
      "\r",
      " 95%|█████████▌| 143/150 [23:55<01:14, 10.69s/it]"
     ]
    },
    {
     "name": "stdout",
     "output_type": "stream",
     "text": [
      "\n",
      "  training loss (in-iteration):\t\t0.145734\n",
      "  train accuracy:\t\t97.43 %\n",
      "  validation accuracy:\t\t97.09 %\n",
      "Epoch 144 of 150 took 11.125s"
     ]
    },
    {
     "name": "stderr",
     "output_type": "stream",
     "text": [
      "\r",
      " 96%|█████████▌| 144/150 [24:06<01:04, 10.82s/it]"
     ]
    },
    {
     "name": "stdout",
     "output_type": "stream",
     "text": [
      "\n",
      "  training loss (in-iteration):\t\t0.144879\n",
      "  train accuracy:\t\t97.46 %\n",
      "  validation accuracy:\t\t97.03 %\n",
      "Epoch 145 of 150 took 10.397s"
     ]
    },
    {
     "name": "stderr",
     "output_type": "stream",
     "text": [
      "\r",
      " 97%|█████████▋| 145/150 [24:16<00:53, 10.70s/it]"
     ]
    },
    {
     "name": "stdout",
     "output_type": "stream",
     "text": [
      "\n",
      "  training loss (in-iteration):\t\t0.145696\n",
      "  train accuracy:\t\t97.38 %\n",
      "  validation accuracy:\t\t96.95 %\n",
      "Epoch 146 of 150 took 11.112s"
     ]
    },
    {
     "name": "stderr",
     "output_type": "stream",
     "text": [
      "\r",
      " 97%|█████████▋| 146/150 [24:28<00:43, 10.82s/it]"
     ]
    },
    {
     "name": "stdout",
     "output_type": "stream",
     "text": [
      "\n",
      "  training loss (in-iteration):\t\t0.145302\n",
      "  train accuracy:\t\t97.41 %\n",
      "  validation accuracy:\t\t97.23 %\n",
      "Epoch 147 of 150 took 9.989s"
     ]
    },
    {
     "name": "stderr",
     "output_type": "stream",
     "text": [
      "\r",
      " 98%|█████████▊| 147/150 [24:38<00:31, 10.57s/it]"
     ]
    },
    {
     "name": "stdout",
     "output_type": "stream",
     "text": [
      "\n",
      "  training loss (in-iteration):\t\t0.143968\n",
      "  train accuracy:\t\t97.41 %\n",
      "  validation accuracy:\t\t97.01 %\n",
      "Epoch 148 of 150 took 10.063s"
     ]
    },
    {
     "name": "stderr",
     "output_type": "stream",
     "text": [
      "\r",
      " 99%|█████████▊| 148/150 [24:48<00:20, 10.42s/it]"
     ]
    },
    {
     "name": "stdout",
     "output_type": "stream",
     "text": [
      "\n",
      "  training loss (in-iteration):\t\t0.143724\n",
      "  train accuracy:\t\t97.49 %\n",
      "  validation accuracy:\t\t97.00 %\n",
      "Epoch 149 of 150 took 10.956s"
     ]
    },
    {
     "name": "stderr",
     "output_type": "stream",
     "text": [
      "\r",
      " 99%|█████████▉| 149/150 [24:59<00:10, 10.58s/it]"
     ]
    },
    {
     "name": "stdout",
     "output_type": "stream",
     "text": [
      "\n",
      "  training loss (in-iteration):\t\t0.142447\n",
      "  train accuracy:\t\t97.48 %\n",
      "  validation accuracy:\t\t97.14 %\n",
      "Epoch 150 of 150 took 11.391s"
     ]
    },
    {
     "name": "stderr",
     "output_type": "stream",
     "text": [
      "\r",
      "100%|██████████| 150/150 [25:10<00:00, 10.82s/it]"
     ]
    },
    {
     "name": "stdout",
     "output_type": "stream",
     "text": [
      "\n",
      "  training loss (in-iteration):\t\t0.143370\n",
      "  train accuracy:\t\t97.46 %\n",
      "  validation accuracy:\t\t97.19 %\n"
     ]
    },
    {
     "name": "stderr",
     "output_type": "stream",
     "text": [
      "\n"
     ]
    }
   ],
   "source": [
    "import time\n",
    "from tqdm import tqdm\n",
    "\n",
    "num_epochs = 150 #количество проходов по данным\n",
    "\n",
    "batch_size = 50 #размер мини-батча\n",
    "\n",
    "train_accuracy = []\n",
    "val_accuracy = []\n",
    "\n",
    "for epoch in tqdm(range(num_epochs)):\n",
    "    # In each epoch, we do a full pass over the training data:\n",
    "    train_err = 0\n",
    "    train_acc = 0\n",
    "    train_batches = 0\n",
    "    start_time = time.time()\n",
    "    for batch in iterate_minibatches(X_train, y_train, batch_size):\n",
    "        \n",
    "        inputs, targets = batch\n",
    "        train_err_batch, train_acc_batch= train_fun(inputs, targets)\n",
    "        train_err += train_err_batch\n",
    "        train_acc += train_acc_batch\n",
    "        train_batches += 1\n",
    "\n",
    "    # And a full pass over the validation data:\n",
    "    val_acc = 0\n",
    "    val_batches = 0\n",
    "    for batch in iterate_minibatches(X_val, y_val, batch_size):\n",
    "        inputs, targets = batch\n",
    "        val_acc += accuracy_fun(inputs, targets)\n",
    "        val_batches += 1\n",
    "\n",
    "    \n",
    "    # Then we print the results for this epoch:\n",
    "    print(\"Epoch {} of {} took {:.3f}s\".format(\n",
    "        epoch + 1, num_epochs, time.time() - start_time))\n",
    "\n",
    "    print(\"  training loss (in-iteration):\\t\\t{:.6f}\".format(train_err / train_batches))\n",
    "    print(\"  train accuracy:\\t\\t{:.2f} %\".format(\n",
    "        train_acc / train_batches * 100))\n",
    "    print(\"  validation accuracy:\\t\\t{:.2f} %\".format(\n",
    "        val_acc / val_batches * 100))\n",
    "    \n",
    "    train_accuracy.append(train_acc / train_batches * 100)\n",
    "    val_accuracy.append(val_acc / val_batches * 100)"
   ]
  },
  {
   "cell_type": "code",
   "execution_count": 11,
   "metadata": {
    "collapsed": false
   },
   "outputs": [
    {
     "name": "stdout",
     "output_type": "stream",
     "text": [
      "Final results:\n",
      "  test accuracy:\t\t97.00 %\n",
      "Нужно больше магии!\n"
     ]
    }
   ],
   "source": [
    "test_acc = 0\n",
    "test_batches = 0\n",
    "for batch in iterate_minibatches(X_test, y_test, 500):\n",
    "    inputs, targets = batch\n",
    "    acc = accuracy_fun(inputs, targets)\n",
    "    test_acc += acc\n",
    "    test_batches += 1\n",
    "print(\"Final results:\")\n",
    "print(\"  test accuracy:\\t\\t{:.2f} %\".format(\n",
    "    test_acc / test_batches * 100))\n",
    "\n",
    "if test_acc / test_batches * 100 > 99:\n",
    "    print (\"Achievement unlocked: колдун 80 уровня\")\n",
    "else:\n",
    "    print (\"Нужно больше магии!\")"
   ]
  },
  {
   "cell_type": "code",
   "execution_count": 72,
   "metadata": {
    "collapsed": false
   },
   "outputs": [
    {
     "name": "stdout",
     "output_type": "stream",
     "text": [
      "('params: ', [array([[  1.19563886e-321,   1.21540149e-321,  -1.19563886e-321, ...,\n",
      "         -1.19563886e-321,  -1.20552018e-321,   1.18575755e-321],\n",
      "       [ -1.22528280e-321,  -1.22528280e-321,  -1.21540149e-321, ...,\n",
      "         -1.22528280e-321,   1.22528280e-321,  -1.18575755e-321],\n",
      "       [ -1.18575755e-321,  -1.21540149e-321,   1.22528280e-321, ...,\n",
      "         -1.22528280e-321,   1.21540149e-321,   1.22528280e-321],\n",
      "       ..., \n",
      "       [  1.19563886e-321,   1.21540149e-321,   1.22528280e-321, ...,\n",
      "          1.20552018e-321,  -1.21540149e-321,   1.22528280e-321],\n",
      "       [  1.22528280e-321,   1.21540149e-321,   1.22528280e-321, ...,\n",
      "         -1.19563886e-321,   1.21540149e-321,  -1.21540149e-321],\n",
      "       [  1.18575755e-321,  -1.21540149e-321,   1.20552018e-321, ...,\n",
      "         -1.22528280e-321,   1.21540149e-321,   1.21540149e-321]]), array([-0.0068236 ,  0.0094755 ,  0.04961613, -0.00534112,  0.01234983,\n",
      "        0.04865208,  0.02783767,  0.07810512,  0.00516018, -0.00504561,\n",
      "        0.00018843,  0.05359516,  0.07348217, -0.01391158,  0.00496446,\n",
      "        0.07791105,  0.00073193,  0.03506509,  0.07902831,  0.07208399,\n",
      "       -0.01248425,  0.0977487 ,  0.08336922,  0.01041238,  0.00564946,\n",
      "        0.03636997,  0.05377382,  0.09107394,  0.08461249,  0.060189  ,\n",
      "        0.06685063,  0.02874742,  0.06179405,  0.08115276,  0.04805462,\n",
      "        0.01087552, -0.00705731,  0.02106539,  0.01358928,  0.01272914,\n",
      "        0.06636269, -0.01780447,  0.01820866, -0.00031873,  0.02316244,\n",
      "        0.12969015,  0.08921032,  0.06862926, -0.00871112,  0.10430814,\n",
      "        0.06565437,  0.0714584 ,  0.00485813, -0.00862035,  0.02106172,\n",
      "        0.0452303 ,  0.07395559,  0.1055077 , -0.01029448,  0.05461488,\n",
      "       -0.00299099,  0.00768891,  0.02113907,  0.12731919,  0.10188683,\n",
      "        0.02116118, -0.01391752,  0.03087706, -0.02505471,  0.08610695,\n",
      "        0.1474644 ,  0.12903687,  0.0397184 ,  0.00668075,  0.02908599,\n",
      "        0.01041207, -0.00519902,  0.04559648,  0.01200049,  0.00947094,\n",
      "        0.01219632, -0.01897554,  0.04940172,  0.01165392,  0.05795529,\n",
      "        0.02183145,  0.00408543,  0.03926184,  0.02118883,  0.02322061,\n",
      "        0.10734237,  0.01496837,  0.08128312,  0.02767472,  0.09497594,\n",
      "        0.12065284,  0.15223891,  0.11566467,  0.0584394 ,  0.04878161,\n",
      "        0.1403153 ,  0.06230529, -0.02030762,  0.07037965,  0.00328229,\n",
      "        0.01750041,  0.07629371,  0.04041389, -0.00943218,  0.0429067 ,\n",
      "        0.0219559 ,  0.01497076,  0.01619355,  0.11143565,  0.06896941,\n",
      "        0.00396911, -0.00871148,  0.05646705,  0.03778284,  0.09669311,\n",
      "        0.06106369, -0.0129933 ,  0.05152755,  0.00794188, -0.01025955,\n",
      "        0.01875939,  0.06774743, -0.00382595]), array([[-0.00582471,  0.05992106, -0.03375955, ..., -0.00519742,\n",
      "         0.0452249 ,  0.07330968],\n",
      "       [-0.19541954, -0.38340382, -0.10178332, ...,  0.14107307,\n",
      "         0.02913107,  0.03750133],\n",
      "       [ 0.03391047, -0.03330912, -0.0713442 , ..., -0.19550077,\n",
      "         0.15621551,  0.04284714],\n",
      "       ..., \n",
      "       [ 0.06396581, -0.49995475, -0.24842796, ...,  0.11595465,\n",
      "        -0.34413389, -0.19000204],\n",
      "       [ 0.0503401 ,  0.14859497, -0.02649985, ...,  0.09218618,\n",
      "        -0.03006196,  0.07973201],\n",
      "       [-0.22527417,  0.13788958,  0.03085102, ...,  0.1140984 ,\n",
      "        -0.10823715, -0.12638964]]), array([ 0.00690839, -0.01660212, -0.03374274, -0.00470184,  0.06327678,\n",
      "        0.01501667, -0.01413963, -0.02497849,  0.00612629,  0.05394   ,\n",
      "        0.09155461, -0.02333096,  0.02333574, -0.0066217 , -0.02712651,\n",
      "        0.0286268 , -0.01923801,  0.01055943, -0.00185264,  0.01379614,\n",
      "        0.00099971, -0.08060041,  0.00366184, -0.03019762, -0.00702518,\n",
      "        0.03383614, -0.01340012, -0.01526979,  0.04547788,  0.03198511,\n",
      "       -0.04965839,  0.00584932,  0.01421538,  0.0004157 ,  0.02143982,\n",
      "        0.00706883,  0.01835964,  0.03905044, -0.04900496,  0.05119231,\n",
      "       -0.00846572, -0.07027915, -0.00012177,  0.02501225, -0.01391703,\n",
      "        0.03086637, -0.00760209, -0.02535448, -0.0232734 ,  0.01206505,\n",
      "        0.0091229 , -0.01105751, -0.0510915 , -0.0226058 , -0.01405089,\n",
      "       -0.04628112, -0.02291914,  0.04067952, -0.02881418, -0.02679753,\n",
      "       -0.00930313,  0.04133694,  0.00150944,  0.02204583,  0.03018036,\n",
      "        0.04116802,  0.03992573,  0.02373792,  0.0087015 ,  0.02029898,\n",
      "        0.00089632,  0.01602583,  0.00191553, -0.02692955, -0.009748  ,\n",
      "        0.04499144,  0.00700533,  0.04690926,  0.00833876, -0.00644582,\n",
      "        0.0667463 , -0.01147185,  0.01747078, -0.0582655 , -0.00344529,\n",
      "       -0.08851235, -0.01315701,  0.04612541, -0.05177697,  0.00676087,\n",
      "        0.04120412, -0.01334032,  0.03702832,  0.00212588,  0.0037414 ,\n",
      "       -0.00408866, -0.00257441, -0.02410905, -0.02089771, -0.02560774,\n",
      "       -0.02555099, -0.03455285,  0.02055331, -0.00271136,  0.00465928,\n",
      "        0.00432936,  0.01797244,  0.03712741, -0.01335535, -0.01480492,\n",
      "        0.01814777, -0.0090655 ,  0.03925115, -0.05818666, -0.05113005,\n",
      "        0.03171318,  0.01507163, -0.01052473, -0.00820879, -0.01056685,\n",
      "       -0.00171158,  0.0361546 , -0.00306607,  0.03959592,  0.05307424,\n",
      "        0.02659923,  0.02913131,  0.02875798, -0.0027032 ,  0.0431604 ,\n",
      "        0.01604191,  0.00269656,  0.05864537,  0.0353454 ,  0.01357384,\n",
      "       -0.01375249, -0.01197022,  0.03143222,  0.02208395, -0.02616946,\n",
      "        0.02205325,  0.02258655,  0.06012925, -0.00676854, -0.02810658,\n",
      "       -0.01478832,  0.00854048, -0.04033553,  0.00830414,  0.01065946,\n",
      "        0.04571618, -0.00591109, -0.00647338,  0.00827399,  0.00909085,\n",
      "       -0.05931197,  0.01288845, -0.03186184,  0.04015654, -0.02062981,\n",
      "        0.02138809, -0.0226715 ,  0.02320067, -0.01696442, -0.04313048,\n",
      "        0.00336382,  0.01126123,  0.02337833,  0.02437838,  0.01459671,\n",
      "       -0.01708779, -0.04328145, -0.04073077, -0.00027972, -0.01501201,\n",
      "        0.01325663,  0.06151748, -0.01844764,  0.0003201 , -0.01021576,\n",
      "       -0.03191699,  0.02376379,  0.04501673,  0.04725271, -0.06924452,\n",
      "       -0.01307601, -0.00683379, -0.04052102, -0.02724546,  0.0098652 ,\n",
      "        0.06115819,  0.04992394,  0.00010957,  0.0076179 , -0.00479336,\n",
      "        0.02655904, -0.01949684, -0.05421893, -0.02285539, -0.02133694,\n",
      "       -0.04347521,  0.02086134, -0.00619411, -0.02748331, -0.07878346,\n",
      "       -0.00274068,  0.00136455, -0.02628559,  0.01613505,  0.02268438,\n",
      "       -0.01520993,  0.01625974, -0.03273008, -0.00098523, -0.01635892,\n",
      "       -0.02374278,  0.01071508, -0.01840867,  0.04078582, -0.00507962,\n",
      "       -0.00115314, -0.0657058 , -0.04108669,  0.00351788,  0.01175058,\n",
      "       -0.01868458, -0.04374324, -0.01300089,  0.01231029,  0.02490551,\n",
      "        0.05287332,  0.03549142, -0.02558779, -0.02288259, -0.04697274,\n",
      "       -0.01320964,  0.00323853,  0.0475905 , -0.01535564, -0.04585599,\n",
      "        0.00237404,  0.00073138,  0.02822305, -0.01422439,  0.01452521,\n",
      "       -0.0027804 ,  0.03607517, -0.0023792 ,  0.0476035 ,  0.00355344,\n",
      "        0.00322513, -0.0104798 , -0.03413077,  0.00372334, -0.07465069,\n",
      "       -0.00107068]), array([[ 0.05614157, -0.14965496, -0.20033932, ...,  0.14193926,\n",
      "         0.05287859, -0.01092566],\n",
      "       [ 0.0411714 , -0.06183178,  0.05436907, ...,  0.02873488,\n",
      "         0.04643365,  0.01355889],\n",
      "       [-0.02801478, -0.15852863, -0.06764944, ...,  0.13816843,\n",
      "         0.07122834, -0.02584913],\n",
      "       ..., \n",
      "       [ 0.03805039, -0.02928886, -0.06462522, ..., -0.04244693,\n",
      "        -0.06791125,  0.03877745],\n",
      "       [-0.11814461,  0.09893454,  0.14111373, ...,  0.08764844,\n",
      "         0.04368761, -0.08870312],\n",
      "       [-0.04372437,  0.04104225, -0.1952019 , ...,  0.17317684,\n",
      "        -0.03170314,  0.11487361]]), array([  2.74726116e-04,   3.07836183e-02,   1.18897228e-02,\n",
      "        -3.73932920e-03,   3.68249614e-02,   0.00000000e+00,\n",
      "         0.00000000e+00,   0.00000000e+00,   7.71434270e-03,\n",
      "         1.65691120e-02,   3.71621581e-02,   1.00185062e-02,\n",
      "         4.61571978e-02,  -2.10114923e-03,   1.64640955e-02,\n",
      "         6.88570755e-03,   0.00000000e+00,   2.00619373e-02,\n",
      "         0.00000000e+00,  -3.06641733e-03,   0.00000000e+00,\n",
      "         9.50448703e-03,   7.69584846e-03,   2.82907276e-03,\n",
      "         1.09458997e-03,   1.01751498e-02,   0.00000000e+00,\n",
      "         2.26212229e-02,   0.00000000e+00,   0.00000000e+00,\n",
      "         0.00000000e+00,   3.49932228e-03,   0.00000000e+00,\n",
      "         0.00000000e+00,   0.00000000e+00,  -3.28874256e-03,\n",
      "         0.00000000e+00,   0.00000000e+00,   0.00000000e+00,\n",
      "         2.17215847e-02,   4.42617423e-03,   1.57389681e-02,\n",
      "         2.06259886e-02,   1.79856792e-02,   2.16233535e-02,\n",
      "         9.66974968e-03,   0.00000000e+00,   0.00000000e+00,\n",
      "         0.00000000e+00,   3.98806814e-02,   0.00000000e+00,\n",
      "         5.18780711e-03,   0.00000000e+00,  -2.76327934e-05,\n",
      "         0.00000000e+00,   1.77999693e-02,   7.60926501e-03,\n",
      "         1.07652767e-02,   3.32906339e-02,   0.00000000e+00,\n",
      "         0.00000000e+00,   4.49226395e-02,   2.29884952e-03,\n",
      "         0.00000000e+00]), array([[  6.79739958e-02,   2.03960744e-01,   1.18160445e-01,\n",
      "          5.16966841e-02,  -2.36345054e-02,  -1.60789929e-01,\n",
      "         -2.78882174e-01,   3.89834325e-02,   2.14089702e-01,\n",
      "         -1.44302631e-01],\n",
      "       [  1.98648699e-01,  -6.62529254e-01,   4.64078012e-01,\n",
      "          1.80767852e-01,  -8.83660603e-02,  -8.70687342e-02,\n",
      "          3.01122763e-01,  -4.46772776e-02,  -2.88582694e-01,\n",
      "         -3.54650706e-01],\n",
      "       [  9.28487599e-02,   2.95399801e-01,   7.65098808e-01,\n",
      "          4.97590295e-01,  -1.22771661e+00,  -4.65455143e-01,\n",
      "         -7.80672357e-01,   1.52779868e-01,  -3.71786117e-02,\n",
      "         -1.71982301e-01],\n",
      "       [ -4.83221198e-01,  -6.36502833e-01,  -7.75534339e-01,\n",
      "         -6.33342149e-01,   5.49143836e-01,  -3.03565879e-01,\n",
      "         -4.11162332e-01,  -4.25576400e-02,   6.91761586e-01,\n",
      "          4.22466809e-01],\n",
      "       [  4.77656032e-01,  -7.62716830e-01,   3.99416705e-01,\n",
      "         -3.34641296e-01,  -1.78323952e-01,   2.01830442e-01,\n",
      "          8.17642880e-02,   1.68540475e-01,  -3.38834806e-01,\n",
      "         -2.12896161e-01],\n",
      "       [ -6.70240712e-02,   2.16639062e-01,   3.70445685e-02,\n",
      "         -1.70380696e-01,  -1.66132069e-01,   1.51313155e-01,\n",
      "          1.87094555e-01,   1.41963391e-01,   1.70414704e-01,\n",
      "          2.74317705e-01],\n",
      "       [  3.06715785e-03,  -1.21404382e-01,  -2.86309956e-02,\n",
      "         -1.89955132e-01,  -4.74388753e-02,  -2.35549777e-01,\n",
      "         -5.03850014e-02,  -2.22021638e-01,   1.42020424e-01,\n",
      "          1.50032880e-01],\n",
      "       [ -2.75101067e-01,  -2.04058417e-01,   2.07966034e-01,\n",
      "         -2.53959793e-01,   1.87129581e-01,  -7.14069040e-02,\n",
      "          1.34964491e-01,  -1.67697209e-01,   9.26406516e-02,\n",
      "          6.88210591e-02],\n",
      "       [ -7.41009614e-01,   4.21065871e-01,   2.39916281e-01,\n",
      "          6.41079765e-01,  -7.63558081e-01,  -5.77307886e-01,\n",
      "         -1.37274410e+00,   4.14715223e-01,  -7.18789251e-02,\n",
      "          2.89022551e-01],\n",
      "       [ -1.40997930e-01,   3.72052632e-01,  -2.60404761e-02,\n",
      "          6.58832783e-01,  -9.91435258e-01,   4.68351976e-01,\n",
      "         -7.15343653e-01,   7.69475096e-01,  -9.78417814e-01,\n",
      "         -7.08502562e-01],\n",
      "       [ -5.24767486e-01,   2.85930183e-01,   4.94920111e-02,\n",
      "         -8.84192329e-01,   5.19452848e-01,  -2.48538855e-01,\n",
      "          4.07574724e-01,   2.77389583e-02,  -4.93269288e-01,\n",
      "         -8.51342066e-02],\n",
      "       [  1.04505071e-01,  -1.23566886e-01,  -1.03299872e+00,\n",
      "          1.37308425e-01,  -5.76944930e-01,   6.20103014e-01,\n",
      "         -1.35635822e+00,   6.05567763e-01,  -2.94821037e-01,\n",
      "          3.00065279e-01],\n",
      "       [  1.21308225e-01,   2.14626591e-01,  -1.78086360e-01,\n",
      "         -5.17406882e-01,   3.79223525e-01,  -5.43522789e-01,\n",
      "         -2.99270505e-01,   2.05671949e-01,   1.22600435e-01,\n",
      "          2.38773357e-01],\n",
      "       [ -1.93603687e-01,  -2.58483645e-01,   2.11068458e-01,\n",
      "         -2.32599788e-01,   2.28370788e-01,   1.90780747e-01,\n",
      "          1.38599477e-01,  -4.12163616e-02,   9.91437527e-02,\n",
      "         -4.68489913e-02],\n",
      "       [  1.02973027e-01,  -1.91820040e-01,   5.53254593e-01,\n",
      "          5.48180957e-01,  -1.68773175e+00,  -2.39545362e-01,\n",
      "         -3.19981520e-02,  -3.49467525e-01,   2.08485759e-02,\n",
      "         -1.55877324e+00],\n",
      "       [ -1.40548309e+00,   7.64616432e-01,  -4.39789425e-01,\n",
      "         -5.39931885e-01,   3.45794063e-03,  -1.34841873e-01,\n",
      "          2.94946255e-01,  -4.67153388e-01,  -3.37045075e-02,\n",
      "         -9.96698088e-02],\n",
      "       [  8.13056816e-02,  -1.59033363e-02,  -1.48524656e-01,\n",
      "         -2.49863729e-01,  -8.94582641e-02,   2.41085236e-01,\n",
      "         -1.85660177e-01,  -1.69886030e-01,  -1.78492352e-01,\n",
      "         -2.35738707e-01],\n",
      "       [ -5.35363098e-01,   4.37176704e-01,   4.63626237e-01,\n",
      "         -3.86520083e-01,   3.49985737e-01,  -2.85296932e-01,\n",
      "          6.28662598e-01,  -9.05684064e-01,   2.04964317e-01,\n",
      "         -4.38802654e-01],\n",
      "       [  1.41745262e-01,   2.84385794e-01,   2.82959227e-01,\n",
      "          2.45811822e-01,   1.59566155e-01,  -1.48575669e-01,\n",
      "          1.43770229e-01,   2.75669014e-01,   8.35831160e-03,\n",
      "         -1.08511618e-01],\n",
      "       [ -1.58692445e-01,  -2.13927294e-01,   2.64789461e-02,\n",
      "         -7.68531174e-03,  -2.09357451e-01,   3.68461197e-02,\n",
      "          1.64161829e-01,  -4.37608354e-02,   2.09225167e-01,\n",
      "         -2.45989316e-01],\n",
      "       [ -1.60325004e-01,   1.41576121e-01,  -1.04616421e-01,\n",
      "         -2.53757717e-01,   1.96092456e-01,  -1.41313310e-01,\n",
      "          9.00226277e-02,   1.74830491e-01,  -1.74269711e-01,\n",
      "          3.47756263e-02],\n",
      "       [ -8.83363499e-01,  -2.54919786e-02,  -5.78793122e-02,\n",
      "         -7.21310522e-02,   2.98883448e-01,  -9.26519125e-01,\n",
      "         -4.19374574e-01,   4.00571778e-01,  -2.88886567e-02,\n",
      "          6.47496096e-01],\n",
      "       [ -1.31504656e+00,   6.31321637e-01,  -5.04225836e-02,\n",
      "          6.02697995e-01,  -6.04040487e-01,  -4.63127470e-01,\n",
      "         -1.22139986e+00,   5.55291278e-01,   1.32873704e-01,\n",
      "          4.46646180e-01],\n",
      "       [ -1.23104048e+00,   5.60027764e-01,  -3.14902670e-01,\n",
      "         -1.49309240e-01,  -9.06721584e-02,  -6.07528045e-01,\n",
      "         -2.49820507e-01,  -2.52891096e-01,   4.01240674e-01,\n",
      "          2.09036743e-01],\n",
      "       [ -1.21198276e+00,   4.22701043e-01,  -1.15663748e+00,\n",
      "          7.14861319e-02,  -2.61622371e-01,   2.73599324e-01,\n",
      "         -1.22910277e+00,   6.45691866e-02,  -2.57483685e-01,\n",
      "          5.14482725e-01],\n",
      "       [ -1.16669869e+00,   3.95785758e-01,  -8.22981435e-01,\n",
      "          1.35343519e-01,   5.85720193e-01,   1.30390138e-01,\n",
      "          9.52547203e-02,   2.75434727e-01,  -4.28527125e-01,\n",
      "          1.18337364e-01],\n",
      "       [  3.60234573e-02,  -8.86320387e-02,  -2.34237925e-01,\n",
      "         -2.18535026e-01,   6.84412930e-02,   2.15882530e-01,\n",
      "         -1.83803769e-01,  -2.67438147e-02,  -1.22168296e-01,\n",
      "         -2.51132146e-01],\n",
      "       [  1.62152681e-01,  -1.50024735e-01,  -3.93527043e-01,\n",
      "          1.23770536e-01,   1.27630754e-01,   5.83936067e-03,\n",
      "         -1.68503783e-01,  -1.32155282e-01,  -1.41646528e-01,\n",
      "          2.88748812e-01],\n",
      "       [ -1.51436576e-01,  -1.36524927e-01,   4.07205965e-02,\n",
      "         -4.51020627e-02,  -1.94915287e-01,   1.86513684e-02,\n",
      "          4.23486427e-02,  -1.22706207e-01,   6.13180238e-02,\n",
      "         -2.42874989e-01],\n",
      "       [ -1.31237506e-01,  -2.82194875e-01,   1.57115189e-01,\n",
      "          2.77410969e-01,   1.86053476e-02,  -1.94541139e-01,\n",
      "          8.43784302e-02,   1.67664746e-01,   6.62785333e-02,\n",
      "          1.95027872e-01],\n",
      "       [  1.76742650e-01,  -1.90710740e-01,  -2.37397617e-01,\n",
      "         -2.89223581e-02,   1.25463264e-01,   2.10324663e-01,\n",
      "         -1.47858956e-02,   5.38493357e-02,  -1.35551809e-02,\n",
      "         -2.71538800e-01],\n",
      "       [  2.07968586e-01,  -9.59191691e-01,  -2.17395879e-01,\n",
      "          2.97500004e-01,  -5.07161878e-01,   3.73869588e-01,\n",
      "         -4.59318372e-01,  -5.29833540e-01,   1.63048150e-01,\n",
      "         -2.10650466e-02],\n",
      "       [ -1.77797599e-01,  -3.94978825e-02,  -1.08358113e-01,\n",
      "          1.20639824e-01,  -1.43690648e-02,  -1.18731042e-01,\n",
      "          6.70260915e-02,  -2.43055457e-01,   2.52195627e-01,\n",
      "         -8.53715324e-03],\n",
      "       [ -2.18437136e-01,   2.14037974e-01,  -6.65679501e-03,\n",
      "         -1.85392383e-01,   2.70687386e-01,  -3.53562445e-02,\n",
      "          6.11795708e-02,   8.15516871e-02,  -1.12586059e-01,\n",
      "          2.25222184e-01],\n",
      "       [ -2.74826437e-01,  -7.07532131e-03,  -2.58260595e-01,\n",
      "          3.69107429e-02,  -1.14506524e-01,  -1.49815366e-02,\n",
      "          1.27917350e-01,  -2.56467532e-01,   1.30684822e-01,\n",
      "         -3.52689405e-02],\n",
      "       [ -5.25824338e-01,   3.99072289e-01,  -4.89353857e-01,\n",
      "         -1.96223940e-01,   9.20717583e-02,   2.85291247e-01,\n",
      "          3.53797843e-01,  -1.56969820e+00,   6.62848912e-01,\n",
      "         -5.19374608e-01],\n",
      "       [ -1.66353086e-01,   1.13675503e-01,   1.56779683e-01,\n",
      "         -1.67768380e-01,  -2.80579306e-01,  -1.95598135e-01,\n",
      "         -3.03416222e-02,  -1.70524935e-01,  -2.41810275e-02,\n",
      "         -1.64425012e-01],\n",
      "       [ -6.45144041e-02,  -1.07942157e-02,  -1.31921148e-02,\n",
      "          2.70021152e-01,  -4.91818448e-02,  -2.68815312e-01,\n",
      "         -1.51574824e-02,   1.39425891e-01,   1.91444133e-01,\n",
      "         -6.34176938e-02],\n",
      "       [ -2.81652038e-01,   1.01696876e-01,   1.22990608e-01,\n",
      "         -1.41044199e-01,  -2.03565154e-01,   1.52160874e-01,\n",
      "          2.01610476e-02,  -2.17277548e-01,  -1.27817624e-01,\n",
      "         -2.71308384e-02],\n",
      "       [  1.39480696e-01,  -2.64098551e-01,  -5.04725874e-01,\n",
      "         -7.51794648e-01,   4.60841069e-01,   3.12272912e-01,\n",
      "          5.70247297e-01,  -2.08657676e-02,  -7.03658862e-01,\n",
      "         -1.45676678e-01],\n",
      "       [ -8.36570033e-01,   5.21057390e-01,   4.55377251e-02,\n",
      "          3.07748369e-01,  -2.64177361e-01,  -1.65711250e-01,\n",
      "         -8.00062347e-01,   3.83583862e-01,  -6.17496513e-02,\n",
      "          2.46132593e-01],\n",
      "       [  5.54911769e-01,  -1.06988248e+00,  -4.75250882e-01,\n",
      "         -5.60358847e-01,  -1.11133830e-01,   3.97817217e-01,\n",
      "          4.82698724e-02,   6.08338829e-01,  -1.56827374e+00,\n",
      "         -2.82846401e-01],\n",
      "       [ -1.02330793e-01,   4.98957392e-02,   1.98381994e-01,\n",
      "         -6.15594821e-01,  -5.15681534e-02,  -3.69090838e-01,\n",
      "          2.43415365e-01,  -6.38913348e-01,   3.50063124e-01,\n",
      "          2.27204725e-01],\n",
      "       [  4.35977996e-01,  -9.47330630e-01,   2.95185704e-01,\n",
      "          2.02208094e-01,  -1.11059739e+00,   5.20628972e-02,\n",
      "          4.50766996e-01,  -6.87064450e-01,   1.52274608e-01,\n",
      "         -1.35485369e+00],\n",
      "       [  5.25060193e-01,  -1.37688105e+00,   1.09633403e-01,\n",
      "          1.67095282e-01,  -6.18703631e-01,   1.18224824e-01,\n",
      "          2.55654209e-01,   1.43863959e-01,  -3.16060854e-02,\n",
      "         -2.23887508e-01],\n",
      "       [  3.10079328e-02,   4.75596313e-03,  -1.65393133e-01,\n",
      "          2.04419908e-01,   1.82572183e-01,  -1.74245115e-02,\n",
      "         -1.23653736e-01,  -5.22368202e-01,   2.94178576e-01,\n",
      "         -1.59246349e-01],\n",
      "       [  1.93816916e-02,  -2.63060458e-01,   2.50561069e-01,\n",
      "          1.12736226e-02,   2.02475257e-01,  -2.29502281e-01,\n",
      "         -1.12310036e-01,  -1.16318889e-02,   2.39982538e-01,\n",
      "          2.43634181e-01],\n",
      "       [  2.76825539e-01,   4.50248950e-02,  -1.55768194e-01,\n",
      "         -3.01806853e-02,   6.67082348e-04,   2.59863041e-01,\n",
      "         -2.26470601e-01,  -1.09943041e-01,  -3.51752844e-02,\n",
      "          2.49117551e-01],\n",
      "       [  3.42953966e-02,   1.99199948e-01,   1.42913835e-03,\n",
      "          2.39428791e-01,  -1.63895865e-01,  -1.47570960e-01,\n",
      "          1.67014697e-01,   8.00173214e-02,  -3.93469086e-02,\n",
      "          2.65416748e-01],\n",
      "       [  3.96690090e-02,   5.87962971e-02,   9.20817065e-02,\n",
      "          1.32963786e-01,  -5.54145706e-02,   8.89170641e-02,\n",
      "          1.73345426e-01,  -4.23775232e-01,  -3.92777452e-01,\n",
      "         -1.94504670e-01],\n",
      "       [  2.08528957e-02,  -2.93872333e-02,  -2.67723563e-01,\n",
      "         -1.55347332e-01,  -1.10119618e-01,  -2.07950043e-01,\n",
      "         -8.30705479e-02,  -1.04546912e-01,  -1.52128699e-01,\n",
      "          8.27817627e-02],\n",
      "       [ -1.74108763e-01,  -7.13217346e-01,  -1.60381477e+00,\n",
      "         -1.96147063e-01,  -1.40311920e-01,   6.44127228e-01,\n",
      "         -1.89520522e-01,  -4.48896951e-01,   5.21035019e-01,\n",
      "          2.06814656e-01],\n",
      "       [ -1.09398476e-01,  -7.25887096e-02,  -7.58542956e-02,\n",
      "         -1.76792453e-01,  -1.08472098e-01,   2.23119011e-01,\n",
      "         -1.66739884e-02,   2.40858503e-01,   3.60942217e-02,\n",
      "         -2.81184498e-01],\n",
      "       [  1.57805358e-01,  -2.54241912e-01,   1.68709726e-01,\n",
      "          1.39980972e-01,  -7.95861537e-02,   3.58454929e-03,\n",
      "          1.06349478e-01,   2.83506451e-01,  -4.98049778e-02,\n",
      "         -8.04140803e-02],\n",
      "       [  1.47780608e-01,  -2.28408808e-01,  -2.21803429e-01,\n",
      "          6.56702246e-02,   1.85298479e-01,   2.47852685e-01,\n",
      "          5.86906540e-02,  -1.57542708e-01,   9.53263084e-02,\n",
      "         -1.38954069e-01],\n",
      "       [  1.76705666e-01,   4.33020915e-01,   1.75298056e-01,\n",
      "          5.17110874e-01,  -1.77710372e+00,   1.76109411e-01,\n",
      "         -5.45238610e-01,   1.90461466e-01,  -1.61844295e-01,\n",
      "         -1.04045459e+00],\n",
      "       [ -4.19267725e-01,  -1.99592044e-01,  -1.20859981e+00,\n",
      "         -3.55716931e-01,   5.24678710e-01,   7.11035748e-01,\n",
      "          2.06364599e-01,  -1.41985079e+00,  -5.08481635e-02,\n",
      "         -3.64770795e-01],\n",
      "       [  4.36505740e-01,  -1.68311419e+00,  -5.54964016e-01,\n",
      "          5.47419119e-01,  -5.60169512e-01,   5.49517821e-02,\n",
      "         -1.09547372e+00,   6.16432276e-01,  -4.52473931e-01,\n",
      "          4.17156303e-01],\n",
      "       [  2.76079312e-01,  -7.08929119e-01,   5.71725542e-02,\n",
      "          3.19601591e-01,  -7.34692926e-02,  -2.41285680e-01,\n",
      "         -5.30265936e-01,   3.06639369e-01,  -4.04128201e-02,\n",
      "          2.78020485e-01],\n",
      "       [ -1.78623431e-02,   1.09193514e-01,  -1.32593860e-01,\n",
      "         -2.89838203e-02,   1.61585627e-01,   4.64335599e-02,\n",
      "          1.84595757e-01,   1.70197661e-01,   1.80182109e-01,\n",
      "         -5.80839291e-02],\n",
      "       [ -2.03820566e-01,  -1.53965897e-01,   2.21116926e-01,\n",
      "          2.72918462e-01,   2.39037010e-01,  -1.12743094e-02,\n",
      "         -1.25625464e-01,   2.69552905e-01,  -1.31991193e-01,\n",
      "          1.31092002e-01],\n",
      "       [  3.30844543e-01,  -2.92014026e-01,  -1.46723351e-01,\n",
      "         -4.54842853e-01,   3.33705817e-01,   7.39418810e-02,\n",
      "         -3.47408188e-02,   5.07330868e-02,  -7.21643235e-02,\n",
      "         -1.64651490e-01],\n",
      "       [  6.62610324e-02,   2.57904482e-01,  -1.75476373e-01,\n",
      "         -1.31496426e-01,  -2.66886845e-01,  -5.56365465e-02,\n",
      "          9.91797650e-02,  -2.07791221e-01,  -1.01397134e-01,\n",
      "         -1.14913137e-01],\n",
      "       [ -2.52219974e-01,   1.44276390e-01,  -2.86728787e-02,\n",
      "         -2.22288976e-01,  -3.05132386e-02,  -3.89643747e-02,\n",
      "          2.69345275e-01,  -1.02654565e-01,  -1.52637863e-01,\n",
      "         -2.53510263e-01]]), array([ 0.00265272, -0.0600173 , -0.0194363 , -0.08159873,  0.01165806,\n",
      "       -0.08142231, -0.04241755, -0.07536674, -0.08338675, -0.02760338])])\n"
     ]
    }
   ],
   "source": [
    "# теперь попробуем вывести все параметры нашей сети\n",
    "print(\"params: \", lasagne.layers.get_all_param_values(dense_output))"
   ]
  },
  {
   "cell_type": "code",
   "execution_count": 12,
   "metadata": {
    "collapsed": true
   },
   "outputs": [],
   "source": [
    "#сохраняем всё в файлик\n",
    "np.savez('dense_weights.npz', *lasagne.layers.get_all_param_values(dense_output))"
   ]
  },
  {
   "cell_type": "code",
   "execution_count": 14,
   "metadata": {
    "collapsed": false
   },
   "outputs": [],
   "source": [
    "#так можно установить веса\n",
    "with np.load('dense_weights.npz') as f:\n",
    "    param_values = [f['arr_%d' % i] for i in range(len(f.files))]\n",
    "    lasagne.layers.set_all_param_values(dense_output, param_values)"
   ]
  },
  {
   "cell_type": "code",
   "execution_count": null,
   "metadata": {
    "collapsed": true
   },
   "outputs": [],
   "source": []
  }
 ],
 "metadata": {
  "kernelspec": {
   "display_name": "Python 2",
   "language": "python",
   "name": "python2"
  },
  "language_info": {
   "codemirror_mode": {
    "name": "ipython",
    "version": 2
   },
   "file_extension": ".py",
   "mimetype": "text/x-python",
   "name": "python",
   "nbconvert_exporter": "python",
   "pygments_lexer": "ipython2",
   "version": "2.7.10"
  }
 },
 "nbformat": 4,
 "nbformat_minor": 2
}
