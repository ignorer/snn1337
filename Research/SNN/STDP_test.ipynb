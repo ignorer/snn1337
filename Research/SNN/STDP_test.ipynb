{
 "cells": [
  {
   "cell_type": "code",
   "execution_count": 1,
   "metadata": {},
   "outputs": [],
   "source": [
    "from snn1337.layers import *\n",
    "from snn1337.spiking_from_lasagne import *"
   ]
  },
  {
   "cell_type": "code",
   "execution_count": 2,
   "metadata": {
    "collapsed": true
   },
   "outputs": [],
   "source": [
    "%run fully_connected_for_mnist.ipynb\n",
    "%run for_snn_debug.ipynb"
   ]
  },
  {
   "cell_type": "markdown",
   "metadata": {
    "collapsed": true
   },
   "source": [
    "### Создаём простую сеть с простой конфигурацией. У  нас есть два входный нейрона и один выходной, пирчем у connection первого входного нейрона с выходным огромный вес "
   ]
  },
  {
   "cell_type": "code",
   "execution_count": 3,
   "metadata": {
    "collapsed": true
   },
   "outputs": [],
   "source": [
    "length = 11\n",
    "thr = 0.2"
   ]
  },
  {
   "cell_type": "code",
   "execution_count": 4,
   "metadata": {},
   "outputs": [],
   "source": [
    "# сами устанавливаем нужный нам spike_train, чтобы проверить, что обучение проходит так, как мы ожидаем\n",
    "def make_spike_train(data, t_max):\n",
    "    spikes_for_first_neuron = [0, 0, 0, 0, 1, 1, 0, 0, 0, 1, 0]\n",
    "    spikes_for_second_neuron = [0, 1, 1, 1, 1, 0, 0, 0, 0, 0, 0]\n",
    "    if (data == 0):\n",
    "        return spikes_for_first_neuron\n",
    "    else:\n",
    "        return spikes_for_second_neuron"
   ]
  },
  {
   "cell_type": "code",
   "execution_count": 5,
   "metadata": {
    "collapsed": true
   },
   "outputs": [],
   "source": [
    "data = [[[0, 1]]]\n",
    "weights = []"
   ]
  },
  {
   "cell_type": "code",
   "execution_count": 6,
   "metadata": {},
   "outputs": [
    {
     "name": "stdout",
     "output_type": "stream",
     "text": [
      "[[5, 7]]\n"
     ]
    }
   ],
   "source": [
    "nnet = NNet((1, 1, 2), thr)\n",
    "\n",
    "# специально делаем большой вес у соединения, чтобы проверить, что  ответы выходного нерона \n",
    "# действительно коррелируют с spike train первого нейрона, потому что у соединения большой вес\n",
    "nnet.add_dense(np.array([[100.], [1.]]))\n",
    "print(nnet.get_output_for(data, 10, make_spike_train))"
   ]
  },
  {
   "cell_type": "code",
   "execution_count": 7,
   "metadata": {},
   "outputs": [
    {
     "name": "stdout",
     "output_type": "stream",
     "text": [
      "\n",
      "weights  [ 100.]\n",
      "input_spikes  [4 5 9]\n",
      "output_spikes  [5 7]\n",
      "delta_w  8\n",
      "delta_w  -20.0\n",
      "weights  [ 98.8]\n",
      "\n",
      "weights  [ 1.]\n",
      "input_spikes  [1 2 3 4]\n",
      "output_spikes  [5 7]\n",
      "delta_w  0\n",
      "delta_w  0\n",
      "delta_w  4\n",
      "delta_w  8\n",
      "weights  [ 2.2]\n",
      "[[array([ 98.8]), array([ 2.2])]]\n"
     ]
    }
   ],
   "source": [
    "# запускаем обучение несколько раз и смотрим на динамику изменения весов\n",
    "nnet.learning()\n",
    "weights = nnet.get_all_params_values()\n",
    "print(weights)"
   ]
  },
  {
   "cell_type": "code",
   "execution_count": 8,
   "metadata": {},
   "outputs": [
    {
     "name": "stdout",
     "output_type": "stream",
     "text": [
      "\n",
      "weights  [ 98.8]\n",
      "input_spikes  [4 5 9]\n",
      "output_spikes  [5 7]\n",
      "delta_w  8\n",
      "delta_w  -20.0\n",
      "weights  [ 97.6]\n",
      "\n",
      "weights  [ 2.2]\n",
      "input_spikes  [1 2 3 4]\n",
      "output_spikes  [5 7]\n",
      "delta_w  0\n",
      "delta_w  0\n",
      "delta_w  4\n",
      "delta_w  8\n",
      "weights  [ 3.4]\n",
      "[[array([ 97.6]), array([ 3.4])]]\n"
     ]
    }
   ],
   "source": [
    "nnet.learning()\n",
    "weights = nnet.get_all_params_values()\n",
    "print(weights)"
   ]
  },
  {
   "cell_type": "code",
   "execution_count": 9,
   "metadata": {},
   "outputs": [
    {
     "name": "stdout",
     "output_type": "stream",
     "text": [
      "\n",
      "weights  [ 97.6]\n",
      "input_spikes  [4 5 9]\n",
      "output_spikes  [5 7]\n",
      "delta_w  8\n",
      "delta_w  -20.0\n",
      "weights  [ 96.4]\n",
      "\n",
      "weights  [ 3.4]\n",
      "input_spikes  [1 2 3 4]\n",
      "output_spikes  [5 7]\n",
      "delta_w  0\n",
      "delta_w  0\n",
      "delta_w  4\n",
      "delta_w  8\n",
      "weights  [ 4.6]\n",
      "[[array([ 96.4]), array([ 4.6])]]\n"
     ]
    }
   ],
   "source": [
    "nnet.learning()\n",
    "weights = nnet.get_all_params_values()\n",
    "print(weights)"
   ]
  },
  {
   "cell_type": "markdown",
   "metadata": {},
   "source": [
    "#### Действительно, видно, что если входные пайки пришли до выходного, то Stdp повышает вес connection, а если после - то понижает. То есть логически stdp работает правильно"
   ]
  }
 ],
 "metadata": {
  "kernelspec": {
   "display_name": "Python 3",
   "language": "python",
   "name": "python3"
  },
  "language_info": {
   "codemirror_mode": {
    "name": "ipython",
    "version": 3
   },
   "file_extension": ".py",
   "mimetype": "text/x-python",
   "name": "python",
   "nbconvert_exporter": "python",
   "pygments_lexer": "ipython3",
   "version": "3.5.2"
  }
 },
 "nbformat": 4,
 "nbformat_minor": 2
}
