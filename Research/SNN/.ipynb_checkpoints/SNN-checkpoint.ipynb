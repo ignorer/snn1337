{
 "cells": [
  {
   "cell_type": "code",
   "execution_count": 65,
   "metadata": {
    "collapsed": false,
    "deletable": true,
    "editable": true
   },
   "outputs": [],
   "source": [
    "import numpy as np\n",
    "\n",
    "class InputNeuron(object):\n",
    "    \n",
    "    def __init__(self, spike_train):\n",
    "        self.spike_train = spike_train\n",
    "        self.output_spikes_times = []\n",
    "        self.global_time = 0\n",
    "        \n",
    "    def set_spike_train(self, spike_train):\n",
    "        self.spike_train = spike_train\n",
    "        \n",
    "    def step(self):\n",
    "        self.global_time += 1\n",
    "        if self.spike_train[self.global_time] == 1:\n",
    "            self.output_spikes_times.append(self.global_time)\n",
    "    \n",
    "    def get_spikes(self):\n",
    "        return self.output_spikes_times\n",
    "\n",
    "\n",
    "class Neuron(object):\n",
    "    \n",
    "    def __init__(self):\n",
    "        self.input_spikes = [] # pairs time, intensity\n",
    "        self.output_spikes_times = []\n",
    "        self.global_time = 0\n",
    "        self.potential = 0\n",
    "        self.threshold = 1\n",
    "        self.tau_m = 4\n",
    "        self.tau_s = 2\n",
    "        self.tau_r = 20\n",
    "        self.time_scale = 0.1 # time unit is 100 ms\n",
    "        self.history = [0]\n",
    "    \n",
    "    def receive_spike(self, intensity):\n",
    "        self.input_spikes.append((self.global_time, intensity))\n",
    "    \n",
    "    def step(self):\n",
    "        self.global_time += 1\n",
    "\n",
    "        self.potential = 0\n",
    "        self.spike = False\n",
    "        \n",
    "        for spike_time, intensity in self.input_spikes:\n",
    "            self.potential += self.eps(self.global_time - spike_time) * intensity\n",
    "        \n",
    "        for spike_time in self.output_spikes_times:\n",
    "            self.potential += self.nu(self.global_time - spike_time)\n",
    "        \n",
    "        if self.potential > self.threshold:\n",
    "            self.output_spikes_times.append(self.global_time)\n",
    "            self.spike = True\n",
    "        \n",
    "        self.history.append(self.potential)\n",
    "    \n",
    "    def eps(self, time):\n",
    "        s = time * self.time_scale # - delay\n",
    "        return (np.exp(-np.abs(s)/self.tau_m) - np.exp(-np.abs(s)/self.tau_s)) * (s > 0)\n",
    "    \n",
    "    def grad_eps(self, time):\n",
    "        s = time * self.time_scale\n",
    "        \n",
    "        return (np.exp(-np.abs(s)/self.tau_m) * (-1/self.tau_m) - np.exp(-np.abs(s)/self.tau_s) * (-1/self.tau_s)) * (s > 0)\n",
    "    \n",
    "    def nu(self, time):\n",
    "        s = time * self.time_scale\n",
    "        return -self.threshold * np.exp(-s/self.tau_r) * (s > 0)\n",
    "    \n",
    "    def get_spikes(self):\n",
    "        return self.output_spikes_times\n",
    "\n",
    "\n",
    "class Connection(object):\n",
    "\n",
    "    def __init__(self, input_neuron, output_neuron,\n",
    "                 weights=[1], delays=[1]): # weights and delays are scaled\n",
    "        self.weights = weights\n",
    "        self.delays = delays\n",
    "        self.input_neuron = input_neuron\n",
    "        self.output_neuron = output_neuron\n",
    "        self.global_time = 0\n",
    "    \n",
    "    def step(self):\n",
    "        self.global_time += 1\n",
    "        spikes = self.input_neuron.get_spikes()\n",
    "        for spike_time in spikes:\n",
    "            for weight, delay in zip(self.weights, self.delays):\n",
    "                if spike_time + delay == self.global_time:\n",
    "                    self.output_neuron.receive_spike(weight)\n",
    "    \n",
    "    def gradient(self, expected_spike_time):\n",
    "        output_spikes = np.array(self.output_neuron.get_spikes())\n",
    "        input_spikes = np.array(self.input_neuron.get_spikes())\n",
    "        assert len(output_spikes) > 0\n",
    "        output_spike_time = output_spikes[0]\n",
    "        eps = self.output_neuron.eps\n",
    "        grad_eps = self.output_neuron.grad_eps\n",
    "        grad_numerator = 0\n",
    "        grad_denumerator = 0\n",
    "        for i in range(len(input_spikes)):\n",
    "            grad_numerator += eps(output_spike_time - input_spikes[i] - self.delays)\n",
    "            grad_denumerator += self.weights * grad_eps(output_spike_time - input_spikes[i] - self.delays) # sum over all delays and input axons for output_neuron\n",
    "        grad = -grad_numerator / np.maximum(0.1, grad_denumerator) * (output_spike_time - expected_spike_time) # leaning rate will be in a learning algorithm\n",
    "        return grad\n",
    "\n"
   ]
  },
  {
   "cell_type": "code",
   "execution_count": 86,
   "metadata": {
    "collapsed": true,
    "deletable": true,
    "editable": true
   },
   "outputs": [],
   "source": [
    "from functools import reduce\n",
    "class InputLayer(object):\n",
    "    def __init__(self, shape):\n",
    "        self.shape = shape \n",
    "        self.neur_size = reduce(lambda res, x: res*x, self.shape, 1)\n",
    "        self.neurons = np.ndarray(shape=self.shape, dtype=InputNeuron, buffer=np.array([InputNeuron([])]*self.neur_size))\n",
    "            \n",
    "    def new_input(arg):\n",
    "        for i, f in enumerate(arg):\n",
    "            for j, l in enumerate(f):\n",
    "                for k, m in enumerate(l):\n",
    "                    self.neurons[i][j][k].set_spike_train(arg[i][j][k])\n",
    "    \n",
    "    def step(self):\n",
    "        for i in self.neurons:\n",
    "            for j in i:\n",
    "                for neuron in j:\n",
    "                    neuron.step()"
   ]
  },
  {
   "cell_type": "code",
   "execution_count": 111,
   "metadata": {
    "collapsed": true,
    "deletable": true,
    "editable": true
   },
   "outputs": [],
   "source": [
    "class Conv2DLayer(object):\n",
    "    def __init__(self, input_layer, num_filters, filter_shape, weights):\n",
    "        self.shape = (num_filters, input_layer.shape[1]-filter_shape[0]+1, input_layer.shape[2]-filter_shape[1]+1)\n",
    "        self.neur_size = reduce(lambda res, x: res*x, self.shape, 1)\n",
    "        self.neurons = np.ndarray(shape=self.shape, dtype=Neuron, buffer=np.array([Neuron()]*self.neur_size))\n",
    "        \n",
    "        self.connections = []\n",
    "        \n",
    "        for nk, kernel in enumerate(self.neurons):\n",
    "            for i, row in enumerate(kernel):\n",
    "                for j, neuron in enumerate(row):   # соединяем с предыдущим слоем\n",
    "                    self.connections += [Connection(input_layer.neurons[l][i+p][j+q],neuron, weights[p][q])\\\n",
    "                                         for l in np.arange(input_layer.shape[0]) for p in np.arange(filter_shape[0])\\\n",
    "                                         for q in np.arange(filter_shape[1])] \n",
    "        \n",
    "    def step(self):\n",
    "        for conn in self.connections:\n",
    "            conn.step()\n",
    "        for i in self.neurons:\n",
    "            for j in i:\n",
    "                for neuron in j:\n",
    "                    neuron.step()"
   ]
  },
  {
   "cell_type": "code",
   "execution_count": 112,
   "metadata": {
    "collapsed": true,
    "deletable": true,
    "editable": true
   },
   "outputs": [],
   "source": [
    "class NNet(object):\n",
    "    def __init__(self, shape):\n",
    "        self.layers = [InputLayer(shape)]\n",
    "    \n",
    "    def add_conv(self, num_filters, filter_shape, weights):\n",
    "        self.layers.append(Conv2DLayer(self.layers[-1], num_filters, filter_shape))\n",
    "    \n",
    "    def get_output_for(self, data, t_max):\n",
    "        self.layers[0].new_input(data)\n",
    "        for t in np.arange(t_max):\n",
    "            for layer in self.layers:\n",
    "                layer.step()\n",
    "        "
   ]
  },
  {
   "cell_type": "code",
   "execution_count": 113,
   "metadata": {
    "collapsed": false,
    "deletable": true,
    "editable": true
   },
   "outputs": [],
   "source": [
    "inp = InputLayer(shape=(1, 4, 4))\n",
    "conv = Conv2DLayer(inp, 2, (2, 2), [[1, 2], [4, 5]])"
   ]
  },
  {
   "cell_type": "code",
   "execution_count": 115,
   "metadata": {
    "collapsed": false,
    "deletable": true,
    "editable": true
   },
   "outputs": [
    {
     "name": "stdout",
     "output_type": "stream",
     "text": [
      "(2, 3, 3) [1, 2, 4, 5, 1, 2, 4, 5, 1, 2, 4, 5, 1, 2, 4, 5, 1, 2, 4, 5, 1, 2, 4, 5, 1, 2, 4, 5, 1, 2, 4, 5, 1, 2, 4, 5, 1, 2, 4, 5, 1, 2, 4, 5, 1, 2, 4, 5, 1, 2, 4, 5, 1, 2, 4, 5, 1, 2, 4, 5, 1, 2, 4, 5, 1, 2, 4, 5, 1, 2, 4, 5]\n"
     ]
    }
   ],
   "source": [
    "print(conv.shape, [i.weights for i in conv.connections])"
   ]
  },
  {
   "cell_type": "code",
   "execution_count": null,
   "metadata": {
    "collapsed": true,
    "deletable": true,
    "editable": true
   },
   "outputs": [],
   "source": []
  }
 ],
 "metadata": {
  "kernelspec": {
   "display_name": "Python 3",
   "language": "python",
   "name": "python3"
  },
  "language_info": {
   "codemirror_mode": {
    "name": "ipython",
    "version": 3
   },
   "file_extension": ".py",
   "mimetype": "text/x-python",
   "name": "python",
   "nbconvert_exporter": "python",
   "pygments_lexer": "ipython3",
   "version": "3.6.0"
  }
 },
 "nbformat": 4,
 "nbformat_minor": 2
}
