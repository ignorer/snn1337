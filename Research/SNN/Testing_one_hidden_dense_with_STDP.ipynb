{
 "cells": [
  {
   "cell_type": "code",
   "execution_count": 16,
   "metadata": {
    "collapsed": true
   },
   "outputs": [],
   "source": [
    "import numpy as np\n",
    "import matplotlib.pyplot as plt\n",
    "from multiprocessing import Pool\n",
    "from multiprocessing.dummy import Pool as ThreadPool\n",
    "import time\n",
    "%matplotlib inline\n",
    "from snn1337.layers import *\n",
    "from snn1337.spiking_from_lasagne import *"
   ]
  },
  {
   "cell_type": "code",
   "execution_count": 17,
   "metadata": {
    "collapsed": true
   },
   "outputs": [],
   "source": [
    "%run fully_connected_for_mnist.ipynb\n",
    "%run for_snn_debug.ipynb"
   ]
  },
  {
   "cell_type": "code",
   "execution_count": 18,
   "metadata": {
    "collapsed": true
   },
   "outputs": [],
   "source": [
    "from mnist import load_dataset\n",
    "X_train,y_train,X_val,y_val,X_test,y_test = load_dataset()"
   ]
  },
  {
   "cell_type": "code",
   "execution_count": 19,
   "metadata": {
    "collapsed": true
   },
   "outputs": [],
   "source": [
    "input_X = T.tensor4(\"X\")\n",
    "input_shape = [None,1,28,28]\n",
    "target_y = T.vector(\"target Y integer\",dtype='int32')"
   ]
  },
  {
   "cell_type": "markdown",
   "metadata": {},
   "source": [
    "#### Создаём полносвязную сеть на lasagne, не обучеам её!!!"
   ]
  },
  {
   "cell_type": "code",
   "execution_count": 20,
   "metadata": {
    "collapsed": true
   },
   "outputs": [],
   "source": [
    "net = fully_connected(input_X, input_shape, 1, [16])"
   ]
  },
  {
   "cell_type": "code",
   "execution_count": 21,
   "metadata": {
    "collapsed": true
   },
   "outputs": [],
   "source": [
    "thr = [0.1, 0.2]\n",
    "t_max = 100\n",
    "num_epoch = 5\n",
    "img_num = 1\n",
    "\n",
    "outputs = []\n",
    "weights = []\n",
    "w_before = []\n",
    "w_after = []"
   ]
  },
  {
   "cell_type": "code",
   "execution_count": 22,
   "metadata": {
    "collapsed": true
   },
   "outputs": [],
   "source": [
    "# попробуем подобрать размеры окна для stpd"
   ]
  },
  {
   "cell_type": "code",
   "execution_count": 23,
   "metadata": {
    "scrolled": true
   },
   "outputs": [
    {
     "name": "stdout",
     "output_type": "stream",
     "text": [
      "CPU times: user 9.49 s, sys: 40 ms, total: 9.53 s\n",
      "Wall time: 9.46 s\n"
     ]
    }
   ],
   "source": [
    "%%time\n",
    "# создаём из неё спайковую сеть, при этом сделаем тест на то что спайковая сеть учится с stdp\n",
    "for epoch in range(num_epoch):\n",
    "    for img_ind in range(img_num): \n",
    "        \n",
    "        # создаём сеть из lasagne\n",
    "        snn_net = spiking_from_lasagne(net, thr)\n",
    "        \n",
    "        # задаём ей веса\n",
    "        if (len(weights) != 0):\n",
    "            snn_net.set_all_params_values(weights[-1])\n",
    "        \n",
    "        # получаем ответ для данных    \n",
    "        outputs.append(snn_net.get_output_for(X_train[img_ind], t_max))\n",
    "        \n",
    "        w_before = snn_net.get_all_params_values()\n",
    "        \n",
    "        # обучаем\n",
    "        snn_net.learning()\n",
    "        \n",
    "        # сохраняем веса\n",
    "        weights.append(snn_net.get_all_params_values())\n",
    "        w_after = snn_net.get_all_params_values()"
   ]
  },
  {
   "cell_type": "code",
   "execution_count": 24,
   "metadata": {},
   "outputs": [
    {
     "name": "stdout",
     "output_type": "stream",
     "text": [
      "True\n"
     ]
    }
   ],
   "source": [
    "print(w_before == w_after)"
   ]
  },
  {
   "cell_type": "code",
   "execution_count": 25,
   "metadata": {},
   "outputs": [
    {
     "name": "stdout",
     "output_type": "stream",
     "text": [
      "(5, 2)\n",
      "True\n"
     ]
    }
   ],
   "source": [
    "print(np.array(weights).shape)\n",
    "print(weights[0] == weights[-1])"
   ]
  },
  {
   "cell_type": "markdown",
   "metadata": {},
   "source": [
    "### Видим, что веса спайковой сети не меняются"
   ]
  },
  {
   "cell_type": "code",
   "execution_count": null,
   "metadata": {
    "collapsed": true
   },
   "outputs": [],
   "source": []
  }
 ],
 "metadata": {
  "kernelspec": {
   "display_name": "Python 3",
   "language": "python",
   "name": "python3"
  },
  "language_info": {
   "codemirror_mode": {
    "name": "ipython",
    "version": 3
   },
   "file_extension": ".py",
   "mimetype": "text/x-python",
   "name": "python",
   "nbconvert_exporter": "python",
   "pygments_lexer": "ipython3",
   "version": "3.5.2"
  }
 },
 "nbformat": 4,
 "nbformat_minor": 2
}
