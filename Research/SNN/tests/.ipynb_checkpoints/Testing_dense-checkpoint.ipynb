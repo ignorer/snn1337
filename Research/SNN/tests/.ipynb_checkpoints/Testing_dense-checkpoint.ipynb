{
 "cells": [
  {
   "cell_type": "markdown",
   "metadata": {
    "deletable": true,
    "editable": true
   },
   "source": [
    "# Тестирование полносвязной спайковой сети на MNIST"
   ]
  },
  {
   "cell_type": "code",
   "execution_count": 1,
   "metadata": {
    "collapsed": false,
    "deletable": true,
    "editable": true,
    "scrolled": false
   },
   "outputs": [],
   "source": [
    "import numpy as np\n",
    "import theano\n",
    "import theano.tensor as T\n",
    "import lasagne\n",
    "import matplotlib.pyplot as plt\n",
    "from multiprocessing import Pool\n",
    "from multiprocessing.dummy import Pool as ThreadPool\n",
    "import time\n",
    "%matplotlib inline"
   ]
  },
  {
   "cell_type": "code",
   "execution_count": 4,
   "metadata": {
    "collapsed": false,
    "deletable": true,
    "editable": true
   },
   "outputs": [
    {
     "name": "stdout",
     "output_type": "stream",
     "text": [
      "<function fixed_frequency_spike_train at 0x1126adaa0>\n",
      "0, 0: []\n",
      "0.273151874542\n",
      "0, 1: [8, 14, 20, 26, 32, 38, 44, 50, 56, 62, 68, 74, 80, 86, 92, 98]\n",
      "1, 0: [8, 14, 20, 26, 32, 38, 44, 50, 56, 62, 68, 74, 80, 86, 92, 98]\n",
      "1, 1: []\n"
     ]
    }
   ],
   "source": [
    "%run ../SNN.ipynb"
   ]
  },
  {
   "cell_type": "code",
   "execution_count": 5,
   "metadata": {
    "collapsed": false,
    "deletable": true,
    "editable": true
   },
   "outputs": [],
   "source": [
    "from mnist import load_dataset\n",
    "X_train,y_train,X_val,y_val,X_test,y_test = load_dataset()"
   ]
  },
  {
   "cell_type": "code",
   "execution_count": 6,
   "metadata": {
    "collapsed": true,
    "deletable": true,
    "editable": true
   },
   "outputs": [],
   "source": [
    "input_X = T.tensor4(\"X\")\n",
    "input_shape = [None,1,28,28]\n",
    "target_y = T.vector(\"target Y integer\",dtype='int32')"
   ]
  },
  {
   "cell_type": "code",
   "execution_count": 7,
   "metadata": {
    "collapsed": false,
    "deletable": true,
    "editable": true
   },
   "outputs": [],
   "source": [
    "input_layer = lasagne.layers.InputLayer(shape = input_shape,input_var=input_X)\n",
    "\n",
    "dense_1 = lasagne.layers.DenseLayer(input_layer, num_units=128, \n",
    "                                    nonlinearity=lasagne.nonlinearities.rectify,\n",
    "                                   name='dense_1', b=None)\n",
    "\n",
    "dense_2 = lasagne.layers.DenseLayer(dense_1, num_units=256, \n",
    "                                    nonlinearity=lasagne.nonlinearities.sigmoid,\n",
    "                                   name='dense_2', b=None)\n",
    "\n",
    "dense_3 = lasagne.layers.DenseLayer(dense_2, num_units=64, \n",
    "                                    nonlinearity=lasagne.nonlinearities.rectify,\n",
    "                                   name='dense_2', b=None)\n",
    "\n",
    "dense_output = lasagne.layers.DenseLayer(dense_3, num_units = 10,\n",
    "                                        nonlinearity = lasagne.nonlinearities.softmax,\n",
    "                                        name='output', b=None)"
   ]
  },
  {
   "cell_type": "code",
   "execution_count": 8,
   "metadata": {
    "collapsed": false,
    "deletable": true,
    "editable": true
   },
   "outputs": [],
   "source": [
    "with np.load('dense_weights.npz') as f: \n",
    "    param_values = [f['arr_%d' % i]*10 for i in range(len(f.files))] \n",
    "    for i in param_values[-1]:\n",
    "        for j in i:\n",
    "            j = abs(j)\n",
    "    for i in param_values:\n",
    "        for j in i:\n",
    "            for k, n in enumerate(j):\n",
    "                if(n < 0.000001):\n",
    "                    j[k] = 0.0\n",
    "\n",
    "    \n",
    "lasagne.layers.set_all_param_values(dense_output, param_values)"
   ]
  },
  {
   "cell_type": "code",
   "execution_count": 8,
   "metadata": {
    "collapsed": false,
    "deletable": true,
    "editable": true
   },
   "outputs": [],
   "source": [
    "spiking_net = spiking_from_lasagne(dense_output, 0.2)"
   ]
  },
  {
   "cell_type": "code",
   "execution_count": null,
   "metadata": {
    "collapsed": false,
    "deletable": true,
    "editable": true
   },
   "outputs": [
    {
     "name": "stdout",
     "output_type": "stream",
     "text": [
      "(5, [[41, 61, 70, 73, 78, 82, 90], [41, 56, 71, 73, 78, 91], [41, 70, 72, 78, 84, 90], [41, 59, 70, 72, 78, 83], [42, 70, 72, 78, 81, 90], [41, 45, 59, 70, 72, 78, 82], [41, 70, 72, 76, 78, 84], [41, 70, 72, 75, 78, 90], [41, 70, 72, 78, 83], [41, 70, 72, 78, 90]])\n",
      "(0, [[27, 34, 36, 38, 40, 44, 47, 50, 55, 57, 69, 72, 81, 83, 85, 89, 91], [28, 39, 41, 44, 47, 55, 58, 70, 72, 81, 84, 87, 89, 93], [27, 36, 38, 40, 44, 47, 55, 58, 70, 72, 81, 83, 85, 88, 90, 94], [27, 31, 38, 40, 44, 47, 55, 58, 70, 72, 81, 83, 85, 88, 90], [28, 38, 40, 44, 47, 55, 57, 70, 72, 80, 83, 85, 89, 92], [29, 34, 37, 39, 41, 44, 47, 50, 55, 57, 70, 72, 82, 84, 87, 89, 92], [28, 36, 38, 40, 44, 47, 50, 55, 57, 70, 72, 81, 84, 88, 90, 95], [27, 36, 39, 41, 44, 47, 56, 70, 72, 81, 84, 88, 90], [28, 36, 38, 40, 44, 47, 50, 55, 58, 70, 72, 81, 83, 85, 89, 92], [28, 38, 40, 44, 47, 55, 57, 70, 72, 80, 83, 85, 89, 92]])\n",
      "(4, [[], [], [], [], [], [], [], [], [], []])\n",
      "(1, [[], [], [], [], [], [], [], [], [], []])\n",
      "(9, [[70, 72], [44, 58, 71], [57, 71], [70, 72], [56, 71, 74], [70, 72], [58, 71], [44, 58, 70, 72], [56, 71], [44, 57, 70, 72]])\n",
      "(2, [[41, 48, 53, 55, 67, 69, 72, 82, 87, 90], [41, 48, 56, 62, 66, 69, 71, 73, 82, 88, 91, 99], [41, 48, 54, 62, 67, 69, 71, 74, 81, 87, 89, 91, 99], [41, 48, 54, 62, 66, 69, 72, 82, 88, 91], [41, 48, 54, 62, 66, 69, 72, 81, 87, 90, 99], [41, 49, 54, 64, 66, 69, 72, 82, 87, 90], [41, 48, 53, 56, 63, 67, 69, 71, 73, 82, 87, 91], [41, 48, 50, 55, 66, 69, 72, 81, 88, 90], [41, 48, 54, 62, 66, 69, 72, 82, 87, 90, 99], [41, 48, 54, 62, 66, 69, 72, 81, 88, 91]])\n",
      "(1, [[], [], [], [], [], [], [], [], [], []])\n"
     ]
    }
   ],
   "source": [
    "right_first = right_freq = right_betw = right_betw_min = 0.\n",
    "leng = 10\n",
    "n = 0\n",
    "no_ans = 0\n",
    "targ = y_train[:10]\n",
    "answer = []\n",
    "times = []\n",
    "for num, x in enumerate(X_train[:10]):\n",
    "    start_time = time.time()\n",
    "    answer.append(spiking_from_lasagne(dense_output, 1.375).get_output_for(x, 100))\n",
    "    times.append(time.time() - start_time)\n",
    "    print(targ[num], answer[-1])\n",
    "for i, ans in enumerate(answer):\n",
    "    first_spike = n + 2*leng\n",
    "    first_sp_ans = -1\n",
    "    for k, j in enumerate(ans):\n",
    "        if(len(j) > 0):\n",
    "            if(j[0] < first_spike):\n",
    "                first_spike = j[0]\n",
    "                first_sp_ans = k\n",
    "    if(first_sp_ans == targ[i]):\n",
    "        right_first += 1\n",
    "    \n",
    "    betw = [np.mean([j[i+1]-j[i] for i in np.arange(len(j)-1)]) for j in ans]\n",
    "    betw_min_count = [np.min([j[i+1]-j[i] for i in np.arange(len(j)-1)]) for j in ans]\n",
    "    betw_ans = -1\n",
    "    betw_min = 110\n",
    "    betw_ans_min = -1\n",
    "    betw_min_min = 110\n",
    "    \n",
    "    ans = [len(j) for j in ans]\n",
    "    freq_max = 0\n",
    "    freq_ans = -1\n",
    "    for k, j in enumerate(ans):\n",
    "        if (j > freq_max):\n",
    "            freq_ans = k\n",
    "        if(j < betw_min):\n",
    "            betw_ans = k\n",
    "        if(j < betw_min_min):\n",
    "            betw_ans_min = k\n",
    "    if(betw_ans == targ[i]):\n",
    "        right_betw += 1\n",
    "    if(freq_ans == -1):\n",
    "        no_ans += 1\n",
    "    if(freq_ans == targ[i]):\n",
    "        right_freq += 1\n",
    "    if(betw_ans_min == targ[i]):\n",
    "        right_betw_min += 1\n",
    "        \n",
    "print(right_first, right_freq, right_betw, right_betw_min)\n",
    "print(right_first/leng, right_freq/leng, right_betw/leng, right_betw_min/leng)\n",
    "print(np.mean(times), no_ans)"
   ]
  },
  {
   "cell_type": "code",
   "execution_count": null,
   "metadata": {
    "collapsed": true,
    "deletable": true,
    "editable": true
   },
   "outputs": [],
   "source": [
    "right_first = right_freq = right_betw = right_betw_min = 0.\n",
    "leng = 10\n",
    "n = 0\n",
    "no_ans = 0\n",
    "targ = y_train[10:20]\n",
    "answer = []\n",
    "times = []\n",
    "for num, x in enumerate(X_train[10:20]):\n",
    "    start_time = time.time()\n",
    "    answer.append(spiking_from_lasagne(dense_output, 1.375).get_output_for(x, 100))\n",
    "    times.append(time.time() - start_time)\n",
    "    print(targ[num], answer[-1])\n",
    "for i, ans in enumerate(answer):\n",
    "    first_spike = n + 2*leng\n",
    "    first_sp_ans = -1\n",
    "    for k, j in enumerate(ans):\n",
    "        if(len(j) > 0):\n",
    "            if(j[0] < first_spike):\n",
    "                first_spike = j[0]\n",
    "                first_sp_ans = k\n",
    "    if(first_sp_ans == targ[i]):\n",
    "        right_first += 1\n",
    "    \n",
    "    betw = [np.mean([j[i+1]-j[i] for i in np.arange(len(j)-1)]) for j in ans]\n",
    "    betw_min_count = [np.min([j[i+1]-j[i] for i in np.arange(len(j)-1)]) for j in ans]\n",
    "    betw_ans = -1\n",
    "    betw_min = 110\n",
    "    betw_ans_min = -1\n",
    "    betw_min_min = 110\n",
    "    \n",
    "    ans = [len(j) for j in ans]\n",
    "    freq_max = 0\n",
    "    freq_ans = -1\n",
    "    for k, j in enumerate(ans):\n",
    "        if (j > freq_max):\n",
    "            freq_ans = k\n",
    "        if(j < betw_min):\n",
    "            betw_ans = k\n",
    "        if(j < betw_min_min):\n",
    "            betw_ans_min = k\n",
    "    if(betw_ans == targ[i]):\n",
    "        right_betw += 1\n",
    "    if(freq_ans == -1):\n",
    "        no_ans += 1\n",
    "    if(freq_ans == targ[i]):\n",
    "        right_freq += 1\n",
    "    if(betw_ans_min == targ[i]):\n",
    "        right_betw_min += 1\n",
    "        \n",
    "print(right_first, right_freq, right_betw, right_betw_min)\n",
    "print(right_first/leng, right_freq/leng, right_betw/leng, right_betw_min/leng)\n",
    "print(np.mean(times), no_ans)"
   ]
  },
  {
   "cell_type": "code",
   "execution_count": null,
   "metadata": {
    "collapsed": true,
    "deletable": true,
    "editable": true
   },
   "outputs": [],
   "source": [
    "right_first = right_freq = 0.\n",
    "leng = 10\n",
    "n = 0\n",
    "no_ans = 0\n",
    "pool = ThreadPool(4)\n",
    "targ = y_train[100:200]\n",
    "answer = []\n",
    "times = []\n",
    "for num, x in enumerate(X_train[100:200]):\n",
    "    start_time = time.time()\n",
    "    answer.append(spiking_from_lasagne(dense_output, .3).get_output_for(x, 100))\n",
    "    times.append(time.time() - start_time)\n",
    "    print(targ[num], answer[-1])\n",
    "for i, ans in enumerate(answer):\n",
    "    first_spike = n + 2*leng\n",
    "    first_sp_ans = -1\n",
    "    for k, j in enumerate(ans):\n",
    "        if(len(j) > 0):\n",
    "            if(j[0] < first_spike):\n",
    "                first_spike = j[0]\n",
    "                first_sp_ans = k\n",
    "    if(first_sp_ans == targ[i]):\n",
    "        right_first += 1\n",
    "    \n",
    "    ans = [len(j) for j in ans]\n",
    "    freq_max = 0\n",
    "    freq_ans = -1\n",
    "    for k, j in enumerate(ans):\n",
    "        if (j > freq_max):\n",
    "            freq_ans = k\n",
    "    if(freq_ans == -1):\n",
    "        no_ans += 1\n",
    "    if(freq_ans == targ[i]):\n",
    "        right_freq += 1\n",
    "        \n",
    "print(right_first, right_freq)\n",
    "print(right_first/leng, right_freq/leng)\n",
    "print(times.mean(), no_ans)"
   ]
  },
  {
   "cell_type": "code",
   "execution_count": null,
   "metadata": {
    "collapsed": true,
    "deletable": true,
    "editable": true
   },
   "outputs": [],
   "source": [
    "right_first = right_freq = 0.\n",
    "leng = 10\n",
    "n = 0\n",
    "no_ans = 0\n",
    "pool = ThreadPool(4)\n",
    "targ = y_train[100:200]\n",
    "answer = []\n",
    "times = []\n",
    "for num, x in enumerate(X_train[100:200]):\n",
    "    start_time = time.time()\n",
    "    answer.append(spiking_from_lasagne(dense_output, .01).get_output_for(x, 100))\n",
    "    times.append(time.time() - start_time)\n",
    "    print(targ[num], answer[-1])\n",
    "for i, ans in enumerate(answer):\n",
    "    first_spike = n + 2*leng\n",
    "    first_sp_ans = -1\n",
    "    for k, j in enumerate(ans):\n",
    "        if(len(j) > 0):\n",
    "            if(j[0] < first_spike):\n",
    "                first_spike = j[0]\n",
    "                first_sp_ans = k\n",
    "    if(first_sp_ans == targ[i]):\n",
    "        right_first += 1\n",
    "    \n",
    "    ans = [len(j) for j in ans]\n",
    "    freq_max = 0\n",
    "    freq_ans = -1\n",
    "    for k, j in enumerate(ans):\n",
    "        if (j > freq_max):\n",
    "            freq_ans = k\n",
    "    if(freq_ans == -1):\n",
    "        no_ans += 1\n",
    "    if(freq_ans == targ[i]):\n",
    "        right_freq += 1\n",
    "        \n",
    "print(right_first, right_freq)\n",
    "print(right_first/leng, right_freq/leng)\n",
    "print(times.mean(), no_ans)"
   ]
  },
  {
   "cell_type": "code",
   "execution_count": null,
   "metadata": {
    "collapsed": false,
    "deletable": true,
    "editable": true,
    "scrolled": true
   },
   "outputs": [],
   "source": [
    "for i in np.arange(10):\n",
    "    print(y_test[i])\n",
    "    plt.imshow(X_test[i,0])\n",
    "    plt.show()"
   ]
  },
  {
   "cell_type": "code",
   "execution_count": null,
   "metadata": {
    "collapsed": false,
    "deletable": true,
    "editable": true
   },
   "outputs": [],
   "source": [
    "params = [spiking_net.layers[i].weights.tolist() for i in np.arange(1, len(spiking_net.layers))]\n",
    "par = \" \".join(map(str, [\"\\n\".join(map(str, [\" \".join(map(str, [\"%.6f\" % k for k in j])) for j in i])) for i in params]))\n",
    "#for i in params:\n",
    "    #for j in i:\n",
    "        #par+=str(\" \".join(map(str, [\"%.6f\" % k for k in j])))+'\\n'\n",
    "        len(spiking_net.layers)\n",
    "        i.neur_size for i in spiking_net.layers\n",
    "    #par+='\\n'"
   ]
  },
  {
   "cell_type": "code",
   "execution_count": null,
   "metadata": {
    "collapsed": false,
    "deletable": true,
    "editable": true
   },
   "outputs": [],
   "source": [
    "info = {'threshold':0.5, 'tau_m':4, 'tau_s':2, 'tau_r':20, 'layersNumber':444,\n",
    "        'sizes':[4, 5, 6], 'synapsesPerConnection':1, 'spikesPerSynapse':2, 'exitTime':1000,\\\n",
    "        'weights':''}\n"
   ]
  },
  {
   "cell_type": "code",
   "execution_count": null,
   "metadata": {
    "collapsed": false,
    "deletable": true,
    "editable": true
   },
   "outputs": [],
   "source": [
    "f = open('params.txt', 'w')\n",
    "f.writelines([i+': '+str(info[i])+'\\n' for i in info])"
   ]
  },
  {
   "cell_type": "code",
   "execution_count": null,
   "metadata": {
    "collapsed": false,
    "deletable": true,
    "editable": true
   },
   "outputs": [],
   "source": [
    "for i in param_values:\n",
    "    for j in i:\n",
    "        f.writelines(str(\" \".join(map(str, [\"%.6f\" % k for k in j])))+'\\n')\n",
    "f.close()"
   ]
  },
  {
   "cell_type": "code",
   "execution_count": null,
   "metadata": {
    "collapsed": false,
    "deletable": true,
    "editable": true
   },
   "outputs": [],
   "source": [
    "params = np.array([spiking_net.layers[i].weights.tolist() for i in np.arange(1, len(spiking_net.layers))])"
   ]
  },
  {
   "cell_type": "code",
   "execution_count": null,
   "metadata": {
    "collapsed": false,
    "deletable": true,
    "editable": true
   },
   "outputs": [],
   "source": [
    "len(params[0][1])"
   ]
  },
  {
   "cell_type": "code",
   "execution_count": null,
   "metadata": {
    "collapsed": false,
    "deletable": true,
    "editable": true
   },
   "outputs": [],
   "source": [
    "btw str(\" \".join(map(str, params)))"
   ]
  },
  {
   "cell_type": "code",
   "execution_count": null,
   "metadata": {
    "collapsed": false,
    "deletable": true,
    "editable": true
   },
   "outputs": [],
   "source": [
    "def write_to_file(net, filename='params.txt'):\n",
    "    params = [net.layers[i].weights.tolist() for i in np.arange(1, len(net.layers))]\n",
    "    info = {'threshold':0.5, 'tau_m':4, 'tau_s':2, 'tau_r':20, 'layersNumber':len(net.layers),\n",
    "        'sizes':[i.neur_size for i in net.layers], 'synapsesPerConnection':1, 'spikesPerSynapse':2, 'exitTime':1000,\\\n",
    "        'weights':''}\n",
    "    f = open(filename, 'w')\n",
    "    f.writelines([i+': '+str(info[i])+'\\n' for i in info])\n",
    "    for i in params:\n",
    "        for j in i:\n",
    "            f.writelines(str(\" \".join(map(str, [\"%.6f\" % k for k in j])))+'\\n')\n",
    "    f.close()"
   ]
  },
  {
   "cell_type": "code",
   "execution_count": null,
   "metadata": {
    "collapsed": false,
    "deletable": true,
    "editable": true
   },
   "outputs": [],
   "source": [
    "a = [[], [2, 4]]\n",
    "np.min(a, axis=1)"
   ]
  },
  {
   "cell_type": "code",
   "execution_count": null,
   "metadata": {
    "collapsed": true,
    "deletable": true,
    "editable": true
   },
   "outputs": [],
   "source": []
  }
 ],
 "metadata": {
  "kernelspec": {
   "display_name": "Python 2",
   "language": "python",
   "name": "python2"
  },
  "language_info": {
   "codemirror_mode": {
    "name": "ipython",
    "version": 2
   },
   "file_extension": ".py",
   "mimetype": "text/x-python",
   "name": "python",
   "nbconvert_exporter": "python",
   "pygments_lexer": "ipython2",
   "version": "2.7.13"
  }
 },
 "nbformat": 4,
 "nbformat_minor": 2
}
