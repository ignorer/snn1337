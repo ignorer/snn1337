{
 "cells": [
  {
   "cell_type": "code",
   "execution_count": 15,
   "metadata": {
    "collapsed": false
   },
   "outputs": [],
   "source": [
    "import numpy as np\n",
    "import theano\n",
    "import theano.tensor as T\n",
    "import lasagne\n",
    "import matplotlib.pyplot as plt\n",
    "from multiprocessing import Pool\n",
    "from multiprocessing.dummy import Pool as ThreadPool\n",
    "import time\n",
    "%matplotlib inline\n",
    "%run ../SNN.ipynb"
   ]
  },
  {
   "cell_type": "code",
   "execution_count": 2,
   "metadata": {
    "collapsed": true
   },
   "outputs": [],
   "source": [
    "from mnist import load_dataset\n",
    "X_train,y_train,X_val,y_val,X_test,y_test = load_dataset()"
   ]
  },
  {
   "cell_type": "code",
   "execution_count": 3,
   "metadata": {
    "collapsed": true
   },
   "outputs": [],
   "source": [
    "input_X = T.tensor4(\"X\")\n",
    "input_shape = [None,1,28,28]\n",
    "target_y = T.vector(\"target Y integer\",dtype='int32')"
   ]
  },
  {
   "cell_type": "code",
   "execution_count": 7,
   "metadata": {
    "collapsed": false
   },
   "outputs": [],
   "source": [
    "input_layer = lasagne.layers.InputLayer(shape = input_shape,input_var=input_X)\n",
    "net= lasagne.layers.DenseLayer(input_layer, num_units=64,\n",
    "                                    nonlinearity=lasagne.nonlinearities.rectify,name='dense_1')\n",
    "net = lasagne.layers.DenseLayer(net, num_units = 10,\n",
    "                                        nonlinearity = lasagne.nonlinearities.softmax, name='output')"
   ]
  },
  {
   "cell_type": "code",
   "execution_count": 8,
   "metadata": {
    "collapsed": false
   },
   "outputs": [],
   "source": [
    "y_predicted = lasagne.layers.get_output(net)\n",
    "all_weights = lasagne.layers.get_all_params(net)\n",
    "\n",
    "loss = lasagne.objectives.categorical_crossentropy(y_predicted,target_y).mean()\n",
    "accuracy = lasagne.objectives.categorical_accuracy(y_predicted,target_y).mean()\n",
    "updates = lasagne.updates.adam(loss, all_weights, learning_rate=0.01)\n",
    "train_fun = theano.function([input_X,target_y],[loss,accuracy],updates=updates)\n",
    "accuracy_fun = theano.function([input_X,target_y],accuracy)"
   ]
  },
  {
   "cell_type": "code",
   "execution_count": 9,
   "metadata": {
    "collapsed": true
   },
   "outputs": [],
   "source": [
    "from random import shuffle\n",
    "import math\n",
    "def iterate_minibatches(X, y, batchsize):\n",
    "    \n",
    "    indices = np.arange(len(X))\n",
    "    np.random.shuffle(indices)\n",
    "    for start_idx in range(0, len(X) - batchsize + 1, batchsize):\n",
    "        if shuffle:\n",
    "            excerpt = indices[start_idx:start_idx + batchsize]\n",
    "        else:\n",
    "            excerpt = slice(start_idx, start_idx + batchsize)\n",
    "        yield X[excerpt], y[excerpt]"
   ]
  },
  {
   "cell_type": "code",
   "execution_count": 10,
   "metadata": {
    "collapsed": false
   },
   "outputs": [
    {
     "name": "stderr",
     "output_type": "stream",
     "text": [
      "  2%|▎         | 1/40 [00:03<02:14,  3.44s/it]"
     ]
    },
    {
     "name": "stdout",
     "output_type": "stream",
     "text": [
      "Epoch 1 of 40 took 3.441s\n",
      "  training loss (in-iteration):\t\t0.249844\n",
      "  train accuracy:\t\t92.60 %\n",
      "  validation accuracy:\t\t94.68 %\n"
     ]
    },
    {
     "name": "stderr",
     "output_type": "stream",
     "text": [
      "\r",
      "  5%|▌         | 2/40 [00:06<02:01,  3.19s/it]"
     ]
    },
    {
     "name": "stdout",
     "output_type": "stream",
     "text": [
      "Epoch 2 of 40 took 2.584s\n",
      "  training loss (in-iteration):\t\t0.152643\n",
      "  train accuracy:\t\t95.54 %\n",
      "  validation accuracy:\t\t95.50 %\n"
     ]
    },
    {
     "name": "stderr",
     "output_type": "stream",
     "text": [
      "\r",
      "  8%|▊         | 3/40 [00:08<01:48,  2.94s/it]"
     ]
    },
    {
     "name": "stdout",
     "output_type": "stream",
     "text": [
      "Epoch 3 of 40 took 2.380s\n",
      "  training loss (in-iteration):\t\t0.124908\n",
      "  train accuracy:\t\t96.33 %\n",
      "  validation accuracy:\t\t96.16 %\n"
     ]
    },
    {
     "name": "stderr",
     "output_type": "stream",
     "text": [
      "\r",
      " 10%|█         | 4/40 [00:11<01:45,  2.94s/it]"
     ]
    },
    {
     "name": "stdout",
     "output_type": "stream",
     "text": [
      "Epoch 4 of 40 took 2.915s\n",
      "  training loss (in-iteration):\t\t0.116177\n",
      "  train accuracy:\t\t96.63 %\n",
      "  validation accuracy:\t\t96.56 %\n"
     ]
    },
    {
     "name": "stderr",
     "output_type": "stream",
     "text": [
      "\r",
      " 12%|█▎        | 5/40 [00:13<01:37,  2.78s/it]"
     ]
    },
    {
     "name": "stdout",
     "output_type": "stream",
     "text": [
      "Epoch 5 of 40 took 2.406s\n",
      "  training loss (in-iteration):\t\t0.109662\n",
      "  train accuracy:\t\t96.80 %\n",
      "  validation accuracy:\t\t95.81 %\n"
     ]
    },
    {
     "name": "stderr",
     "output_type": "stream",
     "text": [
      "\r",
      " 15%|█▌        | 6/40 [00:16<01:32,  2.73s/it]"
     ]
    },
    {
     "name": "stdout",
     "output_type": "stream",
     "text": [
      "Epoch 6 of 40 took 2.619s\n",
      "  training loss (in-iteration):\t\t0.100055\n",
      "  train accuracy:\t\t97.11 %\n",
      "  validation accuracy:\t\t96.31 %\n"
     ]
    },
    {
     "name": "stderr",
     "output_type": "stream",
     "text": [
      "\r",
      " 18%|█▊        | 7/40 [00:19<01:32,  2.81s/it]"
     ]
    },
    {
     "name": "stdout",
     "output_type": "stream",
     "text": [
      "Epoch 7 of 40 took 3.006s\n",
      "  training loss (in-iteration):\t\t0.097360\n",
      "  train accuracy:\t\t97.21 %\n",
      "  validation accuracy:\t\t96.16 %\n"
     ]
    },
    {
     "name": "stderr",
     "output_type": "stream",
     "text": [
      "\r",
      " 20%|██        | 8/40 [00:22<01:32,  2.88s/it]"
     ]
    },
    {
     "name": "stdout",
     "output_type": "stream",
     "text": [
      "Epoch 8 of 40 took 3.035s\n",
      "  training loss (in-iteration):\t\t0.084287\n",
      "  train accuracy:\t\t97.59 %\n",
      "  validation accuracy:\t\t96.57 %\n"
     ]
    },
    {
     "name": "stderr",
     "output_type": "stream",
     "text": [
      "\r",
      " 22%|██▎       | 9/40 [00:25<01:32,  2.99s/it]"
     ]
    },
    {
     "name": "stdout",
     "output_type": "stream",
     "text": [
      "Epoch 9 of 40 took 3.242s\n",
      "  training loss (in-iteration):\t\t0.090413\n",
      "  train accuracy:\t\t97.51 %\n",
      "  validation accuracy:\t\t96.10 %\n"
     ]
    },
    {
     "name": "stderr",
     "output_type": "stream",
     "text": [
      "\r",
      " 25%|██▌       | 10/40 [00:28<01:30,  3.01s/it]"
     ]
    },
    {
     "name": "stdout",
     "output_type": "stream",
     "text": [
      "Epoch 10 of 40 took 3.039s\n",
      "  training loss (in-iteration):\t\t0.077504\n",
      "  train accuracy:\t\t97.89 %\n",
      "  validation accuracy:\t\t95.92 %\n"
     ]
    },
    {
     "name": "stderr",
     "output_type": "stream",
     "text": [
      "\r",
      " 28%|██▊       | 11/40 [00:32<01:31,  3.14s/it]"
     ]
    },
    {
     "name": "stdout",
     "output_type": "stream",
     "text": [
      "Epoch 11 of 40 took 3.454s\n",
      "  training loss (in-iteration):\t\t0.078484\n",
      "  train accuracy:\t\t97.87 %\n",
      "  validation accuracy:\t\t96.43 %\n"
     ]
    },
    {
     "name": "stderr",
     "output_type": "stream",
     "text": [
      "\r",
      " 30%|███       | 12/40 [00:36<01:34,  3.39s/it]"
     ]
    },
    {
     "name": "stdout",
     "output_type": "stream",
     "text": [
      "Epoch 12 of 40 took 3.953s\n",
      "  training loss (in-iteration):\t\t0.076668\n",
      "  train accuracy:\t\t97.98 %\n",
      "  validation accuracy:\t\t96.15 %\n"
     ]
    },
    {
     "name": "stderr",
     "output_type": "stream",
     "text": [
      "\r",
      " 32%|███▎      | 13/40 [00:39<01:32,  3.43s/it]"
     ]
    },
    {
     "name": "stdout",
     "output_type": "stream",
     "text": [
      "Epoch 13 of 40 took 3.521s\n",
      "  training loss (in-iteration):\t\t0.082479\n",
      "  train accuracy:\t\t97.83 %\n",
      "  validation accuracy:\t\t96.53 %\n"
     ]
    },
    {
     "name": "stderr",
     "output_type": "stream",
     "text": [
      "\r",
      " 35%|███▌      | 14/40 [00:42<01:26,  3.33s/it]"
     ]
    },
    {
     "name": "stdout",
     "output_type": "stream",
     "text": [
      "Epoch 14 of 40 took 3.109s\n",
      "  training loss (in-iteration):\t\t0.066130\n",
      "  train accuracy:\t\t98.21 %\n",
      "  validation accuracy:\t\t96.52 %\n"
     ]
    },
    {
     "name": "stderr",
     "output_type": "stream",
     "text": [
      "\r",
      " 38%|███▊      | 15/40 [00:46<01:23,  3.36s/it]"
     ]
    },
    {
     "name": "stdout",
     "output_type": "stream",
     "text": [
      "Epoch 15 of 40 took 3.421s\n",
      "  training loss (in-iteration):\t\t0.074372\n",
      "  train accuracy:\t\t98.15 %\n",
      "  validation accuracy:\t\t96.31 %\n"
     ]
    },
    {
     "name": "stderr",
     "output_type": "stream",
     "text": [
      "\r",
      " 40%|████      | 16/40 [00:49<01:21,  3.38s/it]"
     ]
    },
    {
     "name": "stdout",
     "output_type": "stream",
     "text": [
      "Epoch 16 of 40 took 3.433s\n",
      "  training loss (in-iteration):\t\t0.066580\n",
      "  train accuracy:\t\t98.30 %\n",
      "  validation accuracy:\t\t96.22 %\n"
     ]
    },
    {
     "name": "stderr",
     "output_type": "stream",
     "text": [
      "\r",
      " 42%|████▎     | 17/40 [00:52<01:17,  3.36s/it]"
     ]
    },
    {
     "name": "stdout",
     "output_type": "stream",
     "text": [
      "Epoch 17 of 40 took 3.300s\n",
      "  training loss (in-iteration):\t\t0.071143\n",
      "  train accuracy:\t\t98.30 %\n",
      "  validation accuracy:\t\t96.51 %\n"
     ]
    },
    {
     "name": "stderr",
     "output_type": "stream",
     "text": [
      "\r",
      " 45%|████▌     | 18/40 [00:55<01:12,  3.28s/it]"
     ]
    },
    {
     "name": "stdout",
     "output_type": "stream",
     "text": [
      "Epoch 18 of 40 took 3.094s\n",
      "  training loss (in-iteration):\t\t0.063027\n",
      "  train accuracy:\t\t98.47 %\n",
      "  validation accuracy:\t\t96.46 %\n"
     ]
    },
    {
     "name": "stderr",
     "output_type": "stream",
     "text": [
      "\r",
      " 48%|████▊     | 19/40 [00:59<01:08,  3.26s/it]"
     ]
    },
    {
     "name": "stdout",
     "output_type": "stream",
     "text": [
      "Epoch 19 of 40 took 3.214s\n",
      "  training loss (in-iteration):\t\t0.067668\n",
      "  train accuracy:\t\t98.48 %\n",
      "  validation accuracy:\t\t96.30 %\n"
     ]
    },
    {
     "name": "stderr",
     "output_type": "stream",
     "text": [
      "\r",
      " 50%|█████     | 20/40 [01:02<01:04,  3.24s/it]"
     ]
    },
    {
     "name": "stdout",
     "output_type": "stream",
     "text": [
      "Epoch 20 of 40 took 3.172s\n",
      "  training loss (in-iteration):\t\t0.059054\n",
      "  train accuracy:\t\t98.54 %\n",
      "  validation accuracy:\t\t96.44 %\n"
     ]
    },
    {
     "name": "stderr",
     "output_type": "stream",
     "text": [
      "\r",
      " 52%|█████▎    | 21/40 [01:05<01:00,  3.19s/it]"
     ]
    },
    {
     "name": "stdout",
     "output_type": "stream",
     "text": [
      "Epoch 21 of 40 took 3.089s\n",
      "  training loss (in-iteration):\t\t0.058527\n",
      "  train accuracy:\t\t98.55 %\n",
      "  validation accuracy:\t\t96.67 %\n"
     ]
    },
    {
     "name": "stderr",
     "output_type": "stream",
     "text": [
      "\r",
      " 55%|█████▌    | 22/40 [01:08<00:56,  3.16s/it]"
     ]
    },
    {
     "name": "stdout",
     "output_type": "stream",
     "text": [
      "Epoch 22 of 40 took 3.078s\n",
      "  training loss (in-iteration):\t\t0.066368\n",
      "  train accuracy:\t\t98.51 %\n",
      "  validation accuracy:\t\t96.53 %\n"
     ]
    },
    {
     "name": "stderr",
     "output_type": "stream",
     "text": [
      "\r",
      " 57%|█████▊    | 23/40 [01:11<00:54,  3.21s/it]"
     ]
    },
    {
     "name": "stdout",
     "output_type": "stream",
     "text": [
      "Epoch 23 of 40 took 3.316s\n",
      "  training loss (in-iteration):\t\t0.063785\n",
      "  train accuracy:\t\t98.56 %\n",
      "  validation accuracy:\t\t96.62 %\n"
     ]
    },
    {
     "name": "stderr",
     "output_type": "stream",
     "text": [
      "\r",
      " 60%|██████    | 24/40 [01:14<00:50,  3.16s/it]"
     ]
    },
    {
     "name": "stdout",
     "output_type": "stream",
     "text": [
      "Epoch 24 of 40 took 3.054s\n",
      "  training loss (in-iteration):\t\t0.055657\n",
      "  train accuracy:\t\t98.72 %\n",
      "  validation accuracy:\t\t96.62 %\n"
     ]
    },
    {
     "name": "stderr",
     "output_type": "stream",
     "text": [
      "\r",
      " 62%|██████▎   | 25/40 [01:17<00:46,  3.12s/it]"
     ]
    },
    {
     "name": "stdout",
     "output_type": "stream",
     "text": [
      "Epoch 25 of 40 took 3.029s\n",
      "  training loss (in-iteration):\t\t0.058690\n",
      "  train accuracy:\t\t98.69 %\n",
      "  validation accuracy:\t\t96.76 %\n"
     ]
    },
    {
     "name": "stderr",
     "output_type": "stream",
     "text": [
      "\r",
      " 65%|██████▌   | 26/40 [01:21<00:44,  3.19s/it]"
     ]
    },
    {
     "name": "stdout",
     "output_type": "stream",
     "text": [
      "Epoch 26 of 40 took 3.335s\n",
      "  training loss (in-iteration):\t\t0.058084\n",
      "  train accuracy:\t\t98.74 %\n",
      "  validation accuracy:\t\t96.65 %\n"
     ]
    },
    {
     "name": "stderr",
     "output_type": "stream",
     "text": [
      "\r",
      " 68%|██████▊   | 27/40 [01:24<00:40,  3.14s/it]"
     ]
    },
    {
     "name": "stdout",
     "output_type": "stream",
     "text": [
      "Epoch 27 of 40 took 3.043s\n",
      "  training loss (in-iteration):\t\t0.054156\n",
      "  train accuracy:\t\t98.79 %\n",
      "  validation accuracy:\t\t96.55 %\n"
     ]
    },
    {
     "name": "stderr",
     "output_type": "stream",
     "text": [
      "\r",
      " 70%|███████   | 28/40 [01:27<00:37,  3.12s/it]"
     ]
    },
    {
     "name": "stdout",
     "output_type": "stream",
     "text": [
      "Epoch 28 of 40 took 3.061s\n",
      "  training loss (in-iteration):\t\t0.055430\n",
      "  train accuracy:\t\t98.86 %\n",
      "  validation accuracy:\t\t96.31 %\n"
     ]
    },
    {
     "name": "stderr",
     "output_type": "stream",
     "text": [
      "\r",
      " 72%|███████▎  | 29/40 [01:30<00:34,  3.12s/it]"
     ]
    },
    {
     "name": "stdout",
     "output_type": "stream",
     "text": [
      "Epoch 29 of 40 took 3.118s\n",
      "  training loss (in-iteration):\t\t0.060113\n",
      "  train accuracy:\t\t98.81 %\n",
      "  validation accuracy:\t\t96.54 %\n"
     ]
    },
    {
     "name": "stderr",
     "output_type": "stream",
     "text": [
      "\r",
      " 75%|███████▌  | 30/40 [01:33<00:30,  3.09s/it]"
     ]
    },
    {
     "name": "stdout",
     "output_type": "stream",
     "text": [
      "Epoch 30 of 40 took 3.031s\n",
      "  training loss (in-iteration):\t\t0.050330\n",
      "  train accuracy:\t\t98.88 %\n",
      "  validation accuracy:\t\t96.77 %\n"
     ]
    },
    {
     "name": "stderr",
     "output_type": "stream",
     "text": [
      "\r",
      " 78%|███████▊  | 31/40 [01:36<00:27,  3.08s/it]"
     ]
    },
    {
     "name": "stdout",
     "output_type": "stream",
     "text": [
      "Epoch 31 of 40 took 3.040s\n",
      "  training loss (in-iteration):\t\t0.054285\n",
      "  train accuracy:\t\t98.91 %\n",
      "  validation accuracy:\t\t96.68 %\n"
     ]
    },
    {
     "name": "stderr",
     "output_type": "stream",
     "text": [
      "\r",
      " 80%|████████  | 32/40 [01:39<00:24,  3.11s/it]"
     ]
    },
    {
     "name": "stdout",
     "output_type": "stream",
     "text": [
      "Epoch 32 of 40 took 3.168s\n",
      "  training loss (in-iteration):\t\t0.053702\n",
      "  train accuracy:\t\t98.90 %\n",
      "  validation accuracy:\t\t96.62 %\n"
     ]
    },
    {
     "name": "stderr",
     "output_type": "stream",
     "text": [
      "\r",
      " 82%|████████▎ | 33/40 [01:43<00:23,  3.31s/it]"
     ]
    },
    {
     "name": "stdout",
     "output_type": "stream",
     "text": [
      "Epoch 33 of 40 took 3.784s\n",
      "  training loss (in-iteration):\t\t0.055142\n",
      "  train accuracy:\t\t98.94 %\n",
      "  validation accuracy:\t\t96.59 %\n"
     ]
    },
    {
     "name": "stderr",
     "output_type": "stream",
     "text": [
      "\r",
      " 85%|████████▌ | 34/40 [01:47<00:20,  3.45s/it]"
     ]
    },
    {
     "name": "stdout",
     "output_type": "stream",
     "text": [
      "Epoch 34 of 40 took 3.770s\n",
      "  training loss (in-iteration):\t\t0.048268\n",
      "  train accuracy:\t\t99.09 %\n",
      "  validation accuracy:\t\t96.77 %\n"
     ]
    },
    {
     "name": "stderr",
     "output_type": "stream",
     "text": [
      "\r",
      " 88%|████████▊ | 35/40 [01:51<00:17,  3.57s/it]"
     ]
    },
    {
     "name": "stdout",
     "output_type": "stream",
     "text": [
      "Epoch 35 of 40 took 3.850s\n",
      "  training loss (in-iteration):\t\t0.062391\n",
      "  train accuracy:\t\t98.87 %\n",
      "  validation accuracy:\t\t96.51 %\n"
     ]
    },
    {
     "name": "stderr",
     "output_type": "stream",
     "text": [
      "\r",
      " 90%|█████████ | 36/40 [01:54<00:13,  3.44s/it]"
     ]
    },
    {
     "name": "stdout",
     "output_type": "stream",
     "text": [
      "Epoch 36 of 40 took 3.146s\n",
      "  training loss (in-iteration):\t\t0.044013\n",
      "  train accuracy:\t\t99.18 %\n",
      "  validation accuracy:\t\t96.76 %\n"
     ]
    },
    {
     "name": "stderr",
     "output_type": "stream",
     "text": [
      "\r",
      " 92%|█████████▎| 37/40 [01:57<00:09,  3.32s/it]"
     ]
    },
    {
     "name": "stdout",
     "output_type": "stream",
     "text": [
      "Epoch 37 of 40 took 3.029s\n",
      "  training loss (in-iteration):\t\t0.045684\n",
      "  train accuracy:\t\t99.18 %\n",
      "  validation accuracy:\t\t96.66 %\n"
     ]
    },
    {
     "name": "stderr",
     "output_type": "stream",
     "text": [
      "\r",
      " 95%|█████████▌| 38/40 [02:00<00:06,  3.28s/it]"
     ]
    },
    {
     "name": "stdout",
     "output_type": "stream",
     "text": [
      "Epoch 38 of 40 took 3.188s\n",
      "  training loss (in-iteration):\t\t0.056147\n",
      "  train accuracy:\t\t99.02 %\n",
      "  validation accuracy:\t\t96.73 %\n"
     ]
    },
    {
     "name": "stderr",
     "output_type": "stream",
     "text": [
      "\r",
      " 98%|█████████▊| 39/40 [02:04<00:03,  3.35s/it]"
     ]
    },
    {
     "name": "stdout",
     "output_type": "stream",
     "text": [
      "Epoch 39 of 40 took 3.503s\n",
      "  training loss (in-iteration):\t\t0.049173\n",
      "  train accuracy:\t\t99.14 %\n",
      "  validation accuracy:\t\t96.53 %\n"
     ]
    },
    {
     "name": "stderr",
     "output_type": "stream",
     "text": [
      "\r",
      "100%|██████████| 40/40 [02:07<00:00,  3.36s/it]"
     ]
    },
    {
     "name": "stdout",
     "output_type": "stream",
     "text": [
      "Epoch 40 of 40 took 3.388s\n",
      "  training loss (in-iteration):\t\t0.051501\n",
      "  train accuracy:\t\t99.09 %\n",
      "  validation accuracy:\t\t96.89 %\n"
     ]
    },
    {
     "name": "stderr",
     "output_type": "stream",
     "text": [
      "\n"
     ]
    }
   ],
   "source": [
    "import time\n",
    "from tqdm import tqdm\n",
    "\n",
    "num_epochs = 40 #количество проходов по данным\n",
    "\n",
    "batch_size = 50 #размер мини-батча\n",
    "\n",
    "train_accuracy = []\n",
    "val_accuracy = []\n",
    "\n",
    "for epoch in tqdm(range(num_epochs)):\n",
    "    # In each epoch, we do a full pass over the training data:\n",
    "    train_err = 0\n",
    "    train_acc = 0\n",
    "    train_batches = 0\n",
    "    start_time = time.time()\n",
    "    for batch in iterate_minibatches(X_train, y_train, batch_size):\n",
    "        \n",
    "        \n",
    "        inputs, targets = batch\n",
    "        train_err_batch, train_acc_batch= train_fun(inputs, targets)\n",
    "        train_err += train_err_batch\n",
    "        train_acc += train_acc_batch\n",
    "        train_batches += 1\n",
    "\n",
    "    # And a full pass over the validation data:\n",
    "    val_acc = 0\n",
    "    val_batches = 0\n",
    "    for batch in iterate_minibatches(X_val, y_val, batch_size):\n",
    "        inputs, targets = batch\n",
    "        val_acc += accuracy_fun(inputs, targets)\n",
    "        val_batches += 1\n",
    "\n",
    "    \n",
    "    # Then we print the results for this epoch:\n",
    "    print(\"Epoch {} of {} took {:.3f}s\".format(\n",
    "        epoch + 1, num_epochs, time.time() - start_time))\n",
    "\n",
    "    print(\"  training loss (in-iteration):\\t\\t{:.6f}\".format(train_err / train_batches))\n",
    "    print(\"  train accuracy:\\t\\t{:.2f} %\".format(\n",
    "        train_acc / train_batches * 100))\n",
    "    print(\"  validation accuracy:\\t\\t{:.2f} %\".format(\n",
    "        val_acc / val_batches * 100))\n",
    "    \n",
    "    train_accuracy.append(train_acc / train_batches * 100)\n",
    "    val_accuracy.append(val_acc / val_batches * 100)"
   ]
  },
  {
   "cell_type": "code",
   "execution_count": 25,
   "metadata": {
    "collapsed": false
   },
   "outputs": [],
   "source": [
    "spiking_net = spiking_from_lasagne(net, [9., 2.])"
   ]
  },
  {
   "cell_type": "code",
   "execution_count": 34,
   "metadata": {
    "collapsed": false
   },
   "outputs": [
    {
     "data": {
      "text/plain": [
       "[2.9767471247613129,\n",
       " -3.7124521564987276,\n",
       " -0.43273595398051923,\n",
       " -1.2098214480617122,\n",
       " -1.6883575295107076,\n",
       " -2.8440939818237267,\n",
       " -1.8523895706289113,\n",
       " -2.7480599451143135,\n",
       " 8.1848925648984121,\n",
       " 1.1066371574877056]"
      ]
     },
     "execution_count": 34,
     "metadata": {},
     "output_type": "execute_result"
    }
   ],
   "source": [
    "[i.bias for i in spiking_net.layers[2].neurons]"
   ]
  },
  {
   "cell_type": "code",
   "execution_count": 33,
   "metadata": {
    "collapsed": false
   },
   "outputs": [
    {
     "name": "stdout",
     "output_type": "stream",
     "text": [
      "[[], [], [], [], [], [], [], [14, 27, 41, 54, 66, 82, 94], [], []]\n",
      "44.1063570976\n"
     ]
    }
   ],
   "source": [
    "spiking_net = spiking_from_lasagne(net, [8., 2.])\n",
    "import time\n",
    "start = time.time()\n",
    "print(spiking_net.get_output_for(X_test[0], 100))\n",
    "print(time.time() - start)"
   ]
  },
  {
   "cell_type": "code",
   "execution_count": 35,
   "metadata": {
    "collapsed": false
   },
   "outputs": [
    {
     "data": {
      "text/plain": [
       "<matplotlib.image.AxesImage at 0x127450190>"
      ]
     },
     "execution_count": 35,
     "metadata": {},
     "output_type": "execute_result"
    },
    {
     "data": {
      "image/png": "[encoded data removed]",
      "text/plain": [
       "<matplotlib.figure.Figure at 0x120c98410>"
      ]
     },
     "metadata": {},
     "output_type": "display_data"
    }
   ],
   "source": [
    "plt.imshow(X_test[0,0])"
   ]
  },
  {
   "cell_type": "code",
   "execution_count": 36,
   "metadata": {
    "collapsed": false
   },
   "outputs": [
    {
     "name": "stdout",
     "output_type": "stream",
     "text": [
      "(5, [[], [], [], [19, 37, 59, 82], [], [66], [], [], [], []])\n",
      "(0, [[22, 48, 72, 98], [], [], [], [], [], [], [], [], []])\n",
      "(4, [[], [], [], [], [65], [], [], [], [], []])\n",
      "(1, [[], [54], [], [], [], [], [], [], [], []])\n",
      "(9, [[], [], [], [], [], [], [], [], [], []])\n",
      "(2, [[], [], [], [], [], [], [], [], [], []])\n",
      "(1, [[], [18, 36, 57, 76, 97], [], [], [], [], [], [], [], []])\n",
      "(3, [[], [], [], [14, 26, 39, 52, 66, 78, 90], [], [], [], [], [], []])\n",
      "(1, [[], [51], [], [], [], [], [], [], [], []])\n",
      "(4, [[], [], [], [], [16, 28, 40, 54, 69, 85], [], [], [], [], []])\n",
      "(7.0, 9.0, 4.0, 4.0)\n",
      "(0.7, 0.9, 0.4, 0.4)\n",
      "(57.617911195755006, 0)\n"
     ]
    },
    {
     "name": "stderr",
     "output_type": "stream",
     "text": [
      "/usr/local/lib/python2.7/site-packages/numpy/core/fromnumeric.py:2889: RuntimeWarning: Mean of empty slice.\n",
      "  out=out, **kwargs)\n"
     ]
    }
   ],
   "source": [
    "right_first = right_freq = right_betw = right_betw_min = 0.\n",
    "leng = 10\n",
    "n = 0\n",
    "no_ans = 0\n",
    "targ = y_train[:10]\n",
    "answer = []\n",
    "times = []\n",
    "for num, x in enumerate(X_train[:10]):\n",
    "    start_time = time.time()\n",
    "    answer.append(spiking_from_lasagne(net, [8., 2.]).get_output_for(x, 100))\n",
    "    times.append(time.time() - start_time)\n",
    "    print(targ[num], answer[-1])\n",
    "for i, ans in enumerate(answer):\n",
    "    first_spike = 400\n",
    "    first_sp_ans = []\n",
    "    for k, j in enumerate(ans):\n",
    "        if(len(j) > 0):\n",
    "            if(j[0] < first_spike):\n",
    "                first_spike = j[0]\n",
    "                first_sp_ans = [k]\n",
    "            if(j[0] == first_spike):\n",
    "                first_sp_ans.append(k)\n",
    "    if(targ[i] in first_sp_ans):\n",
    "        right_first += 1\n",
    "    \n",
    "    betw = [np.mean([j[l+1]-j[l] for l in np.arange(len(j)-1)]) for j in ans]\n",
    "    betw_min_count = [np.min([j[l+1]-j[l] for l in np.arange(len(j)-1)]) if len([j[l+1]-j[l] for l in np.arange(len(j)-1)])>0 else 10000 for j in ans]\n",
    "    betw_ans = []\n",
    "    betw_min = 110\n",
    "    betw_ans_min = []\n",
    "    betw_min_min = 110\n",
    "    \n",
    "    ans = [len(j) for j in ans]\n",
    "    freq_max = 0\n",
    "    freq_ans = []\n",
    "    for k, j in enumerate(ans):\n",
    "        if (j > freq_max):\n",
    "            freq_max = j\n",
    "            freq_ans = [k]\n",
    "        if (j == freq_max):\n",
    "            freq_ans.append(k)\n",
    "        if(betw[k] < betw_min):\n",
    "            betw_min = j\n",
    "            betw_ans = [k]\n",
    "        if(betw[k] == betw_min):\n",
    "            betw_ans.append(k)\n",
    "        if(betw_min_count[k] < betw_min_min):\n",
    "            betw_min_min = j\n",
    "            betw_ans_min = [k]\n",
    "        if(betw_min_count[k] == betw_min_min):\n",
    "            betw_ans_min.append(k)\n",
    "    if(targ[i] in betw_ans):\n",
    "        right_betw += 1\n",
    "    if(freq_max == 0):\n",
    "        no_ans += 1\n",
    "    if(targ[i] in freq_ans):\n",
    "        right_freq += 1\n",
    "    if(targ[i] in betw_ans_min):\n",
    "        right_betw_min += 1\n",
    "        \n",
    "print(right_first, right_freq, right_betw, right_betw_min)\n",
    "print(right_first/leng, right_freq/leng, right_betw/leng, right_betw_min/leng)\n",
    "print(np.mean(times), no_ans)"
   ]
  },
  {
   "cell_type": "code",
   "execution_count": 41,
   "metadata": {
    "collapsed": false
   },
   "outputs": [
    {
     "name": "stdout",
     "output_type": "stream",
     "text": [
      "(5, [[], [], [], [8, 13, 18, 23, 28, 34, 42, 48], [], [10, 22, 36, 49], [], [], [], []])\n",
      "(0, [[8, 14, 20, 26, 34, 41, 49], [], [], [], [], [], [], [], [], []])\n",
      "(4, [[], [], [], [], [16, 25, 36, 48], [], [], [], [], []])\n",
      "(1, [[], [12, 23, 33, 44], [], [], [], [], [], [], [], []])\n",
      "(9, [[], [], [], [], [], [], [], [], [], [10, 19, 28, 37, 46]])\n",
      "(2, [[], [], [12, 20, 28, 37, 48], [], [], [], [], [], [], []])\n",
      "(1, [[], [8, 14, 20, 26, 32, 38, 44], [], [], [], [], [], [], [], []])\n",
      "(3, [[], [], [], [8, 13, 19, 26, 32, 38, 44], [], [], [], [], [], []])\n",
      "(1, [[], [8, 16, 22, 29, 36, 43], [], [], [], [], [], [], [], []])\n",
      "(4, [[], [], [], [], [7, 12, 18, 24, 30, 36, 42, 48], [], [], [], [], []])\n",
      "(9.0, 9.0, 9.0, 9.0)\n",
      "(0.9, 0.9, 0.9, 0.9)\n",
      "(962.45390651226046, 0)\n"
     ]
    }
   ],
   "source": [
    "right_first = right_freq = right_betw = right_betw_min = 0.\n",
    "leng = 10\n",
    "n = 0\n",
    "no_ans = 0\n",
    "targ = y_train[:10]\n",
    "answer = []\n",
    "times = []\n",
    "for num, x in enumerate(X_train[:10]):\n",
    "    start_time = time.time()\n",
    "    answer.append(spiking_from_lasagne(net, [8., 1.]).get_output_for(x, 50))\n",
    "    times.append(time.time() - start_time)\n",
    "    print(targ[num], answer[-1])\n",
    "for i, ans in enumerate(answer):\n",
    "    first_spike = 400\n",
    "    first_sp_ans = []\n",
    "    for k, j in enumerate(ans):\n",
    "        if(len(j) > 0):\n",
    "            if(j[0] < first_spike):\n",
    "                first_spike = j[0]\n",
    "                first_sp_ans = [k]\n",
    "            if(j[0] == first_spike):\n",
    "                first_sp_ans.append(k)\n",
    "    if(targ[i] in first_sp_ans):\n",
    "        right_first += 1\n",
    "    \n",
    "    betw = [np.mean([j[l+1]-j[l] for l in np.arange(len(j)-1)]) for j in ans]\n",
    "    betw_min_count = [np.min([j[l+1]-j[l] for l in np.arange(len(j)-1)]) if len([j[l+1]-j[l] for l in np.arange(len(j)-1)])>0 else 10000 for j in ans]\n",
    "    betw_ans = []\n",
    "    betw_min = 110\n",
    "    betw_ans_min = []\n",
    "    betw_min_min = 110\n",
    "    \n",
    "    ans = [len(j) for j in ans]\n",
    "    freq_max = 0\n",
    "    freq_ans = []\n",
    "    for k, j in enumerate(ans):\n",
    "        if (j > freq_max):\n",
    "            freq_max = j\n",
    "            freq_ans = [k]\n",
    "        if (j == freq_max):\n",
    "            freq_ans.append(k)\n",
    "        if(betw[k] < betw_min):\n",
    "            betw_min = j\n",
    "            betw_ans = [k]\n",
    "        if(betw[k] == betw_min):\n",
    "            betw_ans.append(k)\n",
    "        if(betw_min_count[k] < betw_min_min):\n",
    "            betw_min_min = j\n",
    "            betw_ans_min = [k]\n",
    "        if(betw_min_count[k] == betw_min_min):\n",
    "            betw_ans_min.append(k)\n",
    "    if(targ[i] in betw_ans):\n",
    "        right_betw += 1\n",
    "    if(freq_max == 0):\n",
    "        no_ans += 1\n",
    "    if(targ[i] in freq_ans):\n",
    "        right_freq += 1\n",
    "    if(targ[i] in betw_ans_min):\n",
    "        right_betw_min += 1\n",
    "        \n",
    "print(right_first, right_freq, right_betw, right_betw_min)\n",
    "print(right_first/leng, right_freq/leng, right_betw/leng, right_betw_min/leng)\n",
    "print(np.mean(times), no_ans)"
   ]
  },
  {
   "cell_type": "code",
   "execution_count": null,
   "metadata": {
    "collapsed": false
   },
   "outputs": [
    {
     "name": "stdout",
     "output_type": "stream",
     "text": [
      "(7, [[], [], [], [13, 22, 33, 44, 56, 66, 74, 87], [], [], [], [6, 11, 15, 20, 25, 31, 37, 42, 47, 53, 59, 64, 70, 74, 79, 85, 90, 95], [], []])\n",
      "(2, [[], [], [6, 11, 16, 21, 26, 32, 37, 42, 47, 52, 56, 62, 68, 73, 79, 84, 89, 94], [], [], [], [], [], [], []])\n",
      "(1, [[], [9, 17, 24, 31, 37, 44, 52, 59, 67, 74, 82, 89, 97], [], [], [], [], [], [], [], []])\n"
     ]
    }
   ],
   "source": [
    "right_first = right_freq = right_betw = right_betw_min = 0.\n",
    "leng = 10\n",
    "n = 0\n",
    "no_ans = 0\n",
    "targ = y_test[:10]\n",
    "answer = []\n",
    "times = []\n",
    "for num, x in enumerate(X_test[:10]):\n",
    "    start_time = time.time()\n",
    "    answer.append(spiking_from_lasagne(net, [9., 1.]).get_output_for(x, 100))\n",
    "    times.append(time.time() - start_time)\n",
    "    print(targ[num], answer[-1])\n",
    "for i, ans in enumerate(answer):\n",
    "    first_spike = 400\n",
    "    first_sp_ans = []\n",
    "    for k, j in enumerate(ans):\n",
    "        if(len(j) > 0):\n",
    "            if(j[0] < first_spike):\n",
    "                first_spike = j[0]\n",
    "                first_sp_ans = [k]\n",
    "            if(j[0] == first_spike):\n",
    "                first_sp_ans.append(k)\n",
    "    if(targ[i] in first_sp_ans):\n",
    "        right_first += 1\n",
    "    \n",
    "    betw = [np.mean([j[l+1]-j[l] for l in np.arange(len(j)-1)]) for j in ans]\n",
    "    betw_min_count = [np.min([j[l+1]-j[l] for l in np.arange(len(j)-1)]) if len([j[l+1]-j[l] for l in np.arange(len(j)-1)])>0 else 10000 for j in ans]\n",
    "    betw_ans = []\n",
    "    betw_min = 110\n",
    "    betw_ans_min = []\n",
    "    betw_min_min = 110\n",
    "    \n",
    "    ans = [len(j) for j in ans]\n",
    "    freq_max = 0\n",
    "    freq_ans = []\n",
    "    for k, j in enumerate(ans):\n",
    "        if (j > freq_max):\n",
    "            freq_max = j\n",
    "            freq_ans = [k]\n",
    "        if (j == freq_max):\n",
    "            freq_ans.append(k)\n",
    "        if(betw[k] < betw_min):\n",
    "            betw_min = j\n",
    "            betw_ans = [k]\n",
    "        if(betw[k] == betw_min):\n",
    "            betw_ans.append(k)\n",
    "        if(betw_min_count[k] < betw_min_min):\n",
    "            betw_min_min = j\n",
    "            betw_ans_min = [k]\n",
    "        if(betw_min_count[k] == betw_min_min):\n",
    "            betw_ans_min.append(k)\n",
    "    if(targ[i] in betw_ans):\n",
    "        right_betw += 1\n",
    "    if(freq_max == 0):\n",
    "        no_ans += 1\n",
    "    if(targ[i] in freq_ans):\n",
    "        right_freq += 1\n",
    "    if(targ[i] in betw_ans_min):\n",
    "        right_betw_min += 1\n",
    "        \n",
    "print(right_first, right_freq, right_betw, right_betw_min)\n",
    "print(right_first/leng, right_freq/leng, right_betw/leng, right_betw_min/leng)\n",
    "print(np.mean(times), no_ans)"
   ]
  },
  {
   "cell_type": "code",
   "execution_count": 46,
   "metadata": {
    "collapsed": false
   },
   "outputs": [
    {
     "name": "stdout",
     "output_type": "stream",
     "text": [
      "[[], [], [], [], [], [], [], [14, 27, 41, 54, 66, 82, 94], [], []]\n",
      "49.0532119274\n"
     ]
    }
   ],
   "source": [
    "spiking_net = spiking_from_lasagne(net, [8., 2.])\n",
    "import time\n",
    "start = time.time()\n",
    "print(spiking_net.get_output_for(X_test[0], 100))\n",
    "print(time.time() - start)"
   ]
  },
  {
   "cell_type": "code",
   "execution_count": null,
   "metadata": {
    "collapsed": true
   },
   "outputs": [],
   "source": []
  }
 ],
 "metadata": {
  "kernelspec": {
   "display_name": "Python 2",
   "language": "python",
   "name": "python2"
  },
  "language_info": {
   "codemirror_mode": {
    "name": "ipython",
    "version": 2
   },
   "file_extension": ".py",
   "mimetype": "text/x-python",
   "name": "python",
   "nbconvert_exporter": "python",
   "pygments_lexer": "ipython2",
   "version": "2.7.13"
  }
 },
 "nbformat": 4,
 "nbformat_minor": 2
}
