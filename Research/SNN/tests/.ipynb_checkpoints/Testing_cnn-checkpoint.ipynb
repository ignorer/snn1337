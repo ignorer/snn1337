{
 "cells": [
  {
   "cell_type": "code",
   "execution_count": 2,
   "metadata": {
    "collapsed": false,
    "deletable": true,
    "editable": true
   },
   "outputs": [],
   "source": [
    "import numpy as np\n",
    "import theano\n",
    "import theano.tensor as T\n",
    "import lasagne\n",
    "import matplotlib.pyplot as plt\n",
    "%matplotlib inline"
   ]
  },
  {
   "cell_type": "code",
   "execution_count": null,
   "metadata": {
    "collapsed": true,
    "deletable": true,
    "editable": true
   },
   "outputs": [],
   "source": [
    "%run SNN.ipynb"
   ]
  },
  {
   "cell_type": "code",
   "execution_count": null,
   "metadata": {
    "collapsed": true
   },
   "outputs": [],
   "source": [
    "from mnist import load_dataset\n",
    "X_train,y_train,X_val,y_val,X_test,y_test = load_dataset()"
   ]
  },
  {
   "cell_type": "code",
   "execution_count": null,
   "metadata": {
    "collapsed": true
   },
   "outputs": [],
   "source": [
    "input_X = T.tensor4(\"X\")\n",
    "input_shape = [None,1,28,28]\n",
    "target_y = T.vector(\"target Y integer\",dtype='int32')"
   ]
  },
  {
   "cell_type": "code",
   "execution_count": null,
   "metadata": {
    "collapsed": true
   },
   "outputs": [],
   "source": [
    "input_layer = lasagne.layers.InputLayer(shape = input_shape,input_var=input_X)\n",
    "\n",
    "conv_1 = lasagne.layers.Conv2DLayer(input_layer, num_filters=8, filter_size=3, name='conv_1', \n",
    "                                    nonlinearity=lasagne.nonlinearities.rectify, b=None)\n",
    "\n",
    "pool_1 = lasagne.layers.Pool2DLayer(conv_1, pool_size=(2,2), name='pool_1', mode='average_inc_pad')\n",
    "\n",
    "conv_2 = lasagne.layers.Conv2DLayer(pool_1, num_filters=8, filter_size=3, nonlinearity=lasagne.nonlinearities.rectify, \n",
    "                                    name='conv_2', b=None)\n",
    "pool_2 = lasagne.layers.Pool2DLayer(conv_2, pool_size=(2,2), name='pool_2', mode='average_inc_pad')\n",
    "\n",
    "dense_1 = lasagne.layers.DenseLayer(pool_2, num_units=128, b=None, name='dense_1')\n",
    "\n",
    "dense_output = lasagne.layers.DenseLayer(dense_1, num_units = 10, nonlinearity = lasagne.nonlinearities.softmax,\\\n",
    "                                         name='output', b=None)"
   ]
  },
  {
   "cell_type": "code",
   "execution_count": null,
   "metadata": {
    "collapsed": true
   },
   "outputs": [],
   "source": [
    "with np.load('dense_weights.npz') as f: \n",
    "    param_values = [f['arr_%d' % i] for i in range(len(f.files))] \n",
    "    for i in param_values[-1]:\n",
    "        for j in i:\n",
    "            j = abs(j)\n",
    "    for i in param_values:\n",
    "        for j in i:\n",
    "            for k, n in enumerate(j):\n",
    "                if(n < 0.000001):\n",
    "                    j[k] = 0.0\n",
    "    \n",
    "lasagne.layers.set_all_param_values(dense_output, param_values)\n",
    "spiking_net = spiking_from_lasagne(dense_output)"
   ]
  },
  {
   "cell_type": "code",
   "execution_count": null,
   "metadata": {
    "collapsed": true
   },
   "outputs": [],
   "source": [
    "def write_to_file(net, filename='params.txt'):\n",
    "    info = {'threshold':0.5, 'tau_m':4, 'tau_s':2, 'tau_r':20, 'synapsesPerConnection':1, 'spikesPerSynapse':2,\\\n",
    "            'exitTime':1000,'layersNumber':len(net.layers)}\n",
    "    f = open(filename, 'w')\n",
    "    f.writelines([i+': '+str(info[i])+'\\n' for i in info])\n",
    "    \n",
    "    for l in net.layers:\n",
    "        if(type(l) == SubSampling2DLayer):\n",
    "            info = {'PoolLayer':'', 'pool_size': str(\" \".join(map(str, l.pool_size)))}\n",
    "            f.writelines([i+': '+str(info[i])+'\\n' for i in info])\n",
    "        if(type(l) == InputLayer):\n",
    "            info = {'InputLayer':'', 'input_shape': str(\" \".join(map(str, l.shape)))}\n",
    "            f.writelines([i+': '+str(info[i])+'\\n' for i in info])\n",
    "        \n",
    "        else:\n",
    "            params = net.layers[i].weights.tolist()\n",
    "            if(type(l) == Conv2DLayer):\n",
    "                info = {'ConvLayer':'', 'num_filters':l.shape[0], 'filter_size':str(\" \".join(map(str, l.filter_shape))), 'weights':''}\n",
    "            elif(type(l) == DenseLayer):\n",
    "                info = {'DenseLayer':'', 'num_units:': l.neur_size, 'weights':''}\n",
    "            f.writelines([i+': '+str(info[i])+'\\n' for i in info])\n",
    "            for i in params:\n",
    "                for j in i:\n",
    "                    f.writelines(str(\" \".join(map(str, [\"%.6f\" % k for k in j])))+'\\n')\n",
    "    f.close()"
   ]
  }
 ],
 "metadata": {
  "kernelspec": {
   "display_name": "Python 3",
   "language": "python",
   "name": "python3"
  },
  "language_info": {
   "codemirror_mode": {
    "name": "ipython",
    "version": 3
   },
   "file_extension": ".py",
   "mimetype": "text/x-python",
   "name": "python",
   "nbconvert_exporter": "python",
   "pygments_lexer": "ipython3",
   "version": "3.6.0"
  }
 },
 "nbformat": 4,
 "nbformat_minor": 2
}
