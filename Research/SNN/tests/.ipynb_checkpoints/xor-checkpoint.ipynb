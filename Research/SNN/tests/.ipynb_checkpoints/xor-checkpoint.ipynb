{
 "cells": [
  {
   "cell_type": "code",
   "execution_count": 1,
   "metadata": {
    "collapsed": false,
    "deletable": true,
    "editable": true
   },
   "outputs": [
    {
     "name": "stdout",
     "output_type": "stream",
     "text": [
      "<function fixed_frequency_spike_train at 0x10ecfd398>\n"
     ]
    }
   ],
   "source": [
    "run ../SNN.ipynb"
   ]
  },
  {
   "cell_type": "code",
   "execution_count": 3,
   "metadata": {
    "collapsed": false,
    "deletable": true,
    "editable": true
   },
   "outputs": [
    {
     "name": "stdout",
     "output_type": "stream",
     "text": [
      "0, 0: []\n",
      "0, 1: [8, 14, 20, 26, 32, 38, 44, 50, 56, 62, 68, 74, 80, 86, 92, 98]\n",
      "1, 0: [8, 14, 20, 26, 32, 38, 44, 50, 56, 62, 68, 74, 80, 86, 92, 98]\n",
      "1, 1: []\n"
     ]
    }
   ],
   "source": [
    "import time\n",
    "nnet = NNet((1, 1, 2), 0.2)\n",
    "nnet.add_dense(np.array([[1., -1.], [-1., 1]]))\n",
    "nnet.add_dense(np.array([[1.], [1.]]))\n",
    "print'0, 0:', nnet.get_output_for([[[0., 0.]]], 100)[0]\n",
    "print'0, 1:',nnet.get_output_for([[[0., 1.]]], 100)[0]\n",
    "print '1, 0:',nnet.get_output_for([[[1., 0.]]], 100)[0]\n",
    "print '1, 1:',nnet.get_output_for([[[1., 1.]]], 100)[0]"
   ]
  },
  {
   "cell_type": "code",
   "execution_count": null,
   "metadata": {
    "collapsed": true,
    "deletable": true,
    "editable": true
   },
   "outputs": [],
   "source": []
  }
 ],
 "metadata": {
  "kernelspec": {
   "display_name": "Python 2",
   "language": "python",
   "name": "python2"
  },
  "language_info": {
   "codemirror_mode": {
    "name": "ipython",
    "version": 2
   },
   "file_extension": ".py",
   "mimetype": "text/x-python",
   "name": "python",
   "nbconvert_exporter": "python",
   "pygments_lexer": "ipython2",
   "version": "2.7.13"
  }
 },
 "nbformat": 4,
 "nbformat_minor": 2
}
