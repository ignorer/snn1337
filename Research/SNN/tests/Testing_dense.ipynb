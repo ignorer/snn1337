{
 "cells": [
  {
   "cell_type": "markdown",
   "metadata": {
    "deletable": true,
    "editable": true
   },
   "source": [
    "# Тестирование полносвязной спайковой сети на MNIST"
   ]
  },
  {
   "cell_type": "code",
   "execution_count": 18,
   "metadata": {
    "collapsed": false,
    "deletable": true,
    "editable": true
   },
   "outputs": [],
   "source": [
    "import numpy as np\n",
    "import theano\n",
    "import theano.tensor as T\n",
    "import lasagne\n",
    "import matplotlib.pyplot as plt\n",
    "from multiprocessing import Pool\n",
    "from multiprocessing.dummy import Pool as ThreadPool\n",
    "import time\n",
    "%matplotlib inline"
   ]
  },
  {
   "cell_type": "code",
   "execution_count": 5,
   "metadata": {
    "collapsed": false,
    "deletable": true,
    "editable": true
   },
   "outputs": [
    {
     "name": "stdout",
     "output_type": "stream",
     "text": [
      "[[]]\n",
      "[[37, 52, 63]]\n",
      "[[41, 52, 63, 80]]\n",
      "[[59]]\n"
     ]
    }
   ],
   "source": [
    "%run ../SNN.ipynb"
   ]
  },
  {
   "cell_type": "code",
   "execution_count": 19,
   "metadata": {
    "collapsed": false,
    "deletable": true,
    "editable": true
   },
   "outputs": [],
   "source": [
    "from mnist import load_dataset\n",
    "X_train,y_train,X_val,y_val,X_test,y_test = load_dataset()"
   ]
  },
  {
   "cell_type": "code",
   "execution_count": 4,
   "metadata": {
    "collapsed": true,
    "deletable": true,
    "editable": true
   },
   "outputs": [],
   "source": [
    "input_X = T.tensor4(\"X\")\n",
    "input_shape = [None,1,28,28]\n",
    "target_y = T.vector(\"target Y integer\",dtype='int32')"
   ]
  },
  {
   "cell_type": "code",
   "execution_count": 5,
   "metadata": {
    "collapsed": true,
    "deletable": true,
    "editable": true
   },
   "outputs": [],
   "source": [
    "input_layer = lasagne.layers.InputLayer(shape = input_shape,input_var=input_X)\n",
    "\n",
    "dense_1 = lasagne.layers.DenseLayer(input_layer, num_units=128, \n",
    "                                    nonlinearity=lasagne.nonlinearities.rectify,\n",
    "                                   name='dense_1', b=None)\n",
    "\n",
    "dense_2 = lasagne.layers.DenseLayer(dense_1, num_units=256, \n",
    "                                    nonlinearity=lasagne.nonlinearities.sigmoid,\n",
    "                                   name='dense_2', b=None)\n",
    "\n",
    "dense_3 = lasagne.layers.DenseLayer(dense_2, num_units=64, \n",
    "                                    nonlinearity=lasagne.nonlinearities.rectify,\n",
    "                                   name='dense_2', b=None)\n",
    "\n",
    "dense_output = lasagne.layers.DenseLayer(dense_3, num_units = 10,\n",
    "                                        nonlinearity = lasagne.nonlinearities.softmax,\n",
    "                                        name='output', b=None)"
   ]
  },
  {
   "cell_type": "code",
   "execution_count": 13,
   "metadata": {
    "collapsed": false,
    "deletable": true,
    "editable": true
   },
   "outputs": [],
   "source": [
    "with np.load('dense_weights.npz') as f: \n",
    "    param_values = [f['arr_%d' % i] for i in range(len(f.files))] \n",
    "    for i in param_values[-1]:\n",
    "        for j in i:\n",
    "            j = abs(j)\n",
    "lasagne.layers.set_all_param_values(dense_output, param_values)"
   ]
  },
  {
   "cell_type": "code",
   "execution_count": 14,
   "metadata": {
    "collapsed": false,
    "deletable": true,
    "editable": true
   },
   "outputs": [],
   "source": [
    "spiking_net = spiking_from_lasagne(dense_output)"
   ]
  },
  {
   "cell_type": "code",
   "execution_count": 15,
   "metadata": {
    "collapsed": false,
    "deletable": true,
    "editable": true
   },
   "outputs": [
    {
     "name": "stdout",
     "output_type": "stream",
     "text": [
      "not_enough_time\n",
      "None\n",
      "291.621817111969\n"
     ]
    }
   ],
   "source": [
    "start_time = time.time()\n",
    "print(spiking_net.classify([X_train[0,0]], 20))\n",
    "print(time.time() - start_time)"
   ]
  },
  {
   "cell_type": "code",
   "execution_count": 22,
   "metadata": {
    "collapsed": false,
    "deletable": true,
    "editable": true,
    "scrolled": false
   },
   "outputs": [
    {
     "name": "stdout",
     "output_type": "stream",
     "text": [
      "7\n"
     ]
    },
    {
     "data": {
      "image/png": "[encoded data removed]",
      "text/plain": [
       "<matplotlib.figure.Figure at 0x10e214a90>"
      ]
     },
     "metadata": {},
     "output_type": "display_data"
    },
    {
     "name": "stdout",
     "output_type": "stream",
     "text": [
      "2\n"
     ]
    },
    {
     "data": {
      "image/png": "[encoded data removed]",
      "text/plain": [
       "<matplotlib.figure.Figure at 0x1115469b0>"
      ]
     },
     "metadata": {},
     "output_type": "display_data"
    },
    {
     "name": "stdout",
     "output_type": "stream",
     "text": [
      "1\n"
     ]
    },
    {
     "data": {
      "image/png": "[encoded data removed]",
      "text/plain": [
       "<matplotlib.figure.Figure at 0x111326f28>"
      ]
     },
     "metadata": {},
     "output_type": "display_data"
    },
    {
     "name": "stdout",
     "output_type": "stream",
     "text": [
      "0\n"
     ]
    },
    {
     "data": {
      "image/png": "[encoded data removed]",
      "text/plain": [
       "<matplotlib.figure.Figure at 0x11117f940>"
      ]
     },
     "metadata": {},
     "output_type": "display_data"
    },
    {
     "name": "stdout",
     "output_type": "stream",
     "text": [
      "4\n"
     ]
    },
    {
     "data": {
      "image/png": "[encoded data removed]",
      "text/plain": [
       "<matplotlib.figure.Figure at 0x1112eadd8>"
      ]
     },
     "metadata": {},
     "output_type": "display_data"
    },
    {
     "name": "stdout",
     "output_type": "stream",
     "text": [
      "1\n"
     ]
    },
    {
     "data": {
      "image/png": "[encoded data removed]",
      "text/plain": [
       "<matplotlib.figure.Figure at 0x1110a68d0>"
      ]
     },
     "metadata": {},
     "output_type": "display_data"
    },
    {
     "name": "stdout",
     "output_type": "stream",
     "text": [
      "4\n"
     ]
    },
    {
     "data": {
      "image/png": "[encoded data removed]",
      "text/plain": [
       "<matplotlib.figure.Figure at 0x111928f98>"
      ]
     },
     "metadata": {},
     "output_type": "display_data"
    },
    {
     "name": "stdout",
     "output_type": "stream",
     "text": [
      "9\n"
     ]
    },
    {
     "data": {
      "image/png": "[encoded data removed]",
      "text/plain": [
       "<matplotlib.figure.Figure at 0x11109ddd8>"
      ]
     },
     "metadata": {},
     "output_type": "display_data"
    },
    {
     "name": "stdout",
     "output_type": "stream",
     "text": [
      "5\n"
     ]
    },
    {
     "data": {
      "image/png": "[encoded data removed]",
      "text/plain": [
       "<matplotlib.figure.Figure at 0x1114d97f0>"
      ]
     },
     "metadata": {},
     "output_type": "display_data"
    },
    {
     "name": "stdout",
     "output_type": "stream",
     "text": [
      "9\n"
     ]
    },
    {
     "data": {
      "image/png": "[encoded data removed]",
      "text/plain": [
       "<matplotlib.figure.Figure at 0x10e1d8da0>"
      ]
     },
     "metadata": {},
     "output_type": "display_data"
    }
   ],
   "source": [
    "for i in np.arange(10):\n",
    "    print(y_test[i])\n",
    "    plt.imshow(X_test[i,0])\n",
    "    plt.show()"
   ]
  },
  {
   "cell_type": "code",
   "execution_count": 12,
   "metadata": {
    "collapsed": false,
    "deletable": true,
    "editable": true
   },
   "outputs": [
    {
     "data": {
      "text/plain": [
       "array([[-0.93213972,  0.21201617, -0.62379814, -0.05858325,  0.15017101,\n",
       "         0.66350305,  0.20271201,  0.09026936,  0.13426812, -0.37216469],\n",
       "       [ 0.27358601, -0.4932349 ,  0.32762183,  0.09578047, -0.0071837 ,\n",
       "        -1.05673284, -0.23841489,  0.03805826, -0.41706287,  0.37560377],\n",
       "       [-0.43473761,  0.37152106,  0.2634292 , -0.07721472,  0.23698381,\n",
       "        -0.96037587, -0.19225774, -0.13939112,  0.24913074, -0.85630882],\n",
       "       [-0.06579647,  0.89533382, -0.46734869, -0.16061454,  0.2564545 ,\n",
       "        -0.73277398, -0.13159469, -0.03735012, -0.29896084, -0.3371703 ],\n",
       "       [ 0.2835836 , -0.57433887,  0.26897026, -0.41025049, -0.47264082,\n",
       "        -0.40333017,  0.4097305 , -0.77468592,  0.32716425,  0.03976505],\n",
       "       [-0.6259008 ,  0.59796733,  0.0858437 ,  0.36390053,  0.52078045,\n",
       "        -0.12545621, -0.14613437,  0.16602344, -0.69852102, -0.98478839],\n",
       "       [ 0.30162538, -0.46108949, -0.6831132 , -0.16427328,  0.6392714 ,\n",
       "        -0.04671163,  0.17029674, -0.61642626, -0.00407948, -0.28217025],\n",
       "       [ 0.5763816 , -0.15874085, -0.18977542, -0.90656701,  0.4501433 ,\n",
       "         0.26485431, -0.05991753,  0.03223023,  0.25127574, -0.44325508],\n",
       "       [ 0.31341895, -0.56496728, -0.24629028, -0.63965476,  0.2244414 ,\n",
       "         0.17236557,  0.42466367, -0.63786388, -0.31235944,  0.26630198],\n",
       "       [-0.57605503,  0.43528266,  0.508435  , -0.60637274,  0.19412152,\n",
       "        -0.97921035,  0.11953466, -0.18611351, -0.02941549, -0.40562198],\n",
       "       [-0.12682677, -0.20026141,  0.15116796,  0.52306598, -0.82381422,\n",
       "         0.41204941,  0.3073316 ,  0.18076969, -1.08870695,  0.12486546],\n",
       "       [ 0.31090266, -0.73232709, -0.55429668, -0.06886808, -0.80214486,\n",
       "         0.25563961, -0.79566267, -0.2188967 ,  0.27859559,  0.28498366],\n",
       "       [ 0.37394007, -0.88260271, -0.57015856, -0.04540506,  0.20567963,\n",
       "         0.09566179,  0.1428051 , -0.63781216,  0.13588614,  0.40828649],\n",
       "       [ 0.40814048, -0.9192995 ,  0.2844035 , -0.16971759, -0.53559983,\n",
       "         0.11037759, -0.12083752,  0.10892372,  0.28873299, -0.08763201],\n",
       "       [ 0.42042685, -0.43569761, -0.65171582,  0.04240791, -0.10933551,\n",
       "         0.44561919, -0.26064748,  0.42925671,  0.25041793, -0.20665122],\n",
       "       [-0.10757026, -0.45483229, -0.47873343, -0.55553072,  0.574258  ,\n",
       "        -0.03681665,  0.07238616, -1.01242479,  0.60412949, -0.26990464],\n",
       "       [-0.74409866,  0.3347913 , -0.41024843,  0.42719226,  0.09425368,\n",
       "         0.214333  , -0.56055825, -0.73001972, -0.09827765,  0.19119874],\n",
       "       [-0.51428283,  0.30496527, -0.40982051,  0.42868655, -0.80636525,\n",
       "         0.5512042 ,  0.06148922, -0.86540677,  0.32471925,  0.13745398],\n",
       "       [ 0.03586594, -0.04651917, -0.84030627, -0.38804125,  0.09990737,\n",
       "         0.25013824, -0.02101658,  0.17492634,  0.31629883,  0.34037182],\n",
       "       [-0.56974674,  0.10475672, -0.78813786, -0.02820658, -0.49878692,\n",
       "         0.21524337, -1.05121898,  0.28519634, -0.13183172,  0.50907586],\n",
       "       [ 0.39111411, -0.39527953,  0.36632021,  0.23015376, -0.16322141,\n",
       "        -0.52482652, -0.61628029,  0.60616226, -0.59517548, -0.13067587],\n",
       "       [-0.25363164, -0.57329894,  0.12467343, -0.3220147 ,  0.46032668,\n",
       "        -0.0913166 , -0.86218828,  0.30621087, -0.22643693,  0.48946296],\n",
       "       [-0.15365136, -0.50351739,  0.15114694, -0.7087587 , -0.0912193 ,\n",
       "        -0.01907038, -0.19891548,  0.8309631 , -0.21976647, -0.30239122],\n",
       "       [ 0.63063508, -0.18568097,  0.10326595,  0.07586669, -0.49060851,\n",
       "         0.71795462, -0.07337803, -0.57836917, -1.0969327 , -0.23115333],\n",
       "       [-0.05448044,  0.4278443 , -0.04293333, -0.98940759, -0.40195198,\n",
       "         0.02425955,  0.61021774,  0.47642361,  0.12123374, -0.94869694],\n",
       "       [ 0.14191316,  0.22171986,  0.40992543,  0.29845235, -1.01796337,\n",
       "        -0.26128347,  0.07887049, -0.23683307, -0.19418881, -0.97890945],\n",
       "       [-0.19754273,  0.3087343 ,  0.20528566, -0.55894311,  0.45723234,\n",
       "        -0.75088539, -0.68185533,  0.04893276,  0.52628332,  0.19170023],\n",
       "       [ 0.21797662, -0.63666664,  0.03269872, -0.60551747,  0.39021413,\n",
       "        -0.20741888,  0.59691393, -0.36221669, -0.44676456, -0.22463877],\n",
       "       [ 0.25142429, -0.18711965, -0.09489617, -0.0026693 ,  0.11016936,\n",
       "        -0.21621407, -0.1105575 , -0.14392412, -0.18827016, -0.02205211],\n",
       "       [-0.64393077,  0.35978148,  0.11556524, -0.77159906,  0.09893409,\n",
       "         0.11335794,  0.40801259, -0.11589486,  0.34486627, -1.05888791],\n",
       "       [ 0.41980697, -0.7194516 , -0.63315432, -0.40032623,  0.41047985,\n",
       "         0.11837214,  0.20605904, -0.54561569,  0.02819047, -0.60991234],\n",
       "       [ 0.24733231, -0.20541662,  0.09354059,  0.01719463,  0.14452601,\n",
       "         0.11906093,  0.20461825,  0.17445759,  0.00133193, -0.17332855],\n",
       "       [-0.42021659,  0.12951041,  0.25209864,  0.25414172, -0.42046789,\n",
       "        -0.07015588, -0.94158715,  0.36321432,  0.30023906, -0.26557942],\n",
       "       [-0.74299222,  0.46717261,  0.17071794,  0.14342056, -0.59898734,\n",
       "         0.08204314, -0.68134589,  0.36114746,  0.16991251, -0.1471348 ],\n",
       "       [ 0.16202214,  0.07247965, -0.12792775, -0.13102489, -0.0531222 ,\n",
       "         0.25742442, -0.04029899, -0.25606686,  0.25201252,  0.20477168],\n",
       "       [-0.59399242, -0.04481609, -0.64008566,  0.52040934,  0.35179191,\n",
       "         0.16084806, -0.69476045,  0.45328293, -0.93467371,  0.06133738],\n",
       "       [-0.1180529 , -0.01934954,  0.12946881, -0.13652116, -0.33156641,\n",
       "         0.37821177, -0.16467323,  0.84888135, -0.0372993 , -0.77067209],\n",
       "       [-0.43648001, -0.35669024,  0.42705755, -0.62751933,  0.40396954,\n",
       "        -1.07461995,  0.22345494, -0.15899962, -0.51724143,  0.02006719],\n",
       "       [-0.18253848, -0.09158489,  0.22062162,  0.08548068,  0.25229825,\n",
       "         0.13896132,  0.19707695, -0.08318035, -0.13980159, -0.08647715],\n",
       "       [ 0.31987687, -0.74109708, -0.30851652,  0.14866674, -0.04619311,\n",
       "         0.59525102, -0.30184221, -0.58037099, -0.1570045 , -0.02394267],\n",
       "       [ 0.33225602, -0.93360748,  0.36896129,  0.22423278, -0.54671295,\n",
       "         0.08274097,  0.31870576, -0.55585166, -0.05151731,  0.30504251],\n",
       "       [-0.37880683, -0.06341577, -1.058303  , -0.32791552,  0.43953219,\n",
       "         0.4393928 ,  0.32417447, -0.11537666, -0.07847096,  0.25359138],\n",
       "       [-0.23768406,  0.28998456,  0.50405024,  0.33913817, -0.79194196,\n",
       "        -0.44897797,  0.22144655, -0.17531702, -0.01187748, -1.02508758],\n",
       "       [-0.3953919 ,  0.2793713 ,  0.00257428, -0.16931882, -0.62257977,\n",
       "         0.09768303, -0.68227062,  0.05054525,  0.334614  ,  0.38017723],\n",
       "       [-0.19414774,  0.03095027,  0.10311325,  0.02385673,  0.22874027,\n",
       "        -0.10375533, -0.15524278,  0.03044107,  0.19543212, -0.28121917],\n",
       "       [-0.65225822, -0.28439479, -0.392727  ,  0.49374472, -0.13482813,\n",
       "         0.33921311,  0.10637876, -0.96509988, -0.02338143,  0.41520639],\n",
       "       [ 0.52125487, -0.82451325,  0.02526084, -0.03308958, -0.94537452,\n",
       "        -0.06693714, -0.65933341,  0.51533289, -0.19800381,  0.01404674],\n",
       "       [ 0.17794999, -0.28356348,  0.5226165 ,  0.35814868, -0.87392676,\n",
       "        -0.41767409, -0.83838748, -0.13566354,  0.42061666, -0.5895544 ],\n",
       "       [ 0.10092967, -0.22577221, -0.20163758,  0.12549942,  0.03816454,\n",
       "        -0.21727181,  0.17619411, -0.20430283,  0.07685091, -0.24092749],\n",
       "       [-0.58067672,  0.29326357, -0.12070622, -0.33984386,  0.10692568,\n",
       "        -1.11144693, -0.88458754,  0.35785936, -0.29095262,  0.51442279],\n",
       "       [-0.92298157,  0.43683865,  0.0570274 ,  0.34866982,  0.11521043,\n",
       "        -0.68191055, -0.11731456, -0.01807702, -0.30449192, -0.44883689],\n",
       "       [-0.51567815,  0.57563144, -0.7473383 , -1.0714845 ,  0.64801166,\n",
       "         0.35427463,  0.38495882, -0.12930987, -0.16688067, -0.76656791],\n",
       "       [ 0.0702326 , -0.18917017,  0.12503675,  0.46857654,  0.10069639,\n",
       "         0.5253331 , -0.11415804,  0.1156914 , -1.05609154, -0.67890602],\n",
       "       [-0.06303025, -0.0808384 , -0.1174251 , -0.16336688,  0.13965527,\n",
       "        -0.13015923,  0.14011199,  0.03986961, -0.24221318,  0.11237238],\n",
       "       [ 0.04177771, -0.55316267,  0.11001111,  0.07662649,  0.13191062,\n",
       "        -0.70812098, -0.04225161,  0.66514337, -0.89897026, -0.23640454],\n",
       "       [ 0.05054806, -0.03287546,  0.12529055,  0.06917608, -0.82522397,\n",
       "         0.25223624,  0.54163765, -0.55197557, -0.28439153, -0.8017612 ],\n",
       "       [ 0.406535  , -0.10138163,  0.45751114, -0.71348027, -0.64134217,\n",
       "        -0.22975516,  0.63329815, -0.42277499, -0.10552856, -0.28580882],\n",
       "       [-0.10141929, -0.46036336, -0.48386683,  0.10071654,  0.2775467 ,\n",
       "        -0.01788778,  0.16727894, -1.09986634,  0.2660318 , -0.18214975],\n",
       "       [ 0.26096008,  0.1854706 , -0.27959945, -0.01675934, -0.20854953,\n",
       "        -0.02877929,  0.08181178, -0.23183902,  0.00787704, -0.20299311],\n",
       "       [ 0.08822469,  0.29031091,  0.03101401,  0.23724714, -0.73445962,\n",
       "        -0.35013788, -0.80403958, -0.19753584,  0.40314075, -0.22450873],\n",
       "       [-0.49037628, -0.51714989,  0.03832725, -0.27592287,  0.3044138 ,\n",
       "        -0.70971655,  0.13512376, -0.58923552,  0.09366895,  0.37760327],\n",
       "       [ 0.38641897, -0.35288112,  0.2121988 , -0.80852739, -0.46135318,\n",
       "        -0.04087866,  0.3799528 , -0.14087496,  0.53057594, -0.40668692],\n",
       "       [-0.27149082, -0.58673908, -0.05426386,  0.2016984 ,  0.33520985,\n",
       "        -0.89249176, -0.55448097,  0.45984222, -0.14032244,  0.18137497],\n",
       "       [-0.84347732,  0.1624009 , -0.66671054, -0.44980673, -0.22403143,\n",
       "         0.09035623, -0.1881204 , -0.16394539, -0.12230775,  0.58235721]])"
      ]
     },
     "execution_count": 12,
     "metadata": {},
     "output_type": "execute_result"
    }
   ],
   "source": [
    "param_values[-1]"
   ]
  },
  {
   "cell_type": "code",
   "execution_count": null,
   "metadata": {
    "collapsed": true,
    "deletable": true,
    "editable": true
   },
   "outputs": [],
   "source": []
  }
 ],
 "metadata": {
  "kernelspec": {
   "display_name": "Python 3",
   "language": "python",
   "name": "python3"
  },
  "language_info": {
   "codemirror_mode": {
    "name": "ipython",
    "version": 3
   },
   "file_extension": ".py",
   "mimetype": "text/x-python",
   "name": "python",
   "nbconvert_exporter": "python",
   "pygments_lexer": "ipython3",
   "version": "3.6.0"
  }
 },
 "nbformat": 4,
 "nbformat_minor": 2
}
