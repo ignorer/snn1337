{
 "cells": [
  {
   "cell_type": "markdown",
   "metadata": {
    "deletable": true,
    "editable": true
   },
   "source": [
    "# Тестирование полносвязной спайковой сети на MNIST"
   ]
  },
  {
   "cell_type": "code",
   "execution_count": 1,
   "metadata": {
    "collapsed": false,
    "deletable": true,
    "editable": true,
    "scrolled": false
   },
   "outputs": [],
   "source": [
    "import numpy as np\n",
    "import theano\n",
    "import theano.tensor as T\n",
    "import lasagne\n",
    "import matplotlib.pyplot as plt\n",
    "from multiprocessing import Pool\n",
    "from multiprocessing.dummy import Pool as ThreadPool\n",
    "import time\n",
    "%matplotlib inline"
   ]
  },
  {
   "cell_type": "code",
   "execution_count": 4,
   "metadata": {
    "collapsed": false,
    "deletable": true,
    "editable": true
   },
   "outputs": [
    {
     "name": "stdout",
     "output_type": "stream",
     "text": [
      "<function fixed_frequency_spike_train at 0x1126adaa0>\n",
      "0, 0: []\n",
      "0.273151874542\n",
      "0, 1: [8, 14, 20, 26, 32, 38, 44, 50, 56, 62, 68, 74, 80, 86, 92, 98]\n",
      "1, 0: [8, 14, 20, 26, 32, 38, 44, 50, 56, 62, 68, 74, 80, 86, 92, 98]\n",
      "1, 1: []\n"
     ]
    }
   ],
   "source": [
    "%run ../SNN.ipynb"
   ]
  },
  {
   "cell_type": "code",
   "execution_count": 5,
   "metadata": {
    "collapsed": false,
    "deletable": true,
    "editable": true
   },
   "outputs": [],
   "source": [
    "from mnist import load_dataset\n",
    "X_train,y_train,X_val,y_val,X_test,y_test = load_dataset()"
   ]
  },
  {
   "cell_type": "code",
   "execution_count": 6,
   "metadata": {
    "collapsed": true,
    "deletable": true,
    "editable": true
   },
   "outputs": [],
   "source": [
    "input_X = T.tensor4(\"X\")\n",
    "input_shape = [None,1,28,28]\n",
    "target_y = T.vector(\"target Y integer\",dtype='int32')"
   ]
  },
  {
   "cell_type": "code",
   "execution_count": 7,
   "metadata": {
    "collapsed": false,
    "deletable": true,
    "editable": true
   },
   "outputs": [],
   "source": [
    "input_layer = lasagne.layers.InputLayer(shape = input_shape,input_var=input_X)\n",
    "\n",
    "dense_1 = lasagne.layers.DenseLayer(input_layer, num_units=128, \n",
    "                                    nonlinearity=lasagne.nonlinearities.rectify,\n",
    "                                   name='dense_1', b=None)\n",
    "\n",
    "dense_2 = lasagne.layers.DenseLayer(dense_1, num_units=256, \n",
    "                                    nonlinearity=lasagne.nonlinearities.sigmoid,\n",
    "                                   name='dense_2', b=None)\n",
    "\n",
    "dense_3 = lasagne.layers.DenseLayer(dense_2, num_units=64, \n",
    "                                    nonlinearity=lasagne.nonlinearities.rectify,\n",
    "                                   name='dense_2', b=None)\n",
    "\n",
    "dense_output = lasagne.layers.DenseLayer(dense_3, num_units = 10,\n",
    "                                        nonlinearity = lasagne.nonlinearities.softmax,\n",
    "                                        name='output', b=None)"
   ]
  },
  {
   "cell_type": "code",
   "execution_count": 8,
   "metadata": {
    "collapsed": false,
    "deletable": true,
    "editable": true
   },
   "outputs": [],
   "source": [
    "with np.load('dense_weights.npz') as f: \n",
    "    param_values = [f['arr_%d' % i]*10 for i in range(len(f.files))] \n",
    "    for i in param_values[-1]:\n",
    "        for j in i:\n",
    "            j = abs(j)\n",
    "    for i in param_values:\n",
    "        for j in i:\n",
    "            for k, n in enumerate(j):\n",
    "                if(n < 0.000001):\n",
    "                    j[k] = 0.0\n",
    "\n",
    "    \n",
    "lasagne.layers.set_all_param_values(dense_output, param_values)"
   ]
  },
  {
   "cell_type": "code",
   "execution_count": 8,
   "metadata": {
    "collapsed": false,
    "deletable": true,
    "editable": true
   },
   "outputs": [],
   "source": [
    "spiking_net = spiking_from_lasagne(dense_output, 0.2)"
   ]
  },
  {
   "cell_type": "code",
   "execution_count": 17,
   "metadata": {
    "collapsed": false,
    "deletable": true,
    "editable": true
   },
   "outputs": [
    {
     "name": "stdout",
     "output_type": "stream",
     "text": [
      "(5, [[20, 22, 24, 26, 28, 30, 32, 34, 36, 38, 40, 42, 44, 46, 49, 51, 53, 55, 57, 60, 62, 64, 66, 68, 70, 72, 74, 76, 78, 80, 82, 84, 86, 88, 90, 92, 97, 99], [21, 23, 25, 27, 30, 32, 34, 36, 38, 40, 43, 45, 47, 49, 51, 53, 55, 58, 60, 62, 64, 66, 68, 70, 72, 74, 76, 78, 80, 82, 84, 86, 88, 90, 92, 97, 99], [20, 22, 24, 26, 28, 30, 32, 34, 36, 38, 40, 42, 44, 46, 49, 51, 53, 55, 57, 60, 62, 64, 66, 68, 70, 72, 74, 76, 78, 80, 82, 84, 86, 88, 90, 92, 97, 99], [20, 22, 24, 26, 28, 30, 32, 34, 36, 38, 40, 42, 44, 46, 49, 51, 53, 55, 58, 60, 62, 64, 66, 68, 70, 72, 74, 76, 78, 80, 82, 84, 86, 88, 90, 92, 97, 99], [21, 23, 25, 27, 30, 33, 35, 37, 39, 41, 43, 45, 47, 49, 51, 53, 55, 58, 60, 62, 64, 66, 68, 70, 72, 74, 76, 78, 80, 82, 84, 86, 88, 90, 92, 98], [20, 22, 24, 26, 28, 30, 32, 34, 36, 38, 40, 42, 44, 46, 49, 51, 53, 55, 58, 60, 62, 64, 66, 68, 70, 72, 74, 76, 78, 80, 82, 84, 86, 88, 90, 92, 97, 99], [20, 23, 25, 27, 30, 32, 34, 36, 38, 40, 42, 44, 46, 49, 51, 53, 55, 58, 60, 62, 64, 66, 68, 70, 72, 74, 76, 78, 80, 82, 84, 86, 88, 90, 92, 97, 99], [20, 22, 25, 27, 30, 32, 34, 36, 38, 40, 43, 45, 47, 49, 51, 53, 55, 58, 60, 62, 64, 66, 68, 70, 72, 74, 76, 78, 80, 82, 84, 86, 88, 90, 92, 98], [20, 23, 25, 27, 30, 32, 34, 36, 38, 40, 43, 45, 47, 49, 51, 53, 55, 58, 60, 62, 64, 66, 68, 70, 72, 74, 76, 78, 80, 82, 84, 86, 88, 90, 92, 97, 99], [21, 23, 25, 27, 30, 32, 34, 36, 38, 40, 43, 45, 47, 49, 51, 53, 55, 58, 60, 62, 64, 66, 68, 70, 72, 74, 76, 78, 80, 82, 84, 86, 88, 90, 92, 97, 99]])\n",
      "(0, [[18, 20, 22, 24, 26, 28, 30, 32, 34, 36, 39, 41, 43, 45, 47, 49, 51, 53, 55, 57, 59, 61, 63, 65, 67, 69, 72, 76, 78, 80, 82, 84, 86, 88, 90, 92, 94, 96, 98], [18, 20, 22, 24, 26, 28, 31, 33, 35, 37, 39, 41, 43, 45, 47, 49, 51, 53, 55, 57, 59, 61, 63, 66, 68, 70, 72, 75, 78, 80, 82, 84, 86, 88, 90, 92, 94, 96, 98], [18, 20, 22, 24, 26, 28, 30, 32, 34, 36, 38, 40, 42, 44, 46, 48, 50, 52, 54, 56, 58, 60, 62, 64, 66, 68, 70, 72, 75, 77, 80, 82, 84, 86, 88, 90, 92, 94, 96, 98], [18, 20, 22, 24, 26, 28, 30, 32, 34, 36, 39, 41, 43, 45, 47, 49, 51, 53, 55, 57, 59, 61, 63, 66, 68, 70, 72, 76, 78, 80, 82, 84, 86, 88, 90, 92, 94, 96, 98], [18, 20, 22, 24, 26, 28, 30, 32, 34, 36, 39, 41, 43, 45, 47, 49, 51, 53, 55, 57, 59, 61, 63, 65, 67, 69, 72, 75, 77, 79, 81, 83, 85, 87, 89, 91, 93, 95, 97, 99], [18, 20, 22, 24, 26, 28, 30, 32, 34, 36, 39, 41, 43, 45, 47, 49, 51, 53, 55, 57, 59, 61, 63, 66, 68, 70, 72, 76, 78, 81, 83, 85, 87, 89, 91, 93, 95, 97, 99], [18, 20, 22, 24, 26, 28, 30, 32, 34, 36, 39, 41, 43, 45, 47, 49, 51, 53, 55, 57, 59, 61, 63, 66, 68, 70, 72, 75, 78, 81, 83, 85, 87, 89, 91, 93, 95, 97, 99], [18, 20, 22, 24, 26, 28, 31, 33, 35, 37, 39, 41, 43, 45, 47, 49, 51, 53, 55, 57, 59, 61, 63, 66, 68, 70, 72, 75, 78, 80, 82, 84, 86, 88, 90, 92, 94, 96, 98], [18, 20, 22, 24, 26, 28, 30, 32, 34, 36, 39, 41, 43, 45, 47, 49, 51, 53, 55, 57, 59, 61, 63, 66, 68, 70, 72, 76, 78, 81, 83, 85, 87, 89, 91, 93, 95, 97, 99], [18, 20, 22, 24, 26, 28, 30, 32, 34, 36, 39, 41, 43, 45, 47, 49, 51, 53, 55, 57, 59, 61, 63, 66, 68, 70, 72, 75, 77, 79, 81, 83, 85, 87, 89, 91, 93, 95, 97, 99]])\n",
      "(4, [[34, 63, 86, 92], [34, 59, 63, 85, 91], [34, 59, 63, 85, 88, 91], [34, 58, 63, 85, 90], [34, 58, 63, 85, 91], [34, 63, 85, 92], [34, 63, 85, 90, 93], [34, 37, 58, 63, 85], [35, 61, 63, 85], [34, 58, 63, 85]])\n",
      "(1, [[41, 44, 51, 53, 56, 60, 69, 72, 78, 94, 98], [27, 40, 43, 50, 52, 55, 57, 61, 66, 68, 70, 72, 75, 77, 94, 97], [27, 40, 43, 50, 52, 54, 57, 60, 68, 70, 72, 75, 77, 93, 98], [27, 40, 43, 51, 53, 56, 60, 67, 69, 72, 75, 77, 97], [40, 43, 50, 52, 54, 57, 66, 68, 70, 72, 75, 77, 93, 98], [40, 43, 51, 53, 56, 67, 69, 72, 77, 95, 98], [27, 41, 43, 51, 53, 57, 61, 68, 70, 72, 76, 78, 94, 98], [27, 40, 43, 50, 52, 56, 58, 61, 67, 69, 72, 76, 78, 93, 98], [28, 40, 43, 50, 52, 54, 56, 61, 68, 70, 72, 76, 78, 95, 98], [40, 43, 50, 52, 55, 57, 61, 68, 70, 72, 76, 78, 93, 98]])\n",
      "(9, [[21, 23, 25, 28, 30, 32, 34, 36, 38, 40, 43, 45, 47, 49, 51, 53, 55, 57, 59, 61, 64, 67, 70, 72, 76, 79, 81, 83, 85, 88, 90, 93, 95, 99], [21, 23, 25, 28, 30, 33, 35, 37, 39, 41, 43, 45, 47, 49, 51, 53, 55, 57, 59, 61, 64, 67, 69, 71, 73, 76, 79, 81, 83, 85, 88, 91, 93, 95, 99], [21, 23, 25, 28, 30, 32, 34, 36, 38, 40, 43, 45, 47, 49, 51, 53, 55, 57, 59, 62, 64, 67, 69, 71, 73, 76, 79, 81, 83, 85, 88, 90, 93, 95, 99], [21, 23, 25, 28, 30, 33, 35, 37, 39, 41, 43, 45, 47, 50, 52, 54, 57, 59, 61, 64, 67, 70, 72, 76, 79, 81, 83, 85, 88, 90, 93, 95, 99], [21, 23, 25, 28, 30, 32, 34, 36, 38, 40, 43, 45, 47, 50, 52, 54, 56, 58, 60, 62, 64, 67, 69, 71, 74, 76, 78, 80, 82, 84, 86, 88, 90, 92, 94, 97, 99], [21, 23, 25, 28, 30, 32, 34, 36, 38, 40, 43, 45, 47, 50, 52, 54, 57, 59, 61, 64, 67, 70, 72, 76, 79, 81, 83, 85, 88, 90, 93, 95, 99], [21, 23, 25, 28, 30, 32, 34, 36, 38, 40, 43, 45, 47, 49, 51, 53, 55, 57, 59, 61, 63, 65, 67, 69, 71, 73, 76, 79, 81, 83, 85, 88, 90, 93, 95, 99], [21, 23, 25, 28, 30, 33, 35, 37, 39, 41, 43, 45, 47, 49, 51, 53, 55, 57, 59, 61, 64, 67, 70, 72, 76, 79, 81, 83, 85, 87, 90, 92, 94, 96, 98], [21, 23, 25, 28, 31, 33, 35, 37, 39, 41, 43, 45, 47, 50, 53, 55, 57, 59, 61, 64, 67, 70, 72, 76, 79, 81, 83, 85, 88, 91, 93, 95, 99], [21, 23, 25, 28, 31, 33, 35, 37, 39, 41, 43, 45, 47, 50, 53, 55, 57, 59, 61, 64, 67, 70, 72, 76, 79, 81, 83, 85, 88, 90, 93, 95, 99]])\n",
      "(2, [[19, 21, 23, 25, 27, 29, 31, 33, 35, 37, 39, 41, 43, 45, 47, 49, 51, 53, 56, 58, 60, 62, 64, 66, 68, 70, 72, 78, 80, 82, 84, 86, 88, 90, 92, 94, 96, 98], [19, 21, 23, 25, 27, 29, 31, 33, 35, 37, 39, 41, 43, 45, 47, 49, 51, 53, 55, 57, 59, 61, 63, 65, 67, 69, 71, 73, 77, 79, 81, 83, 85, 87, 89, 91, 93, 95, 97, 99], [19, 21, 23, 25, 27, 29, 31, 33, 35, 37, 39, 41, 43, 45, 47, 49, 51, 53, 56, 58, 60, 62, 64, 66, 68, 70, 72, 77, 80, 82, 84, 86, 88, 90, 92, 94, 96, 98], [19, 21, 23, 25, 27, 29, 31, 33, 35, 37, 39, 41, 43, 45, 47, 49, 51, 53, 56, 58, 60, 62, 64, 66, 68, 70, 72, 77, 80, 82, 84, 86, 88, 90, 92, 94, 96, 98], [19, 21, 23, 25, 27, 29, 31, 33, 35, 37, 39, 41, 43, 45, 47, 49, 51, 53, 56, 58, 60, 62, 64, 66, 68, 70, 72, 77, 79, 81, 83, 85, 87, 89, 91, 93, 95, 97, 99], [20, 22, 24, 26, 28, 31, 33, 35, 37, 39, 41, 43, 45, 47, 49, 51, 53, 56, 58, 60, 62, 64, 66, 68, 70, 72, 77, 79, 81, 83, 86, 88, 90, 92, 94, 96, 98], [20, 22, 24, 26, 28, 31, 33, 35, 37, 39, 41, 43, 45, 47, 49, 51, 53, 56, 58, 60, 62, 64, 66, 68, 70, 72, 77, 79, 81, 83, 86, 88, 90, 92, 94, 96, 98], [19, 21, 23, 25, 27, 29, 31, 33, 35, 37, 39, 41, 43, 45, 47, 49, 51, 53, 56, 58, 60, 62, 64, 66, 68, 70, 72, 76, 78, 80, 82, 84, 86, 88, 90, 92, 94, 96, 98], [19, 21, 23, 25, 27, 29, 31, 33, 35, 37, 39, 41, 43, 45, 47, 49, 51, 53, 55, 57, 59, 61, 63, 66, 68, 70, 72, 78, 80, 82, 84, 86, 88, 90, 92, 94, 96, 98], [19, 21, 23, 25, 27, 29, 31, 33, 35, 37, 39, 41, 43, 45, 47, 49, 51, 53, 56, 58, 60, 62, 64, 66, 68, 70, 72, 76, 78, 80, 82, 84, 86, 88, 90, 92, 94, 96, 98]])\n",
      "(1, [[22, 24, 28, 30, 33, 35, 38, 42, 45, 47, 53, 55, 57, 59, 61, 63, 66, 68, 72, 79, 81, 83, 85, 87, 89, 92], [22, 26, 30, 33, 35, 38, 42, 45, 47, 52, 54, 56, 59, 61, 63, 65, 67, 70, 72, 79, 81, 83, 85, 87, 89, 92, 99], [22, 25, 30, 33, 35, 38, 42, 45, 47, 52, 54, 56, 59, 61, 63, 66, 68, 70, 72, 75, 79, 81, 83, 85, 87, 89, 92], [22, 26, 30, 33, 35, 38, 42, 45, 47, 52, 54, 56, 59, 61, 63, 66, 68, 71, 73, 79, 81, 83, 85, 87, 89, 92], [22, 24, 26, 30, 33, 35, 38, 42, 44, 46, 52, 54, 56, 59, 61, 64, 66, 68, 71, 73, 79, 81, 83, 85, 87, 89, 92], [22, 24, 26, 30, 33, 35, 38, 42, 45, 47, 53, 55, 57, 59, 61, 63, 66, 68, 72, 79, 81, 83, 85, 87, 89, 91, 93], [22, 25, 28, 30, 33, 35, 38, 42, 45, 47, 53, 55, 58, 60, 62, 64, 66, 68, 70, 72, 79, 81, 83, 85, 87, 89, 92], [22, 26, 30, 33, 35, 38, 42, 45, 48, 53, 55, 57, 59, 61, 64, 66, 68, 70, 72, 79, 81, 83, 85, 87, 89, 92, 99], [22, 26, 30, 33, 35, 38, 42, 45, 47, 53, 55, 57, 59, 61, 63, 66, 68, 71, 73, 79, 81, 84, 86, 88, 91], [22, 26, 30, 33, 35, 38, 42, 45, 47, 53, 55, 57, 59, 61, 63, 66, 68, 71, 73, 80, 82, 84, 86, 88, 91]])\n",
      "(3, [[16, 18, 20, 22, 24, 26, 28, 30, 32, 34, 36, 38, 40, 42, 44, 46, 48, 50, 52, 54, 56, 58, 60, 62, 64, 66, 68, 70, 72, 74, 76, 78, 80, 82, 84, 86, 88, 90, 92, 94, 96, 98], [16, 18, 20, 22, 24, 26, 28, 30, 32, 34, 36, 38, 40, 42, 44, 46, 48, 50, 52, 54, 56, 58, 60, 62, 64, 66, 68, 70, 72, 74, 76, 78, 80, 82, 84, 86, 88, 90, 92, 94, 96, 98], [16, 18, 20, 22, 24, 26, 28, 30, 32, 34, 36, 38, 40, 42, 44, 46, 48, 50, 52, 54, 56, 58, 60, 62, 64, 66, 68, 70, 72, 74, 76, 78, 80, 82, 84, 86, 88, 90, 92, 94, 96, 98], [16, 18, 20, 22, 24, 26, 28, 30, 32, 34, 36, 38, 40, 42, 44, 46, 48, 50, 52, 54, 56, 58, 60, 62, 64, 66, 68, 70, 72, 74, 76, 78, 80, 82, 84, 86, 88, 90, 92, 94, 96, 98], [16, 18, 20, 22, 24, 26, 28, 30, 32, 34, 36, 38, 40, 42, 44, 46, 48, 50, 52, 54, 56, 58, 60, 62, 64, 66, 68, 70, 72, 74, 76, 78, 80, 82, 84, 86, 88, 90, 92, 94, 96, 98], [16, 18, 20, 22, 24, 26, 28, 30, 32, 34, 36, 38, 40, 42, 44, 46, 48, 50, 52, 54, 56, 58, 60, 62, 64, 66, 68, 70, 72, 74, 76, 78, 80, 82, 84, 86, 88, 90, 92, 94, 96, 98], [16, 18, 20, 22, 24, 26, 28, 30, 32, 34, 36, 38, 40, 42, 44, 46, 48, 50, 52, 54, 56, 58, 60, 62, 64, 66, 68, 70, 72, 74, 76, 78, 80, 82, 84, 86, 88, 90, 92, 94, 96, 98], [16, 18, 20, 22, 24, 26, 28, 30, 32, 34, 36, 38, 40, 42, 44, 46, 48, 50, 52, 54, 56, 58, 60, 62, 64, 66, 68, 70, 72, 74, 76, 78, 80, 82, 84, 86, 88, 90, 92, 94, 96, 98], [16, 18, 20, 22, 24, 26, 28, 30, 32, 34, 36, 38, 40, 42, 44, 46, 48, 50, 52, 54, 56, 58, 60, 62, 64, 66, 68, 70, 72, 74, 76, 78, 80, 82, 84, 86, 88, 90, 92, 94, 96, 98], [16, 18, 20, 22, 24, 26, 28, 30, 32, 34, 36, 38, 40, 42, 44, 46, 48, 50, 52, 54, 56, 58, 60, 62, 64, 66, 68, 70, 72, 74, 76, 78, 80, 82, 84, 86, 88, 90, 92, 94, 96, 98]])\n",
      "(1, [[51], [50], [50], [50], [50], [51], [50], [50], [51], [51]])\n",
      "(4, [[20, 22, 24, 26, 29, 32, 37, 39, 41, 44, 46, 48, 51, 53, 56, 59, 67, 69, 71, 75, 77, 80, 82, 85, 87, 89, 97, 99], [20, 22, 25, 27, 29, 32, 37, 39, 41, 43, 45, 47, 49, 51, 53, 55, 57, 59, 67, 69, 72, 75, 77, 80, 82, 84, 86, 88, 97, 99], [20, 22, 25, 27, 29, 32, 37, 39, 41, 44, 46, 48, 51, 53, 56, 58, 60, 67, 69, 71, 74, 78, 80, 82, 85, 87, 89, 97, 99], [20, 22, 24, 26, 28, 30, 32, 37, 39, 41, 44, 46, 48, 51, 53, 56, 58, 60, 67, 69, 71, 74, 77, 80, 82, 84, 86, 88, 92, 97, 99], [20, 22, 24, 26, 29, 32, 35, 37, 39, 43, 45, 47, 49, 51, 53, 56, 58, 60, 67, 69, 72, 74, 77, 80, 82, 84, 86, 88, 97, 99], [20, 22, 24, 26, 29, 32, 37, 39, 42, 44, 46, 48, 51, 53, 55, 57, 59, 67, 69, 71, 74, 77, 79, 81, 83, 85, 87, 89, 91, 97, 99], [20, 22, 25, 27, 29, 32, 37, 39, 41, 43, 45, 47, 50, 52, 54, 56, 59, 67, 69, 71, 74, 77, 80, 82, 84, 86, 88, 97, 99], [20, 23, 25, 27, 29, 32, 37, 39, 42, 44, 46, 48, 51, 53, 56, 59, 67, 69, 72, 75, 77, 81, 83, 85, 87, 89, 97, 99], [20, 22, 24, 26, 29, 32, 35, 37, 39, 41, 44, 46, 49, 51, 53, 56, 59, 67, 69, 72, 75, 78, 81, 83, 85, 87, 89, 98], [20, 22, 24, 26, 29, 32, 37, 39, 44, 46, 48, 51, 53, 56, 59, 67, 69, 71, 74, 78, 81, 83, 85, 87, 89, 97, 99]])\n",
      "(10.0, 5.0, 1.0, 1.0)\n",
      "(1.0, 0.5, 0.1, 0.1)\n",
      "(131.03228354454041, 0)\n"
     ]
    }
   ],
   "source": [
    "right_first = right_freq = right_betw = right_betw_min = 0.\n",
    "leng = 10\n",
    "n = 0\n",
    "no_ans = 0\n",
    "targ = y_train[:10]\n",
    "answer = []\n",
    "times = []\n",
    "for num, x in enumerate(X_train[:10]):\n",
    "    start_time = time.time()\n",
    "    answer.append(spiking_from_lasagne(dense_output, 1.).get_output_for(x, 100))\n",
    "    times.append(time.time() - start_time)\n",
    "    print(targ[num], answer[-1])\n",
    "for i, ans in enumerate(answer):\n",
    "    first_spike = 400\n",
    "    first_sp_ans = []\n",
    "    for k, j in enumerate(ans):\n",
    "        if(len(j) > 0):\n",
    "            if(j[0] < first_spike):\n",
    "                first_spike = j[0]\n",
    "                first_sp_ans = [k]\n",
    "            if(j[0] == first_spike):\n",
    "                first_sp_ans.append(k)\n",
    "    if(targ[i] in first_sp_ans):\n",
    "        right_first += 1\n",
    "    \n",
    "    betw = [np.mean([j[l+1]-j[l] for l in np.arange(len(j)-1)]) for j in ans]\n",
    "    betw_min_count = [np.min([j[l+1]-j[l] for l in np.arange(len(j)-1)]) if len([j[l+1]-j[l] for l in np.arange(len(j)-1)])>0 else 10000 for j in ans]\n",
    "    betw_ans = []\n",
    "    betw_min = 110\n",
    "    betw_ans_min = []\n",
    "    betw_min_min = 110\n",
    "    \n",
    "    ans = [len(j) for j in ans]\n",
    "    freq_max = 0\n",
    "    freq_ans = []\n",
    "    for k, j in enumerate(ans):\n",
    "        if (j > freq_max):\n",
    "            freq_max = j\n",
    "            freq_ans = [k]\n",
    "        if (j == freq_max):\n",
    "            freq_ans.append(k)\n",
    "        if(betw[k] < betw_min):\n",
    "            betw_min = j\n",
    "            betw_ans = [k]\n",
    "        if(betw[k] == betw_min):\n",
    "            betw_ans.append(k)\n",
    "        if(betw_min_count[k] < betw_min_min):\n",
    "            betw_min_min = j\n",
    "            betw_ans_min = [k]\n",
    "        if(betw_min_count[k] == betw_min_min):\n",
    "            betw_ans_min.append(k)\n",
    "    if(targ[i] in betw_ans):\n",
    "        right_betw += 1\n",
    "    if(freq_ans == -1):\n",
    "        no_ans += 1\n",
    "    if(targ[i] in freq_ans):\n",
    "        right_freq += 1\n",
    "    if(targ[i] in betw_ans_min):\n",
    "        right_betw_min += 1\n",
    "        \n",
    "print(right_first, right_freq, right_betw, right_betw_min)\n",
    "print(right_first/leng, right_freq/leng, right_betw/leng, right_betw_min/leng)\n",
    "print(np.mean(times), no_ans)"
   ]
  },
  {
   "cell_type": "code",
   "execution_count": 16,
   "metadata": {
    "collapsed": false
   },
   "outputs": [
    {
     "ename": "NameError",
     "evalue": "name 'array' is not defined",
     "output_type": "error",
     "traceback": [
      "\u001b[0;31m---------------------------------------------------------------------------\u001b[0m",
      "\u001b[0;31mNameError\u001b[0m                                 Traceback (most recent call last)",
      "\u001b[0;32m<ipython-input-16-57f9529a3d1c>\u001b[0m in \u001b[0;36m<module>\u001b[0;34m()\u001b[0m\n\u001b[1;32m      3\u001b[0m \u001b[0;32mfor\u001b[0m \u001b[0mi\u001b[0m\u001b[0;34m,\u001b[0m \u001b[0mans\u001b[0m \u001b[0;32min\u001b[0m \u001b[0menumerate\u001b[0m\u001b[0;34m(\u001b[0m\u001b[0manswer\u001b[0m\u001b[0;34m)\u001b[0m\u001b[0;34m:\u001b[0m\u001b[0;34m\u001b[0m\u001b[0m\n\u001b[1;32m      4\u001b[0m     \u001b[0mfirst_spike\u001b[0m \u001b[0;34m=\u001b[0m \u001b[0mn\u001b[0m \u001b[0;34m+\u001b[0m \u001b[0;36m2\u001b[0m\u001b[0;34m*\u001b[0m\u001b[0mleng\u001b[0m\u001b[0;34m\u001b[0m\u001b[0m\n\u001b[0;32m----> 5\u001b[0;31m     \u001b[0mfirst_sp_ans\u001b[0m \u001b[0;34m=\u001b[0m \u001b[0mnp\u001b[0m\u001b[0;34m,\u001b[0m\u001b[0marray\u001b[0m\u001b[0;34m(\u001b[0m\u001b[0;34m)\u001b[0m\u001b[0;34m\u001b[0m\u001b[0m\n\u001b[0m\u001b[1;32m      6\u001b[0m     \u001b[0;32mfor\u001b[0m \u001b[0mk\u001b[0m\u001b[0;34m,\u001b[0m \u001b[0mj\u001b[0m \u001b[0;32min\u001b[0m \u001b[0menumerate\u001b[0m\u001b[0;34m(\u001b[0m\u001b[0mans\u001b[0m\u001b[0;34m)\u001b[0m\u001b[0;34m:\u001b[0m\u001b[0;34m\u001b[0m\u001b[0m\n\u001b[1;32m      7\u001b[0m         \u001b[0;32mif\u001b[0m\u001b[0;34m(\u001b[0m\u001b[0mlen\u001b[0m\u001b[0;34m(\u001b[0m\u001b[0mj\u001b[0m\u001b[0;34m)\u001b[0m \u001b[0;34m>\u001b[0m \u001b[0;36m0\u001b[0m\u001b[0;34m)\u001b[0m\u001b[0;34m:\u001b[0m\u001b[0;34m\u001b[0m\u001b[0m\n",
      "\u001b[0;31mNameError\u001b[0m: name 'array' is not defined"
     ]
    }
   ],
   "source": [
    "right_first = right_freq = right_betw = right_betw_min = 0.\n",
    "no_ans = 0\n",
    "for i, ans in enumerate(answer):\n",
    "    first_spike = n + 2*leng\n",
    "    first_sp_ans = np.array()\n",
    "    for k, j in enumerate(ans):\n",
    "        if(len(j) > 0):\n",
    "            if(j[0] < first_spike):\n",
    "                first_spike = j[0]\n",
    "                first_sp_ans = np.array([k])\n",
    "            if(j[0] == first_spike):\n",
    "                first_sp_ans.append(k)\n",
    "    if(targ[i] in first_sp_ans):\n",
    "        right_first += 1\n",
    "    \n",
    "    betw = [np.mean([j[i+1]-j[i] for i in np.arange(len(j)-1)]) for j in ans]\n",
    "    betw_min_count = [np.min([j[l+1]-j[l] for l in np.arange(len(j)-1)]) if len([j[l+1]-j[l] for l in np.arange(len(j)-1)])>0 else 10000 for j in ans]\n",
    "    betw_ans = np.array()\n",
    "    betw_min = 110\n",
    "    betw_ans_min = np.array()\n",
    "    betw_min_min = 110\n",
    "    \n",
    "    ans = [len(j) for j in ans]\n",
    "    freq_max = 0\n",
    "    freq_ans = np.array()\n",
    "    for k, j in enumerate(ans):\n",
    "        if (j > freq_max):\n",
    "            freq_max = j\n",
    "            freq_ans = np.array([k])\n",
    "        if (j == freq_max):\n",
    "            freq_ans.append(k)\n",
    "        if(betw[k] < betw_min):\n",
    "            betw_min = j\n",
    "            betw_ans = np.array([k])\n",
    "        if(betw[k] == betw_min):\n",
    "            betw_ans.append(k)\n",
    "        if(betw_min_count[k] < betw_min_min):\n",
    "            betw_min_min = j\n",
    "            betw_ans_min = np.array(k)\n",
    "        if(betw_min_count[k] == betw_min_min):\n",
    "            betw_ans_min.append(k)\n",
    "    if(targ[i] in btw_ans):\n",
    "        right_betw += 1\n",
    "    if(freq_ans == -1):\n",
    "        no_ans += 1\n",
    "    if(targ[i] in freq_ans):\n",
    "        right_freq += 1\n",
    "    if(targ[i] in betw_ans_min):\n",
    "        right_betw_min += 1\n",
    "        \n",
    "print(right_first, right_freq, right_betw, right_betw_min)\n",
    "print(right_first/leng, right_freq/leng, right_betw/leng, right_betw_min/leng)\n",
    "print(np.mean(times), no_ans)"
   ]
  },
  {
   "cell_type": "code",
   "execution_count": null,
   "metadata": {
    "collapsed": false,
    "deletable": true,
    "editable": true
   },
   "outputs": [],
   "source": [
    "right_first = right_freq = right_betw = right_betw_min = 0.\n",
    "leng = 10\n",
    "n = 0\n",
    "no_ans = 0\n",
    "targ = y_train[10:20]\n",
    "answer = []\n",
    "times = []\n",
    "for num, x in enumerate(X_train[10:20]):\n",
    "    start_time = time.time()\n",
    "    answer.append(spiking_from_lasagne(dense_output, 1.).get_output_for(x, 100))\n",
    "    times.append(time.time() - start_time)\n",
    "    print(targ[num], answer[-1])\n",
    "for i, ans in enumerate(answer):\n",
    "    first_spike = n + 2*leng\n",
    "    first_sp_ans = -1\n",
    "    for k, j in enumerate(ans):\n",
    "        if(len(j) > 0):\n",
    "            if(j[0] < first_spike):\n",
    "                first_spike = j[0]\n",
    "                first_sp_ans = k\n",
    "    if(first_sp_ans == targ[i]):\n",
    "        right_first += 1\n",
    "    \n",
    "    betw = [np.mean([j[i+1]-j[i] for i in np.arange(len(j)-1)]) for j in ans]\n",
    "    betw_min_count = [np.min([j[i+1]-j[i] for i in np.arange(len(j)-1)]) for j in ans]\n",
    "    betw_ans = -1\n",
    "    betw_min = 110\n",
    "    betw_ans_min = -1\n",
    "    betw_min_min = 110\n",
    "    \n",
    "    ans = [len(j) for j in ans]\n",
    "    freq_max = 0\n",
    "    freq_ans = -1\n",
    "    for k, j in enumerate(ans):\n",
    "        if (j > freq_max):\n",
    "            freq_ans = k\n",
    "        if(j < betw_min):\n",
    "            betw_ans = k\n",
    "        if(j < betw_min_min):\n",
    "            betw_ans_min = k\n",
    "    if(betw_ans == targ[i]):\n",
    "        right_betw += 1\n",
    "    if(freq_ans == -1):\n",
    "        no_ans += 1\n",
    "    if(freq_ans == targ[i]):\n",
    "        right_freq += 1\n",
    "    if(betw_ans_min == targ[i]):\n",
    "        right_betw_min += 1\n",
    "        \n",
    "print(right_first, right_freq, right_betw, right_betw_min)\n",
    "print(right_first/leng, right_freq/leng, right_betw/leng, right_betw_min/leng)\n",
    "print(np.mean(times), no_ans)"
   ]
  },
  {
   "cell_type": "code",
   "execution_count": null,
   "metadata": {
    "collapsed": true,
    "deletable": true,
    "editable": true
   },
   "outputs": [],
   "source": [
    "right_first = right_freq = 0.\n",
    "leng = 10\n",
    "n = 0\n",
    "no_ans = 0\n",
    "pool = ThreadPool(4)\n",
    "targ = y_train[100:200]\n",
    "answer = []\n",
    "times = []\n",
    "for num, x in enumerate(X_train[100:200]):\n",
    "    start_time = time.time()\n",
    "    answer.append(spiking_from_lasagne(dense_output, .3).get_output_for(x, 100))\n",
    "    times.append(time.time() - start_time)\n",
    "    print(targ[num], answer[-1])\n",
    "for i, ans in enumerate(answer):\n",
    "    first_spike = n + 2*leng\n",
    "    first_sp_ans = -1\n",
    "    for k, j in enumerate(ans):\n",
    "        if(len(j) > 0):\n",
    "            if(j[0] < first_spike):\n",
    "                first_spike = j[0]\n",
    "                first_sp_ans = k\n",
    "    if(first_sp_ans == targ[i]):\n",
    "        right_first += 1\n",
    "    \n",
    "    ans = [len(j) for j in ans]\n",
    "    freq_max = 0\n",
    "    freq_ans = -1\n",
    "    for k, j in enumerate(ans):\n",
    "        if (j > freq_max):\n",
    "            freq_ans = k\n",
    "    if(freq_ans == -1):\n",
    "        no_ans += 1\n",
    "    if(freq_ans == targ[i]):\n",
    "        right_freq += 1\n",
    "        \n",
    "print(right_first, right_freq)\n",
    "print(right_first/leng, right_freq/leng)\n",
    "print(times.mean(), no_ans)"
   ]
  },
  {
   "cell_type": "code",
   "execution_count": null,
   "metadata": {
    "collapsed": true,
    "deletable": true,
    "editable": true
   },
   "outputs": [],
   "source": [
    "right_first = right_freq = 0.\n",
    "leng = 10\n",
    "n = 0\n",
    "no_ans = 0\n",
    "pool = ThreadPool(4)\n",
    "targ = y_train[100:200]\n",
    "answer = []\n",
    "times = []\n",
    "for num, x in enumerate(X_train[100:200]):\n",
    "    start_time = time.time()\n",
    "    answer.append(spiking_from_lasagne(dense_output, .01).get_output_for(x, 100))\n",
    "    times.append(time.time() - start_time)\n",
    "    print(targ[num], answer[-1])\n",
    "for i, ans in enumerate(answer):\n",
    "    first_spike = n + 2*leng\n",
    "    first_sp_ans = -1\n",
    "    for k, j in enumerate(ans):\n",
    "        if(len(j) > 0):\n",
    "            if(j[0] < first_spike):\n",
    "                first_spike = j[0]\n",
    "                first_sp_ans = k\n",
    "    if(first_sp_ans == targ[i]):\n",
    "        right_first += 1\n",
    "    \n",
    "    ans = [len(j) for j in ans]\n",
    "    freq_max = 0\n",
    "    freq_ans = -1\n",
    "    for k, j in enumerate(ans):\n",
    "        if (j > freq_max):\n",
    "            freq_ans = k\n",
    "    if(freq_ans == -1):\n",
    "        no_ans += 1\n",
    "    if(freq_ans == targ[i]):\n",
    "        right_freq += 1\n",
    "        \n",
    "print(right_first, right_freq)\n",
    "print(right_first/leng, right_freq/leng)\n",
    "print(times.mean(), no_ans)"
   ]
  },
  {
   "cell_type": "code",
   "execution_count": null,
   "metadata": {
    "collapsed": false,
    "deletable": true,
    "editable": true,
    "scrolled": true
   },
   "outputs": [],
   "source": [
    "for i in np.arange(10):\n",
    "    print(y_test[i])\n",
    "    plt.imshow(X_test[i,0])\n",
    "    plt.show()"
   ]
  },
  {
   "cell_type": "code",
   "execution_count": null,
   "metadata": {
    "collapsed": false,
    "deletable": true,
    "editable": true
   },
   "outputs": [],
   "source": [
    "params = [spiking_net.layers[i].weights.tolist() for i in np.arange(1, len(spiking_net.layers))]\n",
    "par = \" \".join(map(str, [\"\\n\".join(map(str, [\" \".join(map(str, [\"%.6f\" % k for k in j])) for j in i])) for i in params]))\n",
    "#for i in params:\n",
    "    #for j in i:\n",
    "        #par+=str(\" \".join(map(str, [\"%.6f\" % k for k in j])))+'\\n'\n",
    "        len(spiking_net.layers)\n",
    "        i.neur_size for i in spiking_net.layers\n",
    "    #par+='\\n'"
   ]
  },
  {
   "cell_type": "code",
   "execution_count": null,
   "metadata": {
    "collapsed": false,
    "deletable": true,
    "editable": true
   },
   "outputs": [],
   "source": [
    "info = {'threshold':0.5, 'tau_m':4, 'tau_s':2, 'tau_r':20, 'layersNumber':444,\n",
    "        'sizes':[4, 5, 6], 'synapsesPerConnection':1, 'spikesPerSynapse':2, 'exitTime':1000,\\\n",
    "        'weights':''}\n"
   ]
  },
  {
   "cell_type": "code",
   "execution_count": null,
   "metadata": {
    "collapsed": false,
    "deletable": true,
    "editable": true
   },
   "outputs": [],
   "source": [
    "f = open('params.txt', 'w')\n",
    "f.writelines([i+': '+str(info[i])+'\\n' for i in info])"
   ]
  },
  {
   "cell_type": "code",
   "execution_count": null,
   "metadata": {
    "collapsed": false,
    "deletable": true,
    "editable": true
   },
   "outputs": [],
   "source": [
    "for i in param_values:\n",
    "    for j in i:\n",
    "        f.writelines(str(\" \".join(map(str, [\"%.6f\" % k for k in j])))+'\\n')\n",
    "f.close()"
   ]
  },
  {
   "cell_type": "code",
   "execution_count": null,
   "metadata": {
    "collapsed": false,
    "deletable": true,
    "editable": true
   },
   "outputs": [],
   "source": [
    "params = np.array([spiking_net.layers[i].weights.tolist() for i in np.arange(1, len(spiking_net.layers))])"
   ]
  },
  {
   "cell_type": "code",
   "execution_count": null,
   "metadata": {
    "collapsed": false,
    "deletable": true,
    "editable": true
   },
   "outputs": [],
   "source": [
    "len(params[0][1])"
   ]
  },
  {
   "cell_type": "code",
   "execution_count": null,
   "metadata": {
    "collapsed": false,
    "deletable": true,
    "editable": true
   },
   "outputs": [],
   "source": [
    "btw str(\" \".join(map(str, params)))"
   ]
  },
  {
   "cell_type": "code",
   "execution_count": null,
   "metadata": {
    "collapsed": false,
    "deletable": true,
    "editable": true
   },
   "outputs": [],
   "source": [
    "def write_to_file(net, filename='params.txt'):\n",
    "    params = [net.layers[i].weights.tolist() for i in np.arange(1, len(net.layers))]\n",
    "    info = {'threshold':0.5, 'tau_m':4, 'tau_s':2, 'tau_r':20, 'layersNumber':len(net.layers),\n",
    "        'sizes':[i.neur_size for i in net.layers], 'synapsesPerConnection':1, 'spikesPerSynapse':2, 'exitTime':1000,\\\n",
    "        'weights':''}\n",
    "    f = open(filename, 'w')\n",
    "    f.writelines([i+': '+str(info[i])+'\\n' for i in info])\n",
    "    for i in params:\n",
    "        for j in i:\n",
    "            f.writelines(str(\" \".join(map(str, [\"%.6f\" % k for k in j])))+'\\n')\n",
    "    f.close()"
   ]
  },
  {
   "cell_type": "code",
   "execution_count": null,
   "metadata": {
    "collapsed": false,
    "deletable": true,
    "editable": true
   },
   "outputs": [],
   "source": [
    "a = [[], [2, 4]]\n",
    "np.min(a, axis=1)"
   ]
  },
  {
   "cell_type": "code",
   "execution_count": null,
   "metadata": {
    "collapsed": true,
    "deletable": true,
    "editable": true
   },
   "outputs": [],
   "source": []
  }
 ],
 "metadata": {
  "kernelspec": {
   "display_name": "Python 2",
   "language": "python",
   "name": "python2"
  },
  "language_info": {
   "codemirror_mode": {
    "name": "ipython",
    "version": 2
   },
   "file_extension": ".py",
   "mimetype": "text/x-python",
   "name": "python",
   "nbconvert_exporter": "python",
   "pygments_lexer": "ipython2",
   "version": "2.7.13"
  }
 },
 "nbformat": 4,
 "nbformat_minor": 2
}
