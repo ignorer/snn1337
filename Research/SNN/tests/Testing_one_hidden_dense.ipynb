{
 "cells": [
  {
   "cell_type": "code",
   "execution_count": 1,
   "metadata": {
    "collapsed": false,
    "deletable": true,
    "editable": true
   },
   "outputs": [],
   "source": [
    "import numpy as np\n",
    "import theano\n",
    "import theano.tensor as T\n",
    "import lasagne\n",
    "import matplotlib.pyplot as plt\n",
    "from multiprocessing import Pool\n",
    "from multiprocessing.dummy import Pool as ThreadPool\n",
    "import time\n",
    "%matplotlib inline\n",
    "from snn1337.layers import *\n",
    "from snn1337.spiking_from_lasagne import *"
   ]
  },
  {
   "cell_type": "code",
   "execution_count": 2,
   "metadata": {
    "collapsed": true,
    "deletable": true,
    "editable": true
   },
   "outputs": [],
   "source": [
    "from mnist import load_dataset\n",
    "X_train,y_train,X_val,y_val,X_test,y_test = load_dataset()"
   ]
  },
  {
   "cell_type": "code",
   "execution_count": 3,
   "metadata": {
    "collapsed": true,
    "deletable": true,
    "editable": true
   },
   "outputs": [],
   "source": [
    "input_X = T.tensor4(\"X\")\n",
    "input_shape = [None,1,28,28]\n",
    "target_y = T.vector(\"target Y integer\",dtype='int32')"
   ]
  },
  {
   "cell_type": "code",
   "execution_count": 4,
   "metadata": {
    "collapsed": false,
    "deletable": true,
    "editable": true
   },
   "outputs": [],
   "source": [
    "input_layer = lasagne.layers.InputLayer(shape = input_shape,input_var=input_X)\n",
    "net= lasagne.layers.DenseLayer(input_layer, num_units=64,\n",
    "                                    nonlinearity=lasagne.nonlinearities.rectify,name='dense_1', b=None)\n",
    "net = lasagne.layers.DenseLayer(net, num_units = 10,\n",
    "                                        nonlinearity = lasagne.nonlinearities.softmax, name='output', b=None)"
   ]
  },
  {
   "cell_type": "code",
   "execution_count": 5,
   "metadata": {
    "collapsed": false,
    "deletable": true,
    "editable": true
   },
   "outputs": [],
   "source": [
    "y_predicted = lasagne.layers.get_output(net)\n",
    "all_weights = lasagne.layers.get_all_params(net)\n",
    "\n",
    "loss = lasagne.objectives.categorical_crossentropy(y_predicted,target_y).mean()\n",
    "accuracy = lasagne.objectives.categorical_accuracy(y_predicted,target_y).mean()\n",
    "updates = lasagne.updates.adam(loss, all_weights, learning_rate=0.01)\n",
    "train_fun = theano.function([input_X,target_y],[loss,accuracy],updates=updates)\n",
    "accuracy_fun = theano.function([input_X,target_y],accuracy)"
   ]
  },
  {
   "cell_type": "code",
   "execution_count": 6,
   "metadata": {
    "collapsed": true,
    "deletable": true,
    "editable": true
   },
   "outputs": [],
   "source": [
    "from random import shuffle\n",
    "import math\n",
    "def iterate_minibatches(X, y, batchsize):\n",
    "    \n",
    "    indices = np.arange(len(X))\n",
    "    np.random.shuffle(indices)\n",
    "    for start_idx in range(0, len(X) - batchsize + 1, batchsize):\n",
    "        if shuffle:\n",
    "            excerpt = indices[start_idx:start_idx + batchsize]\n",
    "        else:\n",
    "            excerpt = slice(start_idx, start_idx + batchsize)\n",
    "        yield X[excerpt], y[excerpt]"
   ]
  },
  {
   "cell_type": "code",
   "execution_count": 7,
   "metadata": {
    "collapsed": false,
    "deletable": true,
    "editable": true
   },
   "outputs": [
    {
     "name": "stderr",
     "output_type": "stream",
     "text": [
      " 25%|██▌       | 1/4 [00:02<00:08,  2.90s/it]"
     ]
    },
    {
     "name": "stdout",
     "output_type": "stream",
     "text": [
      "Epoch 1 of 4 took 2.895s\n",
      "  training loss (in-iteration):\t\t0.251084\n",
      "  train accuracy:\t\t92.47 %\n",
      "  validation accuracy:\t\t95.26 %\n"
     ]
    },
    {
     "name": "stderr",
     "output_type": "stream",
     "text": [
      "\r",
      " 50%|█████     | 2/4 [00:05<00:05,  2.85s/it]"
     ]
    },
    {
     "name": "stdout",
     "output_type": "stream",
     "text": [
      "Epoch 2 of 4 took 2.725s\n",
      "  training loss (in-iteration):\t\t0.151576\n",
      "  train accuracy:\t\t95.51 %\n",
      "  validation accuracy:\t\t95.39 %\n"
     ]
    },
    {
     "name": "stderr",
     "output_type": "stream",
     "text": [
      "\r",
      " 75%|███████▌  | 3/4 [00:08<00:02,  2.87s/it]"
     ]
    },
    {
     "name": "stdout",
     "output_type": "stream",
     "text": [
      "Epoch 3 of 4 took 2.938s\n",
      "  training loss (in-iteration):\t\t0.131926\n",
      "  train accuracy:\t\t96.11 %\n",
      "  validation accuracy:\t\t96.11 %\n"
     ]
    },
    {
     "name": "stderr",
     "output_type": "stream",
     "text": [
      "\r",
      "100%|██████████| 4/4 [00:11<00:00,  2.83s/it]"
     ]
    },
    {
     "name": "stdout",
     "output_type": "stream",
     "text": [
      "Epoch 4 of 4 took 2.729s\n",
      "  training loss (in-iteration):\t\t0.120666\n",
      "  train accuracy:\t\t96.56 %\n",
      "  validation accuracy:\t\t96.32 %\n"
     ]
    },
    {
     "name": "stderr",
     "output_type": "stream",
     "text": [
      "\n"
     ]
    }
   ],
   "source": [
    "import time\n",
    "from tqdm import tqdm\n",
    "\n",
    "num_epochs = 4 #количество проходов по данным\n",
    "\n",
    "batch_size = 50 #размер мини-батча\n",
    "\n",
    "train_accuracy = []\n",
    "val_accuracy = []\n",
    "\n",
    "for epoch in tqdm(range(num_epochs)):\n",
    "    # In each epoch, we do a full pass over the training data:\n",
    "    train_err = 0\n",
    "    train_acc = 0\n",
    "    train_batches = 0\n",
    "    start_time = time.time()\n",
    "    for batch in iterate_minibatches(X_train, y_train, batch_size):\n",
    "        \n",
    "        \n",
    "        inputs, targets = batch\n",
    "        train_err_batch, train_acc_batch= train_fun(inputs, targets)\n",
    "        train_err += train_err_batch\n",
    "        train_acc += train_acc_batch\n",
    "        train_batches += 1\n",
    "\n",
    "    # And a full pass over the validation data:\n",
    "    val_acc = 0\n",
    "    val_batches = 0\n",
    "    for batch in iterate_minibatches(X_val, y_val, batch_size):\n",
    "        inputs, targets = batch\n",
    "        val_acc += accuracy_fun(inputs, targets)\n",
    "        val_batches += 1\n",
    "\n",
    "    \n",
    "    # Then we print the results for this epoch:\n",
    "    print(\"Epoch {} of {} took {:.3f}s\".format(\n",
    "        epoch + 1, num_epochs, time.time() - start_time))\n",
    "\n",
    "    print(\"  training loss (in-iteration):\\t\\t{:.6f}\".format(train_err / train_batches))\n",
    "    print(\"  train accuracy:\\t\\t{:.2f} %\".format(\n",
    "        train_acc / train_batches * 100))\n",
    "    print(\"  validation accuracy:\\t\\t{:.2f} %\".format(\n",
    "        val_acc / val_batches * 100))\n",
    "    \n",
    "    train_accuracy.append(train_acc / train_batches * 100)\n",
    "    val_accuracy.append(val_acc / val_batches * 100)"
   ]
  },
  {
   "cell_type": "code",
   "execution_count": 8,
   "metadata": {
    "collapsed": false,
    "deletable": true,
    "editable": true
   },
   "outputs": [],
   "source": [
    "spiking_net = spiking_from_lasagne(net, [2., 9.])"
   ]
  },
  {
   "cell_type": "code",
   "execution_count": null,
   "metadata": {
    "collapsed": false,
    "deletable": true,
    "editable": true
   },
   "outputs": [],
   "source": [
    "[i.bias for i in spiking_net.layers[2].neurons]"
   ]
  },
  {
   "cell_type": "code",
   "execution_count": 9,
   "metadata": {
    "collapsed": false,
    "deletable": true,
    "editable": true
   },
   "outputs": [
    {
     "name": "stdout",
     "output_type": "stream",
     "text": [
      "[[], [], [], [], [], [], [], [6, 10, 14, 18, 22, 26, 30, 34, 38, 42, 46, 50, 55, 59, 64, 68, 72, 75, 80, 83, 86, 90, 95, 99], [], []]\n",
      "8.11797595024\n"
     ]
    }
   ],
   "source": [
    "spiking_net = spiking_from_lasagne(net, [.5, .2])\n",
    "import time\n",
    "start = time.time()\n",
    "print(spiking_net.get_output_for(X_test[0], 100))\n",
    "print(time.time() - start)"
   ]
  },
  {
   "cell_type": "code",
   "execution_count": 16,
   "metadata": {
    "collapsed": false
   },
   "outputs": [
    {
     "data": {
      "text/plain": [
       "[<matplotlib.lines.Line2D at 0x116fe9e90>]"
      ]
     },
     "execution_count": 16,
     "metadata": {},
     "output_type": "execute_result"
    },
    {
     "data": {
      "image/png": "[encoded data removed]",
      "text/plain": [
       "<matplotlib.figure.Figure at 0x1167f2790>"
      ]
     },
     "metadata": {},
     "output_type": "display_data"
    }
   ],
   "source": [
    "a = spiking_net.layers[1].neurons[8].get_history()\n",
    "plt.plot(np.arange(100), a)"
   ]
  },
  {
   "cell_type": "code",
   "execution_count": null,
   "metadata": {
    "collapsed": false
   },
   "outputs": [],
   "source": [
    "#spiking_net.layers[1].neurons[0].get_history()\n",
    "a = Neuron(1)\n",
    "a.get_history()"
   ]
  },
  {
   "cell_type": "code",
   "execution_count": null,
   "metadata": {
    "collapsed": false,
    "deletable": true,
    "editable": true
   },
   "outputs": [],
   "source": [
    "plt.imshow(X_test[0,0])"
   ]
  },
  {
   "cell_type": "code",
   "execution_count": null,
   "metadata": {
    "collapsed": false,
    "deletable": true,
    "editable": true
   },
   "outputs": [],
   "source": [
    "right_first = right_freq = right_betw = right_betw_min = 0.\n",
    "leng = 10\n",
    "n = 0\n",
    "no_ans = 0\n",
    "targ = y_train[:10]\n",
    "answer = []\n",
    "times = []\n",
    "for num, x in enumerate(X_train[:10]):\n",
    "    start_time = time.time()\n",
    "    answer.append(spiking_from_lasagne(net, [8., 2.]).get_output_for(x, 100))\n",
    "    times.append(time.time() - start_time)\n",
    "    print(targ[num], answer[-1])\n",
    "for i, ans in enumerate(answer):\n",
    "    first_spike = 400\n",
    "    first_sp_ans = []\n",
    "    for k, j in enumerate(ans):\n",
    "        if(len(j) > 0):\n",
    "            if(j[0] < first_spike):\n",
    "                first_spike = j[0]\n",
    "                first_sp_ans = [k]\n",
    "            if(j[0] == first_spike):\n",
    "                first_sp_ans.append(k)\n",
    "    if(targ[i] in first_sp_ans):\n",
    "        right_first += 1\n",
    "    \n",
    "    betw = [np.mean([j[l+1]-j[l] for l in np.arange(len(j)-1)]) for j in ans]\n",
    "    betw_min_count = [np.min([j[l+1]-j[l] for l in np.arange(len(j)-1)]) if len([j[l+1]-j[l] for l in np.arange(len(j)-1)])>0 else 10000 for j in ans]\n",
    "    betw_ans = []\n",
    "    betw_min = 110\n",
    "    betw_ans_min = []\n",
    "    betw_min_min = 110\n",
    "    \n",
    "    ans = [len(j) for j in ans]\n",
    "    freq_max = 0\n",
    "    freq_ans = []\n",
    "    for k, j in enumerate(ans):\n",
    "        if (j > freq_max):\n",
    "            freq_max = j\n",
    "            freq_ans = [k]\n",
    "        if (j == freq_max):\n",
    "            freq_ans.append(k)\n",
    "        if(betw[k] < betw_min):\n",
    "            betw_min = j\n",
    "            betw_ans = [k]\n",
    "        if(betw[k] == betw_min):\n",
    "            betw_ans.append(k)\n",
    "        if(betw_min_count[k] < betw_min_min):\n",
    "            betw_min_min = j\n",
    "            betw_ans_min = [k]\n",
    "        if(betw_min_count[k] == betw_min_min):\n",
    "            betw_ans_min.append(k)\n",
    "    if(targ[i] in betw_ans):\n",
    "        right_betw += 1\n",
    "    if(freq_max == 0):\n",
    "        no_ans += 1\n",
    "    if(targ[i] in freq_ans):\n",
    "        right_freq += 1\n",
    "    if(targ[i] in betw_ans_min):\n",
    "        right_betw_min += 1\n",
    "        \n",
    "print(right_first, right_freq, right_betw, right_betw_min)\n",
    "print(right_first/leng, right_freq/leng, right_betw/leng, right_betw_min/leng)\n",
    "print(np.mean(times), no_ans)"
   ]
  },
  {
   "cell_type": "code",
   "execution_count": 41,
   "metadata": {
    "collapsed": false,
    "deletable": true,
    "editable": true
   },
   "outputs": [
    {
     "name": "stdout",
     "output_type": "stream",
     "text": [
      "(5, [[], [], [], [8, 13, 18, 23, 28, 34, 42, 48], [], [10, 22, 36, 49], [], [], [], []])\n",
      "(0, [[8, 14, 20, 26, 34, 41, 49], [], [], [], [], [], [], [], [], []])\n",
      "(4, [[], [], [], [], [16, 25, 36, 48], [], [], [], [], []])\n",
      "(1, [[], [12, 23, 33, 44], [], [], [], [], [], [], [], []])\n",
      "(9, [[], [], [], [], [], [], [], [], [], [10, 19, 28, 37, 46]])\n",
      "(2, [[], [], [12, 20, 28, 37, 48], [], [], [], [], [], [], []])\n",
      "(1, [[], [8, 14, 20, 26, 32, 38, 44], [], [], [], [], [], [], [], []])\n",
      "(3, [[], [], [], [8, 13, 19, 26, 32, 38, 44], [], [], [], [], [], []])\n",
      "(1, [[], [8, 16, 22, 29, 36, 43], [], [], [], [], [], [], [], []])\n",
      "(4, [[], [], [], [], [7, 12, 18, 24, 30, 36, 42, 48], [], [], [], [], []])\n",
      "(9.0, 9.0, 9.0, 9.0)\n",
      "(0.9, 0.9, 0.9, 0.9)\n",
      "(962.45390651226046, 0)\n"
     ]
    }
   ],
   "source": [
    "right_first = right_freq = right_betw = right_betw_min = 0.\n",
    "leng = 10\n",
    "n = 0\n",
    "no_ans = 0\n",
    "targ = y_train[:10]\n",
    "answer = []\n",
    "times = []\n",
    "for num, x in enumerate(X_train[:10]):\n",
    "    start_time = time.time()\n",
    "    answer.append(spiking_from_lasagne(net, [8., 1.]).get_output_for(x, 50))\n",
    "    times.append(time.time() - start_time)\n",
    "    print(targ[num], answer[-1])\n",
    "for i, ans in enumerate(answer):\n",
    "    first_spike = 400\n",
    "    first_sp_ans = []\n",
    "    for k, j in enumerate(ans):\n",
    "        if(len(j) > 0):\n",
    "            if(j[0] < first_spike):\n",
    "                first_spike = j[0]\n",
    "                first_sp_ans = [k]\n",
    "            if(j[0] == first_spike):\n",
    "                first_sp_ans.append(k)\n",
    "    if(targ[i] in first_sp_ans):\n",
    "        right_first += 1\n",
    "    \n",
    "    betw = [np.mean([j[l+1]-j[l] for l in np.arange(len(j)-1)]) for j in ans]\n",
    "    betw_min_count = [np.min([j[l+1]-j[l] for l in np.arange(len(j)-1)]) if len([j[l+1]-j[l] for l in np.arange(len(j)-1)])>0 else 10000 for j in ans]\n",
    "    betw_ans = []\n",
    "    betw_min = 110\n",
    "    betw_ans_min = []\n",
    "    betw_min_min = 110\n",
    "    \n",
    "    ans = [len(j) for j in ans]\n",
    "    freq_max = 0\n",
    "    freq_ans = []\n",
    "    for k, j in enumerate(ans):\n",
    "        if (j > freq_max):\n",
    "            freq_max = j\n",
    "            freq_ans = [k]\n",
    "        if (j == freq_max):\n",
    "            freq_ans.append(k)\n",
    "        if(betw[k] < betw_min):\n",
    "            betw_min = j\n",
    "            betw_ans = [k]\n",
    "        if(betw[k] == betw_min):\n",
    "            betw_ans.append(k)\n",
    "        if(betw_min_count[k] < betw_min_min):\n",
    "            betw_min_min = j\n",
    "            betw_ans_min = [k]\n",
    "        if(betw_min_count[k] == betw_min_min):\n",
    "            betw_ans_min.append(k)\n",
    "    if(targ[i] in betw_ans):\n",
    "        right_betw += 1\n",
    "    if(freq_max == 0):\n",
    "        no_ans += 1\n",
    "    if(targ[i] in freq_ans):\n",
    "        right_freq += 1\n",
    "    if(targ[i] in betw_ans_min):\n",
    "        right_betw_min += 1\n",
    "        \n",
    "print(right_first, right_freq, right_betw, right_betw_min)\n",
    "print(right_first/leng, right_freq/leng, right_betw/leng, right_betw_min/leng)\n",
    "print(np.mean(times), no_ans)"
   ]
  },
  {
   "cell_type": "code",
   "execution_count": null,
   "metadata": {
    "collapsed": false,
    "deletable": true,
    "editable": true
   },
   "outputs": [
    {
     "name": "stdout",
     "output_type": "stream",
     "text": [
      "(7, [[], [], [], [13, 22, 33, 44, 56, 66, 74, 87], [], [], [], [6, 11, 15, 20, 25, 31, 37, 42, 47, 53, 59, 64, 70, 74, 79, 85, 90, 95], [], []])\n",
      "(2, [[], [], [6, 11, 16, 21, 26, 32, 37, 42, 47, 52, 56, 62, 68, 73, 79, 84, 89, 94], [], [], [], [], [], [], []])\n",
      "(1, [[], [9, 17, 24, 31, 37, 44, 52, 59, 67, 74, 82, 89, 97], [], [], [], [], [], [], [], []])\n"
     ]
    }
   ],
   "source": [
    "right_first = right_freq = right_betw = right_betw_min = 0.\n",
    "leng = 10\n",
    "n = 0\n",
    "no_ans = 0\n",
    "targ = y_test[:10]\n",
    "answer = []\n",
    "times = []\n",
    "for num, x in enumerate(X_test[:10]):\n",
    "    start_time = time.time()\n",
    "    answer.append(spiking_from_lasagne(net, [9., 1.]).get_output_for(x, 100))\n",
    "    times.append(time.time() - start_time)\n",
    "    print(targ[num], answer[-1])\n",
    "for i, ans in enumerate(answer):\n",
    "    first_spike = 400\n",
    "    first_sp_ans = []\n",
    "    for k, j in enumerate(ans):\n",
    "        if(len(j) > 0):\n",
    "            if(j[0] < first_spike):\n",
    "                first_spike = j[0]\n",
    "                first_sp_ans = [k]\n",
    "            if(j[0] == first_spike):\n",
    "                first_sp_ans.append(k)\n",
    "    if(targ[i] in first_sp_ans):\n",
    "        right_first += 1\n",
    "    \n",
    "    betw = [np.mean([j[l+1]-j[l] for l in np.arange(len(j)-1)]) for j in ans]\n",
    "    betw_min_count = [np.min([j[l+1]-j[l] for l in np.arange(len(j)-1)]) if len([j[l+1]-j[l] for l in np.arange(len(j)-1)])>0 else 10000 for j in ans]\n",
    "    betw_ans = []\n",
    "    betw_min = 110\n",
    "    betw_ans_min = []\n",
    "    betw_min_min = 110\n",
    "    \n",
    "    ans = [len(j) for j in ans]\n",
    "    freq_max = 0\n",
    "    freq_ans = []\n",
    "    for k, j in enumerate(ans):\n",
    "        if (j > freq_max):\n",
    "            freq_max = j\n",
    "            freq_ans = [k]\n",
    "        if (j == freq_max):\n",
    "            freq_ans.append(k)\n",
    "        if(betw[k] < betw_min):\n",
    "            betw_min = j\n",
    "            betw_ans = [k]\n",
    "        if(betw[k] == betw_min):\n",
    "            betw_ans.append(k)\n",
    "        if(betw_min_count[k] < betw_min_min):\n",
    "            betw_min_min = j\n",
    "            betw_ans_min = [k]\n",
    "        if(betw_min_count[k] == betw_min_min):\n",
    "            betw_ans_min.append(k)\n",
    "    if(targ[i] in betw_ans):\n",
    "        right_betw += 1\n",
    "    if(freq_max == 0):\n",
    "        no_ans += 1\n",
    "    if(targ[i] in freq_ans):\n",
    "        right_freq += 1\n",
    "    if(targ[i] in betw_ans_min):\n",
    "        right_betw_min += 1\n",
    "        \n",
    "print(right_first, right_freq, right_betw, right_betw_min)\n",
    "print(right_first/leng, right_freq/leng, right_betw/leng, right_betw_min/leng)\n",
    "print(np.mean(times), no_ans)"
   ]
  },
  {
   "cell_type": "code",
   "execution_count": 46,
   "metadata": {
    "collapsed": false,
    "deletable": true,
    "editable": true
   },
   "outputs": [
    {
     "name": "stdout",
     "output_type": "stream",
     "text": [
      "[[], [], [], [], [], [], [], [14, 27, 41, 54, 66, 82, 94], [], []]\n",
      "49.0532119274\n"
     ]
    }
   ],
   "source": [
    "spiking_net = spiking_from_lasagne(net, [8., 2.])\n",
    "import time\n",
    "start = time.time()\n",
    "print(spiking_net.get_output_for(X_test[0], 100))\n",
    "print(time.time() - start)"
   ]
  },
  {
   "cell_type": "code",
   "execution_count": null,
   "metadata": {
    "collapsed": true,
    "deletable": true,
    "editable": true
   },
   "outputs": [],
   "source": []
  }
 ],
 "metadata": {
  "kernelspec": {
   "display_name": "Python 2",
   "language": "python",
   "name": "python2"
  },
  "language_info": {
   "codemirror_mode": {
    "name": "ipython",
    "version": 2
   },
   "file_extension": ".py",
   "mimetype": "text/x-python",
   "name": "python",
   "nbconvert_exporter": "python",
   "pygments_lexer": "ipython2",
   "version": "2.7.13"
  }
 },
 "nbformat": 4,
 "nbformat_minor": 2
}
