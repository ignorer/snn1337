{
 "cells": [
  {
   "cell_type": "code",
   "execution_count": 2,
   "metadata": {
    "collapsed": true
   },
   "outputs": [],
   "source": [
    "import numpy as np\n",
    "import theano\n",
    "import theano.tensor as T\n",
    "import lasagne\n",
    "import time\n",
    "from random import shuffle\n",
    "import math\n",
    "from tqdm import tqdm"
   ]
  },
  {
   "cell_type": "code",
   "execution_count": 8,
   "metadata": {
    "collapsed": true
   },
   "outputs": [],
   "source": [
    "\"\"\" \n",
    "Возвращает полносвязную сеть\n",
    "\n",
    "Параметры\n",
    "    input_X : theano переменная\n",
    "    input_shape : размер\n",
    "    num_layers : количество внутренних слоёв\n",
    "    num_units : массив, количество нейронов на каждом внутреннем слое\n",
    "    set_params : если не равно None, то там должны быть веса, которые нужно установить в сеть \n",
    "    output: bool, показывает, нужно ли делать для нашей сети последний слой\n",
    "\"\"\"\n",
    "def fully_connected(input_X, input_shape, num_layers, num_units, set_params=None, output=True):\n",
    "    assert (num_layers == len(num_units))\n",
    "    \n",
    "    net = lasagne.layers.InputLayer(shape = input_shape, input_var=input_X)\n",
    "    \n",
    "    for i in range(num_layers): \n",
    "        net = lasagne.layers.DenseLayer(net, num_units=num_units[i], nonlinearity=lasagne.nonlinearities.rectify, \n",
    "                                        b=None, W=lasagne.init.HeNormal())\n",
    "        \n",
    "    if (output):\n",
    "        net = lasagne.layers.DenseLayer(net, num_units = 10, nonlinearity = lasagne.nonlinearities.softmax, b=None)\n",
    "    \n",
    "    if (set_params != None):\n",
    "        lasagne.layers.set_all_param_values(net, set_params)\n",
    "    \n",
    "    return net"
   ]
  },
  {
   "cell_type": "code",
   "execution_count": 4,
   "metadata": {
    "collapsed": true
   },
   "outputs": [],
   "source": [
    "\"\"\"\n",
    "Возвращает train_function и accuracy_function для сети\n",
    "\n",
    "Параметры:\n",
    "    net: сеть (последний слой сети)\n",
    "    input_X: данные, которые подаются на вход сети\n",
    "    tаrget_y: правильные ответы\n",
    "\"\"\"\n",
    "def set_train_fun(net, input_X, target_y):\n",
    "    y_predicted = lasagne.layers.get_output(net)\n",
    "    all_weights = lasagne.layers.get_all_params(net, trainable=True)\n",
    "    \n",
    "    loss = lasagne.objectives.categorical_crossentropy(y_predicted,target_y).mean()\n",
    "    accuracy = lasagne.objectives.categorical_accuracy(y_predicted,target_y).mean()\n",
    "\n",
    "    updates = lasagne.updates.adam(loss, all_weights)\n",
    "    \n",
    "    train_fun = theano.function([input_X,target_y],[loss,accuracy],updates= updates)\n",
    "    accuracy_fun = theano.function([input_X,target_y],accuracy)\n",
    "    \n",
    "    return train_fun, accuracy_fun"
   ]
  },
  {
   "cell_type": "code",
   "execution_count": 5,
   "metadata": {
    "collapsed": true
   },
   "outputs": [],
   "source": [
    "def iterate_minibatches(X, y, batchsize):   \n",
    "    indices = np.arange(len(X))\n",
    "    np.random.shuffle(indices)\n",
    "    for start_idx in range(0, len(X) - batchsize + 1, batchsize):\n",
    "        excerpt = indices[start_idx:start_idx + batchsize]\n",
    "        yield X[excerpt], y[excerpt]"
   ]
  },
  {
   "cell_type": "code",
   "execution_count": 6,
   "metadata": {
    "collapsed": true
   },
   "outputs": [],
   "source": [
    "def train(net, train_fun, accuracy_fun, X_train, y_train, X_val, y_val, num_epoch=50, batch_size=50):\n",
    "    num_epochs = num_epoch #количество проходов по данным\n",
    "\n",
    "    batch_size = batch_size #размер мини-батча\n",
    "\n",
    "    for epoch in tqdm(range(num_epochs)):\n",
    "        # In each epoch, we do a full pass over the training data:\n",
    "        train_err = 0\n",
    "        train_acc = 0\n",
    "        train_batches = 0\n",
    "        start_time = time.time()\n",
    "        for batch in iterate_minibatches(X_train, y_train, batch_size):\n",
    "            inputs, targets = batch\n",
    "            train_err_batch, train_acc_batch= train_fun(inputs, targets)\n",
    "            train_err += train_err_batch\n",
    "            train_acc += train_acc_batch\n",
    "            train_batches += 1\n",
    "\n",
    "        # And a full pass over the validation data:\n",
    "        val_acc = 0\n",
    "        val_batches = 0\n",
    "        for batch in iterate_minibatches(X_val, y_val, batch_size):\n",
    "            inputs, targets = batch\n",
    "            val_acc += accuracy_fun(inputs, targets)\n",
    "            val_batches += 1\n",
    "\n",
    "\n",
    "        # Then we print the results for this epoch:\n",
    "        print(\"Epoch {} of {} took {:.3f}s\".format(\n",
    "            epoch + 1, num_epochs, time.time() - start_time))\n",
    "\n",
    "        print(\"  training loss (in-iteration):\\t\\t{:.6f}\".format(train_err / train_batches))\n",
    "        print(\"  train accuracy:\\t\\t{:.2f} %\".format(\n",
    "            train_acc / train_batches * 100))\n",
    "        print(\"  validation accuracy:\\t\\t{:.2f} %\".format(\n",
    "            val_acc / val_batches * 100))"
   ]
  },
  {
   "cell_type": "code",
   "execution_count": 7,
   "metadata": {
    "collapsed": true
   },
   "outputs": [],
   "source": [
    "def test(X_test, y_test, accuracy_fun):\n",
    "    test_acc = 0\n",
    "    test_batches = 0\n",
    "    for batch in iterate_minibatches(X_test, y_test, 500):\n",
    "        inputs, targets = batch\n",
    "        acc = accuracy_fun(inputs, targets)\n",
    "        test_acc += acc\n",
    "        test_batches += 1\n",
    "    print(\"Final results:\")\n",
    "    print(\"  test accuracy:\\t\\t{:.2f} %\".format(\n",
    "        test_acc / test_batches * 100))"
   ]
  }
 ],
 "metadata": {
  "kernelspec": {
   "display_name": "Python 3",
   "language": "python",
   "name": "python3"
  },
  "language_info": {
   "codemirror_mode": {
    "name": "ipython",
    "version": 3
   },
   "file_extension": ".py",
   "mimetype": "text/x-python",
   "name": "python",
   "nbconvert_exporter": "python",
   "pygments_lexer": "ipython3",
   "version": "3.5.2"
  }
 },
 "nbformat": 4,
 "nbformat_minor": 2
}
