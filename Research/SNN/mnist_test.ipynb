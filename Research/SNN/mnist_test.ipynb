{
 "cells": [
  {
   "cell_type": "code",
   "execution_count": 105,
   "metadata": {
    "scrolled": false
   },
   "outputs": [],
   "source": [
    "%run fully_connected_for_mnist.ipynb"
   ]
  },
  {
   "cell_type": "code",
   "execution_count": 14,
   "metadata": {
    "collapsed": true
   },
   "outputs": [],
   "source": [
    "import matplotlib.pyplot as plt\n",
    "%matplotlib inline"
   ]
  },
  {
   "cell_type": "code",
   "execution_count": 2,
   "metadata": {},
   "outputs": [
    {
     "name": "stdout",
     "output_type": "stream",
     "text": [
      "Downloading train-images-idx3-ubyte.gz\n",
      "Downloading train-labels-idx1-ubyte.gz\n",
      "Downloading t10k-images-idx3-ubyte.gz\n",
      "Downloading t10k-labels-idx1-ubyte.gz\n"
     ]
    }
   ],
   "source": [
    "from mnist import load_dataset\n",
    "X_train,y_train,X_val,y_val,X_test,y_test = load_dataset()"
   ]
  },
  {
   "cell_type": "code",
   "execution_count": 3,
   "metadata": {
    "collapsed": true
   },
   "outputs": [],
   "source": [
    "input_X = T.tensor4(\"X\")\n",
    "input_shape = [None,1,28,28]\n",
    "target_y = T.vector(\"target Y integer\",dtype='int32')"
   ]
  },
  {
   "cell_type": "markdown",
   "metadata": {},
   "source": [
    "Создадим простую полносвязную сеть с одним скрытым слоем с 16 нейронами"
   ]
  },
  {
   "cell_type": "code",
   "execution_count": 26,
   "metadata": {},
   "outputs": [],
   "source": [
    "net = fully_connected(input_X, input_shape, 1, [16])\n",
    "train_fun, acc_fun = set_train_fun(net, input_X, target_y)"
   ]
  },
  {
   "cell_type": "markdown",
   "metadata": {},
   "source": [
    "Обучим её на небольшом количестве эпох"
   ]
  },
  {
   "cell_type": "code",
   "execution_count": 27,
   "metadata": {},
   "outputs": [
    {
     "name": "stderr",
     "output_type": "stream",
     "text": [
      "  2%|▏         | 1/50 [00:00<00:34,  1.42it/s]"
     ]
    },
    {
     "name": "stdout",
     "output_type": "stream",
     "text": [
      "Epoch 1 of 50 took 0.703s\n",
      "  training loss (in-iteration):\t\t0.488623\n",
      "  train accuracy:\t\t86.67 %\n",
      "  validation accuracy:\t\t92.81 %\n"
     ]
    },
    {
     "name": "stderr",
     "output_type": "stream",
     "text": [
      "\r",
      "  4%|▍         | 2/50 [00:01<00:33,  1.42it/s]"
     ]
    },
    {
     "name": "stdout",
     "output_type": "stream",
     "text": [
      "Epoch 2 of 50 took 0.696s\n",
      "  training loss (in-iteration):\t\t0.265391\n",
      "  train accuracy:\t\t92.47 %\n",
      "  validation accuracy:\t\t93.79 %\n"
     ]
    },
    {
     "name": "stderr",
     "output_type": "stream",
     "text": [
      "\r",
      "  6%|▌         | 3/50 [00:02<00:33,  1.42it/s]"
     ]
    },
    {
     "name": "stdout",
     "output_type": "stream",
     "text": [
      "Epoch 3 of 50 took 0.706s\n",
      "  training loss (in-iteration):\t\t0.229180\n",
      "  train accuracy:\t\t93.54 %\n",
      "  validation accuracy:\t\t94.09 %\n"
     ]
    },
    {
     "name": "stderr",
     "output_type": "stream",
     "text": [
      "\r",
      "  8%|▊         | 4/50 [00:02<00:32,  1.42it/s]"
     ]
    },
    {
     "name": "stdout",
     "output_type": "stream",
     "text": [
      "Epoch 4 of 50 took 0.697s\n",
      "  training loss (in-iteration):\t\t0.207533\n",
      "  train accuracy:\t\t94.07 %\n",
      "  validation accuracy:\t\t94.57 %\n"
     ]
    },
    {
     "name": "stderr",
     "output_type": "stream",
     "text": [
      "\r",
      " 10%|█         | 5/50 [00:03<00:31,  1.42it/s]"
     ]
    },
    {
     "name": "stdout",
     "output_type": "stream",
     "text": [
      "Epoch 5 of 50 took 0.714s\n",
      "  training loss (in-iteration):\t\t0.193788\n",
      "  train accuracy:\t\t94.46 %\n",
      "  validation accuracy:\t\t94.66 %\n"
     ]
    },
    {
     "name": "stderr",
     "output_type": "stream",
     "text": [
      "\r",
      " 12%|█▏        | 6/50 [00:04<00:30,  1.42it/s]"
     ]
    },
    {
     "name": "stdout",
     "output_type": "stream",
     "text": [
      "Epoch 6 of 50 took 0.699s\n",
      "  training loss (in-iteration):\t\t0.183399\n",
      "  train accuracy:\t\t94.71 %\n",
      "  validation accuracy:\t\t94.86 %\n"
     ]
    },
    {
     "name": "stderr",
     "output_type": "stream",
     "text": [
      "\r",
      " 14%|█▍        | 7/50 [00:04<00:30,  1.43it/s]"
     ]
    },
    {
     "name": "stdout",
     "output_type": "stream",
     "text": [
      "Epoch 7 of 50 took 0.691s\n",
      "  training loss (in-iteration):\t\t0.174502\n",
      "  train accuracy:\t\t95.06 %\n",
      "  validation accuracy:\t\t95.13 %\n"
     ]
    },
    {
     "name": "stderr",
     "output_type": "stream",
     "text": [
      "\r",
      " 16%|█▌        | 8/50 [00:05<00:29,  1.43it/s]"
     ]
    },
    {
     "name": "stdout",
     "output_type": "stream",
     "text": [
      "Epoch 8 of 50 took 0.690s\n",
      "  training loss (in-iteration):\t\t0.167152\n",
      "  train accuracy:\t\t95.19 %\n",
      "  validation accuracy:\t\t95.26 %\n"
     ]
    },
    {
     "name": "stderr",
     "output_type": "stream",
     "text": [
      "\r",
      " 18%|█▊        | 9/50 [00:06<00:28,  1.42it/s]"
     ]
    },
    {
     "name": "stdout",
     "output_type": "stream",
     "text": [
      "Epoch 9 of 50 took 0.710s\n",
      "  training loss (in-iteration):\t\t0.161185\n",
      "  train accuracy:\t\t95.42 %\n",
      "  validation accuracy:\t\t95.45 %\n"
     ]
    },
    {
     "name": "stderr",
     "output_type": "stream",
     "text": [
      "\r",
      " 20%|██        | 10/50 [00:07<00:28,  1.42it/s]"
     ]
    },
    {
     "name": "stdout",
     "output_type": "stream",
     "text": [
      "Epoch 10 of 50 took 0.714s\n",
      "  training loss (in-iteration):\t\t0.155953\n",
      "  train accuracy:\t\t95.47 %\n",
      "  validation accuracy:\t\t95.36 %\n"
     ]
    },
    {
     "name": "stderr",
     "output_type": "stream",
     "text": [
      "\r",
      " 22%|██▏       | 11/50 [00:07<00:27,  1.42it/s]"
     ]
    },
    {
     "name": "stdout",
     "output_type": "stream",
     "text": [
      "Epoch 11 of 50 took 0.702s\n",
      "  training loss (in-iteration):\t\t0.150696\n",
      "  train accuracy:\t\t95.59 %\n",
      "  validation accuracy:\t\t95.43 %\n"
     ]
    },
    {
     "name": "stderr",
     "output_type": "stream",
     "text": [
      "\r",
      " 24%|██▍       | 12/50 [00:08<00:26,  1.41it/s]"
     ]
    },
    {
     "name": "stdout",
     "output_type": "stream",
     "text": [
      "Epoch 12 of 50 took 0.712s\n",
      "  training loss (in-iteration):\t\t0.147253\n",
      "  train accuracy:\t\t95.67 %\n",
      "  validation accuracy:\t\t95.59 %\n"
     ]
    },
    {
     "name": "stderr",
     "output_type": "stream",
     "text": [
      "\r",
      " 26%|██▌       | 13/50 [00:09<00:26,  1.41it/s]"
     ]
    },
    {
     "name": "stdout",
     "output_type": "stream",
     "text": [
      "Epoch 13 of 50 took 0.713s\n",
      "  training loss (in-iteration):\t\t0.143695\n",
      "  train accuracy:\t\t95.82 %\n",
      "  validation accuracy:\t\t95.44 %\n"
     ]
    },
    {
     "name": "stderr",
     "output_type": "stream",
     "text": [
      "\r",
      " 28%|██▊       | 14/50 [00:09<00:25,  1.41it/s]"
     ]
    },
    {
     "name": "stdout",
     "output_type": "stream",
     "text": [
      "Epoch 14 of 50 took 0.704s\n",
      "  training loss (in-iteration):\t\t0.139987\n",
      "  train accuracy:\t\t95.90 %\n",
      "  validation accuracy:\t\t95.49 %\n"
     ]
    },
    {
     "name": "stderr",
     "output_type": "stream",
     "text": [
      "\r",
      " 30%|███       | 15/50 [00:10<00:24,  1.41it/s]"
     ]
    },
    {
     "name": "stdout",
     "output_type": "stream",
     "text": [
      "Epoch 15 of 50 took 0.712s\n",
      "  training loss (in-iteration):\t\t0.137721\n",
      "  train accuracy:\t\t95.96 %\n",
      "  validation accuracy:\t\t95.17 %\n"
     ]
    },
    {
     "name": "stderr",
     "output_type": "stream",
     "text": [
      "\r",
      " 32%|███▏      | 16/50 [00:11<00:24,  1.41it/s]"
     ]
    },
    {
     "name": "stdout",
     "output_type": "stream",
     "text": [
      "Epoch 16 of 50 took 0.709s\n",
      "  training loss (in-iteration):\t\t0.135214\n",
      "  train accuracy:\t\t96.01 %\n",
      "  validation accuracy:\t\t95.67 %\n"
     ]
    },
    {
     "name": "stderr",
     "output_type": "stream",
     "text": [
      "\r",
      " 34%|███▍      | 17/50 [00:12<00:23,  1.41it/s]"
     ]
    },
    {
     "name": "stdout",
     "output_type": "stream",
     "text": [
      "Epoch 17 of 50 took 0.715s\n",
      "  training loss (in-iteration):\t\t0.132076\n",
      "  train accuracy:\t\t96.18 %\n",
      "  validation accuracy:\t\t95.35 %\n"
     ]
    },
    {
     "name": "stderr",
     "output_type": "stream",
     "text": [
      "\r",
      " 36%|███▌      | 18/50 [00:12<00:22,  1.40it/s]"
     ]
    },
    {
     "name": "stdout",
     "output_type": "stream",
     "text": [
      "Epoch 18 of 50 took 0.718s\n",
      "  training loss (in-iteration):\t\t0.130731\n",
      "  train accuracy:\t\t96.19 %\n",
      "  validation accuracy:\t\t95.54 %\n"
     ]
    },
    {
     "name": "stderr",
     "output_type": "stream",
     "text": [
      "\r",
      " 38%|███▊      | 19/50 [00:13<00:22,  1.39it/s]"
     ]
    },
    {
     "name": "stdout",
     "output_type": "stream",
     "text": [
      "Epoch 19 of 50 took 0.732s\n",
      "  training loss (in-iteration):\t\t0.127510\n",
      "  train accuracy:\t\t96.26 %\n",
      "  validation accuracy:\t\t95.60 %\n"
     ]
    },
    {
     "name": "stderr",
     "output_type": "stream",
     "text": [
      "\r",
      " 40%|████      | 20/50 [00:14<00:21,  1.38it/s]"
     ]
    },
    {
     "name": "stdout",
     "output_type": "stream",
     "text": [
      "Epoch 20 of 50 took 0.727s\n",
      "  training loss (in-iteration):\t\t0.125145\n",
      "  train accuracy:\t\t96.31 %\n",
      "  validation accuracy:\t\t95.48 %\n"
     ]
    },
    {
     "name": "stderr",
     "output_type": "stream",
     "text": [
      "\r",
      " 42%|████▏     | 21/50 [00:14<00:20,  1.39it/s]"
     ]
    },
    {
     "name": "stdout",
     "output_type": "stream",
     "text": [
      "Epoch 21 of 50 took 0.711s\n",
      "  training loss (in-iteration):\t\t0.123723\n",
      "  train accuracy:\t\t96.42 %\n",
      "  validation accuracy:\t\t95.59 %\n"
     ]
    },
    {
     "name": "stderr",
     "output_type": "stream",
     "text": [
      "\r",
      " 44%|████▍     | 22/50 [00:15<00:20,  1.39it/s]"
     ]
    },
    {
     "name": "stdout",
     "output_type": "stream",
     "text": [
      "Epoch 22 of 50 took 0.713s\n",
      "  training loss (in-iteration):\t\t0.122330\n",
      "  train accuracy:\t\t96.45 %\n",
      "  validation accuracy:\t\t95.44 %\n"
     ]
    },
    {
     "name": "stderr",
     "output_type": "stream",
     "text": [
      "\r",
      " 46%|████▌     | 23/50 [00:16<00:19,  1.39it/s]"
     ]
    },
    {
     "name": "stdout",
     "output_type": "stream",
     "text": [
      "Epoch 23 of 50 took 0.715s\n",
      "  training loss (in-iteration):\t\t0.120780\n",
      "  train accuracy:\t\t96.43 %\n",
      "  validation accuracy:\t\t95.55 %\n"
     ]
    },
    {
     "name": "stderr",
     "output_type": "stream",
     "text": [
      "\r",
      " 48%|████▊     | 24/50 [00:17<00:18,  1.38it/s]"
     ]
    },
    {
     "name": "stdout",
     "output_type": "stream",
     "text": [
      "Epoch 24 of 50 took 0.736s\n",
      "  training loss (in-iteration):\t\t0.118659\n",
      "  train accuracy:\t\t96.49 %\n",
      "  validation accuracy:\t\t95.40 %\n"
     ]
    },
    {
     "name": "stderr",
     "output_type": "stream",
     "text": [
      "\r",
      " 50%|█████     | 25/50 [00:17<00:18,  1.38it/s]"
     ]
    },
    {
     "name": "stdout",
     "output_type": "stream",
     "text": [
      "Epoch 25 of 50 took 0.728s\n",
      "  training loss (in-iteration):\t\t0.117806\n",
      "  train accuracy:\t\t96.60 %\n",
      "  validation accuracy:\t\t95.63 %\n"
     ]
    },
    {
     "name": "stderr",
     "output_type": "stream",
     "text": [
      "\r",
      " 52%|█████▏    | 26/50 [00:18<00:17,  1.39it/s]"
     ]
    },
    {
     "name": "stdout",
     "output_type": "stream",
     "text": [
      "Epoch 26 of 50 took 0.710s\n",
      "  training loss (in-iteration):\t\t0.115975\n",
      "  train accuracy:\t\t96.58 %\n",
      "  validation accuracy:\t\t95.43 %\n"
     ]
    },
    {
     "name": "stderr",
     "output_type": "stream",
     "text": [
      "\r",
      " 54%|█████▍    | 27/50 [00:19<00:16,  1.39it/s]"
     ]
    },
    {
     "name": "stdout",
     "output_type": "stream",
     "text": [
      "Epoch 27 of 50 took 0.720s\n",
      "  training loss (in-iteration):\t\t0.114344\n",
      "  train accuracy:\t\t96.62 %\n",
      "  validation accuracy:\t\t95.33 %\n"
     ]
    },
    {
     "name": "stderr",
     "output_type": "stream",
     "text": [
      "\r",
      " 56%|█████▌    | 28/50 [00:19<00:15,  1.39it/s]"
     ]
    },
    {
     "name": "stdout",
     "output_type": "stream",
     "text": [
      "Epoch 28 of 50 took 0.709s\n",
      "  training loss (in-iteration):\t\t0.112777\n",
      "  train accuracy:\t\t96.68 %\n",
      "  validation accuracy:\t\t95.47 %\n"
     ]
    },
    {
     "name": "stderr",
     "output_type": "stream",
     "text": [
      "\r",
      " 58%|█████▊    | 29/50 [00:20<00:15,  1.39it/s]"
     ]
    },
    {
     "name": "stdout",
     "output_type": "stream",
     "text": [
      "Epoch 29 of 50 took 0.719s\n",
      "  training loss (in-iteration):\t\t0.111218\n",
      "  train accuracy:\t\t96.71 %\n",
      "  validation accuracy:\t\t95.51 %\n"
     ]
    },
    {
     "name": "stderr",
     "output_type": "stream",
     "text": [
      "\r",
      " 60%|██████    | 30/50 [00:21<00:14,  1.39it/s]"
     ]
    },
    {
     "name": "stdout",
     "output_type": "stream",
     "text": [
      "Epoch 30 of 50 took 0.715s\n",
      "  training loss (in-iteration):\t\t0.110305\n",
      "  train accuracy:\t\t96.74 %\n",
      "  validation accuracy:\t\t95.38 %\n"
     ]
    },
    {
     "name": "stderr",
     "output_type": "stream",
     "text": [
      "\r",
      " 62%|██████▏   | 31/50 [00:22<00:13,  1.39it/s]"
     ]
    },
    {
     "name": "stdout",
     "output_type": "stream",
     "text": [
      "Epoch 31 of 50 took 0.717s\n",
      "  training loss (in-iteration):\t\t0.109821\n",
      "  train accuracy:\t\t96.73 %\n",
      "  validation accuracy:\t\t95.38 %\n"
     ]
    },
    {
     "name": "stderr",
     "output_type": "stream",
     "text": [
      "\r",
      " 64%|██████▍   | 32/50 [00:22<00:12,  1.40it/s]"
     ]
    },
    {
     "name": "stdout",
     "output_type": "stream",
     "text": [
      "Epoch 32 of 50 took 0.708s\n",
      "  training loss (in-iteration):\t\t0.108222\n",
      "  train accuracy:\t\t96.80 %\n",
      "  validation accuracy:\t\t95.39 %\n"
     ]
    },
    {
     "name": "stderr",
     "output_type": "stream",
     "text": [
      "\r",
      " 66%|██████▌   | 33/50 [00:23<00:12,  1.40it/s]"
     ]
    },
    {
     "name": "stdout",
     "output_type": "stream",
     "text": [
      "Epoch 33 of 50 took 0.717s\n",
      "  training loss (in-iteration):\t\t0.107293\n",
      "  train accuracy:\t\t96.81 %\n",
      "  validation accuracy:\t\t95.14 %\n"
     ]
    },
    {
     "name": "stderr",
     "output_type": "stream",
     "text": [
      "\r",
      " 68%|██████▊   | 34/50 [00:24<00:11,  1.39it/s]"
     ]
    },
    {
     "name": "stdout",
     "output_type": "stream",
     "text": [
      "Epoch 34 of 50 took 0.720s\n",
      "  training loss (in-iteration):\t\t0.106686\n",
      "  train accuracy:\t\t96.85 %\n",
      "  validation accuracy:\t\t95.48 %\n"
     ]
    },
    {
     "name": "stderr",
     "output_type": "stream",
     "text": [
      "\r",
      " 70%|███████   | 35/50 [00:24<00:10,  1.40it/s]"
     ]
    },
    {
     "name": "stdout",
     "output_type": "stream",
     "text": [
      "Epoch 35 of 50 took 0.706s\n",
      "  training loss (in-iteration):\t\t0.105133\n",
      "  train accuracy:\t\t96.95 %\n",
      "  validation accuracy:\t\t95.26 %\n"
     ]
    },
    {
     "name": "stderr",
     "output_type": "stream",
     "text": [
      "\r",
      " 72%|███████▏  | 36/50 [00:25<00:10,  1.40it/s]"
     ]
    },
    {
     "name": "stdout",
     "output_type": "stream",
     "text": [
      "Epoch 36 of 50 took 0.720s\n",
      "  training loss (in-iteration):\t\t0.104185\n",
      "  train accuracy:\t\t96.95 %\n",
      "  validation accuracy:\t\t95.07 %\n"
     ]
    },
    {
     "name": "stderr",
     "output_type": "stream",
     "text": [
      "\r",
      " 74%|███████▍  | 37/50 [00:26<00:09,  1.39it/s]"
     ]
    },
    {
     "name": "stdout",
     "output_type": "stream",
     "text": [
      "Epoch 37 of 50 took 0.721s\n",
      "  training loss (in-iteration):\t\t0.102563\n",
      "  train accuracy:\t\t96.99 %\n",
      "  validation accuracy:\t\t95.29 %\n"
     ]
    },
    {
     "name": "stderr",
     "output_type": "stream",
     "text": [
      "\r",
      " 76%|███████▌  | 38/50 [00:27<00:08,  1.39it/s]"
     ]
    },
    {
     "name": "stdout",
     "output_type": "stream",
     "text": [
      "Epoch 38 of 50 took 0.726s\n",
      "  training loss (in-iteration):\t\t0.101723\n",
      "  train accuracy:\t\t97.05 %\n",
      "  validation accuracy:\t\t95.14 %\n"
     ]
    },
    {
     "name": "stderr",
     "output_type": "stream",
     "text": [
      "\r",
      " 78%|███████▊  | 39/50 [00:27<00:07,  1.39it/s]"
     ]
    },
    {
     "name": "stdout",
     "output_type": "stream",
     "text": [
      "Epoch 39 of 50 took 0.717s\n",
      "  training loss (in-iteration):\t\t0.101778\n",
      "  train accuracy:\t\t96.97 %\n",
      "  validation accuracy:\t\t95.39 %\n"
     ]
    },
    {
     "name": "stderr",
     "output_type": "stream",
     "text": [
      "\r",
      " 80%|████████  | 40/50 [00:28<00:07,  1.38it/s]"
     ]
    },
    {
     "name": "stdout",
     "output_type": "stream",
     "text": [
      "Epoch 40 of 50 took 0.733s\n",
      "  training loss (in-iteration):\t\t0.100156\n",
      "  train accuracy:\t\t97.07 %\n",
      "  validation accuracy:\t\t95.41 %\n"
     ]
    },
    {
     "name": "stderr",
     "output_type": "stream",
     "text": [
      "\r",
      " 82%|████████▏ | 41/50 [00:29<00:06,  1.38it/s]"
     ]
    },
    {
     "name": "stdout",
     "output_type": "stream",
     "text": [
      "Epoch 41 of 50 took 0.729s\n",
      "  training loss (in-iteration):\t\t0.099078\n",
      "  train accuracy:\t\t97.12 %\n",
      "  validation accuracy:\t\t95.33 %\n"
     ]
    },
    {
     "name": "stderr",
     "output_type": "stream",
     "text": [
      "\r",
      " 84%|████████▍ | 42/50 [00:30<00:05,  1.38it/s]"
     ]
    },
    {
     "name": "stdout",
     "output_type": "stream",
     "text": [
      "Epoch 42 of 50 took 0.727s\n",
      "  training loss (in-iteration):\t\t0.098853\n",
      "  train accuracy:\t\t97.11 %\n",
      "  validation accuracy:\t\t95.05 %\n"
     ]
    },
    {
     "name": "stderr",
     "output_type": "stream",
     "text": [
      "\r",
      " 86%|████████▌ | 43/50 [00:30<00:05,  1.38it/s]"
     ]
    },
    {
     "name": "stdout",
     "output_type": "stream",
     "text": [
      "Epoch 43 of 50 took 0.710s\n",
      "  training loss (in-iteration):\t\t0.097545\n",
      "  train accuracy:\t\t97.07 %\n",
      "  validation accuracy:\t\t95.35 %\n"
     ]
    },
    {
     "name": "stderr",
     "output_type": "stream",
     "text": [
      "\r",
      " 88%|████████▊ | 44/50 [00:31<00:04,  1.37it/s]"
     ]
    },
    {
     "name": "stdout",
     "output_type": "stream",
     "text": [
      "Epoch 44 of 50 took 0.752s\n",
      "  training loss (in-iteration):\t\t0.096957\n",
      "  train accuracy:\t\t97.16 %\n",
      "  validation accuracy:\t\t95.13 %\n"
     ]
    },
    {
     "name": "stderr",
     "output_type": "stream",
     "text": [
      "\r",
      " 90%|█████████ | 45/50 [00:32<00:03,  1.36it/s]"
     ]
    },
    {
     "name": "stdout",
     "output_type": "stream",
     "text": [
      "Epoch 45 of 50 took 0.736s\n",
      "  training loss (in-iteration):\t\t0.096774\n",
      "  train accuracy:\t\t97.15 %\n",
      "  validation accuracy:\t\t95.20 %\n"
     ]
    },
    {
     "name": "stderr",
     "output_type": "stream",
     "text": [
      "\r",
      " 92%|█████████▏| 46/50 [00:32<00:02,  1.38it/s]"
     ]
    },
    {
     "name": "stdout",
     "output_type": "stream",
     "text": [
      "Epoch 46 of 50 took 0.712s\n",
      "  training loss (in-iteration):\t\t0.095448\n",
      "  train accuracy:\t\t97.19 %\n",
      "  validation accuracy:\t\t95.38 %\n"
     ]
    },
    {
     "name": "stderr",
     "output_type": "stream",
     "text": [
      "\r",
      " 94%|█████████▍| 47/50 [00:33<00:02,  1.38it/s]"
     ]
    },
    {
     "name": "stdout",
     "output_type": "stream",
     "text": [
      "Epoch 47 of 50 took 0.721s\n",
      "  training loss (in-iteration):\t\t0.095167\n",
      "  train accuracy:\t\t97.22 %\n",
      "  validation accuracy:\t\t95.39 %\n"
     ]
    },
    {
     "name": "stderr",
     "output_type": "stream",
     "text": [
      "\r",
      " 96%|█████████▌| 48/50 [00:34<00:01,  1.39it/s]"
     ]
    },
    {
     "name": "stdout",
     "output_type": "stream",
     "text": [
      "Epoch 48 of 50 took 0.706s\n",
      "  training loss (in-iteration):\t\t0.094143\n",
      "  train accuracy:\t\t97.21 %\n",
      "  validation accuracy:\t\t95.43 %\n"
     ]
    },
    {
     "name": "stderr",
     "output_type": "stream",
     "text": [
      "\r",
      " 98%|█████████▊| 49/50 [00:35<00:00,  1.40it/s]"
     ]
    },
    {
     "name": "stdout",
     "output_type": "stream",
     "text": [
      "Epoch 49 of 50 took 0.702s\n",
      "  training loss (in-iteration):\t\t0.093645\n",
      "  train accuracy:\t\t97.21 %\n",
      "  validation accuracy:\t\t95.29 %\n"
     ]
    },
    {
     "name": "stderr",
     "output_type": "stream",
     "text": [
      "\r",
      "100%|██████████| 50/50 [00:35<00:00,  1.40it/s]"
     ]
    },
    {
     "name": "stdout",
     "output_type": "stream",
     "text": [
      "Epoch 50 of 50 took 0.705s\n",
      "  training loss (in-iteration):\t\t0.092376\n",
      "  train accuracy:\t\t97.29 %\n",
      "  validation accuracy:\t\t95.32 %\n",
      "CPU times: user 35.8 s, sys: 40 ms, total: 35.9 s\n",
      "Wall time: 35.8 s\n"
     ]
    },
    {
     "name": "stderr",
     "output_type": "stream",
     "text": [
      "\n"
     ]
    }
   ],
   "source": [
    "%%time\n",
    "train(net, train_fun, acc_fun, X_train, y_train, X_val, y_val)"
   ]
  },
  {
   "cell_type": "code",
   "execution_count": 28,
   "metadata": {
    "scrolled": false
   },
   "outputs": [
    {
     "name": "stdout",
     "output_type": "stream",
     "text": [
      "Final results:\n",
      "  test accuracy:\t\t94.97 %\n"
     ]
    }
   ],
   "source": [
    "test(X_test, y_test, acc_fun)"
   ]
  },
  {
   "cell_type": "markdown",
   "metadata": {},
   "source": [
    "Заберём все параметры сети"
   ]
  },
  {
   "cell_type": "code",
   "execution_count": 29,
   "metadata": {},
   "outputs": [],
   "source": [
    "weights = lasagne.layers.get_all_param_values(net)"
   ]
  },
  {
   "cell_type": "code",
   "execution_count": 33,
   "metadata": {},
   "outputs": [
    {
     "name": "stdout",
     "output_type": "stream",
     "text": [
      "(784, 16)\n",
      "(16, 10)\n"
     ]
    }
   ],
   "source": [
    "print(np.array(weights[0]).shape)\n",
    "print(np.array(weights[1]).shape)"
   ]
  },
  {
   "cell_type": "markdown",
   "metadata": {},
   "source": [
    "Создаем спайковую сеть с такой же конфигурацией"
   ]
  },
  {
   "cell_type": "code",
   "execution_count": 11,
   "metadata": {},
   "outputs": [
    {
     "name": "stdout",
     "output_type": "stream",
     "text": [
      "<function fixed_frequency_spike_train at 0x7fe83c046268>\n"
     ]
    }
   ],
   "source": [
    "%run SNN_ann.ipynb"
   ]
  },
  {
   "cell_type": "code",
   "execution_count": 78,
   "metadata": {},
   "outputs": [],
   "source": [
    "sp_net = spiking_from_lasagne(net, 0.1)"
   ]
  },
  {
   "cell_type": "markdown",
   "metadata": {},
   "source": [
    "Попробуем найти образ, на котором не ошибается сеть из lasagne, но ошибается наша сеть"
   ]
  },
  {
   "cell_type": "code",
   "execution_count": 34,
   "metadata": {
    "scrolled": true
   },
   "outputs": [
    {
     "name": "stdout",
     "output_type": "stream",
     "text": [
      "7\n"
     ]
    },
    {
     "data": {
      "image/png": "[encoded data removed]",
      "text/plain": [
       "<matplotlib.figure.Figure at 0x7fe83e979828>"
      ]
     },
     "metadata": {},
     "output_type": "display_data"
    }
   ],
   "source": [
    "plt.imshow(X_test[0, 0])\n",
    "print(y_test[0])"
   ]
  },
  {
   "cell_type": "code",
   "execution_count": 42,
   "metadata": {},
   "outputs": [
    {
     "name": "stdout",
     "output_type": "stream",
     "text": [
      "1.0\n"
     ]
    }
   ],
   "source": [
    "# посмотрим, ошибается ли сеть из lasagne на первом образе\n",
    "print(acc_fun(X_test[:1], y_test[:1]))"
   ]
  },
  {
   "cell_type": "code",
   "execution_count": 111,
   "metadata": {},
   "outputs": [
    {
     "data": {
      "text/plain": [
       "Softmax.0"
      ]
     },
     "execution_count": 111,
     "metadata": {},
     "output_type": "execute_result"
    }
   ],
   "source": [
    "net.get_output_for(X_test[:1])"
   ]
  },
  {
   "cell_type": "markdown",
   "metadata": {},
   "source": [
    "Получим ответ нашей сети"
   ]
  },
  {
   "cell_type": "code",
   "execution_count": 79,
   "metadata": {},
   "outputs": [
    {
     "name": "stdout",
     "output_type": "stream",
     "text": [
      "CPU times: user 2.62 s, sys: 32 ms, total: 2.65 s\n",
      "Wall time: 2.66 s\n"
     ]
    }
   ],
   "source": [
    "%%time\n",
    "sp_output = sp_net.get_output_for(X_test[0], 100)"
   ]
  },
  {
   "cell_type": "code",
   "execution_count": 123,
   "metadata": {},
   "outputs": [
    {
     "name": "stdout",
     "output_type": "stream",
     "text": [
      "[]\n",
      "[]\n",
      "[4, 7, 9, 12, 14, 17, 20, 22, 24, 27, 29, 31, 33, 36, 39, 41, 44, 46, 49, 52, 54, 57, 60, 62, 65, 67, 69, 71, 73, 76, 78, 81, 83, 85, 87, 89, 92, 95, 98]\n",
      "[4, 6, 8, 10, 12, 14, 16, 18, 20, 22, 24, 26, 28, 30, 32, 34, 36, 38, 40, 42, 44, 46, 48, 50, 52, 54, 56, 58, 60, 62, 64, 66, 68, 70, 72, 74, 76, 78, 80, 82, 84, 86, 88, 90, 92, 94, 96, 98]\n",
      "[]\n",
      "[]\n",
      "[]\n",
      "[4, 6, 8, 10, 12, 14, 17, 20, 22, 24, 26, 28, 30, 32, 34, 36, 39, 42, 44, 46, 49, 52, 54, 57, 60, 62, 64, 66, 68, 70, 72, 74, 76, 78, 80, 83, 85, 87, 89, 92, 95, 98]\n",
      "[]\n",
      "[]\n"
     ]
    }
   ],
   "source": [
    "for out in sp_output:\n",
    "    print(out)"
   ]
  },
  {
   "cell_type": "code",
   "execution_count": 119,
   "metadata": {
    "scrolled": false
   },
   "outputs": [],
   "source": [
    "def print_output(output):\n",
    "    for i in range(len(output)):        \n",
    "        if (len(output[i]) != 0):\n",
    "            print(\" нейрон: \", i)\n",
    "            print(\" количество спайков: \", len(output[i]))\n",
    "            print(\" максимальный спайк: \", max(output[i]), \"\\n\\n\")\n"
   ]
  },
  {
   "cell_type": "code",
   "execution_count": 120,
   "metadata": {},
   "outputs": [
    {
     "name": "stdout",
     "output_type": "stream",
     "text": [
      " нейрон:  2\n",
      " количество спайков:  39\n",
      " максимальный спайк:  98 \n",
      "\n",
      "\n",
      " нейрон:  3\n",
      " количество спайков:  48\n",
      " максимальный спайк:  98 \n",
      "\n",
      "\n",
      " нейрон:  7\n",
      " количество спайков:  42\n",
      " максимальный спайк:  98 \n",
      "\n",
      "\n"
     ]
    }
   ],
   "source": [
    "print_output(sp_output)"
   ]
  },
  {
   "cell_type": "markdown",
   "metadata": {},
   "source": [
    "Видим, что наша сеть ошибается, попробуем посмотерь на выход спрятанного слоя их lasagne и выход слоя их спайковой сети"
   ]
  },
  {
   "cell_type": "code",
   "execution_count": 106,
   "metadata": {},
   "outputs": [],
   "source": [
    "nnet = fully_connected(input_X, input_shape, 1, [16], weights[:1], output=False)"
   ]
  },
  {
   "cell_type": "code",
   "execution_count": 109,
   "metadata": {},
   "outputs": [
    {
     "data": {
      "text/plain": [
       "array([ 0.13945587,  1.51803773,  0.        ,  7.29105889,  0.        ,\n",
       "        6.37645622,  6.31602227,  0.        ,  0.        ,  3.31814688,\n",
       "        1.52376701,  0.        ,  0.        ,  0.        ,  3.58917495,\n",
       "        5.32391787])"
      ]
     },
     "execution_count": 109,
     "metadata": {},
     "output_type": "execute_result"
    }
   ],
   "source": [
    "nnet.get_output_for(input=X_test[:1]).eval()"
   ]
  },
  {
   "cell_type": "code",
   "execution_count": 112,
   "metadata": {
    "collapsed": true
   },
   "outputs": [],
   "source": [
    "ssp_net = spiking_from_lasagne(nnet, 0.1)"
   ]
  },
  {
   "cell_type": "code",
   "execution_count": 114,
   "metadata": {},
   "outputs": [],
   "source": [
    "ssp_output = ssp_net.get_output_for(X_test[0], 100)"
   ]
  },
  {
   "cell_type": "code",
   "execution_count": 122,
   "metadata": {},
   "outputs": [
    {
     "name": "stdout",
     "output_type": "stream",
     "text": [
      "[2, 4, 6, 8, 10, 12, 14, 16, 18, 20, 22, 24, 26, 28, 30, 32, 34, 36, 38, 40, 42, 44, 46, 48, 50, 52, 54, 56, 58, 60, 62, 64, 66, 68, 70, 72, 74, 76, 78, 80, 82, 84, 86, 88, 90, 92, 94, 96, 98]\n",
      "[2, 4, 6, 8, 10, 12, 14, 16, 18, 20, 22, 24, 26, 28, 30, 32, 34, 36, 38, 40, 42, 44, 46, 48, 50, 52, 54, 56, 58, 60, 62, 64, 66, 68, 70, 72, 74, 76, 78, 80, 82, 84, 86, 88, 90, 92, 94, 96, 98]\n",
      "[2, 4, 6, 8, 10, 13, 16, 18, 20, 22, 24, 26, 28, 30, 32, 34, 37, 40, 42, 45, 47, 49, 51, 53, 55, 58, 60, 62, 64, 66, 68, 70, 72, 74, 76, 78, 81, 83, 85, 87, 89, 91, 93, 95, 98]\n",
      "[2, 4, 6, 8, 10, 12, 14, 16, 18, 20, 22, 24, 26, 28, 30, 32, 34, 36, 38, 40, 42, 44, 46, 48, 50, 52, 54, 56, 58, 60, 62, 64, 66, 68, 70, 72, 74, 76, 78, 80, 82, 84, 86, 88, 90, 92, 94, 96, 98]\n",
      "[]\n",
      "[2, 4, 6, 8, 10, 12, 14, 16, 18, 20, 22, 24, 26, 28, 30, 32, 34, 36, 38, 40, 42, 44, 46, 48, 50, 52, 54, 56, 58, 60, 62, 64, 66, 68, 70, 72, 74, 76, 78, 80, 82, 84, 86, 88, 90, 92, 94, 96, 98]\n",
      "[]\n",
      "[]\n",
      "[2, 4, 6, 8, 10, 12, 14, 16, 18, 20, 22, 24, 26, 28, 30, 32, 34, 36, 38, 40, 42, 44, 46, 48, 50, 52, 54, 56, 58, 60, 62, 64, 66, 68, 70, 72, 74, 76, 78, 80, 82, 84, 86, 88, 90, 92, 94, 96, 98]\n",
      "[2, 4, 6, 8, 10, 12, 14, 16, 18, 20, 22, 24, 26, 28, 30, 32, 34, 36, 38, 40, 42, 44, 46, 48, 50, 52, 54, 56, 58, 60, 62, 64, 66, 68, 70, 72, 74, 76, 78, 80, 82, 84, 86, 88, 90, 92, 94, 96, 98]\n",
      "[2, 5, 7, 10, 12, 15, 18, 20, 22, 25, 27, 29, 31, 34, 37, 39, 42, 44, 47, 50, 52, 55, 58, 60, 63, 65, 67, 69, 71, 74, 76, 79, 81, 83, 85, 87, 90, 93, 96, 99]\n",
      "[2, 4, 6, 8, 10, 12, 14, 16, 18, 20, 22, 24, 26, 28, 30, 32, 34, 36, 38, 40, 42, 44, 46, 48, 50, 52, 54, 56, 58, 60, 62, 64, 66, 68, 70, 72, 74, 76, 78, 80, 82, 84, 86, 88, 90, 92, 94, 96, 98]\n",
      "[2, 4, 6, 8, 10, 12, 14, 16, 18, 20, 22, 24, 26, 28, 30, 32, 34, 36, 38, 40, 42, 44, 46, 48, 50, 52, 54, 56, 58, 60, 62, 64, 66, 68, 70, 72, 74, 76, 78, 80, 82, 84, 86, 88, 90, 92, 94, 96, 98]\n",
      "[2, 4, 6, 8, 10, 12, 14, 16, 18, 20, 22, 24, 26, 28, 30, 32, 34, 36, 38, 40, 42, 44, 46, 48, 50, 52, 54, 56, 58, 60, 62, 64, 66, 68, 70, 72, 74, 76, 78, 80, 82, 84, 86, 88, 90, 92, 94, 96, 98]\n",
      "[]\n",
      "[2, 4, 6, 8, 10, 12, 14, 16, 18, 20, 22, 24, 26, 28, 30, 32, 34, 36, 38, 40, 42, 44, 46, 48, 50, 52, 54, 56, 58, 60, 62, 64, 66, 68, 70, 72, 74, 76, 78, 80, 82, 84, 86, 88, 90, 92, 94, 96, 99]\n"
     ]
    }
   ],
   "source": [
    "for out in ssp_output:\n",
    "    print(out)"
   ]
  },
  {
   "cell_type": "code",
   "execution_count": 121,
   "metadata": {},
   "outputs": [
    {
     "name": "stdout",
     "output_type": "stream",
     "text": [
      " нейрон:  0\n",
      " количество спайков:  49\n",
      " максимальный спайк:  98 \n",
      "\n",
      "\n",
      " нейрон:  1\n",
      " количество спайков:  49\n",
      " максимальный спайк:  98 \n",
      "\n",
      "\n",
      " нейрон:  2\n",
      " количество спайков:  45\n",
      " максимальный спайк:  98 \n",
      "\n",
      "\n",
      " нейрон:  3\n",
      " количество спайков:  49\n",
      " максимальный спайк:  98 \n",
      "\n",
      "\n",
      " нейрон:  5\n",
      " количество спайков:  49\n",
      " максимальный спайк:  98 \n",
      "\n",
      "\n",
      " нейрон:  8\n",
      " количество спайков:  49\n",
      " максимальный спайк:  98 \n",
      "\n",
      "\n",
      " нейрон:  9\n",
      " количество спайков:  49\n",
      " максимальный спайк:  98 \n",
      "\n",
      "\n",
      " нейрон:  10\n",
      " количество спайков:  40\n",
      " максимальный спайк:  99 \n",
      "\n",
      "\n",
      " нейрон:  11\n",
      " количество спайков:  49\n",
      " максимальный спайк:  98 \n",
      "\n",
      "\n",
      " нейрон:  12\n",
      " количество спайков:  49\n",
      " максимальный спайк:  98 \n",
      "\n",
      "\n",
      " нейрон:  13\n",
      " количество спайков:  49\n",
      " максимальный спайк:  98 \n",
      "\n",
      "\n",
      " нейрон:  15\n",
      " количество спайков:  49\n",
      " максимальный спайк:  99 \n",
      "\n",
      "\n"
     ]
    }
   ],
   "source": [
    "print_output(ssp_output)"
   ]
  },
  {
   "cell_type": "code",
   "execution_count": null,
   "metadata": {
    "collapsed": true
   },
   "outputs": [],
   "source": []
  }
 ],
 "metadata": {
  "kernelspec": {
   "display_name": "Python 3",
   "language": "python",
   "name": "python3"
  },
  "language_info": {
   "codemirror_mode": {
    "name": "ipython",
    "version": 3
   },
   "file_extension": ".py",
   "mimetype": "text/x-python",
   "name": "python",
   "nbconvert_exporter": "python",
   "pygments_lexer": "ipython3",
   "version": "3.5.2"
  }
 },
 "nbformat": 4,
 "nbformat_minor": 2
}
