{
 "cells": [
  {
   "cell_type": "code",
   "execution_count": 1,
   "metadata": {
    "collapsed": true,
    "scrolled": false
   },
   "outputs": [],
   "source": [
    "%run fully_connected_for_mnist.ipynb"
   ]
  },
  {
   "cell_type": "code",
   "execution_count": 2,
   "metadata": {
    "collapsed": true
   },
   "outputs": [],
   "source": [
    "import matplotlib.pyplot as plt\n",
    "%matplotlib inline"
   ]
  },
  {
   "cell_type": "code",
   "execution_count": 3,
   "metadata": {
    "collapsed": true
   },
   "outputs": [],
   "source": [
    "from mnist import load_dataset\n",
    "X_train,y_train,X_val,y_val,X_test,y_test = load_dataset()"
   ]
  },
  {
   "cell_type": "code",
   "execution_count": 4,
   "metadata": {
    "collapsed": true
   },
   "outputs": [],
   "source": [
    "input_X = T.tensor4(\"X\")\n",
    "input_shape = [None,1,28,28]\n",
    "target_y = T.vector(\"target Y integer\",dtype='int32')"
   ]
  },
  {
   "cell_type": "markdown",
   "metadata": {},
   "source": [
    "##### Создадим простую полносвязную сеть с тремя скрытыми слоями с 32, 32, 64 нейронами"
   ]
  },
  {
   "cell_type": "code",
   "execution_count": 5,
   "metadata": {
    "collapsed": true
   },
   "outputs": [],
   "source": [
    "net = fully_connected(input_X, input_shape, num_layers=3, num_units=[32, 32, 64])\n",
    "train_fun, acc_fun = set_train_fun(net, input_X, target_y)"
   ]
  },
  {
   "cell_type": "markdown",
   "metadata": {},
   "source": [
    "Обучим её на небольшом количестве эпох"
   ]
  },
  {
   "cell_type": "code",
   "execution_count": 6,
   "metadata": {},
   "outputs": [
    {
     "name": "stderr",
     "output_type": "stream",
     "text": [
      "  2%|▏         | 1/50 [00:01<00:51,  1.05s/it]"
     ]
    },
    {
     "name": "stdout",
     "output_type": "stream",
     "text": [
      "Epoch 1 of 50 took 1.045s\n",
      "  training loss (in-iteration):\t\t0.393314\n",
      "  train accuracy:\t\t88.27 %\n",
      "  validation accuracy:\t\t94.20 %\n"
     ]
    },
    {
     "name": "stderr",
     "output_type": "stream",
     "text": [
      "\r",
      "  4%|▍         | 2/50 [00:02<00:48,  1.02s/it]"
     ]
    },
    {
     "name": "stdout",
     "output_type": "stream",
     "text": [
      "Epoch 2 of 50 took 0.960s\n",
      "  training loss (in-iteration):\t\t0.184534\n",
      "  train accuracy:\t\t94.59 %\n",
      "  validation accuracy:\t\t95.83 %\n"
     ]
    },
    {
     "name": "stderr",
     "output_type": "stream",
     "text": [
      "\r",
      "  6%|▌         | 3/50 [00:03<00:47,  1.01s/it]"
     ]
    },
    {
     "name": "stdout",
     "output_type": "stream",
     "text": [
      "Epoch 3 of 50 took 0.996s\n",
      "  training loss (in-iteration):\t\t0.143124\n",
      "  train accuracy:\t\t95.75 %\n",
      "  validation accuracy:\t\t95.84 %\n"
     ]
    },
    {
     "name": "stderr",
     "output_type": "stream",
     "text": [
      "\r",
      "  8%|▊         | 4/50 [00:03<00:46,  1.00s/it]"
     ]
    },
    {
     "name": "stdout",
     "output_type": "stream",
     "text": [
      "Epoch 4 of 50 took 0.983s\n",
      "  training loss (in-iteration):\t\t0.119363\n",
      "  train accuracy:\t\t96.38 %\n",
      "  validation accuracy:\t\t95.93 %\n"
     ]
    },
    {
     "name": "stderr",
     "output_type": "stream",
     "text": [
      "\r",
      " 10%|█         | 5/50 [00:05<00:47,  1.05s/it]"
     ]
    },
    {
     "name": "stdout",
     "output_type": "stream",
     "text": [
      "Epoch 5 of 50 took 1.159s\n",
      "  training loss (in-iteration):\t\t0.100603\n",
      "  train accuracy:\t\t96.92 %\n",
      "  validation accuracy:\t\t96.31 %\n"
     ]
    },
    {
     "name": "stderr",
     "output_type": "stream",
     "text": [
      "\r",
      " 12%|█▏        | 6/50 [00:06<00:45,  1.02s/it]"
     ]
    },
    {
     "name": "stdout",
     "output_type": "stream",
     "text": [
      "Epoch 6 of 50 took 0.955s\n",
      "  training loss (in-iteration):\t\t0.089260\n",
      "  train accuracy:\t\t97.25 %\n",
      "  validation accuracy:\t\t96.38 %\n"
     ]
    },
    {
     "name": "stderr",
     "output_type": "stream",
     "text": [
      "\r",
      " 14%|█▍        | 7/50 [00:07<00:43,  1.00s/it]"
     ]
    },
    {
     "name": "stdout",
     "output_type": "stream",
     "text": [
      "Epoch 7 of 50 took 0.955s\n",
      "  training loss (in-iteration):\t\t0.081778\n",
      "  train accuracy:\t\t97.42 %\n",
      "  validation accuracy:\t\t96.65 %\n"
     ]
    },
    {
     "name": "stderr",
     "output_type": "stream",
     "text": [
      "\r",
      " 16%|█▌        | 8/50 [00:08<00:41,  1.00it/s]"
     ]
    },
    {
     "name": "stdout",
     "output_type": "stream",
     "text": [
      "Epoch 8 of 50 took 0.979s\n",
      "  training loss (in-iteration):\t\t0.071421\n",
      "  train accuracy:\t\t97.73 %\n",
      "  validation accuracy:\t\t96.68 %\n"
     ]
    },
    {
     "name": "stderr",
     "output_type": "stream",
     "text": [
      "\r",
      " 18%|█▊        | 9/50 [00:09<00:40,  1.01it/s]"
     ]
    },
    {
     "name": "stdout",
     "output_type": "stream",
     "text": [
      "Epoch 9 of 50 took 0.983s\n",
      "  training loss (in-iteration):\t\t0.065015\n",
      "  train accuracy:\t\t97.93 %\n",
      "  validation accuracy:\t\t96.78 %\n"
     ]
    },
    {
     "name": "stderr",
     "output_type": "stream",
     "text": [
      "\r",
      " 20%|██        | 10/50 [00:10<00:42,  1.06s/it]"
     ]
    },
    {
     "name": "stdout",
     "output_type": "stream",
     "text": [
      "Epoch 10 of 50 took 1.208s\n",
      "  training loss (in-iteration):\t\t0.059533\n",
      "  train accuracy:\t\t98.06 %\n",
      "  validation accuracy:\t\t96.41 %\n"
     ]
    },
    {
     "name": "stderr",
     "output_type": "stream",
     "text": [
      "\r",
      " 22%|██▏       | 11/50 [00:11<00:41,  1.06s/it]"
     ]
    },
    {
     "name": "stdout",
     "output_type": "stream",
     "text": [
      "Epoch 11 of 50 took 1.048s\n",
      "  training loss (in-iteration):\t\t0.054660\n",
      "  train accuracy:\t\t98.26 %\n",
      "  validation accuracy:\t\t96.29 %\n"
     ]
    },
    {
     "name": "stderr",
     "output_type": "stream",
     "text": [
      "\r",
      " 24%|██▍       | 12/50 [00:12<00:39,  1.04s/it]"
     ]
    },
    {
     "name": "stdout",
     "output_type": "stream",
     "text": [
      "Epoch 12 of 50 took 0.994s\n",
      "  training loss (in-iteration):\t\t0.049775\n",
      "  train accuracy:\t\t98.37 %\n",
      "  validation accuracy:\t\t96.68 %\n"
     ]
    },
    {
     "name": "stderr",
     "output_type": "stream",
     "text": [
      "\r",
      " 26%|██▌       | 13/50 [00:13<00:39,  1.06s/it]"
     ]
    },
    {
     "name": "stdout",
     "output_type": "stream",
     "text": [
      "Epoch 13 of 50 took 1.121s\n",
      "  training loss (in-iteration):\t\t0.046760\n",
      "  train accuracy:\t\t98.45 %\n",
      "  validation accuracy:\t\t96.95 %\n"
     ]
    },
    {
     "name": "stderr",
     "output_type": "stream",
     "text": [
      "\r",
      " 28%|██▊       | 14/50 [00:14<00:37,  1.05s/it]"
     ]
    },
    {
     "name": "stdout",
     "output_type": "stream",
     "text": [
      "Epoch 14 of 50 took 1.022s\n",
      "  training loss (in-iteration):\t\t0.043158\n",
      "  train accuracy:\t\t98.57 %\n",
      "  validation accuracy:\t\t96.60 %\n"
     ]
    },
    {
     "name": "stderr",
     "output_type": "stream",
     "text": [
      "\r",
      " 30%|███       | 15/50 [00:15<00:38,  1.11s/it]"
     ]
    },
    {
     "name": "stdout",
     "output_type": "stream",
     "text": [
      "Epoch 15 of 50 took 1.241s\n",
      "  training loss (in-iteration):\t\t0.041712\n",
      "  train accuracy:\t\t98.64 %\n",
      "  validation accuracy:\t\t97.06 %\n"
     ]
    },
    {
     "name": "stderr",
     "output_type": "stream",
     "text": [
      "\r",
      " 32%|███▏      | 16/50 [00:16<00:36,  1.07s/it]"
     ]
    },
    {
     "name": "stdout",
     "output_type": "stream",
     "text": [
      "Epoch 16 of 50 took 0.982s\n",
      "  training loss (in-iteration):\t\t0.036587\n",
      "  train accuracy:\t\t98.78 %\n",
      "  validation accuracy:\t\t96.79 %\n"
     ]
    },
    {
     "name": "stderr",
     "output_type": "stream",
     "text": [
      "\r",
      " 34%|███▍      | 17/50 [00:17<00:34,  1.05s/it]"
     ]
    },
    {
     "name": "stdout",
     "output_type": "stream",
     "text": [
      "Epoch 17 of 50 took 0.989s\n",
      "  training loss (in-iteration):\t\t0.033643\n",
      "  train accuracy:\t\t98.89 %\n",
      "  validation accuracy:\t\t97.11 %\n"
     ]
    },
    {
     "name": "stderr",
     "output_type": "stream",
     "text": [
      "\r",
      " 36%|███▌      | 18/50 [00:18<00:32,  1.03s/it]"
     ]
    },
    {
     "name": "stdout",
     "output_type": "stream",
     "text": [
      "Epoch 18 of 50 took 0.981s\n",
      "  training loss (in-iteration):\t\t0.033635\n",
      "  train accuracy:\t\t98.96 %\n",
      "  validation accuracy:\t\t96.99 %\n"
     ]
    },
    {
     "name": "stderr",
     "output_type": "stream",
     "text": [
      "\r",
      " 38%|███▊      | 19/50 [00:19<00:33,  1.06s/it]"
     ]
    },
    {
     "name": "stdout",
     "output_type": "stream",
     "text": [
      "Epoch 19 of 50 took 1.150s\n",
      "  training loss (in-iteration):\t\t0.029442\n",
      "  train accuracy:\t\t99.02 %\n",
      "  validation accuracy:\t\t96.75 %\n"
     ]
    },
    {
     "name": "stderr",
     "output_type": "stream",
     "text": [
      "\r",
      " 40%|████      | 20/50 [00:20<00:31,  1.06s/it]"
     ]
    },
    {
     "name": "stdout",
     "output_type": "stream",
     "text": [
      "Epoch 20 of 50 took 1.045s\n",
      "  training loss (in-iteration):\t\t0.028492\n",
      "  train accuracy:\t\t99.08 %\n",
      "  validation accuracy:\t\t96.87 %\n"
     ]
    },
    {
     "name": "stderr",
     "output_type": "stream",
     "text": [
      "\r",
      " 42%|████▏     | 21/50 [00:21<00:30,  1.04s/it]"
     ]
    },
    {
     "name": "stdout",
     "output_type": "stream",
     "text": [
      "Epoch 21 of 50 took 0.990s\n",
      "  training loss (in-iteration):\t\t0.028729\n",
      "  train accuracy:\t\t99.08 %\n",
      "  validation accuracy:\t\t96.69 %\n"
     ]
    },
    {
     "name": "stderr",
     "output_type": "stream",
     "text": [
      "\r",
      " 44%|████▍     | 22/50 [00:22<00:29,  1.04s/it]"
     ]
    },
    {
     "name": "stdout",
     "output_type": "stream",
     "text": [
      "Epoch 22 of 50 took 1.028s\n",
      "  training loss (in-iteration):\t\t0.027259\n",
      "  train accuracy:\t\t99.10 %\n",
      "  validation accuracy:\t\t96.98 %\n"
     ]
    },
    {
     "name": "stderr",
     "output_type": "stream",
     "text": [
      "\r",
      " 46%|████▌     | 23/50 [00:23<00:27,  1.03s/it]"
     ]
    },
    {
     "name": "stdout",
     "output_type": "stream",
     "text": [
      "Epoch 23 of 50 took 1.005s\n",
      "  training loss (in-iteration):\t\t0.024979\n",
      "  train accuracy:\t\t99.14 %\n",
      "  validation accuracy:\t\t96.65 %\n"
     ]
    },
    {
     "name": "stderr",
     "output_type": "stream",
     "text": [
      "\r",
      " 48%|████▊     | 24/50 [00:25<00:28,  1.09s/it]"
     ]
    },
    {
     "name": "stdout",
     "output_type": "stream",
     "text": [
      "Epoch 24 of 50 took 1.219s\n",
      "  training loss (in-iteration):\t\t0.022446\n",
      "  train accuracy:\t\t99.26 %\n",
      "  validation accuracy:\t\t96.95 %\n"
     ]
    },
    {
     "name": "stderr",
     "output_type": "stream",
     "text": [
      "\r",
      " 50%|█████     | 25/50 [00:26<00:26,  1.06s/it]"
     ]
    },
    {
     "name": "stdout",
     "output_type": "stream",
     "text": [
      "Epoch 25 of 50 took 1.004s\n",
      "  training loss (in-iteration):\t\t0.021189\n",
      "  train accuracy:\t\t99.29 %\n",
      "  validation accuracy:\t\t96.99 %\n"
     ]
    },
    {
     "name": "stderr",
     "output_type": "stream",
     "text": [
      "\r",
      " 52%|█████▏    | 26/50 [00:27<00:24,  1.04s/it]"
     ]
    },
    {
     "name": "stdout",
     "output_type": "stream",
     "text": [
      "Epoch 26 of 50 took 0.980s\n",
      "  training loss (in-iteration):\t\t0.021068\n",
      "  train accuracy:\t\t99.26 %\n",
      "  validation accuracy:\t\t96.21 %\n"
     ]
    },
    {
     "name": "stderr",
     "output_type": "stream",
     "text": [
      "\r",
      " 54%|█████▍    | 27/50 [00:28<00:24,  1.07s/it]"
     ]
    },
    {
     "name": "stdout",
     "output_type": "stream",
     "text": [
      "Epoch 27 of 50 took 1.144s\n",
      "  training loss (in-iteration):\t\t0.022535\n",
      "  train accuracy:\t\t99.26 %\n",
      "  validation accuracy:\t\t96.65 %\n"
     ]
    },
    {
     "name": "stderr",
     "output_type": "stream",
     "text": [
      "\r",
      " 56%|█████▌    | 28/50 [00:29<00:23,  1.09s/it]"
     ]
    },
    {
     "name": "stdout",
     "output_type": "stream",
     "text": [
      "Epoch 28 of 50 took 1.135s\n",
      "  training loss (in-iteration):\t\t0.020587\n",
      "  train accuracy:\t\t99.34 %\n",
      "  validation accuracy:\t\t96.73 %\n"
     ]
    },
    {
     "name": "stderr",
     "output_type": "stream",
     "text": [
      "\r",
      " 58%|█████▊    | 29/50 [00:30<00:23,  1.13s/it]"
     ]
    },
    {
     "name": "stdout",
     "output_type": "stream",
     "text": [
      "Epoch 29 of 50 took 1.213s\n",
      "  training loss (in-iteration):\t\t0.019638\n",
      "  train accuracy:\t\t99.34 %\n",
      "  validation accuracy:\t\t96.42 %\n"
     ]
    },
    {
     "name": "stderr",
     "output_type": "stream",
     "text": [
      "\r",
      " 60%|██████    | 30/50 [00:31<00:21,  1.09s/it]"
     ]
    },
    {
     "name": "stdout",
     "output_type": "stream",
     "text": [
      "Epoch 30 of 50 took 1.010s\n",
      "  training loss (in-iteration):\t\t0.022531\n",
      "  train accuracy:\t\t99.22 %\n",
      "  validation accuracy:\t\t96.76 %\n"
     ]
    },
    {
     "name": "stderr",
     "output_type": "stream",
     "text": [
      "\r",
      " 62%|██████▏   | 31/50 [00:32<00:20,  1.08s/it]"
     ]
    },
    {
     "name": "stdout",
     "output_type": "stream",
     "text": [
      "Epoch 31 of 50 took 1.055s\n",
      "  training loss (in-iteration):\t\t0.016273\n",
      "  train accuracy:\t\t99.47 %\n",
      "  validation accuracy:\t\t96.89 %\n"
     ]
    },
    {
     "name": "stderr",
     "output_type": "stream",
     "text": [
      "\r",
      " 64%|██████▍   | 32/50 [00:33<00:18,  1.05s/it]"
     ]
    },
    {
     "name": "stdout",
     "output_type": "stream",
     "text": [
      "Epoch 32 of 50 took 0.990s\n",
      "  training loss (in-iteration):\t\t0.019700\n",
      "  train accuracy:\t\t99.30 %\n",
      "  validation accuracy:\t\t96.91 %\n"
     ]
    },
    {
     "name": "stderr",
     "output_type": "stream",
     "text": [
      "\r",
      " 66%|██████▌   | 33/50 [00:34<00:18,  1.08s/it]"
     ]
    },
    {
     "name": "stdout",
     "output_type": "stream",
     "text": [
      "Epoch 33 of 50 took 1.154s\n",
      "  training loss (in-iteration):\t\t0.018554\n",
      "  train accuracy:\t\t99.39 %\n",
      "  validation accuracy:\t\t96.91 %\n"
     ]
    },
    {
     "name": "stderr",
     "output_type": "stream",
     "text": [
      "\r",
      " 68%|██████▊   | 34/50 [00:35<00:17,  1.06s/it]"
     ]
    },
    {
     "name": "stdout",
     "output_type": "stream",
     "text": [
      "Epoch 34 of 50 took 1.011s\n",
      "  training loss (in-iteration):\t\t0.015215\n",
      "  train accuracy:\t\t99.49 %\n",
      "  validation accuracy:\t\t97.00 %\n"
     ]
    },
    {
     "name": "stderr",
     "output_type": "stream",
     "text": [
      "\r",
      " 70%|███████   | 35/50 [00:36<00:15,  1.04s/it]"
     ]
    },
    {
     "name": "stdout",
     "output_type": "stream",
     "text": [
      "Epoch 35 of 50 took 0.970s\n",
      "  training loss (in-iteration):\t\t0.016771\n",
      "  train accuracy:\t\t99.39 %\n",
      "  validation accuracy:\t\t96.96 %\n"
     ]
    },
    {
     "name": "stderr",
     "output_type": "stream",
     "text": [
      "\r",
      " 72%|███████▏  | 36/50 [00:37<00:14,  1.02s/it]"
     ]
    },
    {
     "name": "stdout",
     "output_type": "stream",
     "text": [
      "Epoch 36 of 50 took 0.978s\n",
      "  training loss (in-iteration):\t\t0.015943\n",
      "  train accuracy:\t\t99.48 %\n",
      "  validation accuracy:\t\t97.00 %\n"
     ]
    },
    {
     "name": "stderr",
     "output_type": "stream",
     "text": [
      "\r",
      " 74%|███████▍  | 37/50 [00:38<00:13,  1.01s/it]"
     ]
    },
    {
     "name": "stdout",
     "output_type": "stream",
     "text": [
      "Epoch 37 of 50 took 0.984s\n",
      "  training loss (in-iteration):\t\t0.011243\n",
      "  train accuracy:\t\t99.59 %\n",
      "  validation accuracy:\t\t96.67 %\n"
     ]
    },
    {
     "name": "stderr",
     "output_type": "stream",
     "text": [
      "\r",
      " 76%|███████▌  | 38/50 [00:39<00:12,  1.06s/it]"
     ]
    },
    {
     "name": "stdout",
     "output_type": "stream",
     "text": [
      "Epoch 38 of 50 took 1.169s\n",
      "  training loss (in-iteration):\t\t0.016000\n",
      "  train accuracy:\t\t99.48 %\n",
      "  validation accuracy:\t\t97.09 %\n"
     ]
    },
    {
     "name": "stderr",
     "output_type": "stream",
     "text": [
      "\r",
      " 78%|███████▊  | 39/50 [00:40<00:11,  1.04s/it]"
     ]
    },
    {
     "name": "stdout",
     "output_type": "stream",
     "text": [
      "Epoch 39 of 50 took 0.994s\n",
      "  training loss (in-iteration):\t\t0.012520\n",
      "  train accuracy:\t\t99.59 %\n",
      "  validation accuracy:\t\t96.69 %\n"
     ]
    },
    {
     "name": "stderr",
     "output_type": "stream",
     "text": [
      "\r",
      " 80%|████████  | 40/50 [00:41<00:10,  1.04s/it]"
     ]
    },
    {
     "name": "stdout",
     "output_type": "stream",
     "text": [
      "Epoch 40 of 50 took 1.026s\n",
      "  training loss (in-iteration):\t\t0.019260\n",
      "  train accuracy:\t\t99.36 %\n",
      "  validation accuracy:\t\t96.79 %\n"
     ]
    },
    {
     "name": "stderr",
     "output_type": "stream",
     "text": [
      "\r",
      " 82%|████████▏ | 41/50 [00:42<00:09,  1.03s/it]"
     ]
    },
    {
     "name": "stdout",
     "output_type": "stream",
     "text": [
      "Epoch 41 of 50 took 1.012s\n",
      "  training loss (in-iteration):\t\t0.014601\n",
      "  train accuracy:\t\t99.48 %\n",
      "  validation accuracy:\t\t96.83 %\n"
     ]
    },
    {
     "name": "stderr",
     "output_type": "stream",
     "text": [
      "\r",
      " 84%|████████▍ | 42/50 [00:43<00:08,  1.03s/it]"
     ]
    },
    {
     "name": "stdout",
     "output_type": "stream",
     "text": [
      "Epoch 42 of 50 took 1.032s\n",
      "  training loss (in-iteration):\t\t0.009920\n",
      "  train accuracy:\t\t99.66 %\n",
      "  validation accuracy:\t\t96.87 %\n"
     ]
    },
    {
     "name": "stderr",
     "output_type": "stream",
     "text": [
      "\r",
      " 86%|████████▌ | 43/50 [00:45<00:07,  1.08s/it]"
     ]
    },
    {
     "name": "stdout",
     "output_type": "stream",
     "text": [
      "Epoch 43 of 50 took 1.190s\n",
      "  training loss (in-iteration):\t\t0.015509\n",
      "  train accuracy:\t\t99.43 %\n",
      "  validation accuracy:\t\t96.63 %\n"
     ]
    },
    {
     "name": "stderr",
     "output_type": "stream",
     "text": [
      "\r",
      " 88%|████████▊ | 44/50 [00:46<00:06,  1.07s/it]"
     ]
    },
    {
     "name": "stdout",
     "output_type": "stream",
     "text": [
      "Epoch 44 of 50 took 1.044s\n",
      "  training loss (in-iteration):\t\t0.014411\n",
      "  train accuracy:\t\t99.51 %\n",
      "  validation accuracy:\t\t96.54 %\n"
     ]
    },
    {
     "name": "stderr",
     "output_type": "stream",
     "text": [
      "\r",
      " 90%|█████████ | 45/50 [00:47<00:05,  1.04s/it]"
     ]
    },
    {
     "name": "stdout",
     "output_type": "stream",
     "text": [
      "Epoch 45 of 50 took 0.987s\n",
      "  training loss (in-iteration):\t\t0.011488\n",
      "  train accuracy:\t\t99.62 %\n",
      "  validation accuracy:\t\t96.80 %\n"
     ]
    },
    {
     "name": "stderr",
     "output_type": "stream",
     "text": [
      "\r",
      " 92%|█████████▏| 46/50 [00:48<00:04,  1.03s/it]"
     ]
    },
    {
     "name": "stdout",
     "output_type": "stream",
     "text": [
      "Epoch 46 of 50 took 1.003s\n",
      "  training loss (in-iteration):\t\t0.012819\n",
      "  train accuracy:\t\t99.59 %\n",
      "  validation accuracy:\t\t96.98 %\n"
     ]
    },
    {
     "name": "stderr",
     "output_type": "stream",
     "text": [
      "\r",
      " 94%|█████████▍| 47/50 [00:49<00:03,  1.02s/it]"
     ]
    },
    {
     "name": "stdout",
     "output_type": "stream",
     "text": [
      "Epoch 47 of 50 took 1.000s\n",
      "  training loss (in-iteration):\t\t0.013536\n",
      "  train accuracy:\t\t99.55 %\n",
      "  validation accuracy:\t\t97.04 %\n"
     ]
    },
    {
     "name": "stderr",
     "output_type": "stream",
     "text": [
      "\r",
      " 96%|█████████▌| 48/50 [00:50<00:02,  1.07s/it]"
     ]
    },
    {
     "name": "stdout",
     "output_type": "stream",
     "text": [
      "Epoch 48 of 50 took 1.191s\n",
      "  training loss (in-iteration):\t\t0.012472\n",
      "  train accuracy:\t\t99.58 %\n",
      "  validation accuracy:\t\t96.90 %\n"
     ]
    },
    {
     "name": "stderr",
     "output_type": "stream",
     "text": [
      "\r",
      " 98%|█████████▊| 49/50 [00:51<00:01,  1.05s/it]"
     ]
    },
    {
     "name": "stdout",
     "output_type": "stream",
     "text": [
      "Epoch 49 of 50 took 0.976s\n",
      "  training loss (in-iteration):\t\t0.010924\n",
      "  train accuracy:\t\t99.62 %\n",
      "  validation accuracy:\t\t96.79 %\n"
     ]
    },
    {
     "name": "stderr",
     "output_type": "stream",
     "text": [
      "\r",
      "100%|██████████| 50/50 [00:52<00:00,  1.02s/it]"
     ]
    },
    {
     "name": "stdout",
     "output_type": "stream",
     "text": [
      "Epoch 50 of 50 took 0.974s\n",
      "  training loss (in-iteration):\t\t0.011510\n",
      "  train accuracy:\t\t99.64 %\n",
      "  validation accuracy:\t\t96.91 %\n",
      "CPU times: user 2min 24s, sys: 4min 20s, total: 6min 44s\n",
      "Wall time: 52.3 s\n"
     ]
    },
    {
     "name": "stderr",
     "output_type": "stream",
     "text": [
      "\n"
     ]
    }
   ],
   "source": [
    "%%time\n",
    "train(net, train_fun, acc_fun, X_train, y_train, X_val, y_val)"
   ]
  },
  {
   "cell_type": "code",
   "execution_count": 7,
   "metadata": {
    "scrolled": false
   },
   "outputs": [
    {
     "name": "stdout",
     "output_type": "stream",
     "text": [
      "Final results:\n",
      "  test accuracy:\t\t97.00 %\n"
     ]
    }
   ],
   "source": [
    "# посмтотрим на точность\n",
    "test(X_test, y_test, acc_fun)"
   ]
  },
  {
   "cell_type": "markdown",
   "metadata": {},
   "source": [
    "##### Создаем спайковую сеть с такой же конфигурацией"
   ]
  },
  {
   "cell_type": "code",
   "execution_count": 8,
   "metadata": {},
   "outputs": [
    {
     "name": "stdout",
     "output_type": "stream",
     "text": [
      "<function fixed_frequency_spike_train at 0x7ffa528d1f28>\n"
     ]
    }
   ],
   "source": [
    "%run SNN_ann.ipynb"
   ]
  },
  {
   "cell_type": "code",
   "execution_count": 9,
   "metadata": {
    "collapsed": true
   },
   "outputs": [],
   "source": [
    "thr = 0.1"
   ]
  },
  {
   "cell_type": "code",
   "execution_count": 10,
   "metadata": {
    "collapsed": true
   },
   "outputs": [],
   "source": [
    "sp_net = spiking_from_lasagne(net, thr)"
   ]
  },
  {
   "cell_type": "markdown",
   "metadata": {},
   "source": [
    "Попробуем найти образ, на котором не ошибается сеть из lasagne, но ошибается наша сеть"
   ]
  },
  {
   "cell_type": "code",
   "execution_count": 11,
   "metadata": {
    "scrolled": true
   },
   "outputs": [
    {
     "name": "stdout",
     "output_type": "stream",
     "text": [
      " правильный ответ:  7\n"
     ]
    },
    {
     "data": {
      "image/png": "[encoded data removed]",
      "text/plain": [
       "<matplotlib.figure.Figure at 0x7ffa486c5198>"
      ]
     },
     "metadata": {},
     "output_type": "display_data"
    }
   ],
   "source": [
    "plt.imshow(X_test[0, 0])\n",
    "print(\" правильный ответ: \", y_test[0])"
   ]
  },
  {
   "cell_type": "code",
   "execution_count": 12,
   "metadata": {},
   "outputs": [
    {
     "name": "stdout",
     "output_type": "stream",
     "text": [
      "1.0\n"
     ]
    }
   ],
   "source": [
    "# посмотрим, ошибается ли сеть из lasagne на первом образе\n",
    "print(acc_fun(X_test[:1], y_test[:1]))"
   ]
  },
  {
   "cell_type": "code",
   "execution_count": 13,
   "metadata": {
    "collapsed": true
   },
   "outputs": [],
   "source": [
    "# вероятности, которые выдаёт сеть из lasagne\n",
    "probs = lasagne.layers.get_output(net, X_test[0]).eval()"
   ]
  },
  {
   "cell_type": "markdown",
   "metadata": {},
   "source": [
    "##### Получим выход нашей сети для времени $t=300$. Номер нейрона на последнем слое - класс, к которому будет отнесена картинка"
   ]
  },
  {
   "cell_type": "code",
   "execution_count": 14,
   "metadata": {
    "collapsed": true
   },
   "outputs": [],
   "source": [
    "t=300"
   ]
  },
  {
   "cell_type": "code",
   "execution_count": 15,
   "metadata": {},
   "outputs": [
    {
     "name": "stdout",
     "output_type": "stream",
     "text": [
      "CPU times: user 26.5 s, sys: 672 ms, total: 27.2 s\n",
      "Wall time: 28.1 s\n"
     ]
    }
   ],
   "source": [
    "%%time\n",
    "sp_output = sp_net.get_output_for(X_test[0], t)"
   ]
  },
  {
   "cell_type": "code",
   "execution_count": 16,
   "metadata": {
    "scrolled": false
   },
   "outputs": [
    {
     "name": "stdout",
     "output_type": "stream",
     "text": [
      "нейрон --> 0  выход -->  []\n",
      "нейрон --> 1  выход -->  []\n",
      "нейрон --> 2  выход -->  [21, 37, 56, 111, 127, 130, 150, 154, 183, 193, 199, 207, 215, 228, 263, 272, 274, 280, 294]\n",
      "нейрон --> 3  выход -->  [8, 18, 27, 32, 40, 46, 56, 65, 80, 91, 93, 102, 109, 112, 116, 121, 124, 129, 133, 138, 142, 147, 154, 180, 184, 188, 204, 219, 222, 227, 232, 238, 249, 255, 260, 275, 279, 284, 286, 291]\n",
      "нейрон --> 4  выход -->  []\n",
      "нейрон --> 5  выход -->  [34, 42, 49, 55, 61, 65, 75, 78, 83, 91, 93, 98, 113, 125, 127, 133, 161, 165, 169, 192, 204, 208, 210, 215, 235, 239, 255, 259, 264, 268, 290, 296, 299]\n",
      "нейрон --> 6  выход -->  []\n",
      "нейрон --> 7  выход -->  [10, 12, 14, 17, 20, 22, 24, 28, 30, 32, 35, 39, 42, 45, 50, 55, 57, 61, 64, 66, 69, 72, 74, 76, 78, 81, 86, 88, 90, 93, 96, 101, 105, 107, 110, 113, 117, 120, 124, 126, 129, 131, 134, 139, 143, 147, 152, 156, 159, 162, 166, 169, 173, 177, 179, 183, 187, 191, 195, 198, 201, 205, 208, 210, 213, 217, 220, 224, 228, 231, 236, 239, 242, 245, 248, 251, 254, 258, 261, 265, 268, 270, 272, 274, 276, 282, 286, 290, 292, 296, 299]\n",
      "нейрон --> 8  выход -->  [9]\n",
      "нейрон --> 9  выход -->  [9, 77, 142, 185, 222, 261, 296]\n"
     ]
    }
   ],
   "source": [
    "for i, out in enumerate(sp_output):\n",
    "    print(\"нейрон -->\", i, \" выход --> \", out)"
   ]
  },
  {
   "cell_type": "markdown",
   "metadata": {},
   "source": [
    "##### Попробуем посмотреть на характеристики выхода каждого нейрона, такие как время последнего спайка, время первого спайка, количество спайков, их частота и на ответ сети из lasagne"
   ]
  },
  {
   "cell_type": "code",
   "execution_count": 17,
   "metadata": {
    "collapsed": true,
    "scrolled": false
   },
   "outputs": [],
   "source": [
    "\"\"\"\n",
    "Функция выводит количество спайков, время последнего спайка нейрона, время первого спайка, частоту и ответ сети из lasagne\n",
    "\n",
    "Параметры:\n",
    "    output: выход спайковой сети\n",
    "    lasagne_out: выход сети из lasagne\n",
    "\"\"\"\n",
    "def print_output(output, lasagne_out=None):\n",
    "    for i in range(len(output)):\n",
    "        print(\" нейрон: \", i)\n",
    "        if (len(output[i]) != 0):\n",
    "            print(\" количество спайков: \", len(output[i]))\n",
    "            print(\" последний спайк: \", max(output[i]))\n",
    "            print(\" первый спайк: \", min(output[i]))\n",
    "            print(\" частота: \", t/len(output[i]))\n",
    "        else:\n",
    "            print(\" количество спайков: \", 0)\n",
    "        if (lasagne_out != None):\n",
    "            print(\" ответ нейрона из lasagne: \", lasagne_out[i])\n",
    "        print()"
   ]
  },
  {
   "cell_type": "code",
   "execution_count": 18,
   "metadata": {},
   "outputs": [
    {
     "name": "stdout",
     "output_type": "stream",
     "text": [
      " Выход спайковой сети и сети из lasagne\n",
      "\n",
      "\n",
      " нейрон:  0\n",
      " количество спайков:  0\n",
      " ответ нейрона из lasagne:  1.42853984903e-14\n",
      "\n",
      " нейрон:  1\n",
      " количество спайков:  0\n",
      " ответ нейрона из lasagne:  5.07819408701e-16\n",
      "\n",
      " нейрон:  2\n",
      " количество спайков:  19\n",
      " последний спайк:  294\n",
      " первый спайк:  21\n",
      " частота:  15.789473684210526\n",
      " ответ нейрона из lasagne:  3.77703617264e-09\n",
      "\n",
      " нейрон:  3\n",
      " количество спайков:  40\n",
      " последний спайк:  291\n",
      " первый спайк:  8\n",
      " частота:  7.5\n",
      " ответ нейрона из lasagne:  6.81775895751e-07\n",
      "\n",
      " нейрон:  4\n",
      " количество спайков:  0\n",
      " ответ нейрона из lasagne:  3.14584901077e-27\n",
      "\n",
      " нейрон:  5\n",
      " количество спайков:  33\n",
      " последний спайк:  299\n",
      " первый спайк:  34\n",
      " частота:  9.090909090909092\n",
      " ответ нейрона из lasagne:  8.67744209822e-10\n",
      "\n",
      " нейрон:  6\n",
      " количество спайков:  0\n",
      " ответ нейрона из lasagne:  3.52617540547e-22\n",
      "\n",
      " нейрон:  7\n",
      " количество спайков:  91\n",
      " последний спайк:  299\n",
      " первый спайк:  10\n",
      " частота:  3.2967032967032965\n",
      " ответ нейрона из lasagne:  0.999999313166\n",
      "\n",
      " нейрон:  8\n",
      " количество спайков:  1\n",
      " последний спайк:  9\n",
      " первый спайк:  9\n",
      " частота:  300.0\n",
      " ответ нейрона из lasagne:  7.48058022998e-11\n",
      "\n",
      " нейрон:  9\n",
      " количество спайков:  7\n",
      " последний спайк:  296\n",
      " первый спайк:  9\n",
      " частота:  42.857142857142854\n",
      " ответ нейрона из lasagne:  3.38951279003e-10\n",
      "\n"
     ]
    },
    {
     "name": "stderr",
     "output_type": "stream",
     "text": [
      "/home/egdeliya/py35/lib/python3.5/site-packages/ipykernel_launcher.py:18: FutureWarning: comparison to `None` will result in an elementwise object comparison in the future.\n"
     ]
    }
   ],
   "source": [
    "print(\" Выход спайковой сети и сети из lasagne\\n\\n\")\n",
    "print_output(sp_output, probs[0])"
   ]
  },
  {
   "cell_type": "markdown",
   "metadata": {},
   "source": [
    "##### Видим, что наша сеть не ошибается, если смотреть на количество спайков. При этом если запустить на меньшем временя, например при $t=100$, то спайковая сеть ошибается. Попробуем посмотерь на выходы скрытых слоёв из lasagne и выходы скрытых слоёв нашей сети"
   ]
  },
  {
   "cell_type": "code",
   "execution_count": 19,
   "metadata": {
    "collapsed": true
   },
   "outputs": [],
   "source": [
    "\"\"\"\n",
    "Функция выдает выходы всех слоёв спайковой сети\n",
    "\n",
    "Параметры:\n",
    "    net: спайковая нейронная сеть\n",
    "    data: input спайковой сети\n",
    "    t_max: на какое время нужно запускать\n",
    "\"\"\"\n",
    "pool1 = ThreadPool(4)\n",
    "def get_output_from_snn_layers(net, data, t_max):\n",
    "        net.global_time = 0\n",
    "        net.layers[0].new_input(data, t_max)\n",
    "        for l in net.layers[1:]:\n",
    "            l.restart()\n",
    "        for t in np.arange(t_max):\n",
    "            pool1.map(lambda x: x.step(), net.layers)\n",
    "            net.global_time += 1\n",
    "        res = []\n",
    "        for i in range(1, len(net.layers)):\n",
    "            res.append([])\n",
    "            for neur in net.layers[i].neurons.reshape((net.layers[i].neur_size)):\n",
    "                res[i-1].append(neur.get_spikes())\n",
    "        return res"
   ]
  },
  {
   "cell_type": "code",
   "execution_count": 20,
   "metadata": {
    "collapsed": true
   },
   "outputs": [],
   "source": [
    "# посмотрим на выходы слоёв из lasagne из спайковой сети\n",
    "\"\"\"\n",
    "Функция возвращает выход каждого слоя сети из lasagne и спайковой сети\n",
    "\n",
    "Параметры:\n",
    "    lasagne_net: сеть из lasagne\n",
    "    t_max: время работы спайковой сети\n",
    "    thr: порог спайковой сети\n",
    "    data: данные\n",
    "\"\"\"\n",
    "\n",
    "def get_nets_output(lasagne_net, t_max, thr, data):\n",
    "    # выходы слоёв из lasagne\n",
    "    lasagne_output = []\n",
    "    lasagne_layers = lasagne.layers.get_all_layers(lasagne_net)\n",
    "    for l_num in range(1, len(lasagne_layers)):\n",
    "        lasagne_output.append(lasagne.layers.get_output(lasagne_layers[l_num], data).eval())\n",
    "    \n",
    "    # выходы спайковой сети\n",
    "    snn_output = []\n",
    "    snn_net = spiking_from_lasagne(lasagne_net, thr)\n",
    "    snn_output = get_output_from_snn_layers(snn_net, data, t_max)\n",
    "    \n",
    "    return lasagne_output, snn_output"
   ]
  },
  {
   "cell_type": "code",
   "execution_count": 21,
   "metadata": {
    "scrolled": false
   },
   "outputs": [
    {
     "name": "stdout",
     "output_type": "stream",
     "text": [
      "CPU times: user 27.6 s, sys: 2.84 s, total: 30.5 s\n",
      "Wall time: 28.8 s\n"
     ]
    }
   ],
   "source": [
    "%%time\n",
    "lasagne_outputs, snn_outputs = get_nets_output(net, t_max=300, thr=0.1, data=X_test[0])"
   ]
  },
  {
   "cell_type": "markdown",
   "metadata": {},
   "source": [
    "##### Посмотрим на выходы первых скрытых слоёв"
   ]
  },
  {
   "cell_type": "code",
   "execution_count": 22,
   "metadata": {
    "scrolled": true
   },
   "outputs": [
    {
     "name": "stdout",
     "output_type": "stream",
     "text": [
      " Выход первого скрытого слоя спайковой сети и сети из lsasgne\n",
      "\n",
      "\n",
      " нейрон:  0\n",
      " количество спайков:  147\n",
      " последний спайк:  298\n",
      " первый спайк:  2\n",
      " частота:  2.0408163265306123\n",
      " ответ нейрона из lasagne:  2.48323842836\n",
      "\n",
      " нейрон:  1\n",
      " количество спайков:  147\n",
      " последний спайк:  298\n",
      " первый спайк:  2\n",
      " частота:  2.0408163265306123\n",
      " ответ нейрона из lasagne:  4.36627743511\n",
      "\n",
      " нейрон:  2\n",
      " количество спайков:  0\n",
      " ответ нейрона из lasagne:  0.0\n",
      "\n",
      " нейрон:  3\n",
      " количество спайков:  0\n",
      " ответ нейрона из lasagne:  0.0\n",
      "\n",
      " нейрон:  4\n",
      " количество спайков:  0\n",
      " ответ нейрона из lasagne:  0.0\n",
      "\n",
      " нейрон:  5\n",
      " количество спайков:  141\n",
      " последний спайк:  299\n",
      " первый спайк:  2\n",
      " частота:  2.127659574468085\n",
      " ответ нейрона из lasagne:  1.94331057366\n",
      "\n",
      " нейрон:  6\n",
      " количество спайков:  149\n",
      " последний спайк:  298\n",
      " первый спайк:  2\n",
      " частота:  2.0134228187919465\n",
      " ответ нейрона из lasagne:  4.7256047141\n",
      "\n",
      " нейрон:  7\n",
      " количество спайков:  124\n",
      " последний спайк:  297\n",
      " первый спайк:  2\n",
      " частота:  2.4193548387096775\n",
      " ответ нейрона из lasagne:  1.46691199308\n",
      "\n",
      " нейрон:  8\n",
      " количество спайков:  0\n",
      " ответ нейрона из lasagne:  0.0\n",
      "\n",
      " нейрон:  9\n",
      " количество спайков:  135\n",
      " последний спайк:  299\n",
      " первый спайк:  2\n",
      " частота:  2.2222222222222223\n",
      " ответ нейрона из lasagne:  1.6871289687\n",
      "\n",
      " нейрон:  10\n",
      " количество спайков:  149\n",
      " последний спайк:  298\n",
      " первый спайк:  2\n",
      " частота:  2.0134228187919465\n",
      " ответ нейрона из lasagne:  4.89038095704\n",
      "\n",
      " нейрон:  11\n",
      " количество спайков:  148\n",
      " последний спайк:  298\n",
      " первый спайк:  2\n",
      " частота:  2.027027027027027\n",
      " ответ нейрона из lasagne:  2.46522517568\n",
      "\n",
      " нейрон:  12\n",
      " количество спайков:  149\n",
      " последний спайк:  298\n",
      " первый спайк:  2\n",
      " частота:  2.0134228187919465\n",
      " ответ нейрона из lasagne:  3.29993141791\n",
      "\n",
      " нейрон:  13\n",
      " количество спайков:  36\n",
      " последний спайк:  288\n",
      " первый спайк:  11\n",
      " частота:  8.333333333333334\n",
      " ответ нейрона из lasagne:  0.0845563383178\n",
      "\n",
      " нейрон:  14\n",
      " количество спайков:  0\n",
      " ответ нейрона из lasagne:  0.0\n",
      "\n",
      " нейрон:  15\n",
      " количество спайков:  87\n",
      " последний спайк:  297\n",
      " первый спайк:  2\n",
      " частота:  3.4482758620689653\n",
      " ответ нейрона из lasagne:  0.689473706002\n",
      "\n",
      " нейрон:  16\n",
      " количество спайков:  128\n",
      " последний спайк:  298\n",
      " первый спайк:  4\n",
      " частота:  2.34375\n",
      " ответ нейрона из lasagne:  1.36460574365\n",
      "\n",
      " нейрон:  17\n",
      " количество спайков:  149\n",
      " последний спайк:  298\n",
      " первый спайк:  2\n",
      " частота:  2.0134228187919465\n",
      " ответ нейрона из lasagne:  4.14844081343\n",
      "\n",
      " нейрон:  18\n",
      " количество спайков:  130\n",
      " последний спайк:  297\n",
      " первый спайк:  2\n",
      " частота:  2.3076923076923075\n",
      " ответ нейрона из lasagne:  1.59686984163\n",
      "\n",
      " нейрон:  19\n",
      " количество спайков:  0\n",
      " ответ нейрона из lasagne:  0.0\n",
      "\n",
      " нейрон:  20\n",
      " количество спайков:  57\n",
      " последний спайк:  293\n",
      " первый спайк:  2\n",
      " частота:  5.2631578947368425\n",
      " ответ нейрона из lasagne:  0.139541568385\n",
      "\n",
      " нейрон:  21\n",
      " количество спайков:  0\n",
      " ответ нейрона из lasagne:  0.0\n",
      "\n",
      " нейрон:  22\n",
      " количество спайков:  93\n",
      " последний спайк:  298\n",
      " первый спайк:  4\n",
      " частота:  3.225806451612903\n",
      " ответ нейрона из lasagne:  0.575407840283\n",
      "\n",
      " нейрон:  23\n",
      " количество спайков:  144\n",
      " последний спайк:  299\n",
      " первый спайк:  2\n",
      " частота:  2.0833333333333335\n",
      " ответ нейрона из lasagne:  2.46353109786\n",
      "\n",
      " нейрон:  24\n",
      " количество спайков:  141\n",
      " последний спайк:  298\n",
      " первый спайк:  2\n",
      " частота:  2.127659574468085\n",
      " ответ нейрона из lasagne:  1.69053492154\n",
      "\n",
      " нейрон:  25\n",
      " количество спайков:  149\n",
      " последний спайк:  298\n",
      " первый спайк:  2\n",
      " частота:  2.0134228187919465\n",
      " ответ нейрона из lasagne:  5.43515408369\n",
      "\n",
      " нейрон:  26\n",
      " количество спайков:  149\n",
      " последний спайк:  298\n",
      " первый спайк:  2\n",
      " частота:  2.0134228187919465\n",
      " ответ нейрона из lasagne:  5.52906697782\n",
      "\n",
      " нейрон:  27\n",
      " количество спайков:  149\n",
      " последний спайк:  298\n",
      " первый спайк:  2\n",
      " частота:  2.0134228187919465\n",
      " ответ нейрона из lasagne:  5.59553792478\n",
      "\n",
      " нейрон:  28\n",
      " количество спайков:  149\n",
      " последний спайк:  298\n",
      " первый спайк:  2\n",
      " частота:  2.0134228187919465\n",
      " ответ нейрона из lasagne:  3.21786071481\n",
      "\n",
      " нейрон:  29\n",
      " количество спайков:  0\n",
      " ответ нейрона из lasagne:  0.0\n",
      "\n",
      " нейрон:  30\n",
      " количество спайков:  93\n",
      " последний спайк:  297\n",
      " первый спайк:  2\n",
      " частота:  3.225806451612903\n",
      " ответ нейрона из lasagne:  0.806478735469\n",
      "\n",
      " нейрон:  31\n",
      " количество спайков:  144\n",
      " последний спайк:  299\n",
      " первый спайк:  2\n",
      " частота:  2.0833333333333335\n",
      " ответ нейрона из lasagne:  2.11237992109\n",
      "\n"
     ]
    },
    {
     "name": "stderr",
     "output_type": "stream",
     "text": [
      "/home/egdeliya/py35/lib/python3.5/site-packages/ipykernel_launcher.py:18: FutureWarning: comparison to `None` will result in an elementwise object comparison in the future.\n"
     ]
    }
   ],
   "source": [
    "print(\" Выход первого скрытого слоя спайковой сети и сети из lsasgne\\n\\n\")\n",
    "print_output(snn_outputs[0], lasagne_outputs[0][0])"
   ]
  },
  {
   "cell_type": "markdown",
   "metadata": {},
   "source": [
    "Видно, что если выход сети из lasagne $\\geq 3$, то количество спайков $\\geq 148$, иначе количество спайков меньше. То есть можно сделать вывод, что наиболее с ответом сети из lasagne коррелирует количество спайков "
   ]
  },
  {
   "cell_type": "markdown",
   "metadata": {
    "collapsed": true
   },
   "source": [
    "##### Посмотрим на выход второга скрытого слоя"
   ]
  },
  {
   "cell_type": "code",
   "execution_count": 23,
   "metadata": {
    "scrolled": true
   },
   "outputs": [
    {
     "name": "stdout",
     "output_type": "stream",
     "text": [
      " Выход второго скрытого слоя спайковой сети и сети из lsasgne\n",
      "\n",
      "\n",
      " нейрон:  0\n",
      " количество спайков:  0\n",
      " ответ нейрона из lasagne:  0.0\n",
      "\n",
      " нейрон:  1\n",
      " количество спайков:  63\n",
      " последний спайк:  296\n",
      " первый спайк:  6\n",
      " частота:  4.761904761904762\n",
      " ответ нейрона из lasagne:  0.0484093799569\n",
      "\n",
      " нейрон:  2\n",
      " количество спайков:  0\n",
      " ответ нейрона из lasagne:  0.0\n",
      "\n",
      " нейрон:  3\n",
      " количество спайков:  67\n",
      " последний спайк:  297\n",
      " первый спайк:  7\n",
      " частота:  4.477611940298507\n",
      " ответ нейрона из lasagne:  0.0\n",
      "\n",
      " нейрон:  4\n",
      " количество спайков:  103\n",
      " последний спайк:  297\n",
      " первый спайк:  5\n",
      " частота:  2.912621359223301\n",
      " ответ нейрона из lasagne:  5.14051462133\n",
      "\n",
      " нейрон:  5\n",
      " количество спайков:  0\n",
      " ответ нейрона из lasagne:  0.0\n",
      "\n",
      " нейрон:  6\n",
      " количество спайков:  45\n",
      " последний спайк:  290\n",
      " первый спайк:  8\n",
      " частота:  6.666666666666667\n",
      " ответ нейрона из lasagne:  1.52277914601\n",
      "\n",
      " нейрон:  7\n",
      " количество спайков:  0\n",
      " ответ нейрона из lasagne:  0.0\n",
      "\n",
      " нейрон:  8\n",
      " количество спайков:  29\n",
      " последний спайк:  295\n",
      " первый спайк:  36\n",
      " частота:  10.344827586206897\n",
      " ответ нейрона из lasagne:  0.23309514078\n",
      "\n",
      " нейрон:  9\n",
      " количество спайков:  0\n",
      " ответ нейрона из lasagne:  0.0\n",
      "\n",
      " нейрон:  10\n",
      " количество спайков:  127\n",
      " последний спайк:  297\n",
      " первый спайк:  4\n",
      " частота:  2.3622047244094486\n",
      " ответ нейрона из lasagne:  5.90291358112\n",
      "\n",
      " нейрон:  11\n",
      " количество спайков:  0\n",
      " ответ нейрона из lasagne:  0.0\n",
      "\n",
      " нейрон:  12\n",
      " количество спайков:  20\n",
      " последний спайк:  299\n",
      " первый спайк:  37\n",
      " частота:  15.0\n",
      " ответ нейрона из lasagne:  0.0\n",
      "\n",
      " нейрон:  13\n",
      " количество спайков:  88\n",
      " последний спайк:  299\n",
      " первый спайк:  4\n",
      " частота:  3.409090909090909\n",
      " ответ нейрона из lasagne:  2.83834551819\n",
      "\n",
      " нейрон:  14\n",
      " количество спайков:  132\n",
      " последний спайк:  298\n",
      " первый спайк:  4\n",
      " частота:  2.272727272727273\n",
      " ответ нейрона из lasagne:  6.12311390571\n",
      "\n",
      " нейрон:  15\n",
      " количество спайков:  81\n",
      " последний спайк:  297\n",
      " первый спайк:  7\n",
      " частота:  3.7037037037037037\n",
      " ответ нейрона из lasagne:  0.45079601858\n",
      "\n",
      " нейрон:  16\n",
      " количество спайков:  42\n",
      " последний спайк:  294\n",
      " первый спайк:  18\n",
      " частота:  7.142857142857143\n",
      " ответ нейрона из lasagne:  2.84206865797\n",
      "\n",
      " нейрон:  17\n",
      " количество спайков:  30\n",
      " последний спайк:  294\n",
      " первый спайк:  8\n",
      " частота:  10.0\n",
      " ответ нейрона из lasagne:  2.36353314644\n",
      "\n",
      " нейрон:  18\n",
      " количество спайков:  9\n",
      " последний спайк:  283\n",
      " первый спайк:  37\n",
      " частота:  33.333333333333336\n",
      " ответ нейрона из lasagne:  0.0\n",
      "\n",
      " нейрон:  19\n",
      " количество спайков:  88\n",
      " последний спайк:  298\n",
      " первый спайк:  6\n",
      " частота:  3.409090909090909\n",
      " ответ нейрона из lasagne:  3.88986493752\n",
      "\n",
      " нейрон:  20\n",
      " количество спайков:  0\n",
      " ответ нейрона из lasagne:  0.0\n",
      "\n",
      " нейрон:  21\n",
      " количество спайков:  128\n",
      " последний спайк:  299\n",
      " первый спайк:  4\n",
      " частота:  2.34375\n",
      " ответ нейрона из lasagne:  5.6455252932\n",
      "\n",
      " нейрон:  22\n",
      " количество спайков:  0\n",
      " ответ нейрона из lasagne:  0.0\n",
      "\n",
      " нейрон:  23\n",
      " количество спайков:  130\n",
      " последний спайк:  297\n",
      " первый спайк:  4\n",
      " частота:  2.3076923076923075\n",
      " ответ нейрона из lasagne:  7.02476187288\n",
      "\n",
      " нейрон:  24\n",
      " количество спайков:  148\n",
      " последний спайк:  298\n",
      " первый спайк:  4\n",
      " частота:  2.027027027027027\n",
      " ответ нейрона из lasagne:  9.79374388938\n",
      "\n",
      " нейрон:  25\n",
      " количество спайков:  0\n",
      " ответ нейрона из lasagne:  0.0\n",
      "\n",
      " нейрон:  26\n",
      " количество спайков:  0\n",
      " ответ нейрона из lasagne:  0.0\n",
      "\n",
      " нейрон:  27\n",
      " количество спайков:  81\n",
      " последний спайк:  299\n",
      " первый спайк:  4\n",
      " частота:  3.7037037037037037\n",
      " ответ нейрона из lasagne:  1.87599427962\n",
      "\n",
      " нейрон:  28\n",
      " количество спайков:  0\n",
      " ответ нейрона из lasagne:  0.0\n",
      "\n",
      " нейрон:  29\n",
      " количество спайков:  120\n",
      " последний спайк:  298\n",
      " первый спайк:  4\n",
      " частота:  2.5\n",
      " ответ нейрона из lasagne:  6.26437976328\n",
      "\n",
      " нейрон:  30\n",
      " количество спайков:  79\n",
      " последний спайк:  297\n",
      " первый спайк:  5\n",
      " частота:  3.7974683544303796\n",
      " ответ нейрона из lasagne:  0.0\n",
      "\n",
      " нейрон:  31\n",
      " количество спайков:  99\n",
      " последний спайк:  298\n",
      " первый спайк:  4\n",
      " частота:  3.0303030303030303\n",
      " ответ нейрона из lasagne:  4.25782890919\n",
      "\n"
     ]
    },
    {
     "name": "stderr",
     "output_type": "stream",
     "text": [
      "/home/egdeliya/py35/lib/python3.5/site-packages/ipykernel_launcher.py:18: FutureWarning: comparison to `None` will result in an elementwise object comparison in the future.\n"
     ]
    }
   ],
   "source": [
    "print(\" Выход второго скрытого слоя спайковой сети и сети из lsasgne\\n\\n\")\n",
    "print_output(snn_outputs[1], lasagne_outputs[1][0])"
   ]
  },
  {
   "cell_type": "markdown",
   "metadata": {},
   "source": [
    "##### Выход третьего скрытого слоя"
   ]
  },
  {
   "cell_type": "code",
   "execution_count": 24,
   "metadata": {},
   "outputs": [
    {
     "name": "stdout",
     "output_type": "stream",
     "text": [
      " Выход третьего скрытого слоя спайковой сети и сети из lsasgne\n",
      "\n",
      "\n",
      " нейрон:  0\n",
      " количество спайков:  0\n",
      " ответ нейрона из lasagne:  0.0\n",
      "\n",
      " нейрон:  1\n",
      " количество спайков:  0\n",
      " ответ нейрона из lasagne:  0.0\n",
      "\n",
      " нейрон:  2\n",
      " количество спайков:  94\n",
      " последний спайк:  295\n",
      " первый спайк:  8\n",
      " частота:  3.1914893617021276\n",
      " ответ нейрона из lasagne:  7.15251098037\n",
      "\n",
      " нейрон:  3\n",
      " количество спайков:  0\n",
      " ответ нейрона из lasagne:  0.0\n",
      "\n",
      " нейрон:  4\n",
      " количество спайков:  81\n",
      " последний спайк:  299\n",
      " первый спайк:  9\n",
      " частота:  3.7037037037037037\n",
      " ответ нейрона из lasagne:  3.0472967026\n",
      "\n",
      " нейрон:  5\n",
      " количество спайков:  0\n",
      " ответ нейрона из lasagne:  0.0\n",
      "\n",
      " нейрон:  6\n",
      " количество спайков:  78\n",
      " последний спайк:  299\n",
      " первый спайк:  8\n",
      " частота:  3.8461538461538463\n",
      " ответ нейрона из lasagne:  7.22749262473\n",
      "\n",
      " нейрон:  7\n",
      " количество спайков:  132\n",
      " последний спайк:  298\n",
      " первый спайк:  6\n",
      " частота:  2.272727272727273\n",
      " ответ нейрона из lasagne:  14.4122516008\n",
      "\n",
      " нейрон:  8\n",
      " количество спайков:  6\n",
      " последний спайк:  272\n",
      " первый спайк:  23\n",
      " частота:  50.0\n",
      " ответ нейрона из lasagne:  0.0\n",
      "\n",
      " нейрон:  9\n",
      " количество спайков:  41\n",
      " последний спайк:  292\n",
      " первый спайк:  19\n",
      " частота:  7.317073170731708\n",
      " ответ нейрона из lasagne:  2.75032044822\n",
      "\n",
      " нейрон:  10\n",
      " количество спайков:  0\n",
      " ответ нейрона из lasagne:  0.0\n",
      "\n",
      " нейрон:  11\n",
      " количество спайков:  11\n",
      " последний спайк:  292\n",
      " первый спайк:  36\n",
      " частота:  27.272727272727273\n",
      " ответ нейрона из lasagne:  2.28854670169\n",
      "\n",
      " нейрон:  12\n",
      " количество спайков:  13\n",
      " последний спайк:  298\n",
      " первый спайк:  41\n",
      " частота:  23.076923076923077\n",
      " ответ нейрона из lasagne:  0.633453517642\n",
      "\n",
      " нейрон:  13\n",
      " количество спайков:  0\n",
      " ответ нейрона из lasagne:  0.0\n",
      "\n",
      " нейрон:  14\n",
      " количество спайков:  93\n",
      " последний спайк:  297\n",
      " первый спайк:  6\n",
      " частота:  3.225806451612903\n",
      " ответ нейрона из lasagne:  5.23288159938\n",
      "\n",
      " нейрон:  15\n",
      " количество спайков:  0\n",
      " ответ нейрона из lasagne:  0.0\n",
      "\n",
      " нейрон:  16\n",
      " количество спайков:  80\n",
      " последний спайк:  297\n",
      " первый спайк:  8\n",
      " частота:  3.75\n",
      " ответ нейрона из lasagne:  2.53569466284\n",
      "\n",
      " нейрон:  17\n",
      " количество спайков:  0\n",
      " ответ нейрона из lasagne:  0.0\n",
      "\n",
      " нейрон:  18\n",
      " количество спайков:  96\n",
      " последний спайк:  299\n",
      " первый спайк:  8\n",
      " частота:  3.125\n",
      " ответ нейрона из lasagne:  7.65981798228\n",
      "\n",
      " нейрон:  19\n",
      " количество спайков:  54\n",
      " последний спайк:  296\n",
      " первый спайк:  10\n",
      " частота:  5.555555555555555\n",
      " ответ нейрона из lasagne:  6.07701160444\n",
      "\n",
      " нейрон:  20\n",
      " количество спайков:  0\n",
      " ответ нейрона из lasagne:  0.0\n",
      "\n",
      " нейрон:  21\n",
      " количество спайков:  0\n",
      " ответ нейрона из lasagne:  0.0\n",
      "\n",
      " нейрон:  22\n",
      " количество спайков:  75\n",
      " последний спайк:  298\n",
      " первый спайк:  8\n",
      " частота:  4.0\n",
      " ответ нейрона из lasagne:  2.43609742907\n",
      "\n",
      " нейрон:  23\n",
      " количество спайков:  0\n",
      " ответ нейрона из lasagne:  0.0\n",
      "\n",
      " нейрон:  24\n",
      " количество спайков:  61\n",
      " последний спайк:  295\n",
      " первый спайк:  6\n",
      " частота:  4.918032786885246\n",
      " ответ нейрона из lasagne:  3.81364230143\n",
      "\n",
      " нейрон:  25\n",
      " количество спайков:  21\n",
      " последний спайк:  281\n",
      " первый спайк:  23\n",
      " частота:  14.285714285714286\n",
      " ответ нейрона из lasagne:  0.0\n",
      "\n",
      " нейрон:  26\n",
      " количество спайков:  10\n",
      " последний спайк:  295\n",
      " первый спайк:  41\n",
      " частота:  30.0\n",
      " ответ нейрона из lasagne:  0.0\n",
      "\n",
      " нейрон:  27\n",
      " количество спайков:  8\n",
      " последний спайк:  244\n",
      " первый спайк:  66\n",
      " частота:  37.5\n",
      " ответ нейрона из lasagne:  0.596221806117\n",
      "\n",
      " нейрон:  28\n",
      " количество спайков:  0\n",
      " ответ нейрона из lasagne:  0.0\n",
      "\n",
      " нейрон:  29\n",
      " количество спайков:  60\n",
      " последний спайк:  296\n",
      " первый спайк:  8\n",
      " частота:  5.0\n",
      " ответ нейрона из lasagne:  4.97305828353\n",
      "\n",
      " нейрон:  30\n",
      " количество спайков:  87\n",
      " последний спайк:  297\n",
      " первый спайк:  7\n",
      " частота:  3.4482758620689653\n",
      " ответ нейрона из lasagne:  8.31306921595\n",
      "\n",
      " нейрон:  31\n",
      " количество спайков:  28\n",
      " последний спайк:  297\n",
      " первый спайк:  12\n",
      " частота:  10.714285714285714\n",
      " ответ нейрона из lasagne:  1.83052470539\n",
      "\n",
      " нейрон:  32\n",
      " количество спайков:  0\n",
      " ответ нейрона из lasagne:  0.0\n",
      "\n",
      " нейрон:  33\n",
      " количество спайков:  29\n",
      " последний спайк:  297\n",
      " первый спайк:  12\n",
      " частота:  10.344827586206897\n",
      " ответ нейрона из lasagne:  2.34389573377\n",
      "\n",
      " нейрон:  34\n",
      " количество спайков:  88\n",
      " последний спайк:  299\n",
      " первый спайк:  8\n",
      " частота:  3.409090909090909\n",
      " ответ нейрона из lasagne:  8.05927564784\n",
      "\n",
      " нейрон:  35\n",
      " количество спайков:  0\n",
      " ответ нейрона из lasagne:  0.0\n",
      "\n",
      " нейрон:  36\n",
      " количество спайков:  0\n",
      " ответ нейрона из lasagne:  0.0\n",
      "\n",
      " нейрон:  37\n",
      " количество спайков:  0\n",
      " ответ нейрона из lasagne:  0.0\n",
      "\n",
      " нейрон:  38\n",
      " количество спайков:  0\n",
      " ответ нейрона из lasagne:  0.0\n",
      "\n",
      " нейрон:  39\n",
      " количество спайков:  0\n",
      " ответ нейрона из lasagne:  0.0\n",
      "\n",
      " нейрон:  40\n",
      " количество спайков:  0\n",
      " ответ нейрона из lasagne:  0.0\n",
      "\n",
      " нейрон:  41\n",
      " количество спайков:  52\n",
      " последний спайк:  299\n",
      " первый спайк:  11\n",
      " частота:  5.769230769230769\n",
      " ответ нейрона из lasagne:  0.747515602894\n",
      "\n",
      " нейрон:  42\n",
      " количество спайков:  23\n",
      " последний спайк:  298\n",
      " первый спайк:  8\n",
      " частота:  13.043478260869565\n",
      " ответ нейрона из lasagne:  1.42172468072\n",
      "\n",
      " нейрон:  43\n",
      " количество спайков:  0\n",
      " ответ нейрона из lasagne:  0.0\n",
      "\n",
      " нейрон:  44\n",
      " количество спайков:  0\n",
      " ответ нейрона из lasagne:  0.0\n",
      "\n",
      " нейрон:  45\n",
      " количество спайков:  77\n",
      " последний спайк:  299\n",
      " первый спайк:  8\n",
      " частота:  3.896103896103896\n",
      " ответ нейрона из lasagne:  6.36120422635\n",
      "\n",
      " нейрон:  46\n",
      " количество спайков:  0\n",
      " ответ нейрона из lasagne:  0.0\n",
      "\n",
      " нейрон:  47\n",
      " количество спайков:  0\n",
      " ответ нейрона из lasagne:  0.0\n",
      "\n",
      " нейрон:  48\n",
      " количество спайков:  97\n",
      " последний спайк:  297\n",
      " первый спайк:  6\n",
      " частота:  3.0927835051546393\n",
      " ответ нейрона из lasagne:  10.4415927076\n",
      "\n",
      " нейрон:  49\n",
      " количество спайков:  7\n",
      " последний спайк:  254\n",
      " первый спайк:  50\n",
      " частота:  42.857142857142854\n",
      " ответ нейрона из lasagne:  0.0\n",
      "\n",
      " нейрон:  50\n",
      " количество спайков:  0\n",
      " ответ нейрона из lasagne:  0.0\n",
      "\n",
      " нейрон:  51\n",
      " количество спайков:  12\n",
      " последний спайк:  285\n",
      " первый спайк:  6\n",
      " частота:  25.0\n",
      " ответ нейрона из lasagne:  2.80840150429\n",
      "\n",
      " нейрон:  52\n",
      " количество спайков:  0\n",
      " ответ нейрона из lasagne:  0.0\n",
      "\n",
      " нейрон:  53\n",
      " количество спайков:  56\n",
      " последний спайк:  298\n",
      " первый спайк:  8\n",
      " частота:  5.357142857142857\n",
      " ответ нейрона из lasagne:  5.18133439593\n",
      "\n",
      " нейрон:  54\n",
      " количество спайков:  78\n",
      " последний спайк:  299\n",
      " первый спайк:  8\n",
      " частота:  3.8461538461538463\n",
      " ответ нейрона из lasagne:  0.0\n",
      "\n",
      " нейрон:  55\n",
      " количество спайков:  0\n",
      " ответ нейрона из lasagne:  0.0\n",
      "\n",
      " нейрон:  56\n",
      " количество спайков:  110\n",
      " последний спайк:  297\n",
      " первый спайк:  6\n",
      " частота:  2.727272727272727\n",
      " ответ нейрона из lasagne:  10.6608962806\n",
      "\n",
      " нейрон:  57\n",
      " количество спайков:  0\n",
      " ответ нейрона из lasagne:  0.0\n",
      "\n",
      " нейрон:  58\n",
      " количество спайков:  0\n",
      " ответ нейрона из lasagne:  0.0\n",
      "\n",
      " нейрон:  59\n",
      " количество спайков:  8\n",
      " последний спайк:  267\n",
      " первый спайк:  55\n",
      " частота:  37.5\n",
      " ответ нейрона из lasagne:  0.0\n",
      "\n",
      " нейрон:  60\n",
      " количество спайков:  0\n",
      " ответ нейрона из lasagne:  0.0\n",
      "\n",
      " нейрон:  61\n",
      " количество спайков:  101\n",
      " последний спайк:  298\n",
      " первый спайк:  6\n",
      " частота:  2.9702970297029703\n",
      " ответ нейрона из lasagne:  8.524417981\n",
      "\n",
      " нейрон:  62\n",
      " количество спайков:  0\n",
      " ответ нейрона из lasagne:  0.0\n",
      "\n",
      " нейрон:  63\n",
      " количество спайков:  32\n",
      " последний спайк:  298\n",
      " первый спайк:  10\n",
      " частота:  9.375\n",
      " ответ нейрона из lasagne:  4.22200889612\n",
      "\n"
     ]
    },
    {
     "name": "stderr",
     "output_type": "stream",
     "text": [
      "/home/egdeliya/py35/lib/python3.5/site-packages/ipykernel_launcher.py:18: FutureWarning: comparison to `None` will result in an elementwise object comparison in the future.\n"
     ]
    }
   ],
   "source": [
    "print(\" Выход третьего скрытого слоя спайковой сети и сети из lsasgne\\n\\n\")\n",
    "print_output(snn_outputs[2], lasagne_outputs[2][0])"
   ]
  },
  {
   "cell_type": "markdown",
   "metadata": {},
   "source": [
    "Аналогично прослеживается корреляция между ответом сети из lasagne и количеством спайков"
   ]
  },
  {
   "cell_type": "markdown",
   "metadata": {},
   "source": [
    "Выход последнего слоя все и так знают, но посмотрим на него ещё раз"
   ]
  },
  {
   "cell_type": "code",
   "execution_count": 25,
   "metadata": {},
   "outputs": [
    {
     "name": "stdout",
     "output_type": "stream",
     "text": [
      " Выход последнего слоя спайковой сети и сети из lsasgne\n",
      "\n",
      "\n",
      " нейрон:  0\n",
      " количество спайков:  0\n",
      " ответ нейрона из lasagne:  1.42853984903e-14\n",
      "\n",
      " нейрон:  1\n",
      " количество спайков:  0\n",
      " ответ нейрона из lasagne:  5.07819408701e-16\n",
      "\n",
      " нейрон:  2\n",
      " количество спайков:  19\n",
      " последний спайк:  294\n",
      " первый спайк:  21\n",
      " частота:  15.789473684210526\n",
      " ответ нейрона из lasagne:  3.77703617264e-09\n",
      "\n",
      " нейрон:  3\n",
      " количество спайков:  40\n",
      " последний спайк:  291\n",
      " первый спайк:  8\n",
      " частота:  7.5\n",
      " ответ нейрона из lasagne:  6.81775895751e-07\n",
      "\n",
      " нейрон:  4\n",
      " количество спайков:  0\n",
      " ответ нейрона из lasagne:  3.14584901077e-27\n",
      "\n",
      " нейрон:  5\n",
      " количество спайков:  33\n",
      " последний спайк:  299\n",
      " первый спайк:  34\n",
      " частота:  9.090909090909092\n",
      " ответ нейрона из lasagne:  8.67744209822e-10\n",
      "\n",
      " нейрон:  6\n",
      " количество спайков:  0\n",
      " ответ нейрона из lasagne:  3.52617540547e-22\n",
      "\n",
      " нейрон:  7\n",
      " количество спайков:  91\n",
      " последний спайк:  299\n",
      " первый спайк:  10\n",
      " частота:  3.2967032967032965\n",
      " ответ нейрона из lasagne:  0.999999313166\n",
      "\n",
      " нейрон:  8\n",
      " количество спайков:  1\n",
      " последний спайк:  9\n",
      " первый спайк:  9\n",
      " частота:  300.0\n",
      " ответ нейрона из lasagne:  7.48058022998e-11\n",
      "\n",
      " нейрон:  9\n",
      " количество спайков:  7\n",
      " последний спайк:  296\n",
      " первый спайк:  9\n",
      " частота:  42.857142857142854\n",
      " ответ нейрона из lasagne:  3.38951279003e-10\n",
      "\n"
     ]
    },
    {
     "name": "stderr",
     "output_type": "stream",
     "text": [
      "/home/egdeliya/py35/lib/python3.5/site-packages/ipykernel_launcher.py:18: FutureWarning: comparison to `None` will result in an elementwise object comparison in the future.\n"
     ]
    }
   ],
   "source": [
    "print(\" Выход последнего слоя спайковой сети и сети из lsasgne\\n\\n\")\n",
    "print_output(snn_outputs[-1], lasagne_outputs[-1][0])"
   ]
  },
  {
   "cell_type": "markdown",
   "metadata": {
    "collapsed": true
   },
   "source": [
    "#####  Поробуем запустить нашу сеть на 100 кратинках и измерим точность в зависимости от того, как интерпретировать ответ"
   ]
  },
  {
   "cell_type": "code",
   "execution_count": 26,
   "metadata": {
    "collapsed": true
   },
   "outputs": [],
   "source": [
    "img_num = 100\n",
    "t = 300\n",
    "thr = 0.1"
   ]
  },
  {
   "cell_type": "code",
   "execution_count": 27,
   "metadata": {
    "collapsed": true
   },
   "outputs": [],
   "source": [
    "\"\"\"\n",
    "Выдаёт характеристики выхода спайковой сети, такие как - нейрон с минимальным первым спайком, с максимальным последним спайков,\n",
    "с максимальным количеством спайков, с максимальной частотой\n",
    "\"\"\"\n",
    "def get_char(snn_output):\n",
    "    spikes_num_ans, first_spike_ans, last_spike_ans, freq_ans = 0, 0, 0, 0\n",
    "    spikes_num_ind, first_spike_ind, last_spike_ind, freq_ind = 0, 0, 0, 0\n",
    "    for neuron_num, spike_train in enumerate(snn_output):\n",
    "        spikes_num = len(spike_train)\n",
    "        if (spikes_num > 0):\n",
    "            last_spike = max(spike_train)\n",
    "            first_spike = min(spike_train)\n",
    "            freq = t/spikes_num           \n",
    "            if (last_spike > last_spike_ans): \n",
    "                last_spike_ans = last_spike\n",
    "                last_spike_ind = neuron_num\n",
    "            if (first_spike < first_spike_ans): \n",
    "                first_spike_ans = first_spike\n",
    "                first_spike_ind = neuron_num\n",
    "            if (freq > freq_ans): \n",
    "                freq_ans = freq\n",
    "                freq_ind = neuron_num\n",
    "            if (spikes_num > spikes_num_ans): \n",
    "                spikes_num_ans = spikes_num\n",
    "                spikes_num_ind = neuron_num\n",
    "    return last_spike_ind, first_spike_ind, spikes_num_ind, freq_ind"
   ]
  },
  {
   "cell_type": "code",
   "execution_count": 28,
   "metadata": {
    "collapsed": true
   },
   "outputs": [],
   "source": [
    "# ответ в зависимости от количества спайков, если число спайков одинаковое, то берём первый нейрон с максимальным количеством\n",
    "num_spikes_answ = np.zeros(img_num)\n",
    "# ответ в зависимости от времени первого спайка, если время было одно и то же на разных нейронах, то берём первое\n",
    "first_spike_answ = np.zeros(img_num)\n",
    "# ответ в зависимости от времени последнего спайка, если время было одно и то же на разных нейронах, то берём первое\n",
    "last_spike_answ = np.zeros(img_num)\n",
    "# ответ в зависимости от частоты\n",
    "freq_answ = np.zeros(img_num)"
   ]
  },
  {
   "cell_type": "code",
   "execution_count": 29,
   "metadata": {},
   "outputs": [
    {
     "name": "stderr",
     "output_type": "stream",
     "text": [
      "100%|██████████| 100/100 [1:10:11<00:00, 46.26s/it]"
     ]
    },
    {
     "name": "stdout",
     "output_type": "stream",
     "text": [
      "CPU times: user 1h 9min 58s, sys: 28.6 s, total: 1h 10min 27s\n",
      "Wall time: 1h 10min 11s\n"
     ]
    },
    {
     "name": "stderr",
     "output_type": "stream",
     "text": [
      "\n"
     ]
    }
   ],
   "source": [
    "%%time\n",
    "for i in tqdm(range(img_num)):\n",
    "    snn_net = spiking_from_lasagne(net, threshold=thr)\n",
    "    snn_out = snn_net.get_output_for(X_test[i], t_max=t)\n",
    "    \n",
    "    last_spike_answ[i], first_spike_answ[i], num_spikes_answ[i], freq_answ[i] = get_char(snn_out)"
   ]
  },
  {
   "cell_type": "code",
   "execution_count": 30,
   "metadata": {
    "collapsed": true
   },
   "outputs": [],
   "source": [
    "from collections import Counter"
   ]
  },
  {
   "cell_type": "code",
   "execution_count": 31,
   "metadata": {
    "collapsed": true
   },
   "outputs": [],
   "source": [
    "# возвращает количество совпадающих ответов\n",
    "def accuracy_func(snn_ans, target_ans):\n",
    "    snn_ans = np.array(snn_ans)\n",
    "    target_ans = np.array(target_ans)\n",
    "    s = Counter(snn_ans == target_ans)\n",
    "    return s[True]"
   ]
  },
  {
   "cell_type": "code",
   "execution_count": 32,
   "metadata": {},
   "outputs": [
    {
     "name": "stdout",
     "output_type": "stream",
     "text": [
      "Точность первого спайка:  0.08\n"
     ]
    }
   ],
   "source": [
    "print(\"Точность первого спайка: \", accuracy_func(first_spike_answ, y_test[:img_num])*1./img_num)"
   ]
  },
  {
   "cell_type": "code",
   "execution_count": 33,
   "metadata": {},
   "outputs": [
    {
     "name": "stdout",
     "output_type": "stream",
     "text": [
      "Точность последнего спайка:  0.53\n"
     ]
    }
   ],
   "source": [
    "print(\"Точность последнего спайка: \", accuracy_func(last_spike_answ, y_test[:img_num])*1./img_num)"
   ]
  },
  {
   "cell_type": "code",
   "execution_count": 34,
   "metadata": {},
   "outputs": [
    {
     "name": "stdout",
     "output_type": "stream",
     "text": [
      "Точность количества спайков:  0.79\n"
     ]
    }
   ],
   "source": [
    "print(\"Точность количества спайков: \", accuracy_func(num_spikes_answ, y_test[:img_num])*1./img_num)"
   ]
  },
  {
   "cell_type": "code",
   "execution_count": 35,
   "metadata": {},
   "outputs": [
    {
     "name": "stdout",
     "output_type": "stream",
     "text": [
      "Точность частоты спайков:  0.03\n"
     ]
    }
   ],
   "source": [
    "print(\"Точность частоты спайков: \", accuracy_func(freq_answ, y_test[:img_num])*1./img_num)"
   ]
  },
  {
   "cell_type": "code",
   "execution_count": null,
   "metadata": {
    "collapsed": true
   },
   "outputs": [],
   "source": []
  }
 ],
 "metadata": {
  "kernelspec": {
   "display_name": "Python 3",
   "language": "python",
   "name": "python3"
  },
  "language_info": {
   "codemirror_mode": {
    "name": "ipython",
    "version": 3
   },
   "file_extension": ".py",
   "mimetype": "text/x-python",
   "name": "python",
   "nbconvert_exporter": "python",
   "pygments_lexer": "ipython3",
   "version": "3.5.2"
  }
 },
 "nbformat": 4,
 "nbformat_minor": 2
}
